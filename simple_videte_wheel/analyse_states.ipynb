{
 "metadata": {
  "language_info": {
   "codemirror_mode": {
    "name": "ipython",
    "version": 3
   },
   "file_extension": ".py",
   "mimetype": "text/x-python",
   "name": "python",
   "nbconvert_exporter": "python",
   "pygments_lexer": "ipython3",
   "version": "3.8.2-final"
  },
  "orig_nbformat": 2,
  "kernelspec": {
   "name": "Python 3.8.2 64-bit",
   "display_name": "Python 3.8.2 64-bit",
   "metadata": {
    "interpreter": {
     "hash": "31f2aee4e71d21fbe5cf8b01ff0e069b9275f58929596ceb00d14d90e3e16cd6"
    }
   }
  }
 },
 "nbformat": 4,
 "nbformat_minor": 2,
 "cells": [
  {
   "cell_type": "code",
   "execution_count": 1,
   "metadata": {},
   "outputs": [],
   "source": [
    "import pickle\n",
    "import pandas as pd\n",
    "import numpy as np\n",
    "import tqdm"
   ]
  },
  {
   "cell_type": "code",
   "execution_count": 2,
   "metadata": {},
   "outputs": [],
   "source": [
    "from sklearn.neural_network import MLPRegressor\n",
    "from sklearn.tree import DecisionTreeRegressor\n",
    "from sklearn.ensemble import AdaBoostRegressor\n",
    "from sklearn.ensemble import RandomForestRegressor\n",
    "from sklearn.neighbors import KNeighborsRegressor\n",
    "from sklearn.linear_model import LinearRegression\n",
    "\n",
    "from sklearn.multioutput import MultiOutputRegressor"
   ]
  },
  {
   "cell_type": "code",
   "execution_count": 3,
   "metadata": {
    "tags": []
   },
   "outputs": [
    {
     "output_type": "stream",
     "name": "stdout",
     "text": "analyse_states.ipynb\tregressor_a_matrix.pkl\t       states.csv\ncreate_models.ipynb\tregressor_gains.pkl\t       videte_wheel.ipynb\nparams_a_matrixs_f.pkl\tregressor_selection_gains.pkl  visualization.ipynb\n"
    }
   ],
   "source": [
    "!ls"
   ]
  },
  {
   "cell_type": "code",
   "execution_count": 4,
   "metadata": {},
   "outputs": [
    {
     "output_type": "execute_result",
     "data": {
      "text/plain": "              sec       nsec frame_id        x1        x2        x3        x4  \\\n0      1600892364   11113280    robot  0.151688 -0.002232  0.017458  0.003468   \n1      1600892364   15923534    robot  0.151735  0.001789  0.017458  0.003468   \n2      1600892364   20032963    robot  0.151735  0.001789  0.017124 -0.011715   \n3      1600892364   22898667    robot  0.151735  0.001789  0.017124 -0.011715   \n4      1600892364   28661242    robot  0.151789  0.000776  0.017124 -0.011715   \n...           ...        ...      ...       ...       ...       ...       ...   \n30951  1600892455  391213348    robot  0.155436 -0.004590 -0.020278  0.002978   \n30952  1600892455  393460227    robot  0.155436 -0.004590 -0.020278  0.002978   \n30953  1600892455  395996733    robot  0.155407  0.000541 -0.020278  0.002978   \n30954  1600892455  398442017    robot  0.155407  0.000541 -0.020278  0.002978   \n30955  1600892455  400773618    robot  0.155407  0.000541 -0.020278  0.002978   \n\n               x5   x6      w1  ...   w4          w5   w6          k1  \\\n0     -185.334625  0.0  0.1415  ...  0.0 -183.822894 -0.0 -470.750654   \n1     -185.334625  0.0  0.1415  ...  0.0 -183.822894 -0.0 -470.750654   \n2     -185.334625  0.0  0.1415  ...  0.0 -183.822894 -0.0 -470.750654   \n3     -185.334625  0.0  0.1415  ...  0.0 -183.822894 -0.0 -470.750654   \n4     -185.334625  0.0  0.1415  ...  0.0 -183.822894 -0.0 -470.750654   \n...           ...  ...     ...  ...  ...         ...  ...         ...   \n30951 -180.897766  0.0  0.1415  ...  0.0 -178.691134 -0.0 -470.750654   \n30952 -180.897766  0.0  0.1415  ...  0.0 -178.691134 -0.0 -470.750654   \n30953 -180.897766  0.0  0.1415  ...  0.0 -178.691134 -0.0 -470.750654   \n30954 -180.897766  0.0  0.1415  ...  0.0 -178.691134 -0.0 -470.750654   \n30955 -180.897766  0.0  0.1415  ...  0.0 -178.691134 -0.0 -470.750654   \n\n              k2        k3        k4        k5        k6         u  \n0     -43.111772  1.323642 -6.585464 -3.130495 -5.313367 -0.002642  \n1     -43.111772  1.323642 -6.585464 -3.130495 -5.313367  0.012995  \n2     -43.111772  1.323642 -6.585464 -3.130495 -5.313367  0.005031  \n3     -43.111772  1.323642 -6.585464 -3.130495 -5.313367  0.005031  \n4     -43.111772  1.323642 -6.585464 -3.130495 -5.313367  0.003587  \n...          ...       ...       ...       ...       ...       ...  \n30951 -43.111772  1.323642 -6.585464 -3.130495 -5.313367 -0.039909  \n30952 -43.111772  1.323642 -6.585464 -3.130495 -5.313367 -0.039909  \n30953 -43.111772  1.323642 -6.585464 -3.130495 -5.313367 -0.023320  \n30954 -43.111772  1.323642 -6.585464 -3.130495 -5.313367 -0.023320  \n30955 -43.111772  1.323642 -6.585464 -3.130495 -5.313367 -0.023320  \n\n[30956 rows x 22 columns]",
      "text/html": "<div>\n<style scoped>\n    .dataframe tbody tr th:only-of-type {\n        vertical-align: middle;\n    }\n\n    .dataframe tbody tr th {\n        vertical-align: top;\n    }\n\n    .dataframe thead th {\n        text-align: right;\n    }\n</style>\n<table border=\"1\" class=\"dataframe\">\n  <thead>\n    <tr style=\"text-align: right;\">\n      <th></th>\n      <th>sec</th>\n      <th>nsec</th>\n      <th>frame_id</th>\n      <th>x1</th>\n      <th>x2</th>\n      <th>x3</th>\n      <th>x4</th>\n      <th>x5</th>\n      <th>x6</th>\n      <th>w1</th>\n      <th>...</th>\n      <th>w4</th>\n      <th>w5</th>\n      <th>w6</th>\n      <th>k1</th>\n      <th>k2</th>\n      <th>k3</th>\n      <th>k4</th>\n      <th>k5</th>\n      <th>k6</th>\n      <th>u</th>\n    </tr>\n  </thead>\n  <tbody>\n    <tr>\n      <th>0</th>\n      <td>1600892364</td>\n      <td>11113280</td>\n      <td>robot</td>\n      <td>0.151688</td>\n      <td>-0.002232</td>\n      <td>0.017458</td>\n      <td>0.003468</td>\n      <td>-185.334625</td>\n      <td>0.0</td>\n      <td>0.1415</td>\n      <td>...</td>\n      <td>0.0</td>\n      <td>-183.822894</td>\n      <td>-0.0</td>\n      <td>-470.750654</td>\n      <td>-43.111772</td>\n      <td>1.323642</td>\n      <td>-6.585464</td>\n      <td>-3.130495</td>\n      <td>-5.313367</td>\n      <td>-0.002642</td>\n    </tr>\n    <tr>\n      <th>1</th>\n      <td>1600892364</td>\n      <td>15923534</td>\n      <td>robot</td>\n      <td>0.151735</td>\n      <td>0.001789</td>\n      <td>0.017458</td>\n      <td>0.003468</td>\n      <td>-185.334625</td>\n      <td>0.0</td>\n      <td>0.1415</td>\n      <td>...</td>\n      <td>0.0</td>\n      <td>-183.822894</td>\n      <td>-0.0</td>\n      <td>-470.750654</td>\n      <td>-43.111772</td>\n      <td>1.323642</td>\n      <td>-6.585464</td>\n      <td>-3.130495</td>\n      <td>-5.313367</td>\n      <td>0.012995</td>\n    </tr>\n    <tr>\n      <th>2</th>\n      <td>1600892364</td>\n      <td>20032963</td>\n      <td>robot</td>\n      <td>0.151735</td>\n      <td>0.001789</td>\n      <td>0.017124</td>\n      <td>-0.011715</td>\n      <td>-185.334625</td>\n      <td>0.0</td>\n      <td>0.1415</td>\n      <td>...</td>\n      <td>0.0</td>\n      <td>-183.822894</td>\n      <td>-0.0</td>\n      <td>-470.750654</td>\n      <td>-43.111772</td>\n      <td>1.323642</td>\n      <td>-6.585464</td>\n      <td>-3.130495</td>\n      <td>-5.313367</td>\n      <td>0.005031</td>\n    </tr>\n    <tr>\n      <th>3</th>\n      <td>1600892364</td>\n      <td>22898667</td>\n      <td>robot</td>\n      <td>0.151735</td>\n      <td>0.001789</td>\n      <td>0.017124</td>\n      <td>-0.011715</td>\n      <td>-185.334625</td>\n      <td>0.0</td>\n      <td>0.1415</td>\n      <td>...</td>\n      <td>0.0</td>\n      <td>-183.822894</td>\n      <td>-0.0</td>\n      <td>-470.750654</td>\n      <td>-43.111772</td>\n      <td>1.323642</td>\n      <td>-6.585464</td>\n      <td>-3.130495</td>\n      <td>-5.313367</td>\n      <td>0.005031</td>\n    </tr>\n    <tr>\n      <th>4</th>\n      <td>1600892364</td>\n      <td>28661242</td>\n      <td>robot</td>\n      <td>0.151789</td>\n      <td>0.000776</td>\n      <td>0.017124</td>\n      <td>-0.011715</td>\n      <td>-185.334625</td>\n      <td>0.0</td>\n      <td>0.1415</td>\n      <td>...</td>\n      <td>0.0</td>\n      <td>-183.822894</td>\n      <td>-0.0</td>\n      <td>-470.750654</td>\n      <td>-43.111772</td>\n      <td>1.323642</td>\n      <td>-6.585464</td>\n      <td>-3.130495</td>\n      <td>-5.313367</td>\n      <td>0.003587</td>\n    </tr>\n    <tr>\n      <th>...</th>\n      <td>...</td>\n      <td>...</td>\n      <td>...</td>\n      <td>...</td>\n      <td>...</td>\n      <td>...</td>\n      <td>...</td>\n      <td>...</td>\n      <td>...</td>\n      <td>...</td>\n      <td>...</td>\n      <td>...</td>\n      <td>...</td>\n      <td>...</td>\n      <td>...</td>\n      <td>...</td>\n      <td>...</td>\n      <td>...</td>\n      <td>...</td>\n      <td>...</td>\n      <td>...</td>\n    </tr>\n    <tr>\n      <th>30951</th>\n      <td>1600892455</td>\n      <td>391213348</td>\n      <td>robot</td>\n      <td>0.155436</td>\n      <td>-0.004590</td>\n      <td>-0.020278</td>\n      <td>0.002978</td>\n      <td>-180.897766</td>\n      <td>0.0</td>\n      <td>0.1415</td>\n      <td>...</td>\n      <td>0.0</td>\n      <td>-178.691134</td>\n      <td>-0.0</td>\n      <td>-470.750654</td>\n      <td>-43.111772</td>\n      <td>1.323642</td>\n      <td>-6.585464</td>\n      <td>-3.130495</td>\n      <td>-5.313367</td>\n      <td>-0.039909</td>\n    </tr>\n    <tr>\n      <th>30952</th>\n      <td>1600892455</td>\n      <td>393460227</td>\n      <td>robot</td>\n      <td>0.155436</td>\n      <td>-0.004590</td>\n      <td>-0.020278</td>\n      <td>0.002978</td>\n      <td>-180.897766</td>\n      <td>0.0</td>\n      <td>0.1415</td>\n      <td>...</td>\n      <td>0.0</td>\n      <td>-178.691134</td>\n      <td>-0.0</td>\n      <td>-470.750654</td>\n      <td>-43.111772</td>\n      <td>1.323642</td>\n      <td>-6.585464</td>\n      <td>-3.130495</td>\n      <td>-5.313367</td>\n      <td>-0.039909</td>\n    </tr>\n    <tr>\n      <th>30953</th>\n      <td>1600892455</td>\n      <td>395996733</td>\n      <td>robot</td>\n      <td>0.155407</td>\n      <td>0.000541</td>\n      <td>-0.020278</td>\n      <td>0.002978</td>\n      <td>-180.897766</td>\n      <td>0.0</td>\n      <td>0.1415</td>\n      <td>...</td>\n      <td>0.0</td>\n      <td>-178.691134</td>\n      <td>-0.0</td>\n      <td>-470.750654</td>\n      <td>-43.111772</td>\n      <td>1.323642</td>\n      <td>-6.585464</td>\n      <td>-3.130495</td>\n      <td>-5.313367</td>\n      <td>-0.023320</td>\n    </tr>\n    <tr>\n      <th>30954</th>\n      <td>1600892455</td>\n      <td>398442017</td>\n      <td>robot</td>\n      <td>0.155407</td>\n      <td>0.000541</td>\n      <td>-0.020278</td>\n      <td>0.002978</td>\n      <td>-180.897766</td>\n      <td>0.0</td>\n      <td>0.1415</td>\n      <td>...</td>\n      <td>0.0</td>\n      <td>-178.691134</td>\n      <td>-0.0</td>\n      <td>-470.750654</td>\n      <td>-43.111772</td>\n      <td>1.323642</td>\n      <td>-6.585464</td>\n      <td>-3.130495</td>\n      <td>-5.313367</td>\n      <td>-0.023320</td>\n    </tr>\n    <tr>\n      <th>30955</th>\n      <td>1600892455</td>\n      <td>400773618</td>\n      <td>robot</td>\n      <td>0.155407</td>\n      <td>0.000541</td>\n      <td>-0.020278</td>\n      <td>0.002978</td>\n      <td>-180.897766</td>\n      <td>0.0</td>\n      <td>0.1415</td>\n      <td>...</td>\n      <td>0.0</td>\n      <td>-178.691134</td>\n      <td>-0.0</td>\n      <td>-470.750654</td>\n      <td>-43.111772</td>\n      <td>1.323642</td>\n      <td>-6.585464</td>\n      <td>-3.130495</td>\n      <td>-5.313367</td>\n      <td>-0.023320</td>\n    </tr>\n  </tbody>\n</table>\n<p>30956 rows × 22 columns</p>\n</div>"
     },
     "metadata": {},
     "execution_count": 4
    }
   ],
   "source": [
    "df = pd.read_csv(\"states.csv\")\n",
    "\n",
    "df"
   ]
  },
  {
   "cell_type": "code",
   "execution_count": 5,
   "metadata": {
    "tags": []
   },
   "outputs": [
    {
     "output_type": "execute_result",
     "data": {
      "text/plain": "             x1        x2        x3        x4          x5   x6\n0      0.151688 -0.002232  0.017458  0.003468 -185.334625  0.0\n1      0.151735  0.001789  0.017458  0.003468 -185.334625  0.0\n2      0.151735  0.001789  0.017124 -0.011715 -185.334625  0.0\n3      0.151735  0.001789  0.017124 -0.011715 -185.334625  0.0\n4      0.151789  0.000776  0.017124 -0.011715 -185.334625  0.0\n...         ...       ...       ...       ...         ...  ...\n30951  0.155436 -0.004590 -0.020278  0.002978 -180.897766  0.0\n30952  0.155436 -0.004590 -0.020278  0.002978 -180.897766  0.0\n30953  0.155407  0.000541 -0.020278  0.002978 -180.897766  0.0\n30954  0.155407  0.000541 -0.020278  0.002978 -180.897766  0.0\n30955  0.155407  0.000541 -0.020278  0.002978 -180.897766  0.0\n\n[30956 rows x 6 columns]",
      "text/html": "<div>\n<style scoped>\n    .dataframe tbody tr th:only-of-type {\n        vertical-align: middle;\n    }\n\n    .dataframe tbody tr th {\n        vertical-align: top;\n    }\n\n    .dataframe thead th {\n        text-align: right;\n    }\n</style>\n<table border=\"1\" class=\"dataframe\">\n  <thead>\n    <tr style=\"text-align: right;\">\n      <th></th>\n      <th>x1</th>\n      <th>x2</th>\n      <th>x3</th>\n      <th>x4</th>\n      <th>x5</th>\n      <th>x6</th>\n    </tr>\n  </thead>\n  <tbody>\n    <tr>\n      <th>0</th>\n      <td>0.151688</td>\n      <td>-0.002232</td>\n      <td>0.017458</td>\n      <td>0.003468</td>\n      <td>-185.334625</td>\n      <td>0.0</td>\n    </tr>\n    <tr>\n      <th>1</th>\n      <td>0.151735</td>\n      <td>0.001789</td>\n      <td>0.017458</td>\n      <td>0.003468</td>\n      <td>-185.334625</td>\n      <td>0.0</td>\n    </tr>\n    <tr>\n      <th>2</th>\n      <td>0.151735</td>\n      <td>0.001789</td>\n      <td>0.017124</td>\n      <td>-0.011715</td>\n      <td>-185.334625</td>\n      <td>0.0</td>\n    </tr>\n    <tr>\n      <th>3</th>\n      <td>0.151735</td>\n      <td>0.001789</td>\n      <td>0.017124</td>\n      <td>-0.011715</td>\n      <td>-185.334625</td>\n      <td>0.0</td>\n    </tr>\n    <tr>\n      <th>4</th>\n      <td>0.151789</td>\n      <td>0.000776</td>\n      <td>0.017124</td>\n      <td>-0.011715</td>\n      <td>-185.334625</td>\n      <td>0.0</td>\n    </tr>\n    <tr>\n      <th>...</th>\n      <td>...</td>\n      <td>...</td>\n      <td>...</td>\n      <td>...</td>\n      <td>...</td>\n      <td>...</td>\n    </tr>\n    <tr>\n      <th>30951</th>\n      <td>0.155436</td>\n      <td>-0.004590</td>\n      <td>-0.020278</td>\n      <td>0.002978</td>\n      <td>-180.897766</td>\n      <td>0.0</td>\n    </tr>\n    <tr>\n      <th>30952</th>\n      <td>0.155436</td>\n      <td>-0.004590</td>\n      <td>-0.020278</td>\n      <td>0.002978</td>\n      <td>-180.897766</td>\n      <td>0.0</td>\n    </tr>\n    <tr>\n      <th>30953</th>\n      <td>0.155407</td>\n      <td>0.000541</td>\n      <td>-0.020278</td>\n      <td>0.002978</td>\n      <td>-180.897766</td>\n      <td>0.0</td>\n    </tr>\n    <tr>\n      <th>30954</th>\n      <td>0.155407</td>\n      <td>0.000541</td>\n      <td>-0.020278</td>\n      <td>0.002978</td>\n      <td>-180.897766</td>\n      <td>0.0</td>\n    </tr>\n    <tr>\n      <th>30955</th>\n      <td>0.155407</td>\n      <td>0.000541</td>\n      <td>-0.020278</td>\n      <td>0.002978</td>\n      <td>-180.897766</td>\n      <td>0.0</td>\n    </tr>\n  </tbody>\n</table>\n<p>30956 rows × 6 columns</p>\n</div>"
     },
     "metadata": {},
     "execution_count": 5
    }
   ],
   "source": [
    "states = df.loc[:, 'x1': 'x6']\n",
    "\n",
    "states"
   ]
  },
  {
   "cell_type": "code",
   "execution_count": 6,
   "metadata": {},
   "outputs": [
    {
     "output_type": "execute_result",
     "data": {
      "text/plain": "           w1   w2   w3   w4          w5   w6\n0      0.1415  0.0  0.0  0.0 -183.822894 -0.0\n1      0.1415  0.0  0.0  0.0 -183.822894 -0.0\n2      0.1415  0.0  0.0  0.0 -183.822894 -0.0\n3      0.1415  0.0  0.0  0.0 -183.822894 -0.0\n4      0.1415  0.0  0.0  0.0 -183.822894 -0.0\n...       ...  ...  ...  ...         ...  ...\n30951  0.1415  0.0  0.0  0.0 -178.691134 -0.0\n30952  0.1415  0.0  0.0  0.0 -178.691134 -0.0\n30953  0.1415  0.0  0.0  0.0 -178.691134 -0.0\n30954  0.1415  0.0  0.0  0.0 -178.691134 -0.0\n30955  0.1415  0.0  0.0  0.0 -178.691134 -0.0\n\n[30956 rows x 6 columns]",
      "text/html": "<div>\n<style scoped>\n    .dataframe tbody tr th:only-of-type {\n        vertical-align: middle;\n    }\n\n    .dataframe tbody tr th {\n        vertical-align: top;\n    }\n\n    .dataframe thead th {\n        text-align: right;\n    }\n</style>\n<table border=\"1\" class=\"dataframe\">\n  <thead>\n    <tr style=\"text-align: right;\">\n      <th></th>\n      <th>w1</th>\n      <th>w2</th>\n      <th>w3</th>\n      <th>w4</th>\n      <th>w5</th>\n      <th>w6</th>\n    </tr>\n  </thead>\n  <tbody>\n    <tr>\n      <th>0</th>\n      <td>0.1415</td>\n      <td>0.0</td>\n      <td>0.0</td>\n      <td>0.0</td>\n      <td>-183.822894</td>\n      <td>-0.0</td>\n    </tr>\n    <tr>\n      <th>1</th>\n      <td>0.1415</td>\n      <td>0.0</td>\n      <td>0.0</td>\n      <td>0.0</td>\n      <td>-183.822894</td>\n      <td>-0.0</td>\n    </tr>\n    <tr>\n      <th>2</th>\n      <td>0.1415</td>\n      <td>0.0</td>\n      <td>0.0</td>\n      <td>0.0</td>\n      <td>-183.822894</td>\n      <td>-0.0</td>\n    </tr>\n    <tr>\n      <th>3</th>\n      <td>0.1415</td>\n      <td>0.0</td>\n      <td>0.0</td>\n      <td>0.0</td>\n      <td>-183.822894</td>\n      <td>-0.0</td>\n    </tr>\n    <tr>\n      <th>4</th>\n      <td>0.1415</td>\n      <td>0.0</td>\n      <td>0.0</td>\n      <td>0.0</td>\n      <td>-183.822894</td>\n      <td>-0.0</td>\n    </tr>\n    <tr>\n      <th>...</th>\n      <td>...</td>\n      <td>...</td>\n      <td>...</td>\n      <td>...</td>\n      <td>...</td>\n      <td>...</td>\n    </tr>\n    <tr>\n      <th>30951</th>\n      <td>0.1415</td>\n      <td>0.0</td>\n      <td>0.0</td>\n      <td>0.0</td>\n      <td>-178.691134</td>\n      <td>-0.0</td>\n    </tr>\n    <tr>\n      <th>30952</th>\n      <td>0.1415</td>\n      <td>0.0</td>\n      <td>0.0</td>\n      <td>0.0</td>\n      <td>-178.691134</td>\n      <td>-0.0</td>\n    </tr>\n    <tr>\n      <th>30953</th>\n      <td>0.1415</td>\n      <td>0.0</td>\n      <td>0.0</td>\n      <td>0.0</td>\n      <td>-178.691134</td>\n      <td>-0.0</td>\n    </tr>\n    <tr>\n      <th>30954</th>\n      <td>0.1415</td>\n      <td>0.0</td>\n      <td>0.0</td>\n      <td>0.0</td>\n      <td>-178.691134</td>\n      <td>-0.0</td>\n    </tr>\n    <tr>\n      <th>30955</th>\n      <td>0.1415</td>\n      <td>0.0</td>\n      <td>0.0</td>\n      <td>0.0</td>\n      <td>-178.691134</td>\n      <td>-0.0</td>\n    </tr>\n  </tbody>\n</table>\n<p>30956 rows × 6 columns</p>\n</div>"
     },
     "metadata": {},
     "execution_count": 6
    }
   ],
   "source": [
    "target = df.loc[:, 'w1': 'w6']\n",
    "\n",
    "target"
   ]
  },
  {
   "cell_type": "code",
   "execution_count": 7,
   "metadata": {},
   "outputs": [
    {
     "output_type": "execute_result",
     "data": {
      "text/plain": "0       -0.002642\n1        0.012995\n2        0.005031\n3        0.005031\n4        0.003587\n           ...   \n30951   -0.039909\n30952   -0.039909\n30953   -0.023320\n30954   -0.023320\n30955   -0.023320\nName: u, Length: 30956, dtype: float64"
     },
     "metadata": {},
     "execution_count": 7
    }
   ],
   "source": [
    "control = df['u']\n",
    "\n",
    "control"
   ]
  },
  {
   "cell_type": "code",
   "execution_count": 8,
   "metadata": {},
   "outputs": [],
   "source": [
    "pkl_filename = \"regressor_a_matrix.pkl\"\n",
    "a_matrix = pd.read_pickle(pkl_filename)"
   ]
  },
  {
   "cell_type": "code",
   "execution_count": 9,
   "metadata": {},
   "outputs": [],
   "source": [
    "pkl_filename = \"regressor_gains.pkl\"\n",
    "gains = pd.read_pickle(pkl_filename)"
   ]
  },
  {
   "cell_type": "code",
   "execution_count": 10,
   "metadata": {},
   "outputs": [],
   "source": [
    "A_open = a_matrix.predict([[0,0,0,0,0,0,0]]).reshape(6,6)\n",
    "A_closed = a_matrix.predict([[0,0,0,0,0,0,200]]).reshape(6,6)"
   ]
  },
  {
   "cell_type": "code",
   "execution_count": 11,
   "metadata": {},
   "outputs": [
    {
     "output_type": "execute_result",
     "data": {
      "text/plain": "x1      0.151735\nx2      0.001789\nx3      0.017458\nx4      0.003468\nx5   -185.334625\nx6      0.000000\nName: 1, dtype: float64"
     },
     "metadata": {},
     "execution_count": 11
    }
   ],
   "source": [
    "states.iloc[1]"
   ]
  },
  {
   "cell_type": "code",
   "execution_count": 12,
   "metadata": {},
   "outputs": [],
   "source": [
    "B = [0.0, -134.30029546065, 0.0, 219.351159270877, 0.0, 511.649622338623]"
   ]
  },
  {
   "cell_type": "code",
   "execution_count": 13,
   "metadata": {},
   "outputs": [
    {
     "output_type": "execute_result",
     "data": {
      "text/plain": "-0.002642095321789384"
     },
     "metadata": {},
     "execution_count": 13
    }
   ],
   "source": [
    "control[0]"
   ]
  },
  {
   "cell_type": "code",
   "execution_count": 14,
   "metadata": {},
   "outputs": [
    {
     "output_type": "execute_result",
     "data": {
      "text/plain": "array([-1.78541669e-04,  1.48015026e+00,  2.77432000e-04, -2.05733290e-01,\n        0.00000000e+00, -1.08146166e-01])"
     },
     "metadata": {},
     "execution_count": 14
    }
   ],
   "source": [
    "x_dot = A_open @ np.array(states.iloc[0]) + np.array(B) * control[0]\n",
    "\n",
    "x_dot * 0.08"
   ]
  },
  {
   "cell_type": "code",
   "execution_count": 15,
   "metadata": {},
   "outputs": [
    {
     "output_type": "execute_result",
     "data": {
      "text/plain": "30956"
     },
     "metadata": {},
     "execution_count": 15
    }
   ],
   "source": [
    "len(states)"
   ]
  },
  {
   "cell_type": "code",
   "execution_count": 16,
   "metadata": {},
   "outputs": [
    {
     "output_type": "execute_result",
     "data": {
      "text/plain": "x1      0.151509\nx2      1.477918\nx3      0.017735\nx4     -0.202265\nx5   -185.334625\nx6     -0.108146\nName: 0, dtype: float64"
     },
     "metadata": {},
     "execution_count": 16
    }
   ],
   "source": [
    "states.iloc[0] + x_dot * 0.08"
   ]
  },
  {
   "cell_type": "code",
   "execution_count": 17,
   "metadata": {},
   "outputs": [
    {
     "output_type": "execute_result",
     "data": {
      "text/plain": "             x1        x2        x3        x4          x5        x6\n0      0.151509  1.477918  0.017735 -0.202265 -185.334625 -0.108146\n1      0.151878  1.314387  0.017735  0.072130 -185.334625  0.531897\n2      0.151878  1.399947  0.016187 -0.079752 -185.334625  0.205937\n3      0.151878  1.399947  0.016187 -0.079752 -185.334625  0.205937\n4      0.151851  1.414968  0.016187 -0.105089 -185.334625  0.146835\n...         ...       ...       ...       ...         ...       ...\n30951  0.155069  1.911830 -0.020039 -0.512238 -180.897766 -1.633553\n30952  0.155069  1.911830 -0.020039 -0.512238 -180.897766 -1.633553\n30953  0.155450  1.738450 -0.020039 -0.221137 -180.897766 -0.954542\n30954  0.155450  1.738450 -0.020039 -0.221137 -180.897766 -0.954542\n30955  0.155450  1.738450 -0.020039 -0.221137 -180.897766 -0.954542\n\n[30956 rows x 6 columns]",
      "text/html": "<div>\n<style scoped>\n    .dataframe tbody tr th:only-of-type {\n        vertical-align: middle;\n    }\n\n    .dataframe tbody tr th {\n        vertical-align: top;\n    }\n\n    .dataframe thead th {\n        text-align: right;\n    }\n</style>\n<table border=\"1\" class=\"dataframe\">\n  <thead>\n    <tr style=\"text-align: right;\">\n      <th></th>\n      <th>x1</th>\n      <th>x2</th>\n      <th>x3</th>\n      <th>x4</th>\n      <th>x5</th>\n      <th>x6</th>\n    </tr>\n  </thead>\n  <tbody>\n    <tr>\n      <th>0</th>\n      <td>0.151509</td>\n      <td>1.477918</td>\n      <td>0.017735</td>\n      <td>-0.202265</td>\n      <td>-185.334625</td>\n      <td>-0.108146</td>\n    </tr>\n    <tr>\n      <th>1</th>\n      <td>0.151878</td>\n      <td>1.314387</td>\n      <td>0.017735</td>\n      <td>0.072130</td>\n      <td>-185.334625</td>\n      <td>0.531897</td>\n    </tr>\n    <tr>\n      <th>2</th>\n      <td>0.151878</td>\n      <td>1.399947</td>\n      <td>0.016187</td>\n      <td>-0.079752</td>\n      <td>-185.334625</td>\n      <td>0.205937</td>\n    </tr>\n    <tr>\n      <th>3</th>\n      <td>0.151878</td>\n      <td>1.399947</td>\n      <td>0.016187</td>\n      <td>-0.079752</td>\n      <td>-185.334625</td>\n      <td>0.205937</td>\n    </tr>\n    <tr>\n      <th>4</th>\n      <td>0.151851</td>\n      <td>1.414968</td>\n      <td>0.016187</td>\n      <td>-0.105089</td>\n      <td>-185.334625</td>\n      <td>0.146835</td>\n    </tr>\n    <tr>\n      <th>...</th>\n      <td>...</td>\n      <td>...</td>\n      <td>...</td>\n      <td>...</td>\n      <td>...</td>\n      <td>...</td>\n    </tr>\n    <tr>\n      <th>30951</th>\n      <td>0.155069</td>\n      <td>1.911830</td>\n      <td>-0.020039</td>\n      <td>-0.512238</td>\n      <td>-180.897766</td>\n      <td>-1.633553</td>\n    </tr>\n    <tr>\n      <th>30952</th>\n      <td>0.155069</td>\n      <td>1.911830</td>\n      <td>-0.020039</td>\n      <td>-0.512238</td>\n      <td>-180.897766</td>\n      <td>-1.633553</td>\n    </tr>\n    <tr>\n      <th>30953</th>\n      <td>0.155450</td>\n      <td>1.738450</td>\n      <td>-0.020039</td>\n      <td>-0.221137</td>\n      <td>-180.897766</td>\n      <td>-0.954542</td>\n    </tr>\n    <tr>\n      <th>30954</th>\n      <td>0.155450</td>\n      <td>1.738450</td>\n      <td>-0.020039</td>\n      <td>-0.221137</td>\n      <td>-180.897766</td>\n      <td>-0.954542</td>\n    </tr>\n    <tr>\n      <th>30955</th>\n      <td>0.155450</td>\n      <td>1.738450</td>\n      <td>-0.020039</td>\n      <td>-0.221137</td>\n      <td>-180.897766</td>\n      <td>-0.954542</td>\n    </tr>\n  </tbody>\n</table>\n<p>30956 rows × 6 columns</p>\n</div>"
     },
     "metadata": {},
     "execution_count": 17
    }
   ],
   "source": [
    "prediction = []\n",
    "\n",
    "for i in range(len(states)):\n",
    "    prediction.append(states.iloc[i] + (A_open @ np.array(states.iloc[i]) + np.array(B) * control[i]) * 0.08)\n",
    "\n",
    "prediction_open = pd.DataFrame(prediction)\n",
    "\n",
    "prediction_open"
   ]
  },
  {
   "cell_type": "code",
   "execution_count": 18,
   "metadata": {},
   "outputs": [
    {
     "output_type": "execute_result",
     "data": {
      "text/plain": "             x1        x2        x3        x4          x5        x6\n0      0.151509  1.477918  0.017735 -0.267537 -185.334625 -0.054176\n1      0.151878  1.314387  0.017735  0.006858 -185.334625  0.585867\n2      0.151878  1.399947  0.016187  0.140737 -185.334625  0.023623\n3      0.151878  1.399947  0.016187  0.140737 -185.334625  0.023623\n4      0.151851  1.414968  0.016187  0.115399 -185.334625 -0.035479\n...         ...       ...       ...       ...         ...       ...\n30951  0.155069  1.911830 -0.020039 -0.568290 -180.897766 -1.587205\n30952  0.155069  1.911830 -0.020039 -0.568290 -180.897766 -1.587205\n30953  0.155450  1.738450 -0.020039 -0.277190 -180.897766 -0.908195\n30954  0.155450  1.738450 -0.020039 -0.277190 -180.897766 -0.908195\n30955  0.155450  1.738450 -0.020039 -0.277190 -180.897766 -0.908195\n\n[30956 rows x 6 columns]",
      "text/html": "<div>\n<style scoped>\n    .dataframe tbody tr th:only-of-type {\n        vertical-align: middle;\n    }\n\n    .dataframe tbody tr th {\n        vertical-align: top;\n    }\n\n    .dataframe thead th {\n        text-align: right;\n    }\n</style>\n<table border=\"1\" class=\"dataframe\">\n  <thead>\n    <tr style=\"text-align: right;\">\n      <th></th>\n      <th>x1</th>\n      <th>x2</th>\n      <th>x3</th>\n      <th>x4</th>\n      <th>x5</th>\n      <th>x6</th>\n    </tr>\n  </thead>\n  <tbody>\n    <tr>\n      <th>0</th>\n      <td>0.151509</td>\n      <td>1.477918</td>\n      <td>0.017735</td>\n      <td>-0.267537</td>\n      <td>-185.334625</td>\n      <td>-0.054176</td>\n    </tr>\n    <tr>\n      <th>1</th>\n      <td>0.151878</td>\n      <td>1.314387</td>\n      <td>0.017735</td>\n      <td>0.006858</td>\n      <td>-185.334625</td>\n      <td>0.585867</td>\n    </tr>\n    <tr>\n      <th>2</th>\n      <td>0.151878</td>\n      <td>1.399947</td>\n      <td>0.016187</td>\n      <td>0.140737</td>\n      <td>-185.334625</td>\n      <td>0.023623</td>\n    </tr>\n    <tr>\n      <th>3</th>\n      <td>0.151878</td>\n      <td>1.399947</td>\n      <td>0.016187</td>\n      <td>0.140737</td>\n      <td>-185.334625</td>\n      <td>0.023623</td>\n    </tr>\n    <tr>\n      <th>4</th>\n      <td>0.151851</td>\n      <td>1.414968</td>\n      <td>0.016187</td>\n      <td>0.115399</td>\n      <td>-185.334625</td>\n      <td>-0.035479</td>\n    </tr>\n    <tr>\n      <th>...</th>\n      <td>...</td>\n      <td>...</td>\n      <td>...</td>\n      <td>...</td>\n      <td>...</td>\n      <td>...</td>\n    </tr>\n    <tr>\n      <th>30951</th>\n      <td>0.155069</td>\n      <td>1.911830</td>\n      <td>-0.020039</td>\n      <td>-0.568290</td>\n      <td>-180.897766</td>\n      <td>-1.587205</td>\n    </tr>\n    <tr>\n      <th>30952</th>\n      <td>0.155069</td>\n      <td>1.911830</td>\n      <td>-0.020039</td>\n      <td>-0.568290</td>\n      <td>-180.897766</td>\n      <td>-1.587205</td>\n    </tr>\n    <tr>\n      <th>30953</th>\n      <td>0.155450</td>\n      <td>1.738450</td>\n      <td>-0.020039</td>\n      <td>-0.277190</td>\n      <td>-180.897766</td>\n      <td>-0.908195</td>\n    </tr>\n    <tr>\n      <th>30954</th>\n      <td>0.155450</td>\n      <td>1.738450</td>\n      <td>-0.020039</td>\n      <td>-0.277190</td>\n      <td>-180.897766</td>\n      <td>-0.908195</td>\n    </tr>\n    <tr>\n      <th>30955</th>\n      <td>0.155450</td>\n      <td>1.738450</td>\n      <td>-0.020039</td>\n      <td>-0.277190</td>\n      <td>-180.897766</td>\n      <td>-0.908195</td>\n    </tr>\n  </tbody>\n</table>\n<p>30956 rows × 6 columns</p>\n</div>"
     },
     "metadata": {},
     "execution_count": 18
    }
   ],
   "source": [
    "prediction = []\n",
    "\n",
    "for i in range(len(states)):\n",
    "    prediction.append(states.iloc[i] + (A_closed @ np.array(states.iloc[i]) + np.array(B) * control[i]) * 0.08)\n",
    "\n",
    "prediction_closed = pd.DataFrame(prediction)\n",
    "\n",
    "prediction_closed"
   ]
  },
  {
   "cell_type": "code",
   "execution_count": 19,
   "metadata": {},
   "outputs": [
    {
     "output_type": "execute_result",
     "data": {
      "text/plain": "        x1            x2   x3        x4   x5        x6\n0      0.0  1.554312e-15  0.0  0.065271  0.0 -0.053971\n1      0.0  1.998401e-15  0.0  0.065271  0.0 -0.053971\n2      0.0  1.998401e-15  0.0 -0.220489  0.0  0.182315\n3      0.0  1.998401e-15  0.0 -0.220489  0.0  0.182315\n4      0.0  1.554312e-15  0.0 -0.220489  0.0  0.182315\n...    ...           ...  ...       ...  ...       ...\n30951  0.0  1.776357e-15  0.0  0.056052  0.0 -0.046348\n30952  0.0  1.776357e-15  0.0  0.056052  0.0 -0.046348\n30953  0.0  1.776357e-15  0.0  0.056052  0.0 -0.046348\n30954  0.0  1.776357e-15  0.0  0.056052  0.0 -0.046348\n30955  0.0  1.776357e-15  0.0  0.056052  0.0 -0.046348\n\n[30956 rows x 6 columns]",
      "text/html": "<div>\n<style scoped>\n    .dataframe tbody tr th:only-of-type {\n        vertical-align: middle;\n    }\n\n    .dataframe tbody tr th {\n        vertical-align: top;\n    }\n\n    .dataframe thead th {\n        text-align: right;\n    }\n</style>\n<table border=\"1\" class=\"dataframe\">\n  <thead>\n    <tr style=\"text-align: right;\">\n      <th></th>\n      <th>x1</th>\n      <th>x2</th>\n      <th>x3</th>\n      <th>x4</th>\n      <th>x5</th>\n      <th>x6</th>\n    </tr>\n  </thead>\n  <tbody>\n    <tr>\n      <th>0</th>\n      <td>0.0</td>\n      <td>1.554312e-15</td>\n      <td>0.0</td>\n      <td>0.065271</td>\n      <td>0.0</td>\n      <td>-0.053971</td>\n    </tr>\n    <tr>\n      <th>1</th>\n      <td>0.0</td>\n      <td>1.998401e-15</td>\n      <td>0.0</td>\n      <td>0.065271</td>\n      <td>0.0</td>\n      <td>-0.053971</td>\n    </tr>\n    <tr>\n      <th>2</th>\n      <td>0.0</td>\n      <td>1.998401e-15</td>\n      <td>0.0</td>\n      <td>-0.220489</td>\n      <td>0.0</td>\n      <td>0.182315</td>\n    </tr>\n    <tr>\n      <th>3</th>\n      <td>0.0</td>\n      <td>1.998401e-15</td>\n      <td>0.0</td>\n      <td>-0.220489</td>\n      <td>0.0</td>\n      <td>0.182315</td>\n    </tr>\n    <tr>\n      <th>4</th>\n      <td>0.0</td>\n      <td>1.554312e-15</td>\n      <td>0.0</td>\n      <td>-0.220489</td>\n      <td>0.0</td>\n      <td>0.182315</td>\n    </tr>\n    <tr>\n      <th>...</th>\n      <td>...</td>\n      <td>...</td>\n      <td>...</td>\n      <td>...</td>\n      <td>...</td>\n      <td>...</td>\n    </tr>\n    <tr>\n      <th>30951</th>\n      <td>0.0</td>\n      <td>1.776357e-15</td>\n      <td>0.0</td>\n      <td>0.056052</td>\n      <td>0.0</td>\n      <td>-0.046348</td>\n    </tr>\n    <tr>\n      <th>30952</th>\n      <td>0.0</td>\n      <td>1.776357e-15</td>\n      <td>0.0</td>\n      <td>0.056052</td>\n      <td>0.0</td>\n      <td>-0.046348</td>\n    </tr>\n    <tr>\n      <th>30953</th>\n      <td>0.0</td>\n      <td>1.776357e-15</td>\n      <td>0.0</td>\n      <td>0.056052</td>\n      <td>0.0</td>\n      <td>-0.046348</td>\n    </tr>\n    <tr>\n      <th>30954</th>\n      <td>0.0</td>\n      <td>1.776357e-15</td>\n      <td>0.0</td>\n      <td>0.056052</td>\n      <td>0.0</td>\n      <td>-0.046348</td>\n    </tr>\n    <tr>\n      <th>30955</th>\n      <td>0.0</td>\n      <td>1.776357e-15</td>\n      <td>0.0</td>\n      <td>0.056052</td>\n      <td>0.0</td>\n      <td>-0.046348</td>\n    </tr>\n  </tbody>\n</table>\n<p>30956 rows × 6 columns</p>\n</div>"
     },
     "metadata": {},
     "execution_count": 19
    }
   ],
   "source": [
    "prediction_open - prediction_closed"
   ]
  }
 ]
}