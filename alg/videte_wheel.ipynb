{
 "cells": [
  {
   "cell_type": "markdown",
   "metadata": {},
   "source": [
    "# Videte Wheel\n",
    "## Install Requirements"
   ]
  },
  {
   "cell_type": "code",
   "execution_count": 1,
   "metadata": {},
   "outputs": [
    {
     "name": "stdout",
     "output_type": "stream",
     "text": [
      "Collecting package metadata (current_repodata.json): done\n",
      "Solving environment: done\n",
      "\n",
      "# All requested packages already installed.\n",
      "\n"
     ]
    }
   ],
   "source": [
    "!conda install -y control slycot"
   ]
  },
  {
   "cell_type": "markdown",
   "metadata": {},
   "source": [
    "## Videte Wheel Kinematics\n",
    "### Basic Definitions"
   ]
  },
  {
   "cell_type": "code",
   "execution_count": 2,
   "metadata": {},
   "outputs": [],
   "source": [
    "import sympy\n",
    "\n",
    "# Declare Time\n",
    "t = sympy.symbols('t')\n",
    "\n",
    "# Declare Functions\n",
    "y = sympy.Function('y')(t)\n",
    "θ = sympy.Function('θ')(t)\n",
    "ρ = sympy.Function('ρ')(t)\n",
    "φ = sympy.Function('φ')(t)\n",
    "\n",
    "# Declare Masses\n",
    "m_ow, m_ow_rot, m_iw, m_iw_rot, m_m = sympy.symbols('m_ow m_owr m_iw m_iwr m_m')\n",
    "\n",
    "# Declare Dimensions\n",
    "l_iw_m, r_1, r_2, r_3 = sympy.symbols('l_iwm r_1 r_2 r_3')\n",
    "l_ow_iw = r_2 - r_1\n",
    "\n",
    "# Declare Gravity\n",
    "g = sympy.symbols('g')"
   ]
  },
  {
   "cell_type": "code",
   "execution_count": 3,
   "metadata": {},
   "outputs": [],
   "source": [
    "# Gear ratio\n",
    "i_gear = r_2 / r_1\n",
    "\n",
    "# Linking rotation of outer and inner wheel\n",
    "φ_iw = φ\n",
    "φ_ow = (1/i_gear) * φ_iw\n",
    "\n",
    "ω = φ.diff(t)\n",
    "ω_iw = ω\n",
    "ω_ow = φ_ow.diff(t)"
   ]
  },
  {
   "cell_type": "code",
   "execution_count": 4,
   "metadata": {},
   "outputs": [],
   "source": [
    "# Y positions\n",
    "y_ow = r_3 + y\n",
    "y_iw = y_ow - l_ow_iw * sympy.cos(ρ)\n",
    "y_m = y_iw + l_iw_m * sympy.cos(θ)\n",
    "\n",
    "# Rotation based x movement\n",
    "# TODO: Check to be correct\n",
    "x = r_3 * (φ_ow - ρ)\n",
    "\n",
    "# X positions\n",
    "x_ow = x\n",
    "x_iw = x_ow + l_ow_iw * sympy.sin(ρ)\n",
    "x_m = x_iw + l_iw_m * sympy.sin(θ)"
   ]
  },
  {
   "cell_type": "markdown",
   "metadata": {},
   "source": [
    "### State X"
   ]
  },
  {
   "cell_type": "code",
   "execution_count": 5,
   "metadata": {},
   "outputs": [
    {
     "data": {
      "text/plain": [
       "[θ(t),\n",
       " Derivative(θ(t), t),\n",
       " ρ(t),\n",
       " Derivative(ρ(t), t),\n",
       " φ(t),\n",
       " Derivative(φ(t), t)]"
      ]
     },
     "execution_count": 5,
     "metadata": {},
     "output_type": "execute_result"
    }
   ],
   "source": [
    "state_x = [θ, θ.diff(t), ρ, ρ.diff(t), φ, φ.diff(t)]\n",
    "\n",
    "state_x"
   ]
  },
  {
   "cell_type": "markdown",
   "metadata": {},
   "source": [
    "### Potential Energy"
   ]
  },
  {
   "cell_type": "code",
   "execution_count": 6,
   "metadata": {},
   "outputs": [
    {
     "data": {
      "text/latex": [
       "$\\displaystyle g \\left(m_{iw} \\left(r_{3} - \\left(- r_{1} + r_{2}\\right) \\cos{\\left(ρ{\\left(t \\right)} \\right)} + y{\\left(t \\right)}\\right) + m_{m} \\left(l_{iwm} \\cos{\\left(θ{\\left(t \\right)} \\right)} + r_{3} - \\left(- r_{1} + r_{2}\\right) \\cos{\\left(ρ{\\left(t \\right)} \\right)} + y{\\left(t \\right)}\\right) + m_{ow} \\left(r_{3} + y{\\left(t \\right)}\\right)\\right)$"
      ],
      "text/plain": [
       "g*(m_iw*(r_3 - (-r_1 + r_2)*cos(ρ(t)) + y(t)) + m_m*(l_iwm*cos(θ(t)) + r_3 - (-r_1 + r_2)*cos(ρ(t)) + y(t)) + m_ow*(r_3 + y(t)))"
      ]
     },
     "execution_count": 6,
     "metadata": {},
     "output_type": "execute_result"
    }
   ],
   "source": [
    "V = (m_m * y_m + m_ow * y_ow + m_iw * y_iw) * g\n",
    "\n",
    "V"
   ]
  },
  {
   "cell_type": "markdown",
   "metadata": {},
   "source": [
    "### Kinetic Energy"
   ]
  },
  {
   "cell_type": "code",
   "execution_count": 7,
   "metadata": {},
   "outputs": [
    {
     "data": {
      "text/latex": [
       "$\\displaystyle 0.5 d_{iw} \\int \\left(\\frac{d}{d t} ρ{\\left(t \\right)}\\right)^{2}\\, dt + 0.5 d_{iwr} \\int \\left(\\frac{d}{d t} φ{\\left(t \\right)}\\right)^{2}\\, dt + 0.5 d_{m} \\int \\left(\\frac{d}{d t} θ{\\left(t \\right)}\\right)^{2}\\, dt + \\frac{0.5 d_{ow} \\left(\\int r_{2}^{2} \\left(\\frac{d}{d t} y{\\left(t \\right)}\\right)^{2}\\, dt + \\int r_{1}^{2} r_{3}^{2} \\left(\\frac{d}{d t} φ{\\left(t \\right)}\\right)^{2}\\, dt + \\int r_{2}^{2} r_{3}^{2} \\left(\\frac{d}{d t} ρ{\\left(t \\right)}\\right)^{2}\\, dt + \\int - 2 r_{1} r_{2} r_{3}^{2} \\frac{d}{d t} ρ{\\left(t \\right)} \\frac{d}{d t} φ{\\left(t \\right)}\\, dt\\right)}{r_{2}^{2}} + \\frac{0.5 d_{owr} r_{1}^{2} \\int \\left(\\frac{d}{d t} φ{\\left(t \\right)}\\right)^{2}\\, dt}{r_{2}^{2}} + 0.5 m_{iw} \\left(\\left(r_{3} \\left(\\frac{r_{1} \\frac{d}{d t} φ{\\left(t \\right)}}{r_{2}} - \\frac{d}{d t} ρ{\\left(t \\right)}\\right) + \\left(- r_{1} + r_{2}\\right) \\cos{\\left(ρ{\\left(t \\right)} \\right)} \\frac{d}{d t} ρ{\\left(t \\right)}\\right)^{2} + \\left(- \\left(r_{1} - r_{2}\\right) \\sin{\\left(ρ{\\left(t \\right)} \\right)} \\frac{d}{d t} ρ{\\left(t \\right)} + \\frac{d}{d t} y{\\left(t \\right)}\\right)^{2}\\right) + 0.25 m_{iwr} r_{1}^{2} \\left(\\frac{d}{d t} φ{\\left(t \\right)}\\right)^{2} + 0.5 m_{m} \\left(\\left(- l_{iwm} \\sin{\\left(θ{\\left(t \\right)} \\right)} \\frac{d}{d t} θ{\\left(t \\right)} - \\left(r_{1} - r_{2}\\right) \\sin{\\left(ρ{\\left(t \\right)} \\right)} \\frac{d}{d t} ρ{\\left(t \\right)} + \\frac{d}{d t} y{\\left(t \\right)}\\right)^{2} + \\left(l_{iwm} \\cos{\\left(θ{\\left(t \\right)} \\right)} \\frac{d}{d t} θ{\\left(t \\right)} + r_{3} \\left(\\frac{r_{1} \\frac{d}{d t} φ{\\left(t \\right)}}{r_{2}} - \\frac{d}{d t} ρ{\\left(t \\right)}\\right) + \\left(- r_{1} + r_{2}\\right) \\cos{\\left(ρ{\\left(t \\right)} \\right)} \\frac{d}{d t} ρ{\\left(t \\right)}\\right)^{2}\\right) + 0.5 m_{ow} \\left(r_{3}^{2} \\left(\\frac{r_{1} \\frac{d}{d t} φ{\\left(t \\right)}}{r_{2}} - \\frac{d}{d t} ρ{\\left(t \\right)}\\right)^{2} + \\left(\\frac{d}{d t} y{\\left(t \\right)}\\right)^{2}\\right) + \\frac{0.25 m_{owr} r_{1}^{2} \\left(r_{2}^{2} + r_{3}^{2}\\right) \\left(\\frac{d}{d t} φ{\\left(t \\right)}\\right)^{2}}{r_{2}^{2}}$"
      ],
      "text/plain": [
       "0.5*d_iw*Integral(Derivative(ρ(t), t)**2, t) + 0.5*d_iwr*Integral(Derivative(φ(t), t)**2, t) + 0.5*d_m*Integral(Derivative(θ(t), t)**2, t) + 0.5*d_ow*(Integral(r_2**2*Derivative(y(t), t)**2, t) + Integral(r_1**2*r_3**2*Derivative(φ(t), t)**2, t) + Integral(r_2**2*r_3**2*Derivative(ρ(t), t)**2, t) + Integral(-2*r_1*r_2*r_3**2*Derivative(ρ(t), t)*Derivative(φ(t), t), t))/r_2**2 + 0.5*d_owr*r_1**2*Integral(Derivative(φ(t), t)**2, t)/r_2**2 + 0.5*m_iw*((r_3*(r_1*Derivative(φ(t), t)/r_2 - Derivative(ρ(t), t)) + (-r_1 + r_2)*cos(ρ(t))*Derivative(ρ(t), t))**2 + (-(r_1 - r_2)*sin(ρ(t))*Derivative(ρ(t), t) + Derivative(y(t), t))**2) + 0.25*m_iwr*r_1**2*Derivative(φ(t), t)**2 + 0.5*m_m*((-l_iwm*sin(θ(t))*Derivative(θ(t), t) - (r_1 - r_2)*sin(ρ(t))*Derivative(ρ(t), t) + Derivative(y(t), t))**2 + (l_iwm*cos(θ(t))*Derivative(θ(t), t) + r_3*(r_1*Derivative(φ(t), t)/r_2 - Derivative(ρ(t), t)) + (-r_1 + r_2)*cos(ρ(t))*Derivative(ρ(t), t))**2) + 0.5*m_ow*(r_3**2*(r_1*Derivative(φ(t), t)/r_2 - Derivative(ρ(t), t))**2 + Derivative(y(t), t)**2) + 0.25*m_owr*r_1**2*(r_2**2 + r_3**2)*Derivative(φ(t), t)**2/r_2**2"
      ]
     },
     "execution_count": 7,
     "metadata": {},
     "output_type": "execute_result"
    }
   ],
   "source": [
    "# Rotating mass inertia\n",
    "J_ow = (1/2) * m_ow_rot * (r_2**2 + r_3**2)\n",
    "J_iw = (1/2) * m_iw_rot * r_1**2\n",
    "\n",
    "# Kinetic energy of rotating cylinder\n",
    "W_owr = (1/2) * J_ow * ω_ow**2\n",
    "W_iwr = (1/2) * J_iw * ω_iw**2\n",
    "\n",
    "# Translational kinetic energy\n",
    "W_ow = (1/2) * m_ow * (sympy.diff(x_ow, t)**2 + sympy.diff(y_ow, t)**2)\n",
    "W_iw = (1/2) * m_iw * (sympy.diff(x_iw, t)**2 + sympy.diff(y_iw, t)**2)\n",
    "W_m = (1/2) * m_m * (sympy.diff(x_m, t)**2 + sympy.diff(y_m, t)**2)\n",
    "\n",
    "# Dampening (e.g. heat dissipation)\n",
    "d_ow, d_iw, d_m, d_owr, d_iwr = sympy.symbols(\n",
    "    'd_ow d_iw d_m d_owr d_iwr')\n",
    "\n",
    "W_d_ow = sympy.integrate(\n",
    "    d_ow * (1/2) * (sympy.diff(x_ow, t)**2 + sympy.diff(y_ow, t)**2), t)\n",
    "W_d_iw = sympy.integrate(d_iw * (1/2) * sympy.diff(ρ, t)**2, t)\n",
    "W_d_m = sympy.integrate((d_m * (1/2) * sympy.diff(θ, t)**2), t)\n",
    "W_d_owr = sympy.integrate(d_owr * (1/2) * ω_ow**2, t)\n",
    "W_d_iwr = sympy.integrate(d_iwr * (1/2) * ω_iw**2, t)\n",
    "\n",
    "W_heat = W_d_ow + W_d_iw + W_d_m + W_d_owr + W_d_iwr\n",
    "\n",
    "# Kinetic Energy\n",
    "T = W_ow + W_iw + W_m + W_owr + W_iwr + W_heat\n",
    "\n",
    "T"
   ]
  },
  {
   "cell_type": "markdown",
   "metadata": {},
   "source": [
    "### Lagrange Equation"
   ]
  },
  {
   "cell_type": "code",
   "execution_count": 8,
   "metadata": {},
   "outputs": [
    {
     "data": {
      "text/latex": [
       "$\\displaystyle 0.5 d_{iw} \\int \\left(\\frac{d}{d t} ρ{\\left(t \\right)}\\right)^{2}\\, dt + 0.5 d_{iwr} \\int \\left(\\frac{d}{d t} φ{\\left(t \\right)}\\right)^{2}\\, dt + 0.5 d_{m} \\int \\left(\\frac{d}{d t} θ{\\left(t \\right)}\\right)^{2}\\, dt + \\frac{0.5 d_{ow} \\left(\\int r_{2}^{2} \\left(\\frac{d}{d t} y{\\left(t \\right)}\\right)^{2}\\, dt + \\int r_{1}^{2} r_{3}^{2} \\left(\\frac{d}{d t} φ{\\left(t \\right)}\\right)^{2}\\, dt + \\int r_{2}^{2} r_{3}^{2} \\left(\\frac{d}{d t} ρ{\\left(t \\right)}\\right)^{2}\\, dt + \\int - 2 r_{1} r_{2} r_{3}^{2} \\frac{d}{d t} ρ{\\left(t \\right)} \\frac{d}{d t} φ{\\left(t \\right)}\\, dt\\right)}{r_{2}^{2}} + \\frac{0.5 d_{owr} r_{1}^{2} \\int \\left(\\frac{d}{d t} φ{\\left(t \\right)}\\right)^{2}\\, dt}{r_{2}^{2}} - g \\left(m_{iw} \\left(r_{3} - \\left(- r_{1} + r_{2}\\right) \\cos{\\left(ρ{\\left(t \\right)} \\right)} + y{\\left(t \\right)}\\right) + m_{m} \\left(l_{iwm} \\cos{\\left(θ{\\left(t \\right)} \\right)} + r_{3} - \\left(- r_{1} + r_{2}\\right) \\cos{\\left(ρ{\\left(t \\right)} \\right)} + y{\\left(t \\right)}\\right) + m_{ow} \\left(r_{3} + y{\\left(t \\right)}\\right)\\right) + 0.5 m_{iw} \\left(\\left(r_{3} \\left(\\frac{r_{1} \\frac{d}{d t} φ{\\left(t \\right)}}{r_{2}} - \\frac{d}{d t} ρ{\\left(t \\right)}\\right) + \\left(- r_{1} + r_{2}\\right) \\cos{\\left(ρ{\\left(t \\right)} \\right)} \\frac{d}{d t} ρ{\\left(t \\right)}\\right)^{2} + \\left(- \\left(r_{1} - r_{2}\\right) \\sin{\\left(ρ{\\left(t \\right)} \\right)} \\frac{d}{d t} ρ{\\left(t \\right)} + \\frac{d}{d t} y{\\left(t \\right)}\\right)^{2}\\right) + 0.25 m_{iwr} r_{1}^{2} \\left(\\frac{d}{d t} φ{\\left(t \\right)}\\right)^{2} + 0.5 m_{m} \\left(\\left(- l_{iwm} \\sin{\\left(θ{\\left(t \\right)} \\right)} \\frac{d}{d t} θ{\\left(t \\right)} - \\left(r_{1} - r_{2}\\right) \\sin{\\left(ρ{\\left(t \\right)} \\right)} \\frac{d}{d t} ρ{\\left(t \\right)} + \\frac{d}{d t} y{\\left(t \\right)}\\right)^{2} + \\left(l_{iwm} \\cos{\\left(θ{\\left(t \\right)} \\right)} \\frac{d}{d t} θ{\\left(t \\right)} + r_{3} \\left(\\frac{r_{1} \\frac{d}{d t} φ{\\left(t \\right)}}{r_{2}} - \\frac{d}{d t} ρ{\\left(t \\right)}\\right) + \\left(- r_{1} + r_{2}\\right) \\cos{\\left(ρ{\\left(t \\right)} \\right)} \\frac{d}{d t} ρ{\\left(t \\right)}\\right)^{2}\\right) + 0.5 m_{ow} \\left(r_{3}^{2} \\left(\\frac{r_{1} \\frac{d}{d t} φ{\\left(t \\right)}}{r_{2}} - \\frac{d}{d t} ρ{\\left(t \\right)}\\right)^{2} + \\left(\\frac{d}{d t} y{\\left(t \\right)}\\right)^{2}\\right) + \\frac{0.25 m_{owr} r_{1}^{2} \\left(r_{2}^{2} + r_{3}^{2}\\right) \\left(\\frac{d}{d t} φ{\\left(t \\right)}\\right)^{2}}{r_{2}^{2}}$"
      ],
      "text/plain": [
       "0.5*d_iw*Integral(Derivative(ρ(t), t)**2, t) + 0.5*d_iwr*Integral(Derivative(φ(t), t)**2, t) + 0.5*d_m*Integral(Derivative(θ(t), t)**2, t) + 0.5*d_ow*(Integral(r_2**2*Derivative(y(t), t)**2, t) + Integral(r_1**2*r_3**2*Derivative(φ(t), t)**2, t) + Integral(r_2**2*r_3**2*Derivative(ρ(t), t)**2, t) + Integral(-2*r_1*r_2*r_3**2*Derivative(ρ(t), t)*Derivative(φ(t), t), t))/r_2**2 + 0.5*d_owr*r_1**2*Integral(Derivative(φ(t), t)**2, t)/r_2**2 - g*(m_iw*(r_3 - (-r_1 + r_2)*cos(ρ(t)) + y(t)) + m_m*(l_iwm*cos(θ(t)) + r_3 - (-r_1 + r_2)*cos(ρ(t)) + y(t)) + m_ow*(r_3 + y(t))) + 0.5*m_iw*((r_3*(r_1*Derivative(φ(t), t)/r_2 - Derivative(ρ(t), t)) + (-r_1 + r_2)*cos(ρ(t))*Derivative(ρ(t), t))**2 + (-(r_1 - r_2)*sin(ρ(t))*Derivative(ρ(t), t) + Derivative(y(t), t))**2) + 0.25*m_iwr*r_1**2*Derivative(φ(t), t)**2 + 0.5*m_m*((-l_iwm*sin(θ(t))*Derivative(θ(t), t) - (r_1 - r_2)*sin(ρ(t))*Derivative(ρ(t), t) + Derivative(y(t), t))**2 + (l_iwm*cos(θ(t))*Derivative(θ(t), t) + r_3*(r_1*Derivative(φ(t), t)/r_2 - Derivative(ρ(t), t)) + (-r_1 + r_2)*cos(ρ(t))*Derivative(ρ(t), t))**2) + 0.5*m_ow*(r_3**2*(r_1*Derivative(φ(t), t)/r_2 - Derivative(ρ(t), t))**2 + Derivative(y(t), t)**2) + 0.25*m_owr*r_1**2*(r_2**2 + r_3**2)*Derivative(φ(t), t)**2/r_2**2"
      ]
     },
     "execution_count": 8,
     "metadata": {},
     "output_type": "execute_result"
    }
   ],
   "source": [
    "L = T - V\n",
    "\n",
    "L"
   ]
  },
  {
   "cell_type": "code",
   "execution_count": 9,
   "metadata": {},
   "outputs": [],
   "source": [
    "f_θ = θ.diff(t)\n",
    "L_θ = sympy.diff(sympy.diff(L, sympy.diff(θ, t)), t) - sympy.diff(L, θ)\n",
    "f_dθ = sympy.solve(L_θ, θ.diff(t, t))[0]\n",
    "\n",
    "f_ρ = ρ.diff(t)\n",
    "L_ρ = sympy.diff(sympy.diff(L, sympy.diff(ρ, t)), t) - sympy.diff(L, ρ)\n",
    "f_dρ = sympy.solve(L_ρ, ρ.diff(t, t))[0]\n",
    "\n",
    "f_φ = φ.diff(t)\n",
    "L_φ = sympy.diff(sympy.diff(L, sympy.diff(φ, t)), t) - sympy.diff(L, φ)\n",
    "f_dφ = sympy.solve(L_φ, φ.diff(t, t))[0]"
   ]
  },
  {
   "cell_type": "code",
   "execution_count": 10,
   "metadata": {},
   "outputs": [
    {
     "data": {
      "text/latex": [
       "$\\displaystyle - \\frac{d_{m} \\frac{d}{d t} θ{\\left(t \\right)}}{l_{iwm}^{2} m_{m}} + \\frac{g \\sin{\\left(θ{\\left(t \\right)} \\right)}}{l_{iwm}} - \\frac{r_{1} \\sin{\\left(θ{\\left(t \\right)} + ρ{\\left(t \\right)} \\right)} \\left(\\frac{d}{d t} ρ{\\left(t \\right)}\\right)^{2}}{l_{iwm}} + \\frac{r_{1} \\cos{\\left(θ{\\left(t \\right)} + ρ{\\left(t \\right)} \\right)} \\frac{d^{2}}{d t^{2}} ρ{\\left(t \\right)}}{l_{iwm}} - \\frac{r_{1} r_{3} \\cos{\\left(θ{\\left(t \\right)} \\right)} \\frac{d^{2}}{d t^{2}} φ{\\left(t \\right)}}{l_{iwm} r_{2}} + \\frac{r_{2} \\sin{\\left(θ{\\left(t \\right)} + ρ{\\left(t \\right)} \\right)} \\left(\\frac{d}{d t} ρ{\\left(t \\right)}\\right)^{2}}{l_{iwm}} - \\frac{r_{2} \\cos{\\left(θ{\\left(t \\right)} + ρ{\\left(t \\right)} \\right)} \\frac{d^{2}}{d t^{2}} ρ{\\left(t \\right)}}{l_{iwm}} + \\frac{r_{3} \\cos{\\left(θ{\\left(t \\right)} \\right)} \\frac{d^{2}}{d t^{2}} ρ{\\left(t \\right)}}{l_{iwm}} + \\frac{\\sin{\\left(θ{\\left(t \\right)} \\right)} \\frac{d^{2}}{d t^{2}} y{\\left(t \\right)}}{l_{iwm}}$"
      ],
      "text/plain": [
       "-d_m*Derivative(θ(t), t)/(l_iwm**2*m_m) + g*sin(θ(t))/l_iwm - r_1*sin(θ(t) + ρ(t))*Derivative(ρ(t), t)**2/l_iwm + r_1*cos(θ(t) + ρ(t))*Derivative(ρ(t), (t, 2))/l_iwm - r_1*r_3*cos(θ(t))*Derivative(φ(t), (t, 2))/(l_iwm*r_2) + r_2*sin(θ(t) + ρ(t))*Derivative(ρ(t), t)**2/l_iwm - r_2*cos(θ(t) + ρ(t))*Derivative(ρ(t), (t, 2))/l_iwm + r_3*cos(θ(t))*Derivative(ρ(t), (t, 2))/l_iwm + sin(θ(t))*Derivative(y(t), (t, 2))/l_iwm"
      ]
     },
     "execution_count": 10,
     "metadata": {},
     "output_type": "execute_result"
    }
   ],
   "source": [
    "f_dθ"
   ]
  },
  {
   "cell_type": "code",
   "execution_count": 11,
   "metadata": {},
   "outputs": [
    {
     "data": {
      "text/latex": [
       "$\\displaystyle \\frac{- d_{iw} r_{2} \\frac{d}{d t} ρ{\\left(t \\right)} + d_{ow} r_{1} r_{3}^{2} \\frac{d}{d t} φ{\\left(t \\right)} - d_{ow} r_{2} r_{3}^{2} \\frac{d}{d t} ρ{\\left(t \\right)} + g m_{iw} r_{1} r_{2} \\sin{\\left(ρ{\\left(t \\right)} \\right)} - g m_{iw} r_{2}^{2} \\sin{\\left(ρ{\\left(t \\right)} \\right)} + g m_{m} r_{1} r_{2} \\sin{\\left(ρ{\\left(t \\right)} \\right)} - g m_{m} r_{2}^{2} \\sin{\\left(ρ{\\left(t \\right)} \\right)} - l_{iwm} m_{m} r_{1} r_{2} \\sin{\\left(θ{\\left(t \\right)} + ρ{\\left(t \\right)} \\right)} \\left(\\frac{d}{d t} θ{\\left(t \\right)}\\right)^{2} + l_{iwm} m_{m} r_{1} r_{2} \\cos{\\left(θ{\\left(t \\right)} + ρ{\\left(t \\right)} \\right)} \\frac{d^{2}}{d t^{2}} θ{\\left(t \\right)} + l_{iwm} m_{m} r_{2}^{2} \\sin{\\left(θ{\\left(t \\right)} + ρ{\\left(t \\right)} \\right)} \\left(\\frac{d}{d t} θ{\\left(t \\right)}\\right)^{2} - l_{iwm} m_{m} r_{2}^{2} \\cos{\\left(θ{\\left(t \\right)} + ρ{\\left(t \\right)} \\right)} \\frac{d^{2}}{d t^{2}} θ{\\left(t \\right)} - l_{iwm} m_{m} r_{2} r_{3} \\sin{\\left(θ{\\left(t \\right)} \\right)} \\left(\\frac{d}{d t} θ{\\left(t \\right)}\\right)^{2} + l_{iwm} m_{m} r_{2} r_{3} \\cos{\\left(θ{\\left(t \\right)} \\right)} \\frac{d^{2}}{d t^{2}} θ{\\left(t \\right)} + m_{iw} r_{1}^{2} r_{3} \\cos{\\left(ρ{\\left(t \\right)} \\right)} \\frac{d^{2}}{d t^{2}} φ{\\left(t \\right)} + m_{iw} r_{1} r_{2} r_{3} \\sin{\\left(ρ{\\left(t \\right)} \\right)} \\left(\\frac{d}{d t} ρ{\\left(t \\right)}\\right)^{2} - m_{iw} r_{1} r_{2} r_{3} \\cos{\\left(ρ{\\left(t \\right)} \\right)} \\frac{d^{2}}{d t^{2}} φ{\\left(t \\right)} + m_{iw} r_{1} r_{2} \\sin{\\left(ρ{\\left(t \\right)} \\right)} \\frac{d^{2}}{d t^{2}} y{\\left(t \\right)} + m_{iw} r_{1} r_{3}^{2} \\frac{d^{2}}{d t^{2}} φ{\\left(t \\right)} - m_{iw} r_{2}^{2} r_{3} \\sin{\\left(ρ{\\left(t \\right)} \\right)} \\left(\\frac{d}{d t} ρ{\\left(t \\right)}\\right)^{2} - m_{iw} r_{2}^{2} \\sin{\\left(ρ{\\left(t \\right)} \\right)} \\frac{d^{2}}{d t^{2}} y{\\left(t \\right)} + m_{m} r_{1}^{2} r_{3} \\cos{\\left(ρ{\\left(t \\right)} \\right)} \\frac{d^{2}}{d t^{2}} φ{\\left(t \\right)} + m_{m} r_{1} r_{2} r_{3} \\sin{\\left(ρ{\\left(t \\right)} \\right)} \\left(\\frac{d}{d t} ρ{\\left(t \\right)}\\right)^{2} - m_{m} r_{1} r_{2} r_{3} \\cos{\\left(ρ{\\left(t \\right)} \\right)} \\frac{d^{2}}{d t^{2}} φ{\\left(t \\right)} + m_{m} r_{1} r_{2} \\sin{\\left(ρ{\\left(t \\right)} \\right)} \\frac{d^{2}}{d t^{2}} y{\\left(t \\right)} + m_{m} r_{1} r_{3}^{2} \\frac{d^{2}}{d t^{2}} φ{\\left(t \\right)} - m_{m} r_{2}^{2} r_{3} \\sin{\\left(ρ{\\left(t \\right)} \\right)} \\left(\\frac{d}{d t} ρ{\\left(t \\right)}\\right)^{2} - m_{m} r_{2}^{2} \\sin{\\left(ρ{\\left(t \\right)} \\right)} \\frac{d^{2}}{d t^{2}} y{\\left(t \\right)} + m_{ow} r_{1} r_{3}^{2} \\frac{d^{2}}{d t^{2}} φ{\\left(t \\right)}}{r_{2} \\left(m_{iw} r_{1}^{2} - 2.0 m_{iw} r_{1} r_{2} + 2.0 m_{iw} r_{1} r_{3} \\cos{\\left(ρ{\\left(t \\right)} \\right)} + m_{iw} r_{2}^{2} - 2.0 m_{iw} r_{2} r_{3} \\cos{\\left(ρ{\\left(t \\right)} \\right)} + m_{iw} r_{3}^{2} + m_{m} r_{1}^{2} - 2.0 m_{m} r_{1} r_{2} + 2.0 m_{m} r_{1} r_{3} \\cos{\\left(ρ{\\left(t \\right)} \\right)} + m_{m} r_{2}^{2} - 2.0 m_{m} r_{2} r_{3} \\cos{\\left(ρ{\\left(t \\right)} \\right)} + m_{m} r_{3}^{2} + m_{ow} r_{3}^{2}\\right)}$"
      ],
      "text/plain": [
       "(-d_iw*r_2*Derivative(ρ(t), t) + d_ow*r_1*r_3**2*Derivative(φ(t), t) - d_ow*r_2*r_3**2*Derivative(ρ(t), t) + g*m_iw*r_1*r_2*sin(ρ(t)) - g*m_iw*r_2**2*sin(ρ(t)) + g*m_m*r_1*r_2*sin(ρ(t)) - g*m_m*r_2**2*sin(ρ(t)) - l_iwm*m_m*r_1*r_2*sin(θ(t) + ρ(t))*Derivative(θ(t), t)**2 + l_iwm*m_m*r_1*r_2*cos(θ(t) + ρ(t))*Derivative(θ(t), (t, 2)) + l_iwm*m_m*r_2**2*sin(θ(t) + ρ(t))*Derivative(θ(t), t)**2 - l_iwm*m_m*r_2**2*cos(θ(t) + ρ(t))*Derivative(θ(t), (t, 2)) - l_iwm*m_m*r_2*r_3*sin(θ(t))*Derivative(θ(t), t)**2 + l_iwm*m_m*r_2*r_3*cos(θ(t))*Derivative(θ(t), (t, 2)) + m_iw*r_1**2*r_3*cos(ρ(t))*Derivative(φ(t), (t, 2)) + m_iw*r_1*r_2*r_3*sin(ρ(t))*Derivative(ρ(t), t)**2 - m_iw*r_1*r_2*r_3*cos(ρ(t))*Derivative(φ(t), (t, 2)) + m_iw*r_1*r_2*sin(ρ(t))*Derivative(y(t), (t, 2)) + m_iw*r_1*r_3**2*Derivative(φ(t), (t, 2)) - m_iw*r_2**2*r_3*sin(ρ(t))*Derivative(ρ(t), t)**2 - m_iw*r_2**2*sin(ρ(t))*Derivative(y(t), (t, 2)) + m_m*r_1**2*r_3*cos(ρ(t))*Derivative(φ(t), (t, 2)) + m_m*r_1*r_2*r_3*sin(ρ(t))*Derivative(ρ(t), t)**2 - m_m*r_1*r_2*r_3*cos(ρ(t))*Derivative(φ(t), (t, 2)) + m_m*r_1*r_2*sin(ρ(t))*Derivative(y(t), (t, 2)) + m_m*r_1*r_3**2*Derivative(φ(t), (t, 2)) - m_m*r_2**2*r_3*sin(ρ(t))*Derivative(ρ(t), t)**2 - m_m*r_2**2*sin(ρ(t))*Derivative(y(t), (t, 2)) + m_ow*r_1*r_3**2*Derivative(φ(t), (t, 2)))/(r_2*(m_iw*r_1**2 - 2.0*m_iw*r_1*r_2 + 2.0*m_iw*r_1*r_3*cos(ρ(t)) + m_iw*r_2**2 - 2.0*m_iw*r_2*r_3*cos(ρ(t)) + m_iw*r_3**2 + m_m*r_1**2 - 2.0*m_m*r_1*r_2 + 2.0*m_m*r_1*r_3*cos(ρ(t)) + m_m*r_2**2 - 2.0*m_m*r_2*r_3*cos(ρ(t)) + m_m*r_3**2 + m_ow*r_3**2))"
      ]
     },
     "execution_count": 11,
     "metadata": {},
     "output_type": "execute_result"
    }
   ],
   "source": [
    "f_dρ"
   ]
  },
  {
   "cell_type": "code",
   "execution_count": 12,
   "metadata": {},
   "outputs": [
    {
     "data": {
      "text/latex": [
       "$\\displaystyle \\frac{2.0 \\left(- d_{iwr} r_{2}^{2} \\frac{d}{d t} φ{\\left(t \\right)} - d_{ow} r_{1}^{2} r_{3}^{2} \\frac{d}{d t} φ{\\left(t \\right)} + d_{ow} r_{1} r_{2} r_{3}^{2} \\frac{d}{d t} ρ{\\left(t \\right)} - d_{owr} r_{1}^{2} \\frac{d}{d t} φ{\\left(t \\right)} + l_{iwm} m_{m} r_{1} r_{2} r_{3} \\sin{\\left(θ{\\left(t \\right)} \\right)} \\left(\\frac{d}{d t} θ{\\left(t \\right)}\\right)^{2} - l_{iwm} m_{m} r_{1} r_{2} r_{3} \\cos{\\left(θ{\\left(t \\right)} \\right)} \\frac{d^{2}}{d t^{2}} θ{\\left(t \\right)} - m_{iw} r_{1}^{2} r_{2} r_{3} \\sin{\\left(ρ{\\left(t \\right)} \\right)} \\left(\\frac{d}{d t} ρ{\\left(t \\right)}\\right)^{2} + m_{iw} r_{1}^{2} r_{2} r_{3} \\cos{\\left(ρ{\\left(t \\right)} \\right)} \\frac{d^{2}}{d t^{2}} ρ{\\left(t \\right)} + m_{iw} r_{1} r_{2}^{2} r_{3} \\sin{\\left(ρ{\\left(t \\right)} \\right)} \\left(\\frac{d}{d t} ρ{\\left(t \\right)}\\right)^{2} - m_{iw} r_{1} r_{2}^{2} r_{3} \\cos{\\left(ρ{\\left(t \\right)} \\right)} \\frac{d^{2}}{d t^{2}} ρ{\\left(t \\right)} + m_{iw} r_{1} r_{2} r_{3}^{2} \\frac{d^{2}}{d t^{2}} ρ{\\left(t \\right)} - m_{m} r_{1}^{2} r_{2} r_{3} \\sin{\\left(ρ{\\left(t \\right)} \\right)} \\left(\\frac{d}{d t} ρ{\\left(t \\right)}\\right)^{2} + m_{m} r_{1}^{2} r_{2} r_{3} \\cos{\\left(ρ{\\left(t \\right)} \\right)} \\frac{d^{2}}{d t^{2}} ρ{\\left(t \\right)} + m_{m} r_{1} r_{2}^{2} r_{3} \\sin{\\left(ρ{\\left(t \\right)} \\right)} \\left(\\frac{d}{d t} ρ{\\left(t \\right)}\\right)^{2} - m_{m} r_{1} r_{2}^{2} r_{3} \\cos{\\left(ρ{\\left(t \\right)} \\right)} \\frac{d^{2}}{d t^{2}} ρ{\\left(t \\right)} + m_{m} r_{1} r_{2} r_{3}^{2} \\frac{d^{2}}{d t^{2}} ρ{\\left(t \\right)} + m_{ow} r_{1} r_{2} r_{3}^{2} \\frac{d^{2}}{d t^{2}} ρ{\\left(t \\right)}\\right)}{r_{1}^{2} \\left(2.0 m_{iw} r_{3}^{2} + m_{iwr} r_{2}^{2} + 2.0 m_{m} r_{3}^{2} + 2.0 m_{ow} r_{3}^{2} + m_{owr} r_{2}^{2} + m_{owr} r_{3}^{2}\\right)}$"
      ],
      "text/plain": [
       "2.0*(-d_iwr*r_2**2*Derivative(φ(t), t) - d_ow*r_1**2*r_3**2*Derivative(φ(t), t) + d_ow*r_1*r_2*r_3**2*Derivative(ρ(t), t) - d_owr*r_1**2*Derivative(φ(t), t) + l_iwm*m_m*r_1*r_2*r_3*sin(θ(t))*Derivative(θ(t), t)**2 - l_iwm*m_m*r_1*r_2*r_3*cos(θ(t))*Derivative(θ(t), (t, 2)) - m_iw*r_1**2*r_2*r_3*sin(ρ(t))*Derivative(ρ(t), t)**2 + m_iw*r_1**2*r_2*r_3*cos(ρ(t))*Derivative(ρ(t), (t, 2)) + m_iw*r_1*r_2**2*r_3*sin(ρ(t))*Derivative(ρ(t), t)**2 - m_iw*r_1*r_2**2*r_3*cos(ρ(t))*Derivative(ρ(t), (t, 2)) + m_iw*r_1*r_2*r_3**2*Derivative(ρ(t), (t, 2)) - m_m*r_1**2*r_2*r_3*sin(ρ(t))*Derivative(ρ(t), t)**2 + m_m*r_1**2*r_2*r_3*cos(ρ(t))*Derivative(ρ(t), (t, 2)) + m_m*r_1*r_2**2*r_3*sin(ρ(t))*Derivative(ρ(t), t)**2 - m_m*r_1*r_2**2*r_3*cos(ρ(t))*Derivative(ρ(t), (t, 2)) + m_m*r_1*r_2*r_3**2*Derivative(ρ(t), (t, 2)) + m_ow*r_1*r_2*r_3**2*Derivative(ρ(t), (t, 2)))/(r_1**2*(2.0*m_iw*r_3**2 + m_iwr*r_2**2 + 2.0*m_m*r_3**2 + 2.0*m_ow*r_3**2 + m_owr*r_2**2 + m_owr*r_3**2))"
      ]
     },
     "execution_count": 12,
     "metadata": {},
     "output_type": "execute_result"
    }
   ],
   "source": [
    "f_dφ"
   ]
  },
  {
   "cell_type": "code",
   "execution_count": 13,
   "metadata": {},
   "outputs": [
    {
     "data": {
      "text/plain": [
       "[θ(t),\n",
       " Derivative(θ(t), t),\n",
       " ρ(t),\n",
       " Derivative(ρ(t), t),\n",
       " φ(t),\n",
       " Derivative(φ(t), t)]"
      ]
     },
     "execution_count": 13,
     "metadata": {},
     "output_type": "execute_result"
    }
   ],
   "source": [
    "state_x"
   ]
  },
  {
   "cell_type": "code",
   "execution_count": 14,
   "metadata": {},
   "outputs": [],
   "source": [
    "eqs = [f_θ, f_dθ, f_ρ, f_dρ, f_φ, f_dφ]"
   ]
  },
  {
   "cell_type": "markdown",
   "metadata": {},
   "source": [
    "### Create A Matrix"
   ]
  },
  {
   "cell_type": "code",
   "execution_count": 15,
   "metadata": {},
   "outputs": [],
   "source": [
    "def createMatrix(eqs: list, states: list) -> sympy.Matrix:\n",
    "    if (len(eqs) != len(states)):\n",
    "        print(\"eqs and states must have the same size\")\n",
    "    A = sympy.zeros(len(eqs), len(eqs))\n",
    "    for i, eq in enumerate(eqs, start=0):\n",
    "        for j, state in enumerate(states, start=0):\n",
    "            A[i, j] = sympy.diff(eq, state)\n",
    "    return A"
   ]
  },
  {
   "cell_type": "code",
   "execution_count": 16,
   "metadata": {},
   "outputs": [
    {
     "data": {
      "text/latex": [
       "$\\displaystyle \\left[\\begin{matrix}0 & 1 & 0 & 0 & 0 & 0\\\\\\frac{g \\cos{\\left(θ{\\left(t \\right)} \\right)}}{l_{iwm}} - \\frac{r_{1} \\sin{\\left(θ{\\left(t \\right)} + ρ{\\left(t \\right)} \\right)} \\frac{d^{2}}{d t^{2}} ρ{\\left(t \\right)}}{l_{iwm}} - \\frac{r_{1} \\cos{\\left(θ{\\left(t \\right)} + ρ{\\left(t \\right)} \\right)} \\left(\\frac{d}{d t} ρ{\\left(t \\right)}\\right)^{2}}{l_{iwm}} + \\frac{r_{1} r_{3} \\sin{\\left(θ{\\left(t \\right)} \\right)} \\frac{d^{2}}{d t^{2}} φ{\\left(t \\right)}}{l_{iwm} r_{2}} + \\frac{r_{2} \\sin{\\left(θ{\\left(t \\right)} + ρ{\\left(t \\right)} \\right)} \\frac{d^{2}}{d t^{2}} ρ{\\left(t \\right)}}{l_{iwm}} + \\frac{r_{2} \\cos{\\left(θ{\\left(t \\right)} + ρ{\\left(t \\right)} \\right)} \\left(\\frac{d}{d t} ρ{\\left(t \\right)}\\right)^{2}}{l_{iwm}} - \\frac{r_{3} \\sin{\\left(θ{\\left(t \\right)} \\right)} \\frac{d^{2}}{d t^{2}} ρ{\\left(t \\right)}}{l_{iwm}} + \\frac{\\cos{\\left(θ{\\left(t \\right)} \\right)} \\frac{d^{2}}{d t^{2}} y{\\left(t \\right)}}{l_{iwm}} & - \\frac{d_{m}}{l_{iwm}^{2} m_{m}} & - \\frac{r_{1} \\sin{\\left(θ{\\left(t \\right)} + ρ{\\left(t \\right)} \\right)} \\frac{d^{2}}{d t^{2}} ρ{\\left(t \\right)}}{l_{iwm}} - \\frac{r_{1} \\cos{\\left(θ{\\left(t \\right)} + ρ{\\left(t \\right)} \\right)} \\left(\\frac{d}{d t} ρ{\\left(t \\right)}\\right)^{2}}{l_{iwm}} + \\frac{r_{2} \\sin{\\left(θ{\\left(t \\right)} + ρ{\\left(t \\right)} \\right)} \\frac{d^{2}}{d t^{2}} ρ{\\left(t \\right)}}{l_{iwm}} + \\frac{r_{2} \\cos{\\left(θ{\\left(t \\right)} + ρ{\\left(t \\right)} \\right)} \\left(\\frac{d}{d t} ρ{\\left(t \\right)}\\right)^{2}}{l_{iwm}} & - \\frac{2 r_{1} \\sin{\\left(θ{\\left(t \\right)} + ρ{\\left(t \\right)} \\right)} \\frac{d}{d t} ρ{\\left(t \\right)}}{l_{iwm}} + \\frac{2 r_{2} \\sin{\\left(θ{\\left(t \\right)} + ρ{\\left(t \\right)} \\right)} \\frac{d}{d t} ρ{\\left(t \\right)}}{l_{iwm}} & 0 & 0\\\\0 & 0 & 0 & 1 & 0 & 0\\\\\\frac{- l_{iwm} m_{m} r_{1} r_{2} \\sin{\\left(θ{\\left(t \\right)} + ρ{\\left(t \\right)} \\right)} \\frac{d^{2}}{d t^{2}} θ{\\left(t \\right)} - l_{iwm} m_{m} r_{1} r_{2} \\cos{\\left(θ{\\left(t \\right)} + ρ{\\left(t \\right)} \\right)} \\left(\\frac{d}{d t} θ{\\left(t \\right)}\\right)^{2} + l_{iwm} m_{m} r_{2}^{2} \\sin{\\left(θ{\\left(t \\right)} + ρ{\\left(t \\right)} \\right)} \\frac{d^{2}}{d t^{2}} θ{\\left(t \\right)} + l_{iwm} m_{m} r_{2}^{2} \\cos{\\left(θ{\\left(t \\right)} + ρ{\\left(t \\right)} \\right)} \\left(\\frac{d}{d t} θ{\\left(t \\right)}\\right)^{2} - l_{iwm} m_{m} r_{2} r_{3} \\sin{\\left(θ{\\left(t \\right)} \\right)} \\frac{d^{2}}{d t^{2}} θ{\\left(t \\right)} - l_{iwm} m_{m} r_{2} r_{3} \\cos{\\left(θ{\\left(t \\right)} \\right)} \\left(\\frac{d}{d t} θ{\\left(t \\right)}\\right)^{2}}{r_{2} \\left(m_{iw} r_{1}^{2} - 2.0 m_{iw} r_{1} r_{2} + 2.0 m_{iw} r_{1} r_{3} \\cos{\\left(ρ{\\left(t \\right)} \\right)} + m_{iw} r_{2}^{2} - 2.0 m_{iw} r_{2} r_{3} \\cos{\\left(ρ{\\left(t \\right)} \\right)} + m_{iw} r_{3}^{2} + m_{m} r_{1}^{2} - 2.0 m_{m} r_{1} r_{2} + 2.0 m_{m} r_{1} r_{3} \\cos{\\left(ρ{\\left(t \\right)} \\right)} + m_{m} r_{2}^{2} - 2.0 m_{m} r_{2} r_{3} \\cos{\\left(ρ{\\left(t \\right)} \\right)} + m_{m} r_{3}^{2} + m_{ow} r_{3}^{2}\\right)} & \\frac{- 2 l_{iwm} m_{m} r_{1} r_{2} \\sin{\\left(θ{\\left(t \\right)} + ρ{\\left(t \\right)} \\right)} \\frac{d}{d t} θ{\\left(t \\right)} + 2 l_{iwm} m_{m} r_{2}^{2} \\sin{\\left(θ{\\left(t \\right)} + ρ{\\left(t \\right)} \\right)} \\frac{d}{d t} θ{\\left(t \\right)} - 2 l_{iwm} m_{m} r_{2} r_{3} \\sin{\\left(θ{\\left(t \\right)} \\right)} \\frac{d}{d t} θ{\\left(t \\right)}}{r_{2} \\left(m_{iw} r_{1}^{2} - 2.0 m_{iw} r_{1} r_{2} + 2.0 m_{iw} r_{1} r_{3} \\cos{\\left(ρ{\\left(t \\right)} \\right)} + m_{iw} r_{2}^{2} - 2.0 m_{iw} r_{2} r_{3} \\cos{\\left(ρ{\\left(t \\right)} \\right)} + m_{iw} r_{3}^{2} + m_{m} r_{1}^{2} - 2.0 m_{m} r_{1} r_{2} + 2.0 m_{m} r_{1} r_{3} \\cos{\\left(ρ{\\left(t \\right)} \\right)} + m_{m} r_{2}^{2} - 2.0 m_{m} r_{2} r_{3} \\cos{\\left(ρ{\\left(t \\right)} \\right)} + m_{m} r_{3}^{2} + m_{ow} r_{3}^{2}\\right)} & \\frac{0.25 \\left(2.0 m_{iw} r_{1} r_{3} \\sin{\\left(ρ{\\left(t \\right)} \\right)} - 2.0 m_{iw} r_{2} r_{3} \\sin{\\left(ρ{\\left(t \\right)} \\right)} + 2.0 m_{m} r_{1} r_{3} \\sin{\\left(ρ{\\left(t \\right)} \\right)} - 2.0 m_{m} r_{2} r_{3} \\sin{\\left(ρ{\\left(t \\right)} \\right)}\\right) \\left(- d_{iw} r_{2} \\frac{d}{d t} ρ{\\left(t \\right)} + d_{ow} r_{1} r_{3}^{2} \\frac{d}{d t} φ{\\left(t \\right)} - d_{ow} r_{2} r_{3}^{2} \\frac{d}{d t} ρ{\\left(t \\right)} + g m_{iw} r_{1} r_{2} \\sin{\\left(ρ{\\left(t \\right)} \\right)} - g m_{iw} r_{2}^{2} \\sin{\\left(ρ{\\left(t \\right)} \\right)} + g m_{m} r_{1} r_{2} \\sin{\\left(ρ{\\left(t \\right)} \\right)} - g m_{m} r_{2}^{2} \\sin{\\left(ρ{\\left(t \\right)} \\right)} - l_{iwm} m_{m} r_{1} r_{2} \\sin{\\left(θ{\\left(t \\right)} + ρ{\\left(t \\right)} \\right)} \\left(\\frac{d}{d t} θ{\\left(t \\right)}\\right)^{2} + l_{iwm} m_{m} r_{1} r_{2} \\cos{\\left(θ{\\left(t \\right)} + ρ{\\left(t \\right)} \\right)} \\frac{d^{2}}{d t^{2}} θ{\\left(t \\right)} + l_{iwm} m_{m} r_{2}^{2} \\sin{\\left(θ{\\left(t \\right)} + ρ{\\left(t \\right)} \\right)} \\left(\\frac{d}{d t} θ{\\left(t \\right)}\\right)^{2} - l_{iwm} m_{m} r_{2}^{2} \\cos{\\left(θ{\\left(t \\right)} + ρ{\\left(t \\right)} \\right)} \\frac{d^{2}}{d t^{2}} θ{\\left(t \\right)} - l_{iwm} m_{m} r_{2} r_{3} \\sin{\\left(θ{\\left(t \\right)} \\right)} \\left(\\frac{d}{d t} θ{\\left(t \\right)}\\right)^{2} + l_{iwm} m_{m} r_{2} r_{3} \\cos{\\left(θ{\\left(t \\right)} \\right)} \\frac{d^{2}}{d t^{2}} θ{\\left(t \\right)} + m_{iw} r_{1}^{2} r_{3} \\cos{\\left(ρ{\\left(t \\right)} \\right)} \\frac{d^{2}}{d t^{2}} φ{\\left(t \\right)} + m_{iw} r_{1} r_{2} r_{3} \\sin{\\left(ρ{\\left(t \\right)} \\right)} \\left(\\frac{d}{d t} ρ{\\left(t \\right)}\\right)^{2} - m_{iw} r_{1} r_{2} r_{3} \\cos{\\left(ρ{\\left(t \\right)} \\right)} \\frac{d^{2}}{d t^{2}} φ{\\left(t \\right)} + m_{iw} r_{1} r_{2} \\sin{\\left(ρ{\\left(t \\right)} \\right)} \\frac{d^{2}}{d t^{2}} y{\\left(t \\right)} + m_{iw} r_{1} r_{3}^{2} \\frac{d^{2}}{d t^{2}} φ{\\left(t \\right)} - m_{iw} r_{2}^{2} r_{3} \\sin{\\left(ρ{\\left(t \\right)} \\right)} \\left(\\frac{d}{d t} ρ{\\left(t \\right)}\\right)^{2} - m_{iw} r_{2}^{2} \\sin{\\left(ρ{\\left(t \\right)} \\right)} \\frac{d^{2}}{d t^{2}} y{\\left(t \\right)} + m_{m} r_{1}^{2} r_{3} \\cos{\\left(ρ{\\left(t \\right)} \\right)} \\frac{d^{2}}{d t^{2}} φ{\\left(t \\right)} + m_{m} r_{1} r_{2} r_{3} \\sin{\\left(ρ{\\left(t \\right)} \\right)} \\left(\\frac{d}{d t} ρ{\\left(t \\right)}\\right)^{2} - m_{m} r_{1} r_{2} r_{3} \\cos{\\left(ρ{\\left(t \\right)} \\right)} \\frac{d^{2}}{d t^{2}} φ{\\left(t \\right)} + m_{m} r_{1} r_{2} \\sin{\\left(ρ{\\left(t \\right)} \\right)} \\frac{d^{2}}{d t^{2}} y{\\left(t \\right)} + m_{m} r_{1} r_{3}^{2} \\frac{d^{2}}{d t^{2}} φ{\\left(t \\right)} - m_{m} r_{2}^{2} r_{3} \\sin{\\left(ρ{\\left(t \\right)} \\right)} \\left(\\frac{d}{d t} ρ{\\left(t \\right)}\\right)^{2} - m_{m} r_{2}^{2} \\sin{\\left(ρ{\\left(t \\right)} \\right)} \\frac{d^{2}}{d t^{2}} y{\\left(t \\right)} + m_{ow} r_{1} r_{3}^{2} \\frac{d^{2}}{d t^{2}} φ{\\left(t \\right)}\\right)}{r_{2} \\left(0.5 m_{iw} r_{1}^{2} - m_{iw} r_{1} r_{2} + m_{iw} r_{1} r_{3} \\cos{\\left(ρ{\\left(t \\right)} \\right)} + 0.5 m_{iw} r_{2}^{2} - m_{iw} r_{2} r_{3} \\cos{\\left(ρ{\\left(t \\right)} \\right)} + 0.5 m_{iw} r_{3}^{2} + 0.5 m_{m} r_{1}^{2} - m_{m} r_{1} r_{2} + m_{m} r_{1} r_{3} \\cos{\\left(ρ{\\left(t \\right)} \\right)} + 0.5 m_{m} r_{2}^{2} - m_{m} r_{2} r_{3} \\cos{\\left(ρ{\\left(t \\right)} \\right)} + 0.5 m_{m} r_{3}^{2} + 0.5 m_{ow} r_{3}^{2}\\right)^{2}} + \\frac{g m_{iw} r_{1} r_{2} \\cos{\\left(ρ{\\left(t \\right)} \\right)} - g m_{iw} r_{2}^{2} \\cos{\\left(ρ{\\left(t \\right)} \\right)} + g m_{m} r_{1} r_{2} \\cos{\\left(ρ{\\left(t \\right)} \\right)} - g m_{m} r_{2}^{2} \\cos{\\left(ρ{\\left(t \\right)} \\right)} - l_{iwm} m_{m} r_{1} r_{2} \\sin{\\left(θ{\\left(t \\right)} + ρ{\\left(t \\right)} \\right)} \\frac{d^{2}}{d t^{2}} θ{\\left(t \\right)} - l_{iwm} m_{m} r_{1} r_{2} \\cos{\\left(θ{\\left(t \\right)} + ρ{\\left(t \\right)} \\right)} \\left(\\frac{d}{d t} θ{\\left(t \\right)}\\right)^{2} + l_{iwm} m_{m} r_{2}^{2} \\sin{\\left(θ{\\left(t \\right)} + ρ{\\left(t \\right)} \\right)} \\frac{d^{2}}{d t^{2}} θ{\\left(t \\right)} + l_{iwm} m_{m} r_{2}^{2} \\cos{\\left(θ{\\left(t \\right)} + ρ{\\left(t \\right)} \\right)} \\left(\\frac{d}{d t} θ{\\left(t \\right)}\\right)^{2} - m_{iw} r_{1}^{2} r_{3} \\sin{\\left(ρ{\\left(t \\right)} \\right)} \\frac{d^{2}}{d t^{2}} φ{\\left(t \\right)} + m_{iw} r_{1} r_{2} r_{3} \\sin{\\left(ρ{\\left(t \\right)} \\right)} \\frac{d^{2}}{d t^{2}} φ{\\left(t \\right)} + m_{iw} r_{1} r_{2} r_{3} \\cos{\\left(ρ{\\left(t \\right)} \\right)} \\left(\\frac{d}{d t} ρ{\\left(t \\right)}\\right)^{2} + m_{iw} r_{1} r_{2} \\cos{\\left(ρ{\\left(t \\right)} \\right)} \\frac{d^{2}}{d t^{2}} y{\\left(t \\right)} - m_{iw} r_{2}^{2} r_{3} \\cos{\\left(ρ{\\left(t \\right)} \\right)} \\left(\\frac{d}{d t} ρ{\\left(t \\right)}\\right)^{2} - m_{iw} r_{2}^{2} \\cos{\\left(ρ{\\left(t \\right)} \\right)} \\frac{d^{2}}{d t^{2}} y{\\left(t \\right)} - m_{m} r_{1}^{2} r_{3} \\sin{\\left(ρ{\\left(t \\right)} \\right)} \\frac{d^{2}}{d t^{2}} φ{\\left(t \\right)} + m_{m} r_{1} r_{2} r_{3} \\sin{\\left(ρ{\\left(t \\right)} \\right)} \\frac{d^{2}}{d t^{2}} φ{\\left(t \\right)} + m_{m} r_{1} r_{2} r_{3} \\cos{\\left(ρ{\\left(t \\right)} \\right)} \\left(\\frac{d}{d t} ρ{\\left(t \\right)}\\right)^{2} + m_{m} r_{1} r_{2} \\cos{\\left(ρ{\\left(t \\right)} \\right)} \\frac{d^{2}}{d t^{2}} y{\\left(t \\right)} - m_{m} r_{2}^{2} r_{3} \\cos{\\left(ρ{\\left(t \\right)} \\right)} \\left(\\frac{d}{d t} ρ{\\left(t \\right)}\\right)^{2} - m_{m} r_{2}^{2} \\cos{\\left(ρ{\\left(t \\right)} \\right)} \\frac{d^{2}}{d t^{2}} y{\\left(t \\right)}}{r_{2} \\left(m_{iw} r_{1}^{2} - 2.0 m_{iw} r_{1} r_{2} + 2.0 m_{iw} r_{1} r_{3} \\cos{\\left(ρ{\\left(t \\right)} \\right)} + m_{iw} r_{2}^{2} - 2.0 m_{iw} r_{2} r_{3} \\cos{\\left(ρ{\\left(t \\right)} \\right)} + m_{iw} r_{3}^{2} + m_{m} r_{1}^{2} - 2.0 m_{m} r_{1} r_{2} + 2.0 m_{m} r_{1} r_{3} \\cos{\\left(ρ{\\left(t \\right)} \\right)} + m_{m} r_{2}^{2} - 2.0 m_{m} r_{2} r_{3} \\cos{\\left(ρ{\\left(t \\right)} \\right)} + m_{m} r_{3}^{2} + m_{ow} r_{3}^{2}\\right)} & \\frac{- d_{iw} r_{2} - d_{ow} r_{2} r_{3}^{2} + 2 m_{iw} r_{1} r_{2} r_{3} \\sin{\\left(ρ{\\left(t \\right)} \\right)} \\frac{d}{d t} ρ{\\left(t \\right)} - 2 m_{iw} r_{2}^{2} r_{3} \\sin{\\left(ρ{\\left(t \\right)} \\right)} \\frac{d}{d t} ρ{\\left(t \\right)} + 2 m_{m} r_{1} r_{2} r_{3} \\sin{\\left(ρ{\\left(t \\right)} \\right)} \\frac{d}{d t} ρ{\\left(t \\right)} - 2 m_{m} r_{2}^{2} r_{3} \\sin{\\left(ρ{\\left(t \\right)} \\right)} \\frac{d}{d t} ρ{\\left(t \\right)}}{r_{2} \\left(m_{iw} r_{1}^{2} - 2.0 m_{iw} r_{1} r_{2} + 2.0 m_{iw} r_{1} r_{3} \\cos{\\left(ρ{\\left(t \\right)} \\right)} + m_{iw} r_{2}^{2} - 2.0 m_{iw} r_{2} r_{3} \\cos{\\left(ρ{\\left(t \\right)} \\right)} + m_{iw} r_{3}^{2} + m_{m} r_{1}^{2} - 2.0 m_{m} r_{1} r_{2} + 2.0 m_{m} r_{1} r_{3} \\cos{\\left(ρ{\\left(t \\right)} \\right)} + m_{m} r_{2}^{2} - 2.0 m_{m} r_{2} r_{3} \\cos{\\left(ρ{\\left(t \\right)} \\right)} + m_{m} r_{3}^{2} + m_{ow} r_{3}^{2}\\right)} & 0 & \\frac{d_{ow} r_{1} r_{3}^{2}}{r_{2} \\left(m_{iw} r_{1}^{2} - 2.0 m_{iw} r_{1} r_{2} + 2.0 m_{iw} r_{1} r_{3} \\cos{\\left(ρ{\\left(t \\right)} \\right)} + m_{iw} r_{2}^{2} - 2.0 m_{iw} r_{2} r_{3} \\cos{\\left(ρ{\\left(t \\right)} \\right)} + m_{iw} r_{3}^{2} + m_{m} r_{1}^{2} - 2.0 m_{m} r_{1} r_{2} + 2.0 m_{m} r_{1} r_{3} \\cos{\\left(ρ{\\left(t \\right)} \\right)} + m_{m} r_{2}^{2} - 2.0 m_{m} r_{2} r_{3} \\cos{\\left(ρ{\\left(t \\right)} \\right)} + m_{m} r_{3}^{2} + m_{ow} r_{3}^{2}\\right)}\\\\0 & 0 & 0 & 0 & 0 & 1\\\\\\frac{2.0 \\left(l_{iwm} m_{m} r_{1} r_{2} r_{3} \\sin{\\left(θ{\\left(t \\right)} \\right)} \\frac{d^{2}}{d t^{2}} θ{\\left(t \\right)} + l_{iwm} m_{m} r_{1} r_{2} r_{3} \\cos{\\left(θ{\\left(t \\right)} \\right)} \\left(\\frac{d}{d t} θ{\\left(t \\right)}\\right)^{2}\\right)}{r_{1}^{2} \\left(2.0 m_{iw} r_{3}^{2} + m_{iwr} r_{2}^{2} + 2.0 m_{m} r_{3}^{2} + 2.0 m_{ow} r_{3}^{2} + m_{owr} r_{2}^{2} + m_{owr} r_{3}^{2}\\right)} & \\frac{4.0 l_{iwm} m_{m} r_{2} r_{3} \\sin{\\left(θ{\\left(t \\right)} \\right)} \\frac{d}{d t} θ{\\left(t \\right)}}{r_{1} \\left(2.0 m_{iw} r_{3}^{2} + m_{iwr} r_{2}^{2} + 2.0 m_{m} r_{3}^{2} + 2.0 m_{ow} r_{3}^{2} + m_{owr} r_{2}^{2} + m_{owr} r_{3}^{2}\\right)} & \\frac{2.0 \\left(- m_{iw} r_{1}^{2} r_{2} r_{3} \\sin{\\left(ρ{\\left(t \\right)} \\right)} \\frac{d^{2}}{d t^{2}} ρ{\\left(t \\right)} - m_{iw} r_{1}^{2} r_{2} r_{3} \\cos{\\left(ρ{\\left(t \\right)} \\right)} \\left(\\frac{d}{d t} ρ{\\left(t \\right)}\\right)^{2} + m_{iw} r_{1} r_{2}^{2} r_{3} \\sin{\\left(ρ{\\left(t \\right)} \\right)} \\frac{d^{2}}{d t^{2}} ρ{\\left(t \\right)} + m_{iw} r_{1} r_{2}^{2} r_{3} \\cos{\\left(ρ{\\left(t \\right)} \\right)} \\left(\\frac{d}{d t} ρ{\\left(t \\right)}\\right)^{2} - m_{m} r_{1}^{2} r_{2} r_{3} \\sin{\\left(ρ{\\left(t \\right)} \\right)} \\frac{d^{2}}{d t^{2}} ρ{\\left(t \\right)} - m_{m} r_{1}^{2} r_{2} r_{3} \\cos{\\left(ρ{\\left(t \\right)} \\right)} \\left(\\frac{d}{d t} ρ{\\left(t \\right)}\\right)^{2} + m_{m} r_{1} r_{2}^{2} r_{3} \\sin{\\left(ρ{\\left(t \\right)} \\right)} \\frac{d^{2}}{d t^{2}} ρ{\\left(t \\right)} + m_{m} r_{1} r_{2}^{2} r_{3} \\cos{\\left(ρ{\\left(t \\right)} \\right)} \\left(\\frac{d}{d t} ρ{\\left(t \\right)}\\right)^{2}\\right)}{r_{1}^{2} \\left(2.0 m_{iw} r_{3}^{2} + m_{iwr} r_{2}^{2} + 2.0 m_{m} r_{3}^{2} + 2.0 m_{ow} r_{3}^{2} + m_{owr} r_{2}^{2} + m_{owr} r_{3}^{2}\\right)} & \\frac{2.0 \\left(d_{ow} r_{1} r_{2} r_{3}^{2} - 2 m_{iw} r_{1}^{2} r_{2} r_{3} \\sin{\\left(ρ{\\left(t \\right)} \\right)} \\frac{d}{d t} ρ{\\left(t \\right)} + 2 m_{iw} r_{1} r_{2}^{2} r_{3} \\sin{\\left(ρ{\\left(t \\right)} \\right)} \\frac{d}{d t} ρ{\\left(t \\right)} - 2 m_{m} r_{1}^{2} r_{2} r_{3} \\sin{\\left(ρ{\\left(t \\right)} \\right)} \\frac{d}{d t} ρ{\\left(t \\right)} + 2 m_{m} r_{1} r_{2}^{2} r_{3} \\sin{\\left(ρ{\\left(t \\right)} \\right)} \\frac{d}{d t} ρ{\\left(t \\right)}\\right)}{r_{1}^{2} \\left(2.0 m_{iw} r_{3}^{2} + m_{iwr} r_{2}^{2} + 2.0 m_{m} r_{3}^{2} + 2.0 m_{ow} r_{3}^{2} + m_{owr} r_{2}^{2} + m_{owr} r_{3}^{2}\\right)} & 0 & \\frac{2.0 \\left(- d_{iwr} r_{2}^{2} - d_{ow} r_{1}^{2} r_{3}^{2} - d_{owr} r_{1}^{2}\\right)}{r_{1}^{2} \\left(2.0 m_{iw} r_{3}^{2} + m_{iwr} r_{2}^{2} + 2.0 m_{m} r_{3}^{2} + 2.0 m_{ow} r_{3}^{2} + m_{owr} r_{2}^{2} + m_{owr} r_{3}^{2}\\right)}\\end{matrix}\\right]$"
      ],
      "text/plain": [
       "Matrix([\n",
       "[                                                                                                                                                                                                                                                                                                                                                                                                                                                                                                                                                                                                                         0,                                                                                                                                                                                                                                                                                                                                                                                                                                     1,                                                                                                                                                                                                                                                                                                                                                                                                                                                                                                                                                                                                                                                                                                                                                                                                                                                                                                                                                                                                                                                                                                                                                                                                                                                                                                                                                                                                                                                                                                                                                                                                                                                                                                                                                                                                                                                                                                                                                                                                                                                                                                                                                                                                                                                                                                                                                                                                                                                                                                                                                                                                                                                                                                                                                                                                                                                                                                                                                                                                           0,                                                                                                                                                                                                                                                                                                                                                                                                                                                                                                 0, 0,                                                                                                                                                                                                                                                                           0],\n",
       "[                                                                                                                                                                                                                                  g*cos(θ(t))/l_iwm - r_1*sin(θ(t) + ρ(t))*Derivative(ρ(t), (t, 2))/l_iwm - r_1*cos(θ(t) + ρ(t))*Derivative(ρ(t), t)**2/l_iwm + r_1*r_3*sin(θ(t))*Derivative(φ(t), (t, 2))/(l_iwm*r_2) + r_2*sin(θ(t) + ρ(t))*Derivative(ρ(t), (t, 2))/l_iwm + r_2*cos(θ(t) + ρ(t))*Derivative(ρ(t), t)**2/l_iwm - r_3*sin(θ(t))*Derivative(ρ(t), (t, 2))/l_iwm + cos(θ(t))*Derivative(y(t), (t, 2))/l_iwm,                                                                                                                                                                                                                                                                                                                                                                                                                   -d_m/(l_iwm**2*m_m),                                                                                                                                                                                                                                                                                                                                                                                                                                                                                                                                                                                                                                                                                                                                                                                                                                                                                                                                                                                                                                                                                                                                                                                                                                                                                                                                                                                                                                                                                                                                                                                                                                                                                                                                                                                                                                                                                                                                                                                                                                                                                                                                                                                                                                                                                                                                                                                                                                                                                                                                                                                                                                                                                                                                                                                          -r_1*sin(θ(t) + ρ(t))*Derivative(ρ(t), (t, 2))/l_iwm - r_1*cos(θ(t) + ρ(t))*Derivative(ρ(t), t)**2/l_iwm + r_2*sin(θ(t) + ρ(t))*Derivative(ρ(t), (t, 2))/l_iwm + r_2*cos(θ(t) + ρ(t))*Derivative(ρ(t), t)**2/l_iwm,                                                                                                                                                                                                                                                                                                                                                                                              -2*r_1*sin(θ(t) + ρ(t))*Derivative(ρ(t), t)/l_iwm + 2*r_2*sin(θ(t) + ρ(t))*Derivative(ρ(t), t)/l_iwm, 0,                                                                                                                                                                                                                                                                           0],\n",
       "[                                                                                                                                                                                                                                                                                                                                                                                                                                                                                                                                                                                                                         0,                                                                                                                                                                                                                                                                                                                                                                                                                                     0,                                                                                                                                                                                                                                                                                                                                                                                                                                                                                                                                                                                                                                                                                                                                                                                                                                                                                                                                                                                                                                                                                                                                                                                                                                                                                                                                                                                                                                                                                                                                                                                                                                                                                                                                                                                                                                                                                                                                                                                                                                                                                                                                                                                                                                                                                                                                                                                                                                                                                                                                                                                                                                                                                                                                                                                                                                                                                                                                                                                                           0,                                                                                                                                                                                                                                                                                                                                                                                                                                                                                                 1, 0,                                                                                                                                                                                                                                                                           0],\n",
       "[(-l_iwm*m_m*r_1*r_2*sin(θ(t) + ρ(t))*Derivative(θ(t), (t, 2)) - l_iwm*m_m*r_1*r_2*cos(θ(t) + ρ(t))*Derivative(θ(t), t)**2 + l_iwm*m_m*r_2**2*sin(θ(t) + ρ(t))*Derivative(θ(t), (t, 2)) + l_iwm*m_m*r_2**2*cos(θ(t) + ρ(t))*Derivative(θ(t), t)**2 - l_iwm*m_m*r_2*r_3*sin(θ(t))*Derivative(θ(t), (t, 2)) - l_iwm*m_m*r_2*r_3*cos(θ(t))*Derivative(θ(t), t)**2)/(r_2*(m_iw*r_1**2 - 2.0*m_iw*r_1*r_2 + 2.0*m_iw*r_1*r_3*cos(ρ(t)) + m_iw*r_2**2 - 2.0*m_iw*r_2*r_3*cos(ρ(t)) + m_iw*r_3**2 + m_m*r_1**2 - 2.0*m_m*r_1*r_2 + 2.0*m_m*r_1*r_3*cos(ρ(t)) + m_m*r_2**2 - 2.0*m_m*r_2*r_3*cos(ρ(t)) + m_m*r_3**2 + m_ow*r_3**2)), (-2*l_iwm*m_m*r_1*r_2*sin(θ(t) + ρ(t))*Derivative(θ(t), t) + 2*l_iwm*m_m*r_2**2*sin(θ(t) + ρ(t))*Derivative(θ(t), t) - 2*l_iwm*m_m*r_2*r_3*sin(θ(t))*Derivative(θ(t), t))/(r_2*(m_iw*r_1**2 - 2.0*m_iw*r_1*r_2 + 2.0*m_iw*r_1*r_3*cos(ρ(t)) + m_iw*r_2**2 - 2.0*m_iw*r_2*r_3*cos(ρ(t)) + m_iw*r_3**2 + m_m*r_1**2 - 2.0*m_m*r_1*r_2 + 2.0*m_m*r_1*r_3*cos(ρ(t)) + m_m*r_2**2 - 2.0*m_m*r_2*r_3*cos(ρ(t)) + m_m*r_3**2 + m_ow*r_3**2)), 0.25*(2.0*m_iw*r_1*r_3*sin(ρ(t)) - 2.0*m_iw*r_2*r_3*sin(ρ(t)) + 2.0*m_m*r_1*r_3*sin(ρ(t)) - 2.0*m_m*r_2*r_3*sin(ρ(t)))*(-d_iw*r_2*Derivative(ρ(t), t) + d_ow*r_1*r_3**2*Derivative(φ(t), t) - d_ow*r_2*r_3**2*Derivative(ρ(t), t) + g*m_iw*r_1*r_2*sin(ρ(t)) - g*m_iw*r_2**2*sin(ρ(t)) + g*m_m*r_1*r_2*sin(ρ(t)) - g*m_m*r_2**2*sin(ρ(t)) - l_iwm*m_m*r_1*r_2*sin(θ(t) + ρ(t))*Derivative(θ(t), t)**2 + l_iwm*m_m*r_1*r_2*cos(θ(t) + ρ(t))*Derivative(θ(t), (t, 2)) + l_iwm*m_m*r_2**2*sin(θ(t) + ρ(t))*Derivative(θ(t), t)**2 - l_iwm*m_m*r_2**2*cos(θ(t) + ρ(t))*Derivative(θ(t), (t, 2)) - l_iwm*m_m*r_2*r_3*sin(θ(t))*Derivative(θ(t), t)**2 + l_iwm*m_m*r_2*r_3*cos(θ(t))*Derivative(θ(t), (t, 2)) + m_iw*r_1**2*r_3*cos(ρ(t))*Derivative(φ(t), (t, 2)) + m_iw*r_1*r_2*r_3*sin(ρ(t))*Derivative(ρ(t), t)**2 - m_iw*r_1*r_2*r_3*cos(ρ(t))*Derivative(φ(t), (t, 2)) + m_iw*r_1*r_2*sin(ρ(t))*Derivative(y(t), (t, 2)) + m_iw*r_1*r_3**2*Derivative(φ(t), (t, 2)) - m_iw*r_2**2*r_3*sin(ρ(t))*Derivative(ρ(t), t)**2 - m_iw*r_2**2*sin(ρ(t))*Derivative(y(t), (t, 2)) + m_m*r_1**2*r_3*cos(ρ(t))*Derivative(φ(t), (t, 2)) + m_m*r_1*r_2*r_3*sin(ρ(t))*Derivative(ρ(t), t)**2 - m_m*r_1*r_2*r_3*cos(ρ(t))*Derivative(φ(t), (t, 2)) + m_m*r_1*r_2*sin(ρ(t))*Derivative(y(t), (t, 2)) + m_m*r_1*r_3**2*Derivative(φ(t), (t, 2)) - m_m*r_2**2*r_3*sin(ρ(t))*Derivative(ρ(t), t)**2 - m_m*r_2**2*sin(ρ(t))*Derivative(y(t), (t, 2)) + m_ow*r_1*r_3**2*Derivative(φ(t), (t, 2)))/(r_2*(0.5*m_iw*r_1**2 - m_iw*r_1*r_2 + m_iw*r_1*r_3*cos(ρ(t)) + 0.5*m_iw*r_2**2 - m_iw*r_2*r_3*cos(ρ(t)) + 0.5*m_iw*r_3**2 + 0.5*m_m*r_1**2 - m_m*r_1*r_2 + m_m*r_1*r_3*cos(ρ(t)) + 0.5*m_m*r_2**2 - m_m*r_2*r_3*cos(ρ(t)) + 0.5*m_m*r_3**2 + 0.5*m_ow*r_3**2)**2) + (g*m_iw*r_1*r_2*cos(ρ(t)) - g*m_iw*r_2**2*cos(ρ(t)) + g*m_m*r_1*r_2*cos(ρ(t)) - g*m_m*r_2**2*cos(ρ(t)) - l_iwm*m_m*r_1*r_2*sin(θ(t) + ρ(t))*Derivative(θ(t), (t, 2)) - l_iwm*m_m*r_1*r_2*cos(θ(t) + ρ(t))*Derivative(θ(t), t)**2 + l_iwm*m_m*r_2**2*sin(θ(t) + ρ(t))*Derivative(θ(t), (t, 2)) + l_iwm*m_m*r_2**2*cos(θ(t) + ρ(t))*Derivative(θ(t), t)**2 - m_iw*r_1**2*r_3*sin(ρ(t))*Derivative(φ(t), (t, 2)) + m_iw*r_1*r_2*r_3*sin(ρ(t))*Derivative(φ(t), (t, 2)) + m_iw*r_1*r_2*r_3*cos(ρ(t))*Derivative(ρ(t), t)**2 + m_iw*r_1*r_2*cos(ρ(t))*Derivative(y(t), (t, 2)) - m_iw*r_2**2*r_3*cos(ρ(t))*Derivative(ρ(t), t)**2 - m_iw*r_2**2*cos(ρ(t))*Derivative(y(t), (t, 2)) - m_m*r_1**2*r_3*sin(ρ(t))*Derivative(φ(t), (t, 2)) + m_m*r_1*r_2*r_3*sin(ρ(t))*Derivative(φ(t), (t, 2)) + m_m*r_1*r_2*r_3*cos(ρ(t))*Derivative(ρ(t), t)**2 + m_m*r_1*r_2*cos(ρ(t))*Derivative(y(t), (t, 2)) - m_m*r_2**2*r_3*cos(ρ(t))*Derivative(ρ(t), t)**2 - m_m*r_2**2*cos(ρ(t))*Derivative(y(t), (t, 2)))/(r_2*(m_iw*r_1**2 - 2.0*m_iw*r_1*r_2 + 2.0*m_iw*r_1*r_3*cos(ρ(t)) + m_iw*r_2**2 - 2.0*m_iw*r_2*r_3*cos(ρ(t)) + m_iw*r_3**2 + m_m*r_1**2 - 2.0*m_m*r_1*r_2 + 2.0*m_m*r_1*r_3*cos(ρ(t)) + m_m*r_2**2 - 2.0*m_m*r_2*r_3*cos(ρ(t)) + m_m*r_3**2 + m_ow*r_3**2)), (-d_iw*r_2 - d_ow*r_2*r_3**2 + 2*m_iw*r_1*r_2*r_3*sin(ρ(t))*Derivative(ρ(t), t) - 2*m_iw*r_2**2*r_3*sin(ρ(t))*Derivative(ρ(t), t) + 2*m_m*r_1*r_2*r_3*sin(ρ(t))*Derivative(ρ(t), t) - 2*m_m*r_2**2*r_3*sin(ρ(t))*Derivative(ρ(t), t))/(r_2*(m_iw*r_1**2 - 2.0*m_iw*r_1*r_2 + 2.0*m_iw*r_1*r_3*cos(ρ(t)) + m_iw*r_2**2 - 2.0*m_iw*r_2*r_3*cos(ρ(t)) + m_iw*r_3**2 + m_m*r_1**2 - 2.0*m_m*r_1*r_2 + 2.0*m_m*r_1*r_3*cos(ρ(t)) + m_m*r_2**2 - 2.0*m_m*r_2*r_3*cos(ρ(t)) + m_m*r_3**2 + m_ow*r_3**2)), 0, d_ow*r_1*r_3**2/(r_2*(m_iw*r_1**2 - 2.0*m_iw*r_1*r_2 + 2.0*m_iw*r_1*r_3*cos(ρ(t)) + m_iw*r_2**2 - 2.0*m_iw*r_2*r_3*cos(ρ(t)) + m_iw*r_3**2 + m_m*r_1**2 - 2.0*m_m*r_1*r_2 + 2.0*m_m*r_1*r_3*cos(ρ(t)) + m_m*r_2**2 - 2.0*m_m*r_2*r_3*cos(ρ(t)) + m_m*r_3**2 + m_ow*r_3**2))],\n",
       "[                                                                                                                                                                                                                                                                                                                                                                                                                                                                                                                                                                                                                         0,                                                                                                                                                                                                                                                                                                                                                                                                                                     0,                                                                                                                                                                                                                                                                                                                                                                                                                                                                                                                                                                                                                                                                                                                                                                                                                                                                                                                                                                                                                                                                                                                                                                                                                                                                                                                                                                                                                                                                                                                                                                                                                                                                                                                                                                                                                                                                                                                                                                                                                                                                                                                                                                                                                                                                                                                                                                                                                                                                                                                                                                                                                                                                                                                                                                                                                                                                                                                                                                                                           0,                                                                                                                                                                                                                                                                                                                                                                                                                                                                                                 0, 0,                                                                                                                                                                                                                                                                           1],\n",
       "[                                                                                                                                                                                                                                                                                                                                                                                        2.0*(l_iwm*m_m*r_1*r_2*r_3*sin(θ(t))*Derivative(θ(t), (t, 2)) + l_iwm*m_m*r_1*r_2*r_3*cos(θ(t))*Derivative(θ(t), t)**2)/(r_1**2*(2.0*m_iw*r_3**2 + m_iwr*r_2**2 + 2.0*m_m*r_3**2 + 2.0*m_ow*r_3**2 + m_owr*r_2**2 + m_owr*r_3**2)),                                                                                                                                                                                                                                                                           4.0*l_iwm*m_m*r_2*r_3*sin(θ(t))*Derivative(θ(t), t)/(r_1*(2.0*m_iw*r_3**2 + m_iwr*r_2**2 + 2.0*m_m*r_3**2 + 2.0*m_ow*r_3**2 + m_owr*r_2**2 + m_owr*r_3**2)),                                                                                                                                                                                                                                                                                                                                                                                                                                                                                                                                                                                                                                                                                                                                                                                                                                                                                                                                                                                                                                                                                                                                                                                                                                                                                                                                                                                                                                                                                                                                                                                                                                                                                                                                                                                                                                                                                                                                                                                                                                                                                                                                                                                                                                                                                                                                                                                                                                 2.0*(-m_iw*r_1**2*r_2*r_3*sin(ρ(t))*Derivative(ρ(t), (t, 2)) - m_iw*r_1**2*r_2*r_3*cos(ρ(t))*Derivative(ρ(t), t)**2 + m_iw*r_1*r_2**2*r_3*sin(ρ(t))*Derivative(ρ(t), (t, 2)) + m_iw*r_1*r_2**2*r_3*cos(ρ(t))*Derivative(ρ(t), t)**2 - m_m*r_1**2*r_2*r_3*sin(ρ(t))*Derivative(ρ(t), (t, 2)) - m_m*r_1**2*r_2*r_3*cos(ρ(t))*Derivative(ρ(t), t)**2 + m_m*r_1*r_2**2*r_3*sin(ρ(t))*Derivative(ρ(t), (t, 2)) + m_m*r_1*r_2**2*r_3*cos(ρ(t))*Derivative(ρ(t), t)**2)/(r_1**2*(2.0*m_iw*r_3**2 + m_iwr*r_2**2 + 2.0*m_m*r_3**2 + 2.0*m_ow*r_3**2 + m_owr*r_2**2 + m_owr*r_3**2)),                                                                                                                                        2.0*(d_ow*r_1*r_2*r_3**2 - 2*m_iw*r_1**2*r_2*r_3*sin(ρ(t))*Derivative(ρ(t), t) + 2*m_iw*r_1*r_2**2*r_3*sin(ρ(t))*Derivative(ρ(t), t) - 2*m_m*r_1**2*r_2*r_3*sin(ρ(t))*Derivative(ρ(t), t) + 2*m_m*r_1*r_2**2*r_3*sin(ρ(t))*Derivative(ρ(t), t))/(r_1**2*(2.0*m_iw*r_3**2 + m_iwr*r_2**2 + 2.0*m_m*r_3**2 + 2.0*m_ow*r_3**2 + m_owr*r_2**2 + m_owr*r_3**2)), 0,                                                                                                          2.0*(-d_iwr*r_2**2 - d_ow*r_1**2*r_3**2 - d_owr*r_1**2)/(r_1**2*(2.0*m_iw*r_3**2 + m_iwr*r_2**2 + 2.0*m_m*r_3**2 + 2.0*m_ow*r_3**2 + m_owr*r_2**2 + m_owr*r_3**2))]])"
      ]
     },
     "execution_count": 16,
     "metadata": {},
     "output_type": "execute_result"
    }
   ],
   "source": [
    "A = createMatrix(eqs, state_x)\n",
    "\n",
    "A"
   ]
  },
  {
   "cell_type": "code",
   "execution_count": 17,
   "metadata": {},
   "outputs": [],
   "source": [
    "import math\n",
    "\n",
    "def linearice(A, x, ddx):\n",
    "    linearice_values = [\n",
    "        (sympy.sin(θ), math.sin(x[0])),\n",
    "        (sympy.cos(θ), math.cos(x[0])),\n",
    "        (sympy.sin(ρ), math.sin(x[2])),\n",
    "        (sympy.cos(ρ), math.cos(x[2])),\n",
    "        (θ.diff(t, t), ddx[0]),\n",
    "        (θ.diff(t), x[1]),\n",
    "        (θ, x[0]),\n",
    "        (ρ.diff(t, t), ddx[1]),\n",
    "        (ρ.diff(t), x[3]),\n",
    "        (ρ, x[2]),\n",
    "        (φ.diff(t, t), ddx[2]),\n",
    "        (φ.diff(t), x[5]),\n",
    "        (φ, x[4]),\n",
    "        # Can't move y position (Could .. but should not ..) \n",
    "        (y.diff(t, t), 0),\n",
    "        (y.diff(t), 0),\n",
    "        (y, 0)\n",
    "    ]\n",
    "    return sympy.simplify(A.subs(linearice_values))"
   ]
  },
  {
   "cell_type": "code",
   "execution_count": 18,
   "metadata": {},
   "outputs": [],
   "source": [
    "A_lin_up = linearice(A, [0, 0, 0, 0, 0, 0], [0, 0, 0])\n",
    "A_lin_down = linearice(A, [math.pi, 0, 0, 0, 0, 0], [0, 0, 0])"
   ]
  },
  {
   "cell_type": "code",
   "execution_count": 19,
   "metadata": {},
   "outputs": [
    {
     "data": {
      "text/latex": [
       "$\\displaystyle \\left[\\begin{matrix}0 & 1 & 0 & 0 & 0 & 0\\\\\\frac{1.0 g}{l_{iwm}} & - \\frac{d_{m}}{l_{iwm}^{2} m_{m}} & 0 & 0 & 0 & 0\\\\0 & 0 & 0 & 1 & 0 & 0\\\\0 & 0 & \\frac{1.0 g \\left(m_{iw} r_{1} - m_{iw} r_{2} + m_{m} r_{1} - m_{m} r_{2}\\right)}{m_{iw} r_{1}^{2} - 2.0 m_{iw} r_{1} r_{2} + 2.0 m_{iw} r_{1} r_{3} + m_{iw} r_{2}^{2} - 2.0 m_{iw} r_{2} r_{3} + m_{iw} r_{3}^{2} + m_{m} r_{1}^{2} - 2.0 m_{m} r_{1} r_{2} + 2.0 m_{m} r_{1} r_{3} + m_{m} r_{2}^{2} - 2.0 m_{m} r_{2} r_{3} + m_{m} r_{3}^{2} + m_{ow} r_{3}^{2}} & - \\frac{d_{iw} + d_{ow} r_{3}^{2}}{m_{iw} r_{1}^{2} - 2.0 m_{iw} r_{1} r_{2} + 2.0 m_{iw} r_{1} r_{3} + m_{iw} r_{2}^{2} - 2.0 m_{iw} r_{2} r_{3} + m_{iw} r_{3}^{2} + m_{m} r_{1}^{2} - 2.0 m_{m} r_{1} r_{2} + 2.0 m_{m} r_{1} r_{3} + m_{m} r_{2}^{2} - 2.0 m_{m} r_{2} r_{3} + m_{m} r_{3}^{2} + m_{ow} r_{3}^{2}} & 0 & \\frac{d_{ow} r_{1} r_{3}^{2}}{r_{2} \\left(m_{iw} r_{1}^{2} - 2.0 m_{iw} r_{1} r_{2} + 2.0 m_{iw} r_{1} r_{3} + m_{iw} r_{2}^{2} - 2.0 m_{iw} r_{2} r_{3} + m_{iw} r_{3}^{2} + m_{m} r_{1}^{2} - 2.0 m_{m} r_{1} r_{2} + 2.0 m_{m} r_{1} r_{3} + m_{m} r_{2}^{2} - 2.0 m_{m} r_{2} r_{3} + m_{m} r_{3}^{2} + m_{ow} r_{3}^{2}\\right)}\\\\0 & 0 & 0 & 0 & 0 & 1\\\\0 & 0 & 0 & \\frac{2.0 d_{ow} r_{2} r_{3}^{2}}{r_{1} \\left(2.0 m_{iw} r_{3}^{2} + m_{iwr} r_{2}^{2} + 2.0 m_{m} r_{3}^{2} + 2.0 m_{ow} r_{3}^{2} + m_{owr} r_{2}^{2} + m_{owr} r_{3}^{2}\\right)} & 0 & - \\frac{2.0 d_{iwr} r_{2}^{2} + 2.0 d_{ow} r_{1}^{2} r_{3}^{2} + 2.0 d_{owr} r_{1}^{2}}{r_{1}^{2} \\left(2.0 m_{iw} r_{3}^{2} + m_{iwr} r_{2}^{2} + 2.0 m_{m} r_{3}^{2} + 2.0 m_{ow} r_{3}^{2} + m_{owr} r_{2}^{2} + m_{owr} r_{3}^{2}\\right)}\\end{matrix}\\right]$"
      ],
      "text/plain": [
       "Matrix([\n",
       "[          0,                   1,                                                                                                                                                                                                                                                             0,                                                                                                                                                                                                                                   0, 0,                                                                                                                                                                                                                                   0],\n",
       "[1.0*g/l_iwm, -d_m/(l_iwm**2*m_m),                                                                                                                                                                                                                                                             0,                                                                                                                                                                                                                                   0, 0,                                                                                                                                                                                                                                   0],\n",
       "[          0,                   0,                                                                                                                                                                                                                                                             0,                                                                                                                                                                                                                                   1, 0,                                                                                                                                                                                                                                   0],\n",
       "[          0,                   0, 1.0*g*(m_iw*r_1 - m_iw*r_2 + m_m*r_1 - m_m*r_2)/(m_iw*r_1**2 - 2.0*m_iw*r_1*r_2 + 2.0*m_iw*r_1*r_3 + m_iw*r_2**2 - 2.0*m_iw*r_2*r_3 + m_iw*r_3**2 + m_m*r_1**2 - 2.0*m_m*r_1*r_2 + 2.0*m_m*r_1*r_3 + m_m*r_2**2 - 2.0*m_m*r_2*r_3 + m_m*r_3**2 + m_ow*r_3**2), -(d_iw + d_ow*r_3**2)/(m_iw*r_1**2 - 2.0*m_iw*r_1*r_2 + 2.0*m_iw*r_1*r_3 + m_iw*r_2**2 - 2.0*m_iw*r_2*r_3 + m_iw*r_3**2 + m_m*r_1**2 - 2.0*m_m*r_1*r_2 + 2.0*m_m*r_1*r_3 + m_m*r_2**2 - 2.0*m_m*r_2*r_3 + m_m*r_3**2 + m_ow*r_3**2), 0, d_ow*r_1*r_3**2/(r_2*(m_iw*r_1**2 - 2.0*m_iw*r_1*r_2 + 2.0*m_iw*r_1*r_3 + m_iw*r_2**2 - 2.0*m_iw*r_2*r_3 + m_iw*r_3**2 + m_m*r_1**2 - 2.0*m_m*r_1*r_2 + 2.0*m_m*r_1*r_3 + m_m*r_2**2 - 2.0*m_m*r_2*r_3 + m_m*r_3**2 + m_ow*r_3**2))],\n",
       "[          0,                   0,                                                                                                                                                                                                                                                             0,                                                                                                                                                                                                                                   0, 0,                                                                                                                                                                                                                                   1],\n",
       "[          0,                   0,                                                                                                                                                                                                                                                             0,                                                                                                         2.0*d_ow*r_2*r_3**2/(r_1*(2.0*m_iw*r_3**2 + m_iwr*r_2**2 + 2.0*m_m*r_3**2 + 2.0*m_ow*r_3**2 + m_owr*r_2**2 + m_owr*r_3**2)), 0,                                                          -(2.0*d_iwr*r_2**2 + 2.0*d_ow*r_1**2*r_3**2 + 2.0*d_owr*r_1**2)/(r_1**2*(2.0*m_iw*r_3**2 + m_iwr*r_2**2 + 2.0*m_m*r_3**2 + 2.0*m_ow*r_3**2 + m_owr*r_2**2 + m_owr*r_3**2))]])"
      ]
     },
     "execution_count": 19,
     "metadata": {},
     "output_type": "execute_result"
    }
   ],
   "source": [
    "A_lin_up"
   ]
  },
  {
   "cell_type": "code",
   "execution_count": 20,
   "metadata": {},
   "outputs": [
    {
     "data": {
      "text/latex": [
       "$\\displaystyle \\left[\\begin{matrix}0 & 1 & 0 & 0 & 0 & 0\\\\- \\frac{1.0 g}{l_{iwm}} & - \\frac{d_{m}}{l_{iwm}^{2} m_{m}} & 0 & 0 & 0 & 0\\\\0 & 0 & 0 & 1 & 0 & 0\\\\0 & 0 & \\frac{1.0 g \\left(m_{iw} r_{1} - m_{iw} r_{2} + m_{m} r_{1} - m_{m} r_{2}\\right)}{m_{iw} r_{1}^{2} - 2.0 m_{iw} r_{1} r_{2} + 2.0 m_{iw} r_{1} r_{3} + m_{iw} r_{2}^{2} - 2.0 m_{iw} r_{2} r_{3} + m_{iw} r_{3}^{2} + m_{m} r_{1}^{2} - 2.0 m_{m} r_{1} r_{2} + 2.0 m_{m} r_{1} r_{3} + m_{m} r_{2}^{2} - 2.0 m_{m} r_{2} r_{3} + m_{m} r_{3}^{2} + m_{ow} r_{3}^{2}} & - \\frac{d_{iw} + d_{ow} r_{3}^{2}}{m_{iw} r_{1}^{2} - 2.0 m_{iw} r_{1} r_{2} + 2.0 m_{iw} r_{1} r_{3} + m_{iw} r_{2}^{2} - 2.0 m_{iw} r_{2} r_{3} + m_{iw} r_{3}^{2} + m_{m} r_{1}^{2} - 2.0 m_{m} r_{1} r_{2} + 2.0 m_{m} r_{1} r_{3} + m_{m} r_{2}^{2} - 2.0 m_{m} r_{2} r_{3} + m_{m} r_{3}^{2} + m_{ow} r_{3}^{2}} & 0 & \\frac{d_{ow} r_{1} r_{3}^{2}}{r_{2} \\left(m_{iw} r_{1}^{2} - 2.0 m_{iw} r_{1} r_{2} + 2.0 m_{iw} r_{1} r_{3} + m_{iw} r_{2}^{2} - 2.0 m_{iw} r_{2} r_{3} + m_{iw} r_{3}^{2} + m_{m} r_{1}^{2} - 2.0 m_{m} r_{1} r_{2} + 2.0 m_{m} r_{1} r_{3} + m_{m} r_{2}^{2} - 2.0 m_{m} r_{2} r_{3} + m_{m} r_{3}^{2} + m_{ow} r_{3}^{2}\\right)}\\\\0 & 0 & 0 & 0 & 0 & 1\\\\0 & 0 & 0 & \\frac{2.0 d_{ow} r_{2} r_{3}^{2}}{r_{1} \\left(2.0 m_{iw} r_{3}^{2} + m_{iwr} r_{2}^{2} + 2.0 m_{m} r_{3}^{2} + 2.0 m_{ow} r_{3}^{2} + m_{owr} r_{2}^{2} + m_{owr} r_{3}^{2}\\right)} & 0 & - \\frac{2.0 d_{iwr} r_{2}^{2} + 2.0 d_{ow} r_{1}^{2} r_{3}^{2} + 2.0 d_{owr} r_{1}^{2}}{r_{1}^{2} \\left(2.0 m_{iw} r_{3}^{2} + m_{iwr} r_{2}^{2} + 2.0 m_{m} r_{3}^{2} + 2.0 m_{ow} r_{3}^{2} + m_{owr} r_{2}^{2} + m_{owr} r_{3}^{2}\\right)}\\end{matrix}\\right]$"
      ],
      "text/plain": [
       "Matrix([\n",
       "[           0,                   1,                                                                                                                                                                                                                                                             0,                                                                                                                                                                                                                                   0, 0,                                                                                                                                                                                                                                   0],\n",
       "[-1.0*g/l_iwm, -d_m/(l_iwm**2*m_m),                                                                                                                                                                                                                                                             0,                                                                                                                                                                                                                                   0, 0,                                                                                                                                                                                                                                   0],\n",
       "[           0,                   0,                                                                                                                                                                                                                                                             0,                                                                                                                                                                                                                                   1, 0,                                                                                                                                                                                                                                   0],\n",
       "[           0,                   0, 1.0*g*(m_iw*r_1 - m_iw*r_2 + m_m*r_1 - m_m*r_2)/(m_iw*r_1**2 - 2.0*m_iw*r_1*r_2 + 2.0*m_iw*r_1*r_3 + m_iw*r_2**2 - 2.0*m_iw*r_2*r_3 + m_iw*r_3**2 + m_m*r_1**2 - 2.0*m_m*r_1*r_2 + 2.0*m_m*r_1*r_3 + m_m*r_2**2 - 2.0*m_m*r_2*r_3 + m_m*r_3**2 + m_ow*r_3**2), -(d_iw + d_ow*r_3**2)/(m_iw*r_1**2 - 2.0*m_iw*r_1*r_2 + 2.0*m_iw*r_1*r_3 + m_iw*r_2**2 - 2.0*m_iw*r_2*r_3 + m_iw*r_3**2 + m_m*r_1**2 - 2.0*m_m*r_1*r_2 + 2.0*m_m*r_1*r_3 + m_m*r_2**2 - 2.0*m_m*r_2*r_3 + m_m*r_3**2 + m_ow*r_3**2), 0, d_ow*r_1*r_3**2/(r_2*(m_iw*r_1**2 - 2.0*m_iw*r_1*r_2 + 2.0*m_iw*r_1*r_3 + m_iw*r_2**2 - 2.0*m_iw*r_2*r_3 + m_iw*r_3**2 + m_m*r_1**2 - 2.0*m_m*r_1*r_2 + 2.0*m_m*r_1*r_3 + m_m*r_2**2 - 2.0*m_m*r_2*r_3 + m_m*r_3**2 + m_ow*r_3**2))],\n",
       "[           0,                   0,                                                                                                                                                                                                                                                             0,                                                                                                                                                                                                                                   0, 0,                                                                                                                                                                                                                                   1],\n",
       "[           0,                   0,                                                                                                                                                                                                                                                             0,                                                                                                         2.0*d_ow*r_2*r_3**2/(r_1*(2.0*m_iw*r_3**2 + m_iwr*r_2**2 + 2.0*m_m*r_3**2 + 2.0*m_ow*r_3**2 + m_owr*r_2**2 + m_owr*r_3**2)), 0,                                                          -(2.0*d_iwr*r_2**2 + 2.0*d_ow*r_1**2*r_3**2 + 2.0*d_owr*r_1**2)/(r_1**2*(2.0*m_iw*r_3**2 + m_iwr*r_2**2 + 2.0*m_m*r_3**2 + 2.0*m_ow*r_3**2 + m_owr*r_2**2 + m_owr*r_3**2))]])"
      ]
     },
     "execution_count": 20,
     "metadata": {},
     "output_type": "execute_result"
    }
   ],
   "source": [
    "A_lin_down"
   ]
  },
  {
   "cell_type": "markdown",
   "metadata": {},
   "source": [
    "### Robot Specifications"
   ]
  },
  {
   "cell_type": "code",
   "execution_count": 21,
   "metadata": {},
   "outputs": [
    {
     "data": {
      "text/plain": [
       "{g: 9.81,\n",
       " m_ow: 1.0,\n",
       " m_owr: 0.5,\n",
       " m_iw: 0.3,\n",
       " m_iwr: 0.1,\n",
       " m_m: 15.0,\n",
       " l_iwm: 2.0,\n",
       " r_1: 0.25,\n",
       " r_2: 1.0,\n",
       " r_3: 1.2,\n",
       " d_ow: 1.0,\n",
       " d_iw: 1.0,\n",
       " d_m: 1.0,\n",
       " d_owr: 1.0,\n",
       " d_iwr: 1.0}"
      ]
     },
     "execution_count": 21,
     "metadata": {},
     "output_type": "execute_result"
    }
   ],
   "source": [
    "masses = {\n",
    "    g: 9.81,\n",
    "    m_ow: 1.0,\n",
    "    m_ow_rot: 0.5,\n",
    "    m_iw: 0.3,\n",
    "    m_iw_rot: 0.1,\n",
    "    m_m: 15.0\n",
    "}\n",
    "\n",
    "lengths = {\n",
    "    l_iw_m: 2.0,\n",
    "    r_1: 0.25,\n",
    "    r_2: 1.0,\n",
    "    r_3: 1.2\n",
    "}\n",
    "\n",
    "dampening = {\n",
    "    d_ow: 1.0,\n",
    "    d_iw: 1.0,\n",
    "    d_m: 1.0,\n",
    "    d_owr: 1.0,\n",
    "    d_iwr: 1.0\n",
    "}\n",
    "\n",
    "specs = {**masses, **lengths, **dampening}\n",
    "\n",
    "specs"
   ]
  },
  {
   "cell_type": "markdown",
   "metadata": {},
   "source": [
    "### Create Jacobian"
   ]
  },
  {
   "cell_type": "code",
   "execution_count": 22,
   "metadata": {},
   "outputs": [],
   "source": [
    "import numpy as np\n",
    "\n",
    "A_j_up = np.float64(sympy.simplify(A_lin_up.subs(specs)))\n",
    "A_j_down = np.float64(sympy.simplify(A_lin_down.subs(specs)))"
   ]
  },
  {
   "cell_type": "code",
   "execution_count": 23,
   "metadata": {},
   "outputs": [
    {
     "data": {
      "text/latex": [
       "$\\displaystyle \\left[\\begin{matrix}0.0 & 1.0 & 0.0 & 0.0 & 0.0 & 0.0\\\\4.905 & -0.0166666666666667 & 0.0 & 0.0 & 0.0 & 0.0\\\\0.0 & 0.0 & 0.0 & 1.0 & 0.0 & 0.0\\\\0.0 & 0.0 & -24.8046603867129 & -0.537652178703244 & 0.0 & 0.0793257312840852\\\\0.0 & 0.0 & 0.0 & 0.0 & 0.0 & 1.0\\\\0.0 & 0.0 & 0.0 & 0.238687220288414 & 0.0 & -0.764130614951102\\end{matrix}\\right]$"
      ],
      "text/plain": [
       "Matrix([\n",
       "[  0.0,                 1.0,               0.0,                0.0, 0.0,                0.0],\n",
       "[4.905, -0.0166666666666667,               0.0,                0.0, 0.0,                0.0],\n",
       "[  0.0,                 0.0,               0.0,                1.0, 0.0,                0.0],\n",
       "[  0.0,                 0.0, -24.8046603867129, -0.537652178703244, 0.0, 0.0793257312840852],\n",
       "[  0.0,                 0.0,               0.0,                0.0, 0.0,                1.0],\n",
       "[  0.0,                 0.0,               0.0,  0.238687220288414, 0.0, -0.764130614951102]])"
      ]
     },
     "execution_count": 23,
     "metadata": {},
     "output_type": "execute_result"
    }
   ],
   "source": [
    "sympy.Matrix(A_j_up)"
   ]
  },
  {
   "cell_type": "code",
   "execution_count": 24,
   "metadata": {},
   "outputs": [
    {
     "data": {
      "text/latex": [
       "$\\displaystyle \\left[\\begin{matrix}0.0 & 1.0 & 0.0 & 0.0 & 0.0 & 0.0\\\\-4.905 & -0.0166666666666667 & 0.0 & 0.0 & 0.0 & 0.0\\\\0.0 & 0.0 & 0.0 & 1.0 & 0.0 & 0.0\\\\0.0 & 0.0 & -24.8046603867129 & -0.537652178703244 & 0.0 & 0.0793257312840852\\\\0.0 & 0.0 & 0.0 & 0.0 & 0.0 & 1.0\\\\0.0 & 0.0 & 0.0 & 0.238687220288414 & 0.0 & -0.764130614951102\\end{matrix}\\right]$"
      ],
      "text/plain": [
       "Matrix([\n",
       "[   0.0,                 1.0,               0.0,                0.0, 0.0,                0.0],\n",
       "[-4.905, -0.0166666666666667,               0.0,                0.0, 0.0,                0.0],\n",
       "[   0.0,                 0.0,               0.0,                1.0, 0.0,                0.0],\n",
       "[   0.0,                 0.0, -24.8046603867129, -0.537652178703244, 0.0, 0.0793257312840852],\n",
       "[   0.0,                 0.0,               0.0,                0.0, 0.0,                1.0],\n",
       "[   0.0,                 0.0,               0.0,  0.238687220288414, 0.0, -0.764130614951102]])"
      ]
     },
     "execution_count": 24,
     "metadata": {},
     "output_type": "execute_result"
    }
   ],
   "source": [
    "sympy.Matrix(A_j_down)"
   ]
  },
  {
   "cell_type": "markdown",
   "metadata": {},
   "source": [
    "### Design B Matrix\n",
    "\n",
    "Single motor input (treating both sides of the robot the same)\n",
    "\n",
    "**FIXME:**\n",
    "This is only a stub and needs to be done properly in future!"
   ]
  },
  {
   "cell_type": "code",
   "execution_count": 25,
   "metadata": {},
   "outputs": [],
   "source": [
    "# TODO: Create proper movement matrix (see \"Data Driven Design and Engineering\" page 302)\n",
    "B = np.float64(sympy.Matrix([0, 1, 0, 0, 0, 1]))"
   ]
  },
  {
   "cell_type": "markdown",
   "metadata": {},
   "source": [
    "### Check Controllability"
   ]
  },
  {
   "cell_type": "code",
   "execution_count": 26,
   "metadata": {},
   "outputs": [
    {
     "name": "stdout",
     "output_type": "stream",
     "text": [
      "Rank C up matrix:   6 for (6, 6) matrix\n",
      "Rank C down matrix: 6 for (6, 6) matrix\n"
     ]
    }
   ],
   "source": [
    "import control\n",
    "import numpy.linalg as linalg\n",
    "\n",
    "C_up = control.ctrb(A_j_up, B)\n",
    "C_down = control.ctrb(A_j_down, B)\n",
    "\n",
    "rank_up = linalg.matrix_rank(C_up)\n",
    "rank_down = linalg.matrix_rank(C_down)\n",
    "\n",
    "print(\"Rank C up matrix:   \" + str(rank_up) + \" for \" + str(C_up.shape) + \" matrix\")\n",
    "print(\"Rank C down matrix: \" + str(rank_down) + \" for \" + str(C_down.shape) + \" matrix\")"
   ]
  },
  {
   "cell_type": "code",
   "execution_count": 27,
   "metadata": {},
   "outputs": [
    {
     "data": {
      "text/latex": [
       "$\\displaystyle \\left[\\begin{matrix}0.0 & 1.0 & -0.0166666666666667 & 4.90527777777778 & -0.16350462962963 & 24.0631125771605\\\\1.0 & -0.0166666666666667 & 4.90527777777778 & -0.16350462962963 & 24.0631125771605 & -1.20304208461934\\\\0.0 & 0.0 & 0.0793257312840852 & -0.10326487207967 & -1.8643073393359 & 3.52530311269295\\\\0.0 & 0.0793257312840852 & -0.10326487207967 & -1.8643073393359 & 3.52530311269295 & 44.3422405172514\\\\0.0 & 1.0 & -0.764130614951102 & 0.602829635003094 & -0.485288584975798 & -0.0741624717230674\\\\1.0 & -0.764130614951102 & 0.602829635003094 & -0.485288584975798 & -0.0741624717230674 & 0.898114615766815\\\\4.905 & -0.0166666666666667 & -121.673749380268 & 3.08955750149611 & 0.0 & -18.1617508939791\\\\-0.08175 & 1.00027777777778 & 4.05567680961824 & 4.70603562705845 & 0.0 & 24.969423740779\\\\0.0 & 0.0 & 2.56145008181358 & 0.976291115384005 & 0.0 & -4.56629093622068\\\\0.389092711948438 & -0.00132209552140142 & 46.2435104086834 & 11.4830101611097 & 0.0 & -30.5058479450952\\\\4.905 & -0.0166666666666667 & -14.9529843672979 & -1.10594491582269 & 0.0 & -0.380798868215418\\\\-3.74806066633516 & 1.01273551024919 & 12.0374185398731 & 1.07811458115292 & 0.0 & -0.798935217252561\\\\-0.08175 & 4.90527777777778 & -76.6354245698323 & -127.669834538631 & 0.0 & 14.1230312873554\\\\4.9063625 & -0.0984212962962963 & -116.731615496956 & 7.48534884656525 & 0.0 & -18.7065914004508\\\\0.0 & 0.0 & -24.2165695556654 & 0.946629745984059 & 0.0 & 3.56668770781394\\\\-0.00648487853247397 & 0.389114746873795 & -284.832167263501 & 32.7882889289354 & 0.0 & 24.221350528263\\\\-0.08175 & 4.90527777777778 & 27.4325880433938 & -14.4492624971233 & 0.0 & 0.20325018413458\\\\4.96746767777225 & -3.76493959150598 & -26.7422660434615 & 11.267072260228 & 0.0 & 0.696013086423283\\\\24.0603875 & -0.16350462962963 & 3166.80688735856 & -4.62247279542968 & 0.0 & -20.9193435702756\\\\-0.482756458333333 & 4.90800285493827 & -185.671536015124 & -125.221153915111 & 0.0 & 14.8880599616357\\\\0.0 & 0.0 & -23.4808293610949 & -23.8742043264041 & 0.0 & -2.65032317465495\\\\1.90860783341596 & -0.0129701243137039 & -813.302371543663 & -296.679535412872 & 0.0 & -15.9073204772661\\\\24.0603875 & -0.16350462962963 & 358.409049079612 & 35.2497787271014 & 0.0 & -1.3015080022917\\\\-18.4670286963368 & 5.03021667096402 & -279.47590096751 & -32.6339025628973 & 0.0 & 0.36192383873058\\\\-0.801990208333333 & 24.0631125771605 & 114.658867837453 & 3164.29898996098 & 0.0 & 15.6184298318898\\\\24.0737540034722 & -0.564556505915638 & 3106.06819609663 & -114.792520145201 & 0.0 & -21.3096820204667\\\\0.0 & 0.0 & 592.191530319446 & -11.2774096616217 & 0.0 & 0.131354360250571\\\\-0.0636184597587175 & 1.90882400215453 & 7359.03511960406 & -657.588847059222 & 0.0 & -11.3790505251311\\\\-0.801990208333333 & 24.0631125771605 & -874.358790032528 & 339.146275420928 & 0.0 & 3.79073658528444\\\\24.6732127710785 & -18.5508656408529 & 809.472870165748 & -261.843825559956 & 0.0 & -2.86526527091007\\\\118.029567190972 & -1.20304208461934 & -78489.3618080007 & -1582.9054585817 & 0.0 & 239.075810988134\\\\-2.7691496615162 & 24.0831632785708 & 2847.38947713661 & 3162.70029588484 & 0.0 & 7.17737982025056\\\\0.0 & 0.0 & 279.732316698361 & 598.286206801267 & 0.0 & -0.994960656473127\\\\9.36278173056795 & -0.0954321931279596 & 16311.2680253941 & 7709.87316197704 & 0.0 & -43.4686353019032\\\\118.029567190972 & -1.20304208461934 & -8412.40818323473 & -1055.79672353329 & 0.0 & 24.0064084320079\\\\-90.9919959683834 & 24.9823938650927 & 6494.94716737241 & 949.569871255148 & 0.0 & -18.5815160313074\\end{matrix}\\right]$"
      ],
      "text/plain": [
       "Matrix([\n",
       "[                 0.0,                  1.0, -0.0166666666666667,   4.90527777777778,   -0.16350462962963,    24.0631125771605],\n",
       "[                 1.0,  -0.0166666666666667,    4.90527777777778,  -0.16350462962963,    24.0631125771605,   -1.20304208461934],\n",
       "[                 0.0,                  0.0,  0.0793257312840852,  -0.10326487207967,    -1.8643073393359,    3.52530311269295],\n",
       "[                 0.0,   0.0793257312840852,   -0.10326487207967,   -1.8643073393359,    3.52530311269295,    44.3422405172514],\n",
       "[                 0.0,                  1.0,  -0.764130614951102,  0.602829635003094,  -0.485288584975798, -0.0741624717230674],\n",
       "[                 1.0,   -0.764130614951102,   0.602829635003094, -0.485288584975798, -0.0741624717230674,   0.898114615766815],\n",
       "[               4.905,  -0.0166666666666667,   -121.673749380268,   3.08955750149611,                 0.0,   -18.1617508939791],\n",
       "[            -0.08175,     1.00027777777778,    4.05567680961824,   4.70603562705845,                 0.0,     24.969423740779],\n",
       "[                 0.0,                  0.0,    2.56145008181358,  0.976291115384005,                 0.0,   -4.56629093622068],\n",
       "[   0.389092711948438, -0.00132209552140142,    46.2435104086834,   11.4830101611097,                 0.0,   -30.5058479450952],\n",
       "[               4.905,  -0.0166666666666667,   -14.9529843672979,  -1.10594491582269,                 0.0,  -0.380798868215418],\n",
       "[   -3.74806066633516,     1.01273551024919,    12.0374185398731,   1.07811458115292,                 0.0,  -0.798935217252561],\n",
       "[            -0.08175,     4.90527777777778,   -76.6354245698323,  -127.669834538631,                 0.0,    14.1230312873554],\n",
       "[           4.9063625,  -0.0984212962962963,   -116.731615496956,   7.48534884656525,                 0.0,   -18.7065914004508],\n",
       "[                 0.0,                  0.0,   -24.2165695556654,  0.946629745984059,                 0.0,    3.56668770781394],\n",
       "[-0.00648487853247397,    0.389114746873795,   -284.832167263501,   32.7882889289354,                 0.0,     24.221350528263],\n",
       "[            -0.08175,     4.90527777777778,    27.4325880433938,  -14.4492624971233,                 0.0,    0.20325018413458],\n",
       "[    4.96746767777225,    -3.76493959150598,   -26.7422660434615,    11.267072260228,                 0.0,   0.696013086423283],\n",
       "[          24.0603875,    -0.16350462962963,    3166.80688735856,  -4.62247279542968,                 0.0,   -20.9193435702756],\n",
       "[  -0.482756458333333,     4.90800285493827,   -185.671536015124,  -125.221153915111,                 0.0,    14.8880599616357],\n",
       "[                 0.0,                  0.0,   -23.4808293610949,  -23.8742043264041,                 0.0,   -2.65032317465495],\n",
       "[    1.90860783341596,  -0.0129701243137039,   -813.302371543663,  -296.679535412872,                 0.0,   -15.9073204772661],\n",
       "[          24.0603875,    -0.16350462962963,    358.409049079612,   35.2497787271014,                 0.0,    -1.3015080022917],\n",
       "[   -18.4670286963368,     5.03021667096402,    -279.47590096751,  -32.6339025628973,                 0.0,    0.36192383873058],\n",
       "[  -0.801990208333333,     24.0631125771605,    114.658867837453,   3164.29898996098,                 0.0,    15.6184298318898],\n",
       "[    24.0737540034722,   -0.564556505915638,    3106.06819609663,  -114.792520145201,                 0.0,   -21.3096820204667],\n",
       "[                 0.0,                  0.0,    592.191530319446,  -11.2774096616217,                 0.0,   0.131354360250571],\n",
       "[ -0.0636184597587175,     1.90882400215453,    7359.03511960406,  -657.588847059222,                 0.0,   -11.3790505251311],\n",
       "[  -0.801990208333333,     24.0631125771605,   -874.358790032528,   339.146275420928,                 0.0,    3.79073658528444],\n",
       "[    24.6732127710785,    -18.5508656408529,    809.472870165748,  -261.843825559956,                 0.0,   -2.86526527091007],\n",
       "[    118.029567190972,    -1.20304208461934,   -78489.3618080007,   -1582.9054585817,                 0.0,    239.075810988134],\n",
       "[    -2.7691496615162,     24.0831632785708,    2847.38947713661,   3162.70029588484,                 0.0,    7.17737982025056],\n",
       "[                 0.0,                  0.0,    279.732316698361,   598.286206801267,                 0.0,  -0.994960656473127],\n",
       "[    9.36278173056795,  -0.0954321931279596,    16311.2680253941,   7709.87316197704,                 0.0,   -43.4686353019032],\n",
       "[    118.029567190972,    -1.20304208461934,   -8412.40818323473,  -1055.79672353329,                 0.0,    24.0064084320079],\n",
       "[   -90.9919959683834,     24.9823938650927,    6494.94716737241,   949.569871255148,                 0.0,   -18.5815160313074]])"
      ]
     },
     "execution_count": 27,
     "metadata": {},
     "output_type": "execute_result"
    }
   ],
   "source": [
    "sympy.Matrix(control.obsv(A_j_up, C_up))"
   ]
  },
  {
   "cell_type": "code",
   "execution_count": 28,
   "metadata": {},
   "outputs": [
    {
     "data": {
      "text/latex": [
       "$\\displaystyle \\left[\\begin{matrix}0.0 & 1.0 & -0.0166666666666667 & -4.90472222222222 & 0.16349537037037 & 24.0549375771605\\\\1.0 & -0.0166666666666667 & -4.90472222222222 & 0.16349537037037 & 24.0549375771605 & -1.20286041795267\\\\0.0 & 0.0 & 0.0793257312840852 & -0.10326487207967 & -1.8643073393359 & 3.52530311269295\\\\0.0 & 0.0793257312840852 & -0.10326487207967 & -1.8643073393359 & 3.52530311269295 & 44.3422405172514\\\\0.0 & 1.0 & -0.764130614951102 & 0.602829635003094 & -0.485288584975798 & -0.0741624717230674\\\\1.0 & -0.764130614951102 & 0.602829635003094 & -0.485288584975798 & -0.0741624717230674 & 0.898114615766815\\\\-4.905 & -0.0166666666666667 & 121.659969013386 & 8.36197410654908 & 0.0 & -18.6066895500987\\\\0.08175 & 1.00027777777778 & -4.05544713683689 & -5.27973327386583 & 0.0 & 24.9870494378472\\\\0.0 & 0.0 & 2.56145008181358 & 0.976291115384005 & 0.0 & -4.56629093622068\\\\-0.389092711948438 & -0.00132209552140142 & 46.2435104086834 & 11.4830101611097 & 0.0 & -30.5058479450952\\\\-4.905 & -0.0166666666666667 & -14.9529843672979 & -1.10594491582269 & 0.0 & -0.380798868215418\\\\3.74806066633516 & 1.01273551024919 & 12.0374185398731 & 1.07811458115292 & 0.0 & -0.798935217252561\\\\0.08175 & -4.90472222222222 & -207.415927875437 & 112.722956409257 & 0.0 & 14.8812608391018\\\\-4.9063625 & 0.0650787037037037 & 130.96199079067 & 4.74730233435801 & 0.0 & -19.5121881556901\\\\0.0 & 0.0 & -24.2165695556654 & 0.946629745984059 & 0.0 & 3.56668770781394\\\\0.00648487853247397 & -0.389070677023081 & -284.832167263501 & 32.7882889289354 & 0.0 & 24.221350528263\\\\0.08175 & -4.90472222222222 & 27.4325880433938 & -14.4492624971233 & 0.0 & 0.20325018413458\\\\-4.96746767777225 & 3.73118174116434 & -26.7422660434615 & 11.267072260228 & 0.0 & 0.696013086423283\\\\24.0576625 & 0.16349537037037 & -2796.05465151788 & -264.469704194673 & 0.0 & -2.4293960465622\\\\-0.319211041666667 & -4.90744714506173 & -117.7552221568 & 123.752283395013 & 0.0 & 15.2864435637487\\\\0.0 & 0.0 & -23.4808293610949 & -23.8742043264041 & 0.0 & -2.65032317465495\\\\1.90839167079821 & 0.012969389816192 & -813.302371543663 & -296.679535412872 & 0.0 & -15.9073204772661\\\\24.0576625 & 0.16349537037037 & 358.409049079612 & 35.2497787271014 & 0.0 & -1.3015080022917\\\\-18.3014464404111 & -5.02965404012499 & -279.47590096751 & -32.6339025628973 & 0.0 & 0.36192383873058\\\\-0.801944791666667 & 24.0549375771605 & 6560.0811951233 & -2654.44180464594 & 0.0 & -19.1228767927088\\\\24.0710282465278 & -0.237420255915638 & -3069.63336169356 & -180.642228221303 & 0.0 & -1.86409914239783\\\\0.0 & 0.0 & 592.191530319446 & -11.2774096616217 & 0.0 & 0.131354360250571\\\\-0.0636148570484217 & 1.90817551430128 & 7359.03511960406 & -657.588847059222 & 0.0 & -11.3790505251311\\\\-0.801944791666667 & 24.0549375771605 & -874.358790032528 & 339.146275420928 & 0.0 & 3.79073658528444\\\\24.6704530668131 & -18.2176188730757 & 809.472870165748 & -261.843825559956 & 0.0 & -2.86526527091007\\\\-117.989468815972 & -1.20286041795267 & 65842.527480536 & 7982.68322832659 & 0.0 & -195.95316170134\\\\1.1645463552662 & 24.074985250793 & 4480.76912252852 & -2972.9556107672 & 0.0 & -12.9051616304312\\\\0.0 & 0.0 & 279.732316698361 & 598.286206801267 & 0.0 & -0.994960656473127\\\\-9.35960089764777 & -0.0954177822867763 & 16311.2680253941 & 7709.87316197704 & 0.0 & -43.4686353019032\\\\-117.989468815972 & -1.20286041795267 & -8412.40818323473 & -1055.79672353329 & 0.0 & 24.0064084320079\\\\89.3574205724361 & 24.974080048031 & 6494.94716737241 & 949.569871255148 & 0.0 & -18.5815160313074\\end{matrix}\\right]$"
      ],
      "text/plain": [
       "Matrix([\n",
       "[                0.0,                  1.0, -0.0166666666666667,  -4.90472222222222,    0.16349537037037,    24.0549375771605],\n",
       "[                1.0,  -0.0166666666666667,   -4.90472222222222,   0.16349537037037,    24.0549375771605,   -1.20286041795267],\n",
       "[                0.0,                  0.0,  0.0793257312840852,  -0.10326487207967,    -1.8643073393359,    3.52530311269295],\n",
       "[                0.0,   0.0793257312840852,   -0.10326487207967,   -1.8643073393359,    3.52530311269295,    44.3422405172514],\n",
       "[                0.0,                  1.0,  -0.764130614951102,  0.602829635003094,  -0.485288584975798, -0.0741624717230674],\n",
       "[                1.0,   -0.764130614951102,   0.602829635003094, -0.485288584975798, -0.0741624717230674,   0.898114615766815],\n",
       "[             -4.905,  -0.0166666666666667,    121.659969013386,   8.36197410654908,                 0.0,   -18.6066895500987],\n",
       "[            0.08175,     1.00027777777778,   -4.05544713683689,  -5.27973327386583,                 0.0,    24.9870494378472],\n",
       "[                0.0,                  0.0,    2.56145008181358,  0.976291115384005,                 0.0,   -4.56629093622068],\n",
       "[ -0.389092711948438, -0.00132209552140142,    46.2435104086834,   11.4830101611097,                 0.0,   -30.5058479450952],\n",
       "[             -4.905,  -0.0166666666666667,   -14.9529843672979,  -1.10594491582269,                 0.0,  -0.380798868215418],\n",
       "[   3.74806066633516,     1.01273551024919,    12.0374185398731,   1.07811458115292,                 0.0,  -0.798935217252561],\n",
       "[            0.08175,    -4.90472222222222,   -207.415927875437,   112.722956409257,                 0.0,    14.8812608391018],\n",
       "[         -4.9063625,   0.0650787037037037,     130.96199079067,   4.74730233435801,                 0.0,   -19.5121881556901],\n",
       "[                0.0,                  0.0,   -24.2165695556654,  0.946629745984059,                 0.0,    3.56668770781394],\n",
       "[0.00648487853247397,   -0.389070677023081,   -284.832167263501,   32.7882889289354,                 0.0,     24.221350528263],\n",
       "[            0.08175,    -4.90472222222222,    27.4325880433938,  -14.4492624971233,                 0.0,    0.20325018413458],\n",
       "[  -4.96746767777225,     3.73118174116434,   -26.7422660434615,    11.267072260228,                 0.0,   0.696013086423283],\n",
       "[         24.0576625,     0.16349537037037,   -2796.05465151788,  -264.469704194673,                 0.0,    -2.4293960465622],\n",
       "[ -0.319211041666667,    -4.90744714506173,     -117.7552221568,   123.752283395013,                 0.0,    15.2864435637487],\n",
       "[                0.0,                  0.0,   -23.4808293610949,  -23.8742043264041,                 0.0,   -2.65032317465495],\n",
       "[   1.90839167079821,    0.012969389816192,   -813.302371543663,  -296.679535412872,                 0.0,   -15.9073204772661],\n",
       "[         24.0576625,     0.16349537037037,    358.409049079612,   35.2497787271014,                 0.0,    -1.3015080022917],\n",
       "[  -18.3014464404111,    -5.02965404012499,    -279.47590096751,  -32.6339025628973,                 0.0,    0.36192383873058],\n",
       "[ -0.801944791666667,     24.0549375771605,     6560.0811951233,  -2654.44180464594,                 0.0,   -19.1228767927088],\n",
       "[   24.0710282465278,   -0.237420255915638,   -3069.63336169356,  -180.642228221303,                 0.0,   -1.86409914239783],\n",
       "[                0.0,                  0.0,    592.191530319446,  -11.2774096616217,                 0.0,   0.131354360250571],\n",
       "[-0.0636148570484217,     1.90817551430128,    7359.03511960406,  -657.588847059222,                 0.0,   -11.3790505251311],\n",
       "[ -0.801944791666667,     24.0549375771605,   -874.358790032528,   339.146275420928,                 0.0,    3.79073658528444],\n",
       "[   24.6704530668131,    -18.2176188730757,    809.472870165748,  -261.843825559956,                 0.0,   -2.86526527091007],\n",
       "[  -117.989468815972,    -1.20286041795267,     65842.527480536,   7982.68322832659,                 0.0,    -195.95316170134],\n",
       "[    1.1645463552662,      24.074985250793,    4480.76912252852,   -2972.9556107672,                 0.0,   -12.9051616304312],\n",
       "[                0.0,                  0.0,    279.732316698361,   598.286206801267,                 0.0,  -0.994960656473127],\n",
       "[  -9.35960089764777,  -0.0954177822867763,    16311.2680253941,   7709.87316197704,                 0.0,   -43.4686353019032],\n",
       "[  -117.989468815972,    -1.20286041795267,   -8412.40818323473,  -1055.79672353329,                 0.0,    24.0064084320079],\n",
       "[   89.3574205724361,      24.974080048031,    6494.94716737241,   949.569871255148,                 0.0,   -18.5815160313074]])"
      ]
     },
     "execution_count": 28,
     "metadata": {},
     "output_type": "execute_result"
    }
   ],
   "source": [
    "sympy.Matrix(control.obsv(A_j_down, C_down))"
   ]
  },
  {
   "cell_type": "markdown",
   "metadata": {},
   "source": [
    "### Design Cost Matrix Q and R\n",
    "\n",
    "* Choosen simple default vaules\n",
    "* Optimize here in future"
   ]
  },
  {
   "cell_type": "code",
   "execution_count": 29,
   "metadata": {},
   "outputs": [],
   "source": [
    "Q = np.float64(np.diag([1, 1, 1, 1, 1, 1]))\n",
    "R = np.float64([0.1])"
   ]
  },
  {
   "cell_type": "code",
   "execution_count": 30,
   "metadata": {},
   "outputs": [
    {
     "data": {
      "text/latex": [
       "$\\displaystyle \\left[\\begin{matrix}1.0 & 0.0 & 0.0 & 0.0 & 0.0 & 0.0\\\\0.0 & 1.0 & 0.0 & 0.0 & 0.0 & 0.0\\\\0.0 & 0.0 & 1.0 & 0.0 & 0.0 & 0.0\\\\0.0 & 0.0 & 0.0 & 1.0 & 0.0 & 0.0\\\\0.0 & 0.0 & 0.0 & 0.0 & 1.0 & 0.0\\\\0.0 & 0.0 & 0.0 & 0.0 & 0.0 & 1.0\\end{matrix}\\right]$"
      ],
      "text/plain": [
       "Matrix([\n",
       "[1.0, 0.0, 0.0, 0.0, 0.0, 0.0],\n",
       "[0.0, 1.0, 0.0, 0.0, 0.0, 0.0],\n",
       "[0.0, 0.0, 1.0, 0.0, 0.0, 0.0],\n",
       "[0.0, 0.0, 0.0, 1.0, 0.0, 0.0],\n",
       "[0.0, 0.0, 0.0, 0.0, 1.0, 0.0],\n",
       "[0.0, 0.0, 0.0, 0.0, 0.0, 1.0]])"
      ]
     },
     "execution_count": 30,
     "metadata": {},
     "output_type": "execute_result"
    }
   ],
   "source": [
    "sympy.Matrix(Q)"
   ]
  },
  {
   "cell_type": "code",
   "execution_count": 31,
   "metadata": {},
   "outputs": [
    {
     "data": {
      "text/latex": [
       "$\\displaystyle \\left[\\begin{matrix}0.1\\end{matrix}\\right]$"
      ],
      "text/plain": [
       "Matrix([[0.1]])"
      ]
     },
     "execution_count": 31,
     "metadata": {},
     "output_type": "execute_result"
    }
   ],
   "source": [
    "sympy.Matrix(R)"
   ]
  },
  {
   "cell_type": "markdown",
   "metadata": {},
   "source": [
    "### Print Shapes"
   ]
  },
  {
   "cell_type": "code",
   "execution_count": 32,
   "metadata": {},
   "outputs": [
    {
     "name": "stdout",
     "output_type": "stream",
     "text": [
      "A_down: (6, 6), A_up: (6, 6), B: (6, 1), Q: (6, 6), R: (1,)\n"
     ]
    }
   ],
   "source": [
    "print(\"A_down: \" + str(A_j_down.shape) + \", A_up: \" + str(A_j_up.shape) + \", B: \" + str(B.shape) + \", Q: \" + str(Q.shape) + \", R: \" + str(R.shape))"
   ]
  },
  {
   "cell_type": "markdown",
   "metadata": {},
   "source": [
    "## Generate LQR Controller"
   ]
  },
  {
   "cell_type": "code",
   "execution_count": 33,
   "metadata": {},
   "outputs": [
    {
     "data": {
      "text/latex": [
       "$\\displaystyle \\left[\\begin{matrix}26.51380570139 & 12.2568193868262 & 1.30196698770633 & 0.110569429265399 & -3.1622776601684 & -3.76743418856394\\end{matrix}\\right]$"
      ],
      "text/plain": [
       "Matrix([[26.51380570139, 12.2568193868262, 1.30196698770633, 0.110569429265399, -3.1622776601684, -3.76743418856394]])"
      ]
     },
     "execution_count": 33,
     "metadata": {},
     "output_type": "execute_result"
    }
   ],
   "source": [
    "K, S, E = control.lqr(A_j_up, B, Q, R)\n",
    "\n",
    "K_up = np.float64(K)\n",
    "\n",
    "sympy.Matrix(K_up)"
   ]
  },
  {
   "cell_type": "code",
   "execution_count": 34,
   "metadata": {},
   "outputs": [
    {
     "data": {
      "text/latex": [
       "$\\displaystyle \\left[\\begin{matrix}5.84933748470497 & 2.20319422924023 & -0.706089704252651 & 0.127753077562779 & 3.16227766016837 & 3.50731882275327\\end{matrix}\\right]$"
      ],
      "text/plain": [
       "Matrix([[5.84933748470497, 2.20319422924023, -0.706089704252651, 0.127753077562779, 3.16227766016837, 3.50731882275327]])"
      ]
     },
     "execution_count": 34,
     "metadata": {},
     "output_type": "execute_result"
    }
   ],
   "source": [
    "K, S, E = control.lqr(A_j_down, B, Q, R)\n",
    "\n",
    "K_down = np.float64(K)\n",
    "\n",
    "sympy.Matrix(K_down)"
   ]
  },
  {
   "cell_type": "markdown",
   "metadata": {},
   "source": [
    "## Simulation\n",
    "\n",
    "### Initial Values"
   ]
  },
  {
   "cell_type": "code",
   "execution_count": 35,
   "metadata": {},
   "outputs": [],
   "source": [
    "import math\n",
    "\n",
    "offset = 0.4\n",
    "θ_up_0 = offset\n",
    "θ_down_0 = math.pi + offset\n",
    "\n",
    "x_0_up = np.float64([θ_up_0, 0, 0, 0, 0, 0])\n",
    "x_0_down = np.float64([θ_down_0, 0, 0, 0, 0, 0])"
   ]
  },
  {
   "cell_type": "code",
   "execution_count": 36,
   "metadata": {},
   "outputs": [
    {
     "data": {
      "text/latex": [
       "$\\displaystyle \\left[\\begin{matrix}0.4\\\\0.0\\\\0.0\\\\0.0\\\\0.0\\\\0.0\\end{matrix}\\right]$"
      ],
      "text/plain": [
       "Matrix([\n",
       "[0.4],\n",
       "[0.0],\n",
       "[0.0],\n",
       "[0.0],\n",
       "[0.0],\n",
       "[0.0]])"
      ]
     },
     "execution_count": 36,
     "metadata": {},
     "output_type": "execute_result"
    }
   ],
   "source": [
    "sympy.Matrix(x_0_up)"
   ]
  },
  {
   "cell_type": "code",
   "execution_count": 37,
   "metadata": {},
   "outputs": [
    {
     "data": {
      "text/latex": [
       "$\\displaystyle \\left[\\begin{matrix}3.54159265358979\\\\0.0\\\\0.0\\\\0.0\\\\0.0\\\\0.0\\end{matrix}\\right]$"
      ],
      "text/plain": [
       "Matrix([\n",
       "[3.54159265358979],\n",
       "[             0.0],\n",
       "[             0.0],\n",
       "[             0.0],\n",
       "[             0.0],\n",
       "[             0.0]])"
      ]
     },
     "execution_count": 37,
     "metadata": {},
     "output_type": "execute_result"
    }
   ],
   "source": [
    "sympy.Matrix(x_0_down)"
   ]
  },
  {
   "cell_type": "markdown",
   "metadata": {},
   "source": [
    "### Simulation Range"
   ]
  },
  {
   "cell_type": "code",
   "execution_count": 38,
   "metadata": {},
   "outputs": [],
   "source": [
    "dt = 0.01\n",
    "timeline = np.arange(0., 2., dt)"
   ]
  },
  {
   "cell_type": "code",
   "execution_count": 39,
   "metadata": {},
   "outputs": [],
   "source": [
    "import scipy.integrate as integrate\n",
    "\n",
    "def apply(y, t):\n",
    "    return A_local.dot(y)\n",
    "\n",
    "A_local = A_j_up\n",
    "solution_up_lin = integrate.odeint(apply, x_0_up, timeline)\n",
    "\n",
    "A_local = A_j_down\n",
    "solution_down_lin = integrate.odeint(apply, x_0_down, timeline)"
   ]
  },
  {
   "cell_type": "code",
   "execution_count": 40,
   "metadata": {},
   "outputs": [],
   "source": [
    "f_θ_c = f_θ.subs(specs)\n",
    "f_dθ_c = f_dθ.subs(specs)\n",
    "f_ρ_c = f_ρ.subs(specs)\n",
    "f_dρ_c = f_dρ.subs(specs)\n",
    "f_φ_c = f_φ.subs(specs)\n",
    "f_dφ_c = f_dφ.subs(specs)"
   ]
  },
  {
   "cell_type": "code",
   "execution_count": 41,
   "metadata": {},
   "outputs": [
    {
     "data": {
      "text/latex": [
       "$\\displaystyle 0.375 \\sin{\\left(θ{\\left(t \\right)} + ρ{\\left(t \\right)} \\right)} \\left(\\frac{d}{d t} ρ{\\left(t \\right)}\\right)^{2} + 0.5 \\sin{\\left(θ{\\left(t \\right)} \\right)} \\frac{d^{2}}{d t^{2}} y{\\left(t \\right)} + 4.905 \\sin{\\left(θ{\\left(t \\right)} \\right)} - 0.375 \\cos{\\left(θ{\\left(t \\right)} + ρ{\\left(t \\right)} \\right)} \\frac{d^{2}}{d t^{2}} ρ{\\left(t \\right)} + 0.6 \\cos{\\left(θ{\\left(t \\right)} \\right)} \\frac{d^{2}}{d t^{2}} ρ{\\left(t \\right)} - 0.15 \\cos{\\left(θ{\\left(t \\right)} \\right)} \\frac{d^{2}}{d t^{2}} φ{\\left(t \\right)} - 0.0166666666666667 \\frac{d}{d t} θ{\\left(t \\right)}$"
      ],
      "text/plain": [
       "0.375*sin(θ(t) + ρ(t))*Derivative(ρ(t), t)**2 + 0.5*sin(θ(t))*Derivative(y(t), (t, 2)) + 4.905*sin(θ(t)) - 0.375*cos(θ(t) + ρ(t))*Derivative(ρ(t), (t, 2)) + 0.6*cos(θ(t))*Derivative(ρ(t), (t, 2)) - 0.15*cos(θ(t))*Derivative(φ(t), (t, 2)) - 0.0166666666666667*Derivative(θ(t), t)"
      ]
     },
     "execution_count": 41,
     "metadata": {},
     "output_type": "execute_result"
    }
   ],
   "source": [
    "f_dθ_c"
   ]
  },
  {
   "cell_type": "code",
   "execution_count": 42,
   "metadata": {},
   "outputs": [
    {
     "data": {
      "text/latex": [
       "$\\displaystyle \\frac{1.0 \\left(22.5 \\sin{\\left(θ{\\left(t \\right)} + ρ{\\left(t \\right)} \\right)} \\left(\\frac{d}{d t} θ{\\left(t \\right)}\\right)^{2} - 36.0 \\sin{\\left(θ{\\left(t \\right)} \\right)} \\left(\\frac{d}{d t} θ{\\left(t \\right)}\\right)^{2} - 11.475 \\sin{\\left(ρ{\\left(t \\right)} \\right)} \\frac{d^{2}}{d t^{2}} y{\\left(t \\right)} - 13.77 \\sin{\\left(ρ{\\left(t \\right)} \\right)} \\left(\\frac{d}{d t} ρ{\\left(t \\right)}\\right)^{2} - 112.56975 \\sin{\\left(ρ{\\left(t \\right)} \\right)} - 22.5 \\cos{\\left(θ{\\left(t \\right)} + ρ{\\left(t \\right)} \\right)} \\frac{d^{2}}{d t^{2}} θ{\\left(t \\right)} + 36.0 \\cos{\\left(θ{\\left(t \\right)} \\right)} \\frac{d^{2}}{d t^{2}} θ{\\left(t \\right)} - 3.4425 \\cos{\\left(ρ{\\left(t \\right)} \\right)} \\frac{d^{2}}{d t^{2}} φ{\\left(t \\right)} - 2.44 \\frac{d}{d t} ρ{\\left(t \\right)} + 0.36 \\frac{d}{d t} φ{\\left(t \\right)} + 5.868 \\frac{d^{2}}{d t^{2}} φ{\\left(t \\right)}\\right)}{32.07825 - 27.54 \\cos{\\left(ρ{\\left(t \\right)} \\right)}}$"
      ],
      "text/plain": [
       "1.0*(22.5*sin(θ(t) + ρ(t))*Derivative(θ(t), t)**2 - 36.0*sin(θ(t))*Derivative(θ(t), t)**2 - 11.475*sin(ρ(t))*Derivative(y(t), (t, 2)) - 13.77*sin(ρ(t))*Derivative(ρ(t), t)**2 - 112.56975*sin(ρ(t)) - 22.5*cos(θ(t) + ρ(t))*Derivative(θ(t), (t, 2)) + 36.0*cos(θ(t))*Derivative(θ(t), (t, 2)) - 3.4425*cos(ρ(t))*Derivative(φ(t), (t, 2)) - 2.44*Derivative(ρ(t), t) + 0.36*Derivative(φ(t), t) + 5.868*Derivative(φ(t), (t, 2)))/(32.07825 - 27.54*cos(ρ(t)))"
      ]
     },
     "execution_count": 42,
     "metadata": {},
     "output_type": "execute_result"
    }
   ],
   "source": [
    "f_dρ_c"
   ]
  },
  {
   "cell_type": "code",
   "execution_count": 43,
   "metadata": {},
   "outputs": [
    {
     "data": {
      "text/latex": [
       "$\\displaystyle 5.96718050721034 \\sin{\\left(θ{\\left(t \\right)} \\right)} \\left(\\frac{d}{d t} θ{\\left(t \\right)}\\right)^{2} + 2.28244654400796 \\sin{\\left(ρ{\\left(t \\right)} \\right)} \\left(\\frac{d}{d t} ρ{\\left(t \\right)}\\right)^{2} - 5.96718050721034 \\cos{\\left(θ{\\left(t \\right)} \\right)} \\frac{d^{2}}{d t^{2}} θ{\\left(t \\right)} - 2.28244654400796 \\cos{\\left(ρ{\\left(t \\right)} \\right)} \\frac{d^{2}}{d t^{2}} ρ{\\left(t \\right)} + 0.238687220288414 \\frac{d}{d t} ρ{\\left(t \\right)} + 3.89060169070114 \\frac{d^{2}}{d t^{2}} ρ{\\left(t \\right)} - 0.764130614951102 \\frac{d}{d t} φ{\\left(t \\right)}$"
      ],
      "text/plain": [
       "5.96718050721034*sin(θ(t))*Derivative(θ(t), t)**2 + 2.28244654400796*sin(ρ(t))*Derivative(ρ(t), t)**2 - 5.96718050721034*cos(θ(t))*Derivative(θ(t), (t, 2)) - 2.28244654400796*cos(ρ(t))*Derivative(ρ(t), (t, 2)) + 0.238687220288414*Derivative(ρ(t), t) + 3.89060169070114*Derivative(ρ(t), (t, 2)) - 0.764130614951102*Derivative(φ(t), t)"
      ]
     },
     "execution_count": 43,
     "metadata": {},
     "output_type": "execute_result"
    }
   ],
   "source": [
    "f_dφ_c"
   ]
  },
  {
   "cell_type": "code",
   "execution_count": 44,
   "metadata": {},
   "outputs": [],
   "source": [
    "precision = 2\n",
    "\n",
    "ddx = [0,0,0]\n",
    "\n",
    "def update_ddx(ddx_in):\n",
    "    ddx = ddx_in\n",
    "\n",
    "def limit_ddx(ret, max_value):\n",
    "    if (ret[1] > max_value):\n",
    "        ret[1] = max_value\n",
    "    if (ret[1] < -1 *max_value):\n",
    "        ret[1] = -1 *max_value\n",
    "    if (ret[3] > max_value):\n",
    "        ret[3] = max_value\n",
    "    if (ret[3] < -1 *max_value):\n",
    "        ret[3] = -1 *max_value\n",
    "    if (ret[5] > max_value):\n",
    "        ret[5] = max_value\n",
    "    if (ret[5] < -1 *max_value):\n",
    "        ret[5] = -1 *max_value\n",
    "    return ret\n",
    "\n",
    "def limit_dx(ret, max_value):\n",
    "    if (ret[0] > max_value):\n",
    "        ret[0] = max_value\n",
    "    if (ret[0] < -1 *max_value):\n",
    "        ret[0] = -1 *max_value\n",
    "    if (ret[2] > max_value):\n",
    "        ret[2] = max_value\n",
    "    if (ret[2] < -1 *max_value):\n",
    "        ret[2] = -1 *max_value\n",
    "    if (ret[4] > max_value):\n",
    "        ret[4] = max_value\n",
    "    if (ret[4] < -1 *max_value):\n",
    "        ret[4] = -1 *max_value\n",
    "    return ret\n",
    "\n",
    "def apply_deq(y, t):\n",
    "    ret = np.zeros(6)\n",
    "    ret[0] = y[1]\n",
    "    ret[2] = y[3]\n",
    "    ret[4] = y[5]\n",
    "    ret = limit_dx(ret, 100)\n",
    "\n",
    "    for _ in range(precision):\n",
    "        ret[1] = linearice(f_dθ_c, y, ddx)\n",
    "        ret[3] = linearice(f_dρ_c, y, ddx)\n",
    "        ret[5] = linearice(f_dφ_c, y, ddx)\n",
    "        ret = limit_ddx(ret, 100)\n",
    "        update_ddx([ret[1], ret[3], ret[5]])\n",
    "    return ret\n",
    "\n",
    "update_ddx([0,0,0])\n",
    "solution_up_deq = integrate.odeint(apply_deq, x_0_up, timeline)\n",
    "\n",
    "update_ddx([0,0,0])\n",
    "solution_down_deq = integrate.odeint(apply_deq, x_0_down, timeline)"
   ]
  },
  {
   "cell_type": "code",
   "execution_count": 45,
   "metadata": {},
   "outputs": [
    {
     "name": "stdout",
     "output_type": "stream",
     "text": [
      "Uncontrolled Pendulum\n"
     ]
    },
    {
     "data": {
      "image/png": "[encoded data removed]",
      "text/plain": [
       "<Figure size 432x288 with 4 Axes>"
      ]
     },
     "metadata": {
      "needs_background": "light"
     },
     "output_type": "display_data"
    }
   ],
   "source": [
    "import matplotlib.pyplot as plt\n",
    "\n",
    "states = state_x\n",
    "fig, axs = plt.subplots(2, 2)\n",
    "\n",
    "for row, state in enumerate(states):\n",
    "    axs[0, 0].plot(timeline, solution_up_lin[:, row], label=str(state))\n",
    "\n",
    "for row, state in enumerate(states):\n",
    "    axs[0, 1].plot(timeline, solution_down_lin[:, row], label=str(state))\n",
    "\n",
    "for row, state in enumerate(states):\n",
    "    axs[1, 0].plot(timeline, solution_up_deq[:, row], label=str(state))\n",
    "\n",
    "for row, state in enumerate(states):\n",
    "    axs[1, 1].plot(timeline, solution_down_deq[:, row], label=str(state))\n",
    "\n",
    "#for i in range(len(axs)):\n",
    "#    for j in range(len(axs[0])):\n",
    "#        axs[i,j].axis([-0.01, timeline[-1] + 0.01, -(math.pi * 2 + 0.1), math.pi * 2 + 0.1])\n",
    "\n",
    "\n",
    "axs[0,0].legend()\n",
    "axs[0,0].set_ylabel(\"linearized A\")\n",
    "axs[1,0].set_ylabel(\"differential eqs\")\n",
    "axs[1,0].set_xlabel(\"pendulum up\")\n",
    "axs[1,1].set_xlabel(\"pendulum down\")\n",
    "\n",
    "plt.plot()\n",
    "\n",
    "print(\"Uncontrolled Pendulum\")"
   ]
  },
  {
   "cell_type": "code",
   "execution_count": 46,
   "metadata": {},
   "outputs": [],
   "source": [
    "def apply(y_k, t):\n",
    "    return A_local.dot(y_k) - np.array(B * K) @ y_k\n",
    "\n",
    "A_local = A_j_up\n",
    "K = K_up\n",
    "\n",
    "solution_up_lin_k = integrate.odeint(apply, x_0_up, timeline)\n",
    "\n",
    "A_local = A_j_down\n",
    "K = K_down\n",
    "\n",
    "solution_down_lin_k = integrate.odeint(apply, x_0_down, timeline)"
   ]
  },
  {
   "cell_type": "code",
   "execution_count": 47,
   "metadata": {},
   "outputs": [],
   "source": [
    "def apply_deq_k(y_k, t):\n",
    "    retA = apply_deq(y_k, t)\n",
    "    retK = np.array(B * K) @ y_k\n",
    "    return retA - retK\n",
    "\n",
    "K = K_up\n",
    "solution_up_deq_k = integrate.odeint(apply_deq, x_0_up, timeline)\n",
    "\n",
    "K = K_down\n",
    "solution_down_deq_k = integrate.odeint(apply_deq, x_0_down, timeline)"
   ]
  },
  {
   "cell_type": "code",
   "execution_count": 48,
   "metadata": {},
   "outputs": [
    {
     "name": "stdout",
     "output_type": "stream",
     "text": [
      "Controlled Pendulum\n"
     ]
    },
    {
     "data": {
      "image/png": "[encoded data removed]",
      "text/plain": [
       "<Figure size 432x288 with 4 Axes>"
      ]
     },
     "metadata": {
      "needs_background": "light"
     },
     "output_type": "display_data"
    }
   ],
   "source": [
    "fig, axs = plt.subplots(2, 2)\n",
    "\n",
    "for row, state in enumerate(states):\n",
    "    axs[0, 0].plot(timeline, solution_up_lin_k[:, row], label=str(state))\n",
    "\n",
    "for row, state in enumerate(states):\n",
    "    axs[0, 1].plot(timeline, solution_down_lin_k[:, row], label=str(state))\n",
    "\n",
    "for row, state in enumerate(states):\n",
    "    axs[1, 0].plot(timeline, solution_up_deq_k[:, row], label=str(state))\n",
    "\n",
    "for row, state in enumerate(states):\n",
    "    axs[1, 1].plot(timeline, solution_down_deq_k[:, row], label=str(state))\n",
    "\n",
    "for i in range(len(axs)):\n",
    "    for j in range(len(axs[0])):\n",
    "        axs[i,j].axis([-0.01, timeline[-1] + 0.01, -(math.pi * 2 + 0.1), math.pi * 2 + 0.1])\n",
    "\n",
    "axs[0,1].legend()\n",
    "axs[0,0].set_ylabel(\"linearized A\")\n",
    "axs[1,0].set_ylabel(\"differential eqs\")\n",
    "axs[1,0].set_xlabel(\"pendulum up\")\n",
    "axs[1,1].set_xlabel(\"pendulum down\")\n",
    "\n",
    "plt.plot()\n",
    "\n",
    "print(\"Controlled Pendulum\")"
   ]
  },
  {
   "cell_type": "code",
   "execution_count": 49,
   "metadata": {},
   "outputs": [
    {
     "name": "stdout",
     "output_type": "stream",
     "text": [
      "Controlled Pendulum (Zoom)\n"
     ]
    },
    {
     "data": {
      "image/png": "[encoded data removed]",
      "text/plain": [
       "<Figure size 432x288 with 4 Axes>"
      ]
     },
     "metadata": {
      "needs_background": "light"
     },
     "output_type": "display_data"
    }
   ],
   "source": [
    "fig, axs = plt.subplots(2, 2)\n",
    "\n",
    "for row, state in enumerate(states):\n",
    "    axs[0, 0].plot(timeline, solution_up_lin_k[:, row], label=str(state))\n",
    "\n",
    "for row, state in enumerate(states):\n",
    "    axs[0, 1].plot(timeline, solution_down_lin_k[:, row], label=str(state))\n",
    "\n",
    "for row, state in enumerate(states):\n",
    "    axs[1, 0].plot(timeline, solution_up_deq_k[:, row], label=str(state))\n",
    "\n",
    "for row, state in enumerate(states):\n",
    "    axs[1, 1].plot(timeline, solution_down_deq_k[:, row], label=str(state))\n",
    "\n",
    "axs[0,1].legend()\n",
    "axs[0,0].set_ylabel(\"linearized A\")\n",
    "axs[1,0].set_ylabel(\"differential eqs\")\n",
    "axs[1,0].set_xlabel(\"pendulum up\")\n",
    "axs[1,1].set_xlabel(\"pendulum down\")\n",
    "\n",
    "plt.plot()\n",
    "\n",
    "print(\"Controlled Pendulum (Zoom)\")"
   ]
  }
 ],
 "metadata": {
  "kernelspec": {
   "display_name": "Python 3",
   "language": "python",
   "name": "python3"
  },
  "language_info": {
   "codemirror_mode": {
    "name": "ipython",
    "version": 3
   },
   "file_extension": ".py",
   "mimetype": "text/x-python",
   "name": "python",
   "nbconvert_exporter": "python",
   "pygments_lexer": "ipython3",
   "version": "3.8.4"
  }
 },
 "nbformat": 4,
 "nbformat_minor": 4
}
