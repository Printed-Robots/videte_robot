{
 "cells": [
  {
   "cell_type": "code",
   "execution_count": 1,
   "metadata": {},
   "outputs": [
    {
     "name": "stdout",
     "output_type": "stream",
     "text": [
      "Traceback (most recent call last):\n",
      "  File \"inverted_pendulum_kinematics_cleanup.py\", line 1, in <module>\n",
      "    from vpython import *\n",
      "ModuleNotFoundError: No module named 'vpython'\n"
     ]
    }
   ],
   "source": []
  },
  {
   "cell_type": "code",
   "execution_count": 1,
   "metadata": {},
   "outputs": [
    {
     "name": "stdout",
     "output_type": "stream",
     "text": [
      "Collecting package metadata (current_repodata.json): done\n",
      "Solving environment: done\n",
      "\n",
      "## Package Plan ##\n",
      "\n",
      "  environment location: /opt/conda\n",
      "\n",
      "  added / updated specs:\n",
      "    - control\n",
      "    - slycot\n",
      "    - vpython\n",
      "\n",
      "\n",
      "The following packages will be downloaded:\n",
      "\n",
      "    package                    |            build\n",
      "    ---------------------------|-----------------\n",
      "    aiohttp-3.6.2              |   py38h516909a_0         630 KB  conda-forge\n",
      "    async-timeout-3.0.1        |          py_1000          11 KB  conda-forge\n",
      "    autobahn-20.7.1            |             py_0         740 KB  conda-forge\n",
      "    control-0.8.3              |           py38_1         351 KB  conda-forge\n",
      "    dbus-1.13.6                |       he372182_0         602 KB  conda-forge\n",
      "    expat-2.2.9                |       he1b5a44_2         191 KB  conda-forge\n",
      "    gst-plugins-base-1.14.5    |       h0935bb2_2         6.8 MB  conda-forge\n",
      "    gstreamer-1.14.5           |       h36ae1b5_2         4.5 MB  conda-forge\n",
      "    jupyter-1.0.0              |             py_2           4 KB  conda-forge\n",
      "    jupyter-server-proxy-1.5.0 |             py_0          17 KB  conda-forge\n",
      "    jupyter_console-6.1.0      |             py_1          21 KB  conda-forge\n",
      "    libclang-9.0.1             |default_hde54327_0        22.3 MB  conda-forge\n",
      "    libllvm9-9.0.1             |       he513fc3_1        25.1 MB  conda-forge\n",
      "    libxkbcommon-0.10.0        |       he1b5a44_0         475 KB  conda-forge\n",
      "    multidict-4.7.5            |   py38h1e0a361_1          71 KB  conda-forge\n",
      "    nspr-4.27                  |       he1b5a44_0         1.6 MB  conda-forge\n",
      "    nss-3.47                   |       he751ad9_0         1.9 MB  conda-forge\n",
      "    prompt_toolkit-3.0.5       |                1           4 KB  conda-forge\n",
      "    pyqt-5.12.3                |   py38ha8c2ead_3         6.5 MB  conda-forge\n",
      "    qt-5.12.5                  |       hd8c4c69_1        99.2 MB  conda-forge\n",
      "    qtconsole-4.7.5            |     pyh9f0ad1d_0          88 KB  conda-forge\n",
      "    qtpy-1.9.0                 |             py_0          34 KB  conda-forge\n",
      "    simpervisor-0.3            |             py_1           8 KB  conda-forge\n",
      "    slycot-0.4.0.0             |   py38h8872ae6_1         676 KB  conda-forge\n",
      "    txaio-20.3.1               |             py_0          21 KB  conda-forge\n",
      "    vpython-7.6.1              |   py38h516909a_0         3.4 MB  conda-forge\n",
      "    yarl-1.4.2                 |   py38h516909a_0         139 KB  conda-forge\n",
      "    ------------------------------------------------------------\n",
      "                                           Total:       175.3 MB\n",
      "\n",
      "The following NEW packages will be INSTALLED:\n",
      "\n",
      "  aiohttp            conda-forge/linux-64::aiohttp-3.6.2-py38h516909a_0\n",
      "  async-timeout      conda-forge/noarch::async-timeout-3.0.1-py_1000\n",
      "  autobahn           conda-forge/noarch::autobahn-20.7.1-py_0\n",
      "  control            conda-forge/linux-64::control-0.8.3-py38_1\n",
      "  dbus               conda-forge/linux-64::dbus-1.13.6-he372182_0\n",
      "  expat              conda-forge/linux-64::expat-2.2.9-he1b5a44_2\n",
      "  gst-plugins-base   conda-forge/linux-64::gst-plugins-base-1.14.5-h0935bb2_2\n",
      "  gstreamer          conda-forge/linux-64::gstreamer-1.14.5-h36ae1b5_2\n",
      "  jupyter            conda-forge/noarch::jupyter-1.0.0-py_2\n",
      "  jupyter-server-pr~ conda-forge/noarch::jupyter-server-proxy-1.5.0-py_0\n",
      "  jupyter_console    conda-forge/noarch::jupyter_console-6.1.0-py_1\n",
      "  libclang           conda-forge/linux-64::libclang-9.0.1-default_hde54327_0\n",
      "  libllvm9           conda-forge/linux-64::libllvm9-9.0.1-he513fc3_1\n",
      "  libxkbcommon       conda-forge/linux-64::libxkbcommon-0.10.0-he1b5a44_0\n",
      "  multidict          conda-forge/linux-64::multidict-4.7.5-py38h1e0a361_1\n",
      "  nspr               conda-forge/linux-64::nspr-4.27-he1b5a44_0\n",
      "  nss                conda-forge/linux-64::nss-3.47-he751ad9_0\n",
      "  prompt_toolkit     conda-forge/noarch::prompt_toolkit-3.0.5-1\n",
      "  pyqt               conda-forge/linux-64::pyqt-5.12.3-py38ha8c2ead_3\n",
      "  qt                 conda-forge/linux-64::qt-5.12.5-hd8c4c69_1\n",
      "  qtconsole          conda-forge/noarch::qtconsole-4.7.5-pyh9f0ad1d_0\n",
      "  qtpy               conda-forge/noarch::qtpy-1.9.0-py_0\n",
      "  simpervisor        conda-forge/noarch::simpervisor-0.3-py_1\n",
      "  slycot             conda-forge/linux-64::slycot-0.4.0.0-py38h8872ae6_1\n",
      "  txaio              conda-forge/noarch::txaio-20.3.1-py_0\n",
      "  vpython            conda-forge/linux-64::vpython-7.6.1-py38h516909a_0\n",
      "  yarl               conda-forge/linux-64::yarl-1.4.2-py38h516909a_0\n",
      "\n",
      "\n",
      "\n",
      "Downloading and Extracting Packages\n",
      "jupyter-server-proxy | 17 KB     | ##################################### | 100% \n",
      "async-timeout-3.0.1  | 11 KB     | ##################################### | 100% \n",
      "autobahn-20.7.1      | 740 KB    | ##################################### | 100% \n",
      "prompt_toolkit-3.0.5 | 4 KB      | ##################################### | 100% \n",
      "dbus-1.13.6          | 602 KB    | ##################################### | 100% \n",
      "aiohttp-3.6.2        | 630 KB    | ##################################### | 100% \n",
      "slycot-0.4.0.0       | 676 KB    | ##################################### | 100% \n",
      "jupyter-1.0.0        | 4 KB      | ##################################### | 100% \n",
      "libxkbcommon-0.10.0  | 475 KB    | ##################################### | 100% \n",
      "libclang-9.0.1       | 22.3 MB   | ##################################### | 100% \n",
      "expat-2.2.9          | 191 KB    | ##################################### | 100% \n",
      "qt-5.12.5            | 99.2 MB   | ##################################### | 100% \n",
      "gstreamer-1.14.5     | 4.5 MB    | ##################################### | 100% \n",
      "qtpy-1.9.0           | 34 KB     | ##################################### | 100% \n",
      "jupyter_console-6.1. | 21 KB     | ##################################### | 100% \n",
      "yarl-1.4.2           | 139 KB    | ##################################### | 100% \n",
      "gst-plugins-base-1.1 | 6.8 MB    | ##################################### | 100% \n",
      "txaio-20.3.1         | 21 KB     | ##################################### | 100% \n",
      "libllvm9-9.0.1       | 25.1 MB   | ##################################### | 100% \n",
      "nspr-4.27            | 1.6 MB    | ##################################### | 100% \n",
      "vpython-7.6.1        | 3.4 MB    | ##################################### | 100% \n",
      "qtconsole-4.7.5      | 88 KB     | ##################################### | 100% \n",
      "nss-3.47             | 1.9 MB    | ##################################### | 100% \n",
      "simpervisor-0.3      | 8 KB      | ##################################### | 100% \n",
      "multidict-4.7.5      | 71 KB     | ##################################### | 100% \n",
      "pyqt-5.12.3          | 6.5 MB    | ##################################### | 100% \n",
      "control-0.8.3        | 351 KB    | ##################################### | 100% \n",
      "Preparing transaction: done\n",
      "Verifying transaction: done\n",
      "Executing transaction: done\n"
     ]
    }
   ],
   "source": [
    "!conda install -y vpython control slycot"
   ]
  },
  {
   "cell_type": "code",
   "execution_count": null,
   "metadata": {},
   "outputs": [
    {
     "name": "stdout",
     "output_type": "stream",
     "text": [
      "Rank is 6\n",
      "[[-356.59311628  -59.31996526   15.86393468   -3.0958639   -31.6227766\n",
      "    -7.59638717]]\n",
      "[[-2.54930585e+01 -7.28036658e+00  4.79218663e-01 -3.20213248e-03\n",
      "  -1.00000000e+00 -2.60718140e-01]]\n",
      "100%|███████████████████████████████████████| 1000/1000 [00:18<00:00, 55.08it/s]\n"
     ]
    }
   ],
   "source": [
    "!python inverted_pendulum_kinematics_cleanup.py"
   ]
  }
 ],
 "metadata": {
  "kernelspec": {
   "display_name": "Python 3",
   "language": "python",
   "name": "python3"
  },
  "language_info": {
   "codemirror_mode": {
    "name": "ipython",
    "version": 3
   },
   "file_extension": ".py",
   "mimetype": "text/x-python",
   "name": "python",
   "nbconvert_exporter": "python",
   "pygments_lexer": "ipython3",
   "version": "3.8.4"
  }
 },
 "nbformat": 4,
 "nbformat_minor": 4
}
