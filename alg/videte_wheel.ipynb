{
 "cells": [
  {
   "cell_type": "markdown",
   "metadata": {},
   "source": [
    "# Videte Wheel\n",
    "## Install Requirements"
   ]
  },
  {
   "cell_type": "code",
   "execution_count": 1,
   "metadata": {},
   "outputs": [
    {
     "name": "stdout",
     "output_type": "stream",
     "text": [
      "Collecting package metadata (current_repodata.json): done\n",
      "Solving environment: done\n",
      "\n",
      "# All requested packages already installed.\n",
      "\n"
     ]
    }
   ],
   "source": [
    "!conda install -y control slycot tqdm"
   ]
  },
  {
   "cell_type": "markdown",
   "metadata": {},
   "source": [
    "## Videte Wheel Kinematics\n",
    "### Basic Definitions"
   ]
  },
  {
   "cell_type": "code",
   "execution_count": 2,
   "metadata": {},
   "outputs": [],
   "source": [
    "import sympy\n",
    "\n",
    "# Declare Time\n",
    "t = sympy.symbols('t')\n",
    "\n",
    "# Declare Functions\n",
    "y = sympy.Function('y')(t)\n",
    "θ = sympy.Function('θ')(t)\n",
    "ρ = sympy.Function('ρ')(t)\n",
    "φ = sympy.Function('φ')(t)\n",
    "\n",
    "# Declare Masses\n",
    "m_ow, m_ow_rot, m_iw, m_iw_rot, m_m = sympy.symbols('m_ow m_owr m_iw m_iwr m_m')\n",
    "\n",
    "# Declare Dimensions\n",
    "l_iw_m, r_1, r_2, r_3 = sympy.symbols('l_iwm r_1 r_2 r_3')\n",
    "l_ow_iw = r_2 - r_1\n",
    "\n",
    "# Declare Gravity\n",
    "g = sympy.symbols('g')"
   ]
  },
  {
   "cell_type": "code",
   "execution_count": 3,
   "metadata": {},
   "outputs": [],
   "source": [
    "# Gear ratio\n",
    "i_gear = r_2 / r_1\n",
    "\n",
    "# Linking rotation of outer and inner wheel\n",
    "φ_iw = φ\n",
    "φ_ow = (1/i_gear) * φ_iw\n",
    "\n",
    "ω = φ.diff(t)\n",
    "ω_iw = ω\n",
    "ω_ow = φ_ow.diff(t)"
   ]
  },
  {
   "cell_type": "code",
   "execution_count": 4,
   "metadata": {},
   "outputs": [],
   "source": [
    "# Y positions\n",
    "y_ow = r_3 + y\n",
    "y_iw = y_ow - l_ow_iw * sympy.cos(ρ)\n",
    "y_m = y_iw + l_iw_m * sympy.cos(θ)\n",
    "\n",
    "# Rotation based x movement\n",
    "# TODO: Check to be correct\n",
    "x = r_3 * (φ_ow - ρ)\n",
    "\n",
    "# X positions\n",
    "x_ow = x\n",
    "x_iw = x_ow + l_ow_iw * sympy.sin(ρ)\n",
    "x_m = x_iw + l_iw_m * sympy.sin(θ)"
   ]
  },
  {
   "cell_type": "markdown",
   "metadata": {},
   "source": [
    "### State X"
   ]
  },
  {
   "cell_type": "code",
   "execution_count": 5,
   "metadata": {},
   "outputs": [
    {
     "data": {
      "text/plain": [
       "[θ(t),\n",
       " Derivative(θ(t), t),\n",
       " ρ(t),\n",
       " Derivative(ρ(t), t),\n",
       " φ(t),\n",
       " Derivative(φ(t), t)]"
      ]
     },
     "execution_count": 5,
     "metadata": {},
     "output_type": "execute_result"
    }
   ],
   "source": [
    "state_x = [θ, θ.diff(t), ρ, ρ.diff(t), φ, φ.diff(t)]\n",
    "\n",
    "state_x"
   ]
  },
  {
   "cell_type": "markdown",
   "metadata": {},
   "source": [
    "### Potential Energy"
   ]
  },
  {
   "cell_type": "code",
   "execution_count": 6,
   "metadata": {},
   "outputs": [
    {
     "data": {
      "text/latex": [
       "$\\displaystyle g \\left(m_{iw} \\left(r_{3} - \\left(- r_{1} + r_{2}\\right) \\cos{\\left(ρ{\\left(t \\right)} \\right)} + y{\\left(t \\right)}\\right) + m_{m} \\left(l_{iwm} \\cos{\\left(θ{\\left(t \\right)} \\right)} + r_{3} - \\left(- r_{1} + r_{2}\\right) \\cos{\\left(ρ{\\left(t \\right)} \\right)} + y{\\left(t \\right)}\\right) + m_{ow} \\left(r_{3} + y{\\left(t \\right)}\\right)\\right)$"
      ],
      "text/plain": [
       "g*(m_iw*(r_3 - (-r_1 + r_2)*cos(ρ(t)) + y(t)) + m_m*(l_iwm*cos(θ(t)) + r_3 - (-r_1 + r_2)*cos(ρ(t)) + y(t)) + m_ow*(r_3 + y(t)))"
      ]
     },
     "execution_count": 6,
     "metadata": {},
     "output_type": "execute_result"
    }
   ],
   "source": [
    "V = (m_m * y_m + m_ow * y_ow + m_iw * y_iw) * g\n",
    "\n",
    "V"
   ]
  },
  {
   "cell_type": "markdown",
   "metadata": {},
   "source": [
    "### Kinetic Energy"
   ]
  },
  {
   "cell_type": "code",
   "execution_count": 7,
   "metadata": {},
   "outputs": [
    {
     "data": {
      "text/latex": [
       "$\\displaystyle 0.5 d_{iw} \\int \\left(\\frac{d}{d t} ρ{\\left(t \\right)}\\right)^{2}\\, dt + 0.5 d_{iwr} \\int \\left(\\frac{d}{d t} φ{\\left(t \\right)}\\right)^{2}\\, dt + 0.5 d_{m} \\int \\left(\\frac{d}{d t} θ{\\left(t \\right)}\\right)^{2}\\, dt + \\frac{0.5 d_{ow} \\left(\\int r_{2}^{2} \\left(\\frac{d}{d t} y{\\left(t \\right)}\\right)^{2}\\, dt + \\int r_{1}^{2} r_{3}^{2} \\left(\\frac{d}{d t} φ{\\left(t \\right)}\\right)^{2}\\, dt + \\int r_{2}^{2} r_{3}^{2} \\left(\\frac{d}{d t} ρ{\\left(t \\right)}\\right)^{2}\\, dt + \\int - 2 r_{1} r_{2} r_{3}^{2} \\frac{d}{d t} ρ{\\left(t \\right)} \\frac{d}{d t} φ{\\left(t \\right)}\\, dt\\right)}{r_{2}^{2}} + \\frac{0.5 d_{owr} r_{1}^{2} \\int \\left(\\frac{d}{d t} φ{\\left(t \\right)}\\right)^{2}\\, dt}{r_{2}^{2}} + 0.5 m_{iw} \\left(\\left(r_{3} \\left(\\frac{r_{1} \\frac{d}{d t} φ{\\left(t \\right)}}{r_{2}} - \\frac{d}{d t} ρ{\\left(t \\right)}\\right) + \\left(- r_{1} + r_{2}\\right) \\cos{\\left(ρ{\\left(t \\right)} \\right)} \\frac{d}{d t} ρ{\\left(t \\right)}\\right)^{2} + \\left(- \\left(r_{1} - r_{2}\\right) \\sin{\\left(ρ{\\left(t \\right)} \\right)} \\frac{d}{d t} ρ{\\left(t \\right)} + \\frac{d}{d t} y{\\left(t \\right)}\\right)^{2}\\right) + 0.25 m_{iwr} r_{1}^{2} \\left(\\frac{d}{d t} φ{\\left(t \\right)}\\right)^{2} + 0.5 m_{m} \\left(\\left(- l_{iwm} \\sin{\\left(θ{\\left(t \\right)} \\right)} \\frac{d}{d t} θ{\\left(t \\right)} - \\left(r_{1} - r_{2}\\right) \\sin{\\left(ρ{\\left(t \\right)} \\right)} \\frac{d}{d t} ρ{\\left(t \\right)} + \\frac{d}{d t} y{\\left(t \\right)}\\right)^{2} + \\left(l_{iwm} \\cos{\\left(θ{\\left(t \\right)} \\right)} \\frac{d}{d t} θ{\\left(t \\right)} + r_{3} \\left(\\frac{r_{1} \\frac{d}{d t} φ{\\left(t \\right)}}{r_{2}} - \\frac{d}{d t} ρ{\\left(t \\right)}\\right) + \\left(- r_{1} + r_{2}\\right) \\cos{\\left(ρ{\\left(t \\right)} \\right)} \\frac{d}{d t} ρ{\\left(t \\right)}\\right)^{2}\\right) + 0.5 m_{ow} \\left(r_{3}^{2} \\left(\\frac{r_{1} \\frac{d}{d t} φ{\\left(t \\right)}}{r_{2}} - \\frac{d}{d t} ρ{\\left(t \\right)}\\right)^{2} + \\left(\\frac{d}{d t} y{\\left(t \\right)}\\right)^{2}\\right) + \\frac{0.25 m_{owr} r_{1}^{2} \\left(r_{2}^{2} + r_{3}^{2}\\right) \\left(\\frac{d}{d t} φ{\\left(t \\right)}\\right)^{2}}{r_{2}^{2}}$"
      ],
      "text/plain": [
       "0.5*d_iw*Integral(Derivative(ρ(t), t)**2, t) + 0.5*d_iwr*Integral(Derivative(φ(t), t)**2, t) + 0.5*d_m*Integral(Derivative(θ(t), t)**2, t) + 0.5*d_ow*(Integral(r_2**2*Derivative(y(t), t)**2, t) + Integral(r_1**2*r_3**2*Derivative(φ(t), t)**2, t) + Integral(r_2**2*r_3**2*Derivative(ρ(t), t)**2, t) + Integral(-2*r_1*r_2*r_3**2*Derivative(ρ(t), t)*Derivative(φ(t), t), t))/r_2**2 + 0.5*d_owr*r_1**2*Integral(Derivative(φ(t), t)**2, t)/r_2**2 + 0.5*m_iw*((r_3*(r_1*Derivative(φ(t), t)/r_2 - Derivative(ρ(t), t)) + (-r_1 + r_2)*cos(ρ(t))*Derivative(ρ(t), t))**2 + (-(r_1 - r_2)*sin(ρ(t))*Derivative(ρ(t), t) + Derivative(y(t), t))**2) + 0.25*m_iwr*r_1**2*Derivative(φ(t), t)**2 + 0.5*m_m*((-l_iwm*sin(θ(t))*Derivative(θ(t), t) - (r_1 - r_2)*sin(ρ(t))*Derivative(ρ(t), t) + Derivative(y(t), t))**2 + (l_iwm*cos(θ(t))*Derivative(θ(t), t) + r_3*(r_1*Derivative(φ(t), t)/r_2 - Derivative(ρ(t), t)) + (-r_1 + r_2)*cos(ρ(t))*Derivative(ρ(t), t))**2) + 0.5*m_ow*(r_3**2*(r_1*Derivative(φ(t), t)/r_2 - Derivative(ρ(t), t))**2 + Derivative(y(t), t)**2) + 0.25*m_owr*r_1**2*(r_2**2 + r_3**2)*Derivative(φ(t), t)**2/r_2**2"
      ]
     },
     "execution_count": 7,
     "metadata": {},
     "output_type": "execute_result"
    }
   ],
   "source": [
    "# Rotating mass inertia\n",
    "J_ow = (1/2) * m_ow_rot * (r_2**2 + r_3**2)\n",
    "J_iw = (1/2) * m_iw_rot * r_1**2\n",
    "\n",
    "# Kinetic energy of rotating cylinder\n",
    "W_owr = (1/2) * J_ow * ω_ow**2\n",
    "W_iwr = (1/2) * J_iw * ω_iw**2\n",
    "\n",
    "# Translational kinetic energy\n",
    "W_ow = (1/2) * m_ow * (sympy.diff(x_ow, t)**2 + sympy.diff(y_ow, t)**2)\n",
    "W_iw = (1/2) * m_iw * (sympy.diff(x_iw, t)**2 + sympy.diff(y_iw, t)**2)\n",
    "W_m = (1/2) * m_m * (sympy.diff(x_m, t)**2 + sympy.diff(y_m, t)**2)\n",
    "\n",
    "# Dampening (e.g. heat dissipation)\n",
    "d_ow, d_iw, d_m, d_owr, d_iwr = sympy.symbols(\n",
    "    'd_ow d_iw d_m d_owr d_iwr')\n",
    "\n",
    "W_d_ow = sympy.integrate(\n",
    "    d_ow * (1/2) * (sympy.diff(x_ow, t)**2 + sympy.diff(y_ow, t)**2), t)\n",
    "W_d_iw = sympy.integrate(d_iw * (1/2) * sympy.diff(ρ, t)**2, t)\n",
    "W_d_m = sympy.integrate((d_m * (1/2) * sympy.diff(θ, t)**2), t)\n",
    "W_d_owr = sympy.integrate(d_owr * (1/2) * ω_ow**2, t)\n",
    "W_d_iwr = sympy.integrate(d_iwr * (1/2) * ω_iw**2, t)\n",
    "\n",
    "W_heat = W_d_ow + W_d_iw + W_d_m + W_d_owr + W_d_iwr\n",
    "\n",
    "# Kinetic Energy\n",
    "T = W_ow + W_iw + W_m + W_owr + W_iwr + W_heat\n",
    "\n",
    "T"
   ]
  },
  {
   "cell_type": "markdown",
   "metadata": {},
   "source": [
    "### Lagrange Equation"
   ]
  },
  {
   "cell_type": "code",
   "execution_count": 8,
   "metadata": {},
   "outputs": [
    {
     "data": {
      "text/latex": [
       "$\\displaystyle 0.5 d_{iw} \\int \\left(\\frac{d}{d t} ρ{\\left(t \\right)}\\right)^{2}\\, dt + 0.5 d_{iwr} \\int \\left(\\frac{d}{d t} φ{\\left(t \\right)}\\right)^{2}\\, dt + 0.5 d_{m} \\int \\left(\\frac{d}{d t} θ{\\left(t \\right)}\\right)^{2}\\, dt + \\frac{0.5 d_{ow} \\left(\\int r_{2}^{2} \\left(\\frac{d}{d t} y{\\left(t \\right)}\\right)^{2}\\, dt + \\int r_{1}^{2} r_{3}^{2} \\left(\\frac{d}{d t} φ{\\left(t \\right)}\\right)^{2}\\, dt + \\int r_{2}^{2} r_{3}^{2} \\left(\\frac{d}{d t} ρ{\\left(t \\right)}\\right)^{2}\\, dt + \\int - 2 r_{1} r_{2} r_{3}^{2} \\frac{d}{d t} ρ{\\left(t \\right)} \\frac{d}{d t} φ{\\left(t \\right)}\\, dt\\right)}{r_{2}^{2}} + \\frac{0.5 d_{owr} r_{1}^{2} \\int \\left(\\frac{d}{d t} φ{\\left(t \\right)}\\right)^{2}\\, dt}{r_{2}^{2}} - g \\left(m_{iw} \\left(r_{3} - \\left(- r_{1} + r_{2}\\right) \\cos{\\left(ρ{\\left(t \\right)} \\right)} + y{\\left(t \\right)}\\right) + m_{m} \\left(l_{iwm} \\cos{\\left(θ{\\left(t \\right)} \\right)} + r_{3} - \\left(- r_{1} + r_{2}\\right) \\cos{\\left(ρ{\\left(t \\right)} \\right)} + y{\\left(t \\right)}\\right) + m_{ow} \\left(r_{3} + y{\\left(t \\right)}\\right)\\right) + 0.5 m_{iw} \\left(\\left(r_{3} \\left(\\frac{r_{1} \\frac{d}{d t} φ{\\left(t \\right)}}{r_{2}} - \\frac{d}{d t} ρ{\\left(t \\right)}\\right) + \\left(- r_{1} + r_{2}\\right) \\cos{\\left(ρ{\\left(t \\right)} \\right)} \\frac{d}{d t} ρ{\\left(t \\right)}\\right)^{2} + \\left(- \\left(r_{1} - r_{2}\\right) \\sin{\\left(ρ{\\left(t \\right)} \\right)} \\frac{d}{d t} ρ{\\left(t \\right)} + \\frac{d}{d t} y{\\left(t \\right)}\\right)^{2}\\right) + 0.25 m_{iwr} r_{1}^{2} \\left(\\frac{d}{d t} φ{\\left(t \\right)}\\right)^{2} + 0.5 m_{m} \\left(\\left(- l_{iwm} \\sin{\\left(θ{\\left(t \\right)} \\right)} \\frac{d}{d t} θ{\\left(t \\right)} - \\left(r_{1} - r_{2}\\right) \\sin{\\left(ρ{\\left(t \\right)} \\right)} \\frac{d}{d t} ρ{\\left(t \\right)} + \\frac{d}{d t} y{\\left(t \\right)}\\right)^{2} + \\left(l_{iwm} \\cos{\\left(θ{\\left(t \\right)} \\right)} \\frac{d}{d t} θ{\\left(t \\right)} + r_{3} \\left(\\frac{r_{1} \\frac{d}{d t} φ{\\left(t \\right)}}{r_{2}} - \\frac{d}{d t} ρ{\\left(t \\right)}\\right) + \\left(- r_{1} + r_{2}\\right) \\cos{\\left(ρ{\\left(t \\right)} \\right)} \\frac{d}{d t} ρ{\\left(t \\right)}\\right)^{2}\\right) + 0.5 m_{ow} \\left(r_{3}^{2} \\left(\\frac{r_{1} \\frac{d}{d t} φ{\\left(t \\right)}}{r_{2}} - \\frac{d}{d t} ρ{\\left(t \\right)}\\right)^{2} + \\left(\\frac{d}{d t} y{\\left(t \\right)}\\right)^{2}\\right) + \\frac{0.25 m_{owr} r_{1}^{2} \\left(r_{2}^{2} + r_{3}^{2}\\right) \\left(\\frac{d}{d t} φ{\\left(t \\right)}\\right)^{2}}{r_{2}^{2}}$"
      ],
      "text/plain": [
       "0.5*d_iw*Integral(Derivative(ρ(t), t)**2, t) + 0.5*d_iwr*Integral(Derivative(φ(t), t)**2, t) + 0.5*d_m*Integral(Derivative(θ(t), t)**2, t) + 0.5*d_ow*(Integral(r_2**2*Derivative(y(t), t)**2, t) + Integral(r_1**2*r_3**2*Derivative(φ(t), t)**2, t) + Integral(r_2**2*r_3**2*Derivative(ρ(t), t)**2, t) + Integral(-2*r_1*r_2*r_3**2*Derivative(ρ(t), t)*Derivative(φ(t), t), t))/r_2**2 + 0.5*d_owr*r_1**2*Integral(Derivative(φ(t), t)**2, t)/r_2**2 - g*(m_iw*(r_3 - (-r_1 + r_2)*cos(ρ(t)) + y(t)) + m_m*(l_iwm*cos(θ(t)) + r_3 - (-r_1 + r_2)*cos(ρ(t)) + y(t)) + m_ow*(r_3 + y(t))) + 0.5*m_iw*((r_3*(r_1*Derivative(φ(t), t)/r_2 - Derivative(ρ(t), t)) + (-r_1 + r_2)*cos(ρ(t))*Derivative(ρ(t), t))**2 + (-(r_1 - r_2)*sin(ρ(t))*Derivative(ρ(t), t) + Derivative(y(t), t))**2) + 0.25*m_iwr*r_1**2*Derivative(φ(t), t)**2 + 0.5*m_m*((-l_iwm*sin(θ(t))*Derivative(θ(t), t) - (r_1 - r_2)*sin(ρ(t))*Derivative(ρ(t), t) + Derivative(y(t), t))**2 + (l_iwm*cos(θ(t))*Derivative(θ(t), t) + r_3*(r_1*Derivative(φ(t), t)/r_2 - Derivative(ρ(t), t)) + (-r_1 + r_2)*cos(ρ(t))*Derivative(ρ(t), t))**2) + 0.5*m_ow*(r_3**2*(r_1*Derivative(φ(t), t)/r_2 - Derivative(ρ(t), t))**2 + Derivative(y(t), t)**2) + 0.25*m_owr*r_1**2*(r_2**2 + r_3**2)*Derivative(φ(t), t)**2/r_2**2"
      ]
     },
     "execution_count": 8,
     "metadata": {},
     "output_type": "execute_result"
    }
   ],
   "source": [
    "L = T - V\n",
    "\n",
    "L"
   ]
  },
  {
   "cell_type": "code",
   "execution_count": 9,
   "metadata": {},
   "outputs": [],
   "source": [
    "f_θ = θ.diff(t)\n",
    "L_θ = sympy.diff(sympy.diff(L, sympy.diff(θ, t)), t) - sympy.diff(L, θ)\n",
    "f_dθ = sympy.solve(L_θ, θ.diff(t, t))[0]\n",
    "\n",
    "f_ρ = ρ.diff(t)\n",
    "L_ρ = sympy.diff(sympy.diff(L, sympy.diff(ρ, t)), t) - sympy.diff(L, ρ)\n",
    "f_dρ = sympy.solve(L_ρ, ρ.diff(t, t))[0]\n",
    "\n",
    "f_φ = φ.diff(t)\n",
    "L_φ = sympy.diff(sympy.diff(L, sympy.diff(φ, t)), t) - sympy.diff(L, φ)\n",
    "f_dφ = sympy.solve(L_φ, φ.diff(t, t))[0]"
   ]
  },
  {
   "cell_type": "code",
   "execution_count": 10,
   "metadata": {},
   "outputs": [
    {
     "data": {
      "text/latex": [
       "$\\displaystyle - \\frac{d_{m} \\frac{d}{d t} θ{\\left(t \\right)}}{l_{iwm}^{2} m_{m}} + \\frac{g \\sin{\\left(θ{\\left(t \\right)} \\right)}}{l_{iwm}} - \\frac{r_{1} \\sin{\\left(θ{\\left(t \\right)} + ρ{\\left(t \\right)} \\right)} \\left(\\frac{d}{d t} ρ{\\left(t \\right)}\\right)^{2}}{l_{iwm}} + \\frac{r_{1} \\cos{\\left(θ{\\left(t \\right)} + ρ{\\left(t \\right)} \\right)} \\frac{d^{2}}{d t^{2}} ρ{\\left(t \\right)}}{l_{iwm}} - \\frac{r_{1} r_{3} \\cos{\\left(θ{\\left(t \\right)} \\right)} \\frac{d^{2}}{d t^{2}} φ{\\left(t \\right)}}{l_{iwm} r_{2}} + \\frac{r_{2} \\sin{\\left(θ{\\left(t \\right)} + ρ{\\left(t \\right)} \\right)} \\left(\\frac{d}{d t} ρ{\\left(t \\right)}\\right)^{2}}{l_{iwm}} - \\frac{r_{2} \\cos{\\left(θ{\\left(t \\right)} + ρ{\\left(t \\right)} \\right)} \\frac{d^{2}}{d t^{2}} ρ{\\left(t \\right)}}{l_{iwm}} + \\frac{r_{3} \\cos{\\left(θ{\\left(t \\right)} \\right)} \\frac{d^{2}}{d t^{2}} ρ{\\left(t \\right)}}{l_{iwm}} + \\frac{\\sin{\\left(θ{\\left(t \\right)} \\right)} \\frac{d^{2}}{d t^{2}} y{\\left(t \\right)}}{l_{iwm}}$"
      ],
      "text/plain": [
       "-d_m*Derivative(θ(t), t)/(l_iwm**2*m_m) + g*sin(θ(t))/l_iwm - r_1*sin(θ(t) + ρ(t))*Derivative(ρ(t), t)**2/l_iwm + r_1*cos(θ(t) + ρ(t))*Derivative(ρ(t), (t, 2))/l_iwm - r_1*r_3*cos(θ(t))*Derivative(φ(t), (t, 2))/(l_iwm*r_2) + r_2*sin(θ(t) + ρ(t))*Derivative(ρ(t), t)**2/l_iwm - r_2*cos(θ(t) + ρ(t))*Derivative(ρ(t), (t, 2))/l_iwm + r_3*cos(θ(t))*Derivative(ρ(t), (t, 2))/l_iwm + sin(θ(t))*Derivative(y(t), (t, 2))/l_iwm"
      ]
     },
     "execution_count": 10,
     "metadata": {},
     "output_type": "execute_result"
    }
   ],
   "source": [
    "f_dθ"
   ]
  },
  {
   "cell_type": "code",
   "execution_count": 11,
   "metadata": {},
   "outputs": [
    {
     "data": {
      "text/latex": [
       "$\\displaystyle \\frac{- d_{iw} r_{2} \\frac{d}{d t} ρ{\\left(t \\right)} + d_{ow} r_{1} r_{3}^{2} \\frac{d}{d t} φ{\\left(t \\right)} - d_{ow} r_{2} r_{3}^{2} \\frac{d}{d t} ρ{\\left(t \\right)} + g m_{iw} r_{1} r_{2} \\sin{\\left(ρ{\\left(t \\right)} \\right)} - g m_{iw} r_{2}^{2} \\sin{\\left(ρ{\\left(t \\right)} \\right)} + g m_{m} r_{1} r_{2} \\sin{\\left(ρ{\\left(t \\right)} \\right)} - g m_{m} r_{2}^{2} \\sin{\\left(ρ{\\left(t \\right)} \\right)} - l_{iwm} m_{m} r_{1} r_{2} \\sin{\\left(θ{\\left(t \\right)} + ρ{\\left(t \\right)} \\right)} \\left(\\frac{d}{d t} θ{\\left(t \\right)}\\right)^{2} + l_{iwm} m_{m} r_{1} r_{2} \\cos{\\left(θ{\\left(t \\right)} + ρ{\\left(t \\right)} \\right)} \\frac{d^{2}}{d t^{2}} θ{\\left(t \\right)} + l_{iwm} m_{m} r_{2}^{2} \\sin{\\left(θ{\\left(t \\right)} + ρ{\\left(t \\right)} \\right)} \\left(\\frac{d}{d t} θ{\\left(t \\right)}\\right)^{2} - l_{iwm} m_{m} r_{2}^{2} \\cos{\\left(θ{\\left(t \\right)} + ρ{\\left(t \\right)} \\right)} \\frac{d^{2}}{d t^{2}} θ{\\left(t \\right)} - l_{iwm} m_{m} r_{2} r_{3} \\sin{\\left(θ{\\left(t \\right)} \\right)} \\left(\\frac{d}{d t} θ{\\left(t \\right)}\\right)^{2} + l_{iwm} m_{m} r_{2} r_{3} \\cos{\\left(θ{\\left(t \\right)} \\right)} \\frac{d^{2}}{d t^{2}} θ{\\left(t \\right)} + m_{iw} r_{1}^{2} r_{3} \\cos{\\left(ρ{\\left(t \\right)} \\right)} \\frac{d^{2}}{d t^{2}} φ{\\left(t \\right)} + m_{iw} r_{1} r_{2} r_{3} \\sin{\\left(ρ{\\left(t \\right)} \\right)} \\left(\\frac{d}{d t} ρ{\\left(t \\right)}\\right)^{2} - m_{iw} r_{1} r_{2} r_{3} \\cos{\\left(ρ{\\left(t \\right)} \\right)} \\frac{d^{2}}{d t^{2}} φ{\\left(t \\right)} + m_{iw} r_{1} r_{2} \\sin{\\left(ρ{\\left(t \\right)} \\right)} \\frac{d^{2}}{d t^{2}} y{\\left(t \\right)} + m_{iw} r_{1} r_{3}^{2} \\frac{d^{2}}{d t^{2}} φ{\\left(t \\right)} - m_{iw} r_{2}^{2} r_{3} \\sin{\\left(ρ{\\left(t \\right)} \\right)} \\left(\\frac{d}{d t} ρ{\\left(t \\right)}\\right)^{2} - m_{iw} r_{2}^{2} \\sin{\\left(ρ{\\left(t \\right)} \\right)} \\frac{d^{2}}{d t^{2}} y{\\left(t \\right)} + m_{m} r_{1}^{2} r_{3} \\cos{\\left(ρ{\\left(t \\right)} \\right)} \\frac{d^{2}}{d t^{2}} φ{\\left(t \\right)} + m_{m} r_{1} r_{2} r_{3} \\sin{\\left(ρ{\\left(t \\right)} \\right)} \\left(\\frac{d}{d t} ρ{\\left(t \\right)}\\right)^{2} - m_{m} r_{1} r_{2} r_{3} \\cos{\\left(ρ{\\left(t \\right)} \\right)} \\frac{d^{2}}{d t^{2}} φ{\\left(t \\right)} + m_{m} r_{1} r_{2} \\sin{\\left(ρ{\\left(t \\right)} \\right)} \\frac{d^{2}}{d t^{2}} y{\\left(t \\right)} + m_{m} r_{1} r_{3}^{2} \\frac{d^{2}}{d t^{2}} φ{\\left(t \\right)} - m_{m} r_{2}^{2} r_{3} \\sin{\\left(ρ{\\left(t \\right)} \\right)} \\left(\\frac{d}{d t} ρ{\\left(t \\right)}\\right)^{2} - m_{m} r_{2}^{2} \\sin{\\left(ρ{\\left(t \\right)} \\right)} \\frac{d^{2}}{d t^{2}} y{\\left(t \\right)} + m_{ow} r_{1} r_{3}^{2} \\frac{d^{2}}{d t^{2}} φ{\\left(t \\right)}}{r_{2} \\left(m_{iw} r_{1}^{2} - 2.0 m_{iw} r_{1} r_{2} + 2.0 m_{iw} r_{1} r_{3} \\cos{\\left(ρ{\\left(t \\right)} \\right)} + m_{iw} r_{2}^{2} - 2.0 m_{iw} r_{2} r_{3} \\cos{\\left(ρ{\\left(t \\right)} \\right)} + m_{iw} r_{3}^{2} + m_{m} r_{1}^{2} - 2.0 m_{m} r_{1} r_{2} + 2.0 m_{m} r_{1} r_{3} \\cos{\\left(ρ{\\left(t \\right)} \\right)} + m_{m} r_{2}^{2} - 2.0 m_{m} r_{2} r_{3} \\cos{\\left(ρ{\\left(t \\right)} \\right)} + m_{m} r_{3}^{2} + m_{ow} r_{3}^{2}\\right)}$"
      ],
      "text/plain": [
       "(-d_iw*r_2*Derivative(ρ(t), t) + d_ow*r_1*r_3**2*Derivative(φ(t), t) - d_ow*r_2*r_3**2*Derivative(ρ(t), t) + g*m_iw*r_1*r_2*sin(ρ(t)) - g*m_iw*r_2**2*sin(ρ(t)) + g*m_m*r_1*r_2*sin(ρ(t)) - g*m_m*r_2**2*sin(ρ(t)) - l_iwm*m_m*r_1*r_2*sin(θ(t) + ρ(t))*Derivative(θ(t), t)**2 + l_iwm*m_m*r_1*r_2*cos(θ(t) + ρ(t))*Derivative(θ(t), (t, 2)) + l_iwm*m_m*r_2**2*sin(θ(t) + ρ(t))*Derivative(θ(t), t)**2 - l_iwm*m_m*r_2**2*cos(θ(t) + ρ(t))*Derivative(θ(t), (t, 2)) - l_iwm*m_m*r_2*r_3*sin(θ(t))*Derivative(θ(t), t)**2 + l_iwm*m_m*r_2*r_3*cos(θ(t))*Derivative(θ(t), (t, 2)) + m_iw*r_1**2*r_3*cos(ρ(t))*Derivative(φ(t), (t, 2)) + m_iw*r_1*r_2*r_3*sin(ρ(t))*Derivative(ρ(t), t)**2 - m_iw*r_1*r_2*r_3*cos(ρ(t))*Derivative(φ(t), (t, 2)) + m_iw*r_1*r_2*sin(ρ(t))*Derivative(y(t), (t, 2)) + m_iw*r_1*r_3**2*Derivative(φ(t), (t, 2)) - m_iw*r_2**2*r_3*sin(ρ(t))*Derivative(ρ(t), t)**2 - m_iw*r_2**2*sin(ρ(t))*Derivative(y(t), (t, 2)) + m_m*r_1**2*r_3*cos(ρ(t))*Derivative(φ(t), (t, 2)) + m_m*r_1*r_2*r_3*sin(ρ(t))*Derivative(ρ(t), t)**2 - m_m*r_1*r_2*r_3*cos(ρ(t))*Derivative(φ(t), (t, 2)) + m_m*r_1*r_2*sin(ρ(t))*Derivative(y(t), (t, 2)) + m_m*r_1*r_3**2*Derivative(φ(t), (t, 2)) - m_m*r_2**2*r_3*sin(ρ(t))*Derivative(ρ(t), t)**2 - m_m*r_2**2*sin(ρ(t))*Derivative(y(t), (t, 2)) + m_ow*r_1*r_3**2*Derivative(φ(t), (t, 2)))/(r_2*(m_iw*r_1**2 - 2.0*m_iw*r_1*r_2 + 2.0*m_iw*r_1*r_3*cos(ρ(t)) + m_iw*r_2**2 - 2.0*m_iw*r_2*r_3*cos(ρ(t)) + m_iw*r_3**2 + m_m*r_1**2 - 2.0*m_m*r_1*r_2 + 2.0*m_m*r_1*r_3*cos(ρ(t)) + m_m*r_2**2 - 2.0*m_m*r_2*r_3*cos(ρ(t)) + m_m*r_3**2 + m_ow*r_3**2))"
      ]
     },
     "execution_count": 11,
     "metadata": {},
     "output_type": "execute_result"
    }
   ],
   "source": [
    "f_dρ"
   ]
  },
  {
   "cell_type": "code",
   "execution_count": 12,
   "metadata": {},
   "outputs": [
    {
     "data": {
      "text/latex": [
       "$\\displaystyle \\frac{2.0 \\left(- d_{iwr} r_{2}^{2} \\frac{d}{d t} φ{\\left(t \\right)} - d_{ow} r_{1}^{2} r_{3}^{2} \\frac{d}{d t} φ{\\left(t \\right)} + d_{ow} r_{1} r_{2} r_{3}^{2} \\frac{d}{d t} ρ{\\left(t \\right)} - d_{owr} r_{1}^{2} \\frac{d}{d t} φ{\\left(t \\right)} + l_{iwm} m_{m} r_{1} r_{2} r_{3} \\sin{\\left(θ{\\left(t \\right)} \\right)} \\left(\\frac{d}{d t} θ{\\left(t \\right)}\\right)^{2} - l_{iwm} m_{m} r_{1} r_{2} r_{3} \\cos{\\left(θ{\\left(t \\right)} \\right)} \\frac{d^{2}}{d t^{2}} θ{\\left(t \\right)} - m_{iw} r_{1}^{2} r_{2} r_{3} \\sin{\\left(ρ{\\left(t \\right)} \\right)} \\left(\\frac{d}{d t} ρ{\\left(t \\right)}\\right)^{2} + m_{iw} r_{1}^{2} r_{2} r_{3} \\cos{\\left(ρ{\\left(t \\right)} \\right)} \\frac{d^{2}}{d t^{2}} ρ{\\left(t \\right)} + m_{iw} r_{1} r_{2}^{2} r_{3} \\sin{\\left(ρ{\\left(t \\right)} \\right)} \\left(\\frac{d}{d t} ρ{\\left(t \\right)}\\right)^{2} - m_{iw} r_{1} r_{2}^{2} r_{3} \\cos{\\left(ρ{\\left(t \\right)} \\right)} \\frac{d^{2}}{d t^{2}} ρ{\\left(t \\right)} + m_{iw} r_{1} r_{2} r_{3}^{2} \\frac{d^{2}}{d t^{2}} ρ{\\left(t \\right)} - m_{m} r_{1}^{2} r_{2} r_{3} \\sin{\\left(ρ{\\left(t \\right)} \\right)} \\left(\\frac{d}{d t} ρ{\\left(t \\right)}\\right)^{2} + m_{m} r_{1}^{2} r_{2} r_{3} \\cos{\\left(ρ{\\left(t \\right)} \\right)} \\frac{d^{2}}{d t^{2}} ρ{\\left(t \\right)} + m_{m} r_{1} r_{2}^{2} r_{3} \\sin{\\left(ρ{\\left(t \\right)} \\right)} \\left(\\frac{d}{d t} ρ{\\left(t \\right)}\\right)^{2} - m_{m} r_{1} r_{2}^{2} r_{3} \\cos{\\left(ρ{\\left(t \\right)} \\right)} \\frac{d^{2}}{d t^{2}} ρ{\\left(t \\right)} + m_{m} r_{1} r_{2} r_{3}^{2} \\frac{d^{2}}{d t^{2}} ρ{\\left(t \\right)} + m_{ow} r_{1} r_{2} r_{3}^{2} \\frac{d^{2}}{d t^{2}} ρ{\\left(t \\right)}\\right)}{r_{1}^{2} \\left(2.0 m_{iw} r_{3}^{2} + m_{iwr} r_{2}^{2} + 2.0 m_{m} r_{3}^{2} + 2.0 m_{ow} r_{3}^{2} + m_{owr} r_{2}^{2} + m_{owr} r_{3}^{2}\\right)}$"
      ],
      "text/plain": [
       "2.0*(-d_iwr*r_2**2*Derivative(φ(t), t) - d_ow*r_1**2*r_3**2*Derivative(φ(t), t) + d_ow*r_1*r_2*r_3**2*Derivative(ρ(t), t) - d_owr*r_1**2*Derivative(φ(t), t) + l_iwm*m_m*r_1*r_2*r_3*sin(θ(t))*Derivative(θ(t), t)**2 - l_iwm*m_m*r_1*r_2*r_3*cos(θ(t))*Derivative(θ(t), (t, 2)) - m_iw*r_1**2*r_2*r_3*sin(ρ(t))*Derivative(ρ(t), t)**2 + m_iw*r_1**2*r_2*r_3*cos(ρ(t))*Derivative(ρ(t), (t, 2)) + m_iw*r_1*r_2**2*r_3*sin(ρ(t))*Derivative(ρ(t), t)**2 - m_iw*r_1*r_2**2*r_3*cos(ρ(t))*Derivative(ρ(t), (t, 2)) + m_iw*r_1*r_2*r_3**2*Derivative(ρ(t), (t, 2)) - m_m*r_1**2*r_2*r_3*sin(ρ(t))*Derivative(ρ(t), t)**2 + m_m*r_1**2*r_2*r_3*cos(ρ(t))*Derivative(ρ(t), (t, 2)) + m_m*r_1*r_2**2*r_3*sin(ρ(t))*Derivative(ρ(t), t)**2 - m_m*r_1*r_2**2*r_3*cos(ρ(t))*Derivative(ρ(t), (t, 2)) + m_m*r_1*r_2*r_3**2*Derivative(ρ(t), (t, 2)) + m_ow*r_1*r_2*r_3**2*Derivative(ρ(t), (t, 2)))/(r_1**2*(2.0*m_iw*r_3**2 + m_iwr*r_2**2 + 2.0*m_m*r_3**2 + 2.0*m_ow*r_3**2 + m_owr*r_2**2 + m_owr*r_3**2))"
      ]
     },
     "execution_count": 12,
     "metadata": {},
     "output_type": "execute_result"
    }
   ],
   "source": [
    "f_dφ"
   ]
  },
  {
   "cell_type": "code",
   "execution_count": 13,
   "metadata": {},
   "outputs": [
    {
     "data": {
      "text/plain": [
       "[θ(t),\n",
       " Derivative(θ(t), t),\n",
       " ρ(t),\n",
       " Derivative(ρ(t), t),\n",
       " φ(t),\n",
       " Derivative(φ(t), t)]"
      ]
     },
     "execution_count": 13,
     "metadata": {},
     "output_type": "execute_result"
    }
   ],
   "source": [
    "state_x"
   ]
  },
  {
   "cell_type": "code",
   "execution_count": 14,
   "metadata": {},
   "outputs": [],
   "source": [
    "eqs = [f_θ, f_dθ, f_ρ, f_dρ, f_φ, f_dφ]"
   ]
  },
  {
   "cell_type": "markdown",
   "metadata": {},
   "source": [
    "### Create A Matrix"
   ]
  },
  {
   "cell_type": "code",
   "execution_count": 15,
   "metadata": {},
   "outputs": [],
   "source": [
    "def createMatrix(eqs: list, states: list) -> sympy.Matrix:\n",
    "    if (len(eqs) != len(states)):\n",
    "        print(\"eqs and states must have the same size\")\n",
    "    A = sympy.zeros(len(eqs), len(eqs))\n",
    "    for i, eq in enumerate(eqs, start=0):\n",
    "        for j, state in enumerate(states, start=0):\n",
    "            A[i, j] = sympy.diff(eq, state)\n",
    "    return A"
   ]
  },
  {
   "cell_type": "code",
   "execution_count": 16,
   "metadata": {},
   "outputs": [
    {
     "data": {
      "text/latex": [
       "$\\displaystyle \\left[\\begin{matrix}0 & 1 & 0 & 0 & 0 & 0\\\\\\frac{g \\cos{\\left(θ{\\left(t \\right)} \\right)}}{l_{iwm}} - \\frac{r_{1} \\sin{\\left(θ{\\left(t \\right)} + ρ{\\left(t \\right)} \\right)} \\frac{d^{2}}{d t^{2}} ρ{\\left(t \\right)}}{l_{iwm}} - \\frac{r_{1} \\cos{\\left(θ{\\left(t \\right)} + ρ{\\left(t \\right)} \\right)} \\left(\\frac{d}{d t} ρ{\\left(t \\right)}\\right)^{2}}{l_{iwm}} + \\frac{r_{1} r_{3} \\sin{\\left(θ{\\left(t \\right)} \\right)} \\frac{d^{2}}{d t^{2}} φ{\\left(t \\right)}}{l_{iwm} r_{2}} + \\frac{r_{2} \\sin{\\left(θ{\\left(t \\right)} + ρ{\\left(t \\right)} \\right)} \\frac{d^{2}}{d t^{2}} ρ{\\left(t \\right)}}{l_{iwm}} + \\frac{r_{2} \\cos{\\left(θ{\\left(t \\right)} + ρ{\\left(t \\right)} \\right)} \\left(\\frac{d}{d t} ρ{\\left(t \\right)}\\right)^{2}}{l_{iwm}} - \\frac{r_{3} \\sin{\\left(θ{\\left(t \\right)} \\right)} \\frac{d^{2}}{d t^{2}} ρ{\\left(t \\right)}}{l_{iwm}} + \\frac{\\cos{\\left(θ{\\left(t \\right)} \\right)} \\frac{d^{2}}{d t^{2}} y{\\left(t \\right)}}{l_{iwm}} & - \\frac{d_{m}}{l_{iwm}^{2} m_{m}} & - \\frac{r_{1} \\sin{\\left(θ{\\left(t \\right)} + ρ{\\left(t \\right)} \\right)} \\frac{d^{2}}{d t^{2}} ρ{\\left(t \\right)}}{l_{iwm}} - \\frac{r_{1} \\cos{\\left(θ{\\left(t \\right)} + ρ{\\left(t \\right)} \\right)} \\left(\\frac{d}{d t} ρ{\\left(t \\right)}\\right)^{2}}{l_{iwm}} + \\frac{r_{2} \\sin{\\left(θ{\\left(t \\right)} + ρ{\\left(t \\right)} \\right)} \\frac{d^{2}}{d t^{2}} ρ{\\left(t \\right)}}{l_{iwm}} + \\frac{r_{2} \\cos{\\left(θ{\\left(t \\right)} + ρ{\\left(t \\right)} \\right)} \\left(\\frac{d}{d t} ρ{\\left(t \\right)}\\right)^{2}}{l_{iwm}} & - \\frac{2 r_{1} \\sin{\\left(θ{\\left(t \\right)} + ρ{\\left(t \\right)} \\right)} \\frac{d}{d t} ρ{\\left(t \\right)}}{l_{iwm}} + \\frac{2 r_{2} \\sin{\\left(θ{\\left(t \\right)} + ρ{\\left(t \\right)} \\right)} \\frac{d}{d t} ρ{\\left(t \\right)}}{l_{iwm}} & 0 & 0\\\\0 & 0 & 0 & 1 & 0 & 0\\\\\\frac{- l_{iwm} m_{m} r_{1} r_{2} \\sin{\\left(θ{\\left(t \\right)} + ρ{\\left(t \\right)} \\right)} \\frac{d^{2}}{d t^{2}} θ{\\left(t \\right)} - l_{iwm} m_{m} r_{1} r_{2} \\cos{\\left(θ{\\left(t \\right)} + ρ{\\left(t \\right)} \\right)} \\left(\\frac{d}{d t} θ{\\left(t \\right)}\\right)^{2} + l_{iwm} m_{m} r_{2}^{2} \\sin{\\left(θ{\\left(t \\right)} + ρ{\\left(t \\right)} \\right)} \\frac{d^{2}}{d t^{2}} θ{\\left(t \\right)} + l_{iwm} m_{m} r_{2}^{2} \\cos{\\left(θ{\\left(t \\right)} + ρ{\\left(t \\right)} \\right)} \\left(\\frac{d}{d t} θ{\\left(t \\right)}\\right)^{2} - l_{iwm} m_{m} r_{2} r_{3} \\sin{\\left(θ{\\left(t \\right)} \\right)} \\frac{d^{2}}{d t^{2}} θ{\\left(t \\right)} - l_{iwm} m_{m} r_{2} r_{3} \\cos{\\left(θ{\\left(t \\right)} \\right)} \\left(\\frac{d}{d t} θ{\\left(t \\right)}\\right)^{2}}{r_{2} \\left(m_{iw} r_{1}^{2} - 2.0 m_{iw} r_{1} r_{2} + 2.0 m_{iw} r_{1} r_{3} \\cos{\\left(ρ{\\left(t \\right)} \\right)} + m_{iw} r_{2}^{2} - 2.0 m_{iw} r_{2} r_{3} \\cos{\\left(ρ{\\left(t \\right)} \\right)} + m_{iw} r_{3}^{2} + m_{m} r_{1}^{2} - 2.0 m_{m} r_{1} r_{2} + 2.0 m_{m} r_{1} r_{3} \\cos{\\left(ρ{\\left(t \\right)} \\right)} + m_{m} r_{2}^{2} - 2.0 m_{m} r_{2} r_{3} \\cos{\\left(ρ{\\left(t \\right)} \\right)} + m_{m} r_{3}^{2} + m_{ow} r_{3}^{2}\\right)} & \\frac{- 2 l_{iwm} m_{m} r_{1} r_{2} \\sin{\\left(θ{\\left(t \\right)} + ρ{\\left(t \\right)} \\right)} \\frac{d}{d t} θ{\\left(t \\right)} + 2 l_{iwm} m_{m} r_{2}^{2} \\sin{\\left(θ{\\left(t \\right)} + ρ{\\left(t \\right)} \\right)} \\frac{d}{d t} θ{\\left(t \\right)} - 2 l_{iwm} m_{m} r_{2} r_{3} \\sin{\\left(θ{\\left(t \\right)} \\right)} \\frac{d}{d t} θ{\\left(t \\right)}}{r_{2} \\left(m_{iw} r_{1}^{2} - 2.0 m_{iw} r_{1} r_{2} + 2.0 m_{iw} r_{1} r_{3} \\cos{\\left(ρ{\\left(t \\right)} \\right)} + m_{iw} r_{2}^{2} - 2.0 m_{iw} r_{2} r_{3} \\cos{\\left(ρ{\\left(t \\right)} \\right)} + m_{iw} r_{3}^{2} + m_{m} r_{1}^{2} - 2.0 m_{m} r_{1} r_{2} + 2.0 m_{m} r_{1} r_{3} \\cos{\\left(ρ{\\left(t \\right)} \\right)} + m_{m} r_{2}^{2} - 2.0 m_{m} r_{2} r_{3} \\cos{\\left(ρ{\\left(t \\right)} \\right)} + m_{m} r_{3}^{2} + m_{ow} r_{3}^{2}\\right)} & \\frac{0.25 \\left(2.0 m_{iw} r_{1} r_{3} \\sin{\\left(ρ{\\left(t \\right)} \\right)} - 2.0 m_{iw} r_{2} r_{3} \\sin{\\left(ρ{\\left(t \\right)} \\right)} + 2.0 m_{m} r_{1} r_{3} \\sin{\\left(ρ{\\left(t \\right)} \\right)} - 2.0 m_{m} r_{2} r_{3} \\sin{\\left(ρ{\\left(t \\right)} \\right)}\\right) \\left(- d_{iw} r_{2} \\frac{d}{d t} ρ{\\left(t \\right)} + d_{ow} r_{1} r_{3}^{2} \\frac{d}{d t} φ{\\left(t \\right)} - d_{ow} r_{2} r_{3}^{2} \\frac{d}{d t} ρ{\\left(t \\right)} + g m_{iw} r_{1} r_{2} \\sin{\\left(ρ{\\left(t \\right)} \\right)} - g m_{iw} r_{2}^{2} \\sin{\\left(ρ{\\left(t \\right)} \\right)} + g m_{m} r_{1} r_{2} \\sin{\\left(ρ{\\left(t \\right)} \\right)} - g m_{m} r_{2}^{2} \\sin{\\left(ρ{\\left(t \\right)} \\right)} - l_{iwm} m_{m} r_{1} r_{2} \\sin{\\left(θ{\\left(t \\right)} + ρ{\\left(t \\right)} \\right)} \\left(\\frac{d}{d t} θ{\\left(t \\right)}\\right)^{2} + l_{iwm} m_{m} r_{1} r_{2} \\cos{\\left(θ{\\left(t \\right)} + ρ{\\left(t \\right)} \\right)} \\frac{d^{2}}{d t^{2}} θ{\\left(t \\right)} + l_{iwm} m_{m} r_{2}^{2} \\sin{\\left(θ{\\left(t \\right)} + ρ{\\left(t \\right)} \\right)} \\left(\\frac{d}{d t} θ{\\left(t \\right)}\\right)^{2} - l_{iwm} m_{m} r_{2}^{2} \\cos{\\left(θ{\\left(t \\right)} + ρ{\\left(t \\right)} \\right)} \\frac{d^{2}}{d t^{2}} θ{\\left(t \\right)} - l_{iwm} m_{m} r_{2} r_{3} \\sin{\\left(θ{\\left(t \\right)} \\right)} \\left(\\frac{d}{d t} θ{\\left(t \\right)}\\right)^{2} + l_{iwm} m_{m} r_{2} r_{3} \\cos{\\left(θ{\\left(t \\right)} \\right)} \\frac{d^{2}}{d t^{2}} θ{\\left(t \\right)} + m_{iw} r_{1}^{2} r_{3} \\cos{\\left(ρ{\\left(t \\right)} \\right)} \\frac{d^{2}}{d t^{2}} φ{\\left(t \\right)} + m_{iw} r_{1} r_{2} r_{3} \\sin{\\left(ρ{\\left(t \\right)} \\right)} \\left(\\frac{d}{d t} ρ{\\left(t \\right)}\\right)^{2} - m_{iw} r_{1} r_{2} r_{3} \\cos{\\left(ρ{\\left(t \\right)} \\right)} \\frac{d^{2}}{d t^{2}} φ{\\left(t \\right)} + m_{iw} r_{1} r_{2} \\sin{\\left(ρ{\\left(t \\right)} \\right)} \\frac{d^{2}}{d t^{2}} y{\\left(t \\right)} + m_{iw} r_{1} r_{3}^{2} \\frac{d^{2}}{d t^{2}} φ{\\left(t \\right)} - m_{iw} r_{2}^{2} r_{3} \\sin{\\left(ρ{\\left(t \\right)} \\right)} \\left(\\frac{d}{d t} ρ{\\left(t \\right)}\\right)^{2} - m_{iw} r_{2}^{2} \\sin{\\left(ρ{\\left(t \\right)} \\right)} \\frac{d^{2}}{d t^{2}} y{\\left(t \\right)} + m_{m} r_{1}^{2} r_{3} \\cos{\\left(ρ{\\left(t \\right)} \\right)} \\frac{d^{2}}{d t^{2}} φ{\\left(t \\right)} + m_{m} r_{1} r_{2} r_{3} \\sin{\\left(ρ{\\left(t \\right)} \\right)} \\left(\\frac{d}{d t} ρ{\\left(t \\right)}\\right)^{2} - m_{m} r_{1} r_{2} r_{3} \\cos{\\left(ρ{\\left(t \\right)} \\right)} \\frac{d^{2}}{d t^{2}} φ{\\left(t \\right)} + m_{m} r_{1} r_{2} \\sin{\\left(ρ{\\left(t \\right)} \\right)} \\frac{d^{2}}{d t^{2}} y{\\left(t \\right)} + m_{m} r_{1} r_{3}^{2} \\frac{d^{2}}{d t^{2}} φ{\\left(t \\right)} - m_{m} r_{2}^{2} r_{3} \\sin{\\left(ρ{\\left(t \\right)} \\right)} \\left(\\frac{d}{d t} ρ{\\left(t \\right)}\\right)^{2} - m_{m} r_{2}^{2} \\sin{\\left(ρ{\\left(t \\right)} \\right)} \\frac{d^{2}}{d t^{2}} y{\\left(t \\right)} + m_{ow} r_{1} r_{3}^{2} \\frac{d^{2}}{d t^{2}} φ{\\left(t \\right)}\\right)}{r_{2} \\left(0.5 m_{iw} r_{1}^{2} - m_{iw} r_{1} r_{2} + m_{iw} r_{1} r_{3} \\cos{\\left(ρ{\\left(t \\right)} \\right)} + 0.5 m_{iw} r_{2}^{2} - m_{iw} r_{2} r_{3} \\cos{\\left(ρ{\\left(t \\right)} \\right)} + 0.5 m_{iw} r_{3}^{2} + 0.5 m_{m} r_{1}^{2} - m_{m} r_{1} r_{2} + m_{m} r_{1} r_{3} \\cos{\\left(ρ{\\left(t \\right)} \\right)} + 0.5 m_{m} r_{2}^{2} - m_{m} r_{2} r_{3} \\cos{\\left(ρ{\\left(t \\right)} \\right)} + 0.5 m_{m} r_{3}^{2} + 0.5 m_{ow} r_{3}^{2}\\right)^{2}} + \\frac{g m_{iw} r_{1} r_{2} \\cos{\\left(ρ{\\left(t \\right)} \\right)} - g m_{iw} r_{2}^{2} \\cos{\\left(ρ{\\left(t \\right)} \\right)} + g m_{m} r_{1} r_{2} \\cos{\\left(ρ{\\left(t \\right)} \\right)} - g m_{m} r_{2}^{2} \\cos{\\left(ρ{\\left(t \\right)} \\right)} - l_{iwm} m_{m} r_{1} r_{2} \\sin{\\left(θ{\\left(t \\right)} + ρ{\\left(t \\right)} \\right)} \\frac{d^{2}}{d t^{2}} θ{\\left(t \\right)} - l_{iwm} m_{m} r_{1} r_{2} \\cos{\\left(θ{\\left(t \\right)} + ρ{\\left(t \\right)} \\right)} \\left(\\frac{d}{d t} θ{\\left(t \\right)}\\right)^{2} + l_{iwm} m_{m} r_{2}^{2} \\sin{\\left(θ{\\left(t \\right)} + ρ{\\left(t \\right)} \\right)} \\frac{d^{2}}{d t^{2}} θ{\\left(t \\right)} + l_{iwm} m_{m} r_{2}^{2} \\cos{\\left(θ{\\left(t \\right)} + ρ{\\left(t \\right)} \\right)} \\left(\\frac{d}{d t} θ{\\left(t \\right)}\\right)^{2} - m_{iw} r_{1}^{2} r_{3} \\sin{\\left(ρ{\\left(t \\right)} \\right)} \\frac{d^{2}}{d t^{2}} φ{\\left(t \\right)} + m_{iw} r_{1} r_{2} r_{3} \\sin{\\left(ρ{\\left(t \\right)} \\right)} \\frac{d^{2}}{d t^{2}} φ{\\left(t \\right)} + m_{iw} r_{1} r_{2} r_{3} \\cos{\\left(ρ{\\left(t \\right)} \\right)} \\left(\\frac{d}{d t} ρ{\\left(t \\right)}\\right)^{2} + m_{iw} r_{1} r_{2} \\cos{\\left(ρ{\\left(t \\right)} \\right)} \\frac{d^{2}}{d t^{2}} y{\\left(t \\right)} - m_{iw} r_{2}^{2} r_{3} \\cos{\\left(ρ{\\left(t \\right)} \\right)} \\left(\\frac{d}{d t} ρ{\\left(t \\right)}\\right)^{2} - m_{iw} r_{2}^{2} \\cos{\\left(ρ{\\left(t \\right)} \\right)} \\frac{d^{2}}{d t^{2}} y{\\left(t \\right)} - m_{m} r_{1}^{2} r_{3} \\sin{\\left(ρ{\\left(t \\right)} \\right)} \\frac{d^{2}}{d t^{2}} φ{\\left(t \\right)} + m_{m} r_{1} r_{2} r_{3} \\sin{\\left(ρ{\\left(t \\right)} \\right)} \\frac{d^{2}}{d t^{2}} φ{\\left(t \\right)} + m_{m} r_{1} r_{2} r_{3} \\cos{\\left(ρ{\\left(t \\right)} \\right)} \\left(\\frac{d}{d t} ρ{\\left(t \\right)}\\right)^{2} + m_{m} r_{1} r_{2} \\cos{\\left(ρ{\\left(t \\right)} \\right)} \\frac{d^{2}}{d t^{2}} y{\\left(t \\right)} - m_{m} r_{2}^{2} r_{3} \\cos{\\left(ρ{\\left(t \\right)} \\right)} \\left(\\frac{d}{d t} ρ{\\left(t \\right)}\\right)^{2} - m_{m} r_{2}^{2} \\cos{\\left(ρ{\\left(t \\right)} \\right)} \\frac{d^{2}}{d t^{2}} y{\\left(t \\right)}}{r_{2} \\left(m_{iw} r_{1}^{2} - 2.0 m_{iw} r_{1} r_{2} + 2.0 m_{iw} r_{1} r_{3} \\cos{\\left(ρ{\\left(t \\right)} \\right)} + m_{iw} r_{2}^{2} - 2.0 m_{iw} r_{2} r_{3} \\cos{\\left(ρ{\\left(t \\right)} \\right)} + m_{iw} r_{3}^{2} + m_{m} r_{1}^{2} - 2.0 m_{m} r_{1} r_{2} + 2.0 m_{m} r_{1} r_{3} \\cos{\\left(ρ{\\left(t \\right)} \\right)} + m_{m} r_{2}^{2} - 2.0 m_{m} r_{2} r_{3} \\cos{\\left(ρ{\\left(t \\right)} \\right)} + m_{m} r_{3}^{2} + m_{ow} r_{3}^{2}\\right)} & \\frac{- d_{iw} r_{2} - d_{ow} r_{2} r_{3}^{2} + 2 m_{iw} r_{1} r_{2} r_{3} \\sin{\\left(ρ{\\left(t \\right)} \\right)} \\frac{d}{d t} ρ{\\left(t \\right)} - 2 m_{iw} r_{2}^{2} r_{3} \\sin{\\left(ρ{\\left(t \\right)} \\right)} \\frac{d}{d t} ρ{\\left(t \\right)} + 2 m_{m} r_{1} r_{2} r_{3} \\sin{\\left(ρ{\\left(t \\right)} \\right)} \\frac{d}{d t} ρ{\\left(t \\right)} - 2 m_{m} r_{2}^{2} r_{3} \\sin{\\left(ρ{\\left(t \\right)} \\right)} \\frac{d}{d t} ρ{\\left(t \\right)}}{r_{2} \\left(m_{iw} r_{1}^{2} - 2.0 m_{iw} r_{1} r_{2} + 2.0 m_{iw} r_{1} r_{3} \\cos{\\left(ρ{\\left(t \\right)} \\right)} + m_{iw} r_{2}^{2} - 2.0 m_{iw} r_{2} r_{3} \\cos{\\left(ρ{\\left(t \\right)} \\right)} + m_{iw} r_{3}^{2} + m_{m} r_{1}^{2} - 2.0 m_{m} r_{1} r_{2} + 2.0 m_{m} r_{1} r_{3} \\cos{\\left(ρ{\\left(t \\right)} \\right)} + m_{m} r_{2}^{2} - 2.0 m_{m} r_{2} r_{3} \\cos{\\left(ρ{\\left(t \\right)} \\right)} + m_{m} r_{3}^{2} + m_{ow} r_{3}^{2}\\right)} & 0 & \\frac{d_{ow} r_{1} r_{3}^{2}}{r_{2} \\left(m_{iw} r_{1}^{2} - 2.0 m_{iw} r_{1} r_{2} + 2.0 m_{iw} r_{1} r_{3} \\cos{\\left(ρ{\\left(t \\right)} \\right)} + m_{iw} r_{2}^{2} - 2.0 m_{iw} r_{2} r_{3} \\cos{\\left(ρ{\\left(t \\right)} \\right)} + m_{iw} r_{3}^{2} + m_{m} r_{1}^{2} - 2.0 m_{m} r_{1} r_{2} + 2.0 m_{m} r_{1} r_{3} \\cos{\\left(ρ{\\left(t \\right)} \\right)} + m_{m} r_{2}^{2} - 2.0 m_{m} r_{2} r_{3} \\cos{\\left(ρ{\\left(t \\right)} \\right)} + m_{m} r_{3}^{2} + m_{ow} r_{3}^{2}\\right)}\\\\0 & 0 & 0 & 0 & 0 & 1\\\\\\frac{2.0 \\left(l_{iwm} m_{m} r_{1} r_{2} r_{3} \\sin{\\left(θ{\\left(t \\right)} \\right)} \\frac{d^{2}}{d t^{2}} θ{\\left(t \\right)} + l_{iwm} m_{m} r_{1} r_{2} r_{3} \\cos{\\left(θ{\\left(t \\right)} \\right)} \\left(\\frac{d}{d t} θ{\\left(t \\right)}\\right)^{2}\\right)}{r_{1}^{2} \\left(2.0 m_{iw} r_{3}^{2} + m_{iwr} r_{2}^{2} + 2.0 m_{m} r_{3}^{2} + 2.0 m_{ow} r_{3}^{2} + m_{owr} r_{2}^{2} + m_{owr} r_{3}^{2}\\right)} & \\frac{4.0 l_{iwm} m_{m} r_{2} r_{3} \\sin{\\left(θ{\\left(t \\right)} \\right)} \\frac{d}{d t} θ{\\left(t \\right)}}{r_{1} \\left(2.0 m_{iw} r_{3}^{2} + m_{iwr} r_{2}^{2} + 2.0 m_{m} r_{3}^{2} + 2.0 m_{ow} r_{3}^{2} + m_{owr} r_{2}^{2} + m_{owr} r_{3}^{2}\\right)} & \\frac{2.0 \\left(- m_{iw} r_{1}^{2} r_{2} r_{3} \\sin{\\left(ρ{\\left(t \\right)} \\right)} \\frac{d^{2}}{d t^{2}} ρ{\\left(t \\right)} - m_{iw} r_{1}^{2} r_{2} r_{3} \\cos{\\left(ρ{\\left(t \\right)} \\right)} \\left(\\frac{d}{d t} ρ{\\left(t \\right)}\\right)^{2} + m_{iw} r_{1} r_{2}^{2} r_{3} \\sin{\\left(ρ{\\left(t \\right)} \\right)} \\frac{d^{2}}{d t^{2}} ρ{\\left(t \\right)} + m_{iw} r_{1} r_{2}^{2} r_{3} \\cos{\\left(ρ{\\left(t \\right)} \\right)} \\left(\\frac{d}{d t} ρ{\\left(t \\right)}\\right)^{2} - m_{m} r_{1}^{2} r_{2} r_{3} \\sin{\\left(ρ{\\left(t \\right)} \\right)} \\frac{d^{2}}{d t^{2}} ρ{\\left(t \\right)} - m_{m} r_{1}^{2} r_{2} r_{3} \\cos{\\left(ρ{\\left(t \\right)} \\right)} \\left(\\frac{d}{d t} ρ{\\left(t \\right)}\\right)^{2} + m_{m} r_{1} r_{2}^{2} r_{3} \\sin{\\left(ρ{\\left(t \\right)} \\right)} \\frac{d^{2}}{d t^{2}} ρ{\\left(t \\right)} + m_{m} r_{1} r_{2}^{2} r_{3} \\cos{\\left(ρ{\\left(t \\right)} \\right)} \\left(\\frac{d}{d t} ρ{\\left(t \\right)}\\right)^{2}\\right)}{r_{1}^{2} \\left(2.0 m_{iw} r_{3}^{2} + m_{iwr} r_{2}^{2} + 2.0 m_{m} r_{3}^{2} + 2.0 m_{ow} r_{3}^{2} + m_{owr} r_{2}^{2} + m_{owr} r_{3}^{2}\\right)} & \\frac{2.0 \\left(d_{ow} r_{1} r_{2} r_{3}^{2} - 2 m_{iw} r_{1}^{2} r_{2} r_{3} \\sin{\\left(ρ{\\left(t \\right)} \\right)} \\frac{d}{d t} ρ{\\left(t \\right)} + 2 m_{iw} r_{1} r_{2}^{2} r_{3} \\sin{\\left(ρ{\\left(t \\right)} \\right)} \\frac{d}{d t} ρ{\\left(t \\right)} - 2 m_{m} r_{1}^{2} r_{2} r_{3} \\sin{\\left(ρ{\\left(t \\right)} \\right)} \\frac{d}{d t} ρ{\\left(t \\right)} + 2 m_{m} r_{1} r_{2}^{2} r_{3} \\sin{\\left(ρ{\\left(t \\right)} \\right)} \\frac{d}{d t} ρ{\\left(t \\right)}\\right)}{r_{1}^{2} \\left(2.0 m_{iw} r_{3}^{2} + m_{iwr} r_{2}^{2} + 2.0 m_{m} r_{3}^{2} + 2.0 m_{ow} r_{3}^{2} + m_{owr} r_{2}^{2} + m_{owr} r_{3}^{2}\\right)} & 0 & \\frac{2.0 \\left(- d_{iwr} r_{2}^{2} - d_{ow} r_{1}^{2} r_{3}^{2} - d_{owr} r_{1}^{2}\\right)}{r_{1}^{2} \\left(2.0 m_{iw} r_{3}^{2} + m_{iwr} r_{2}^{2} + 2.0 m_{m} r_{3}^{2} + 2.0 m_{ow} r_{3}^{2} + m_{owr} r_{2}^{2} + m_{owr} r_{3}^{2}\\right)}\\end{matrix}\\right]$"
      ],
      "text/plain": [
       "Matrix([\n",
       "[                                                                                                                                                                                                                                                                                                                                                                                                                                                                                                                                                                                                                         0,                                                                                                                                                                                                                                                                                                                                                                                                                                     1,                                                                                                                                                                                                                                                                                                                                                                                                                                                                                                                                                                                                                                                                                                                                                                                                                                                                                                                                                                                                                                                                                                                                                                                                                                                                                                                                                                                                                                                                                                                                                                                                                                                                                                                                                                                                                                                                                                                                                                                                                                                                                                                                                                                                                                                                                                                                                                                                                                                                                                                                                                                                                                                                                                                                                                                                                                                                                                                                                                                                           0,                                                                                                                                                                                                                                                                                                                                                                                                                                                                                                 0, 0,                                                                                                                                                                                                                                                                           0],\n",
       "[                                                                                                                                                                                                                                  g*cos(θ(t))/l_iwm - r_1*sin(θ(t) + ρ(t))*Derivative(ρ(t), (t, 2))/l_iwm - r_1*cos(θ(t) + ρ(t))*Derivative(ρ(t), t)**2/l_iwm + r_1*r_3*sin(θ(t))*Derivative(φ(t), (t, 2))/(l_iwm*r_2) + r_2*sin(θ(t) + ρ(t))*Derivative(ρ(t), (t, 2))/l_iwm + r_2*cos(θ(t) + ρ(t))*Derivative(ρ(t), t)**2/l_iwm - r_3*sin(θ(t))*Derivative(ρ(t), (t, 2))/l_iwm + cos(θ(t))*Derivative(y(t), (t, 2))/l_iwm,                                                                                                                                                                                                                                                                                                                                                                                                                   -d_m/(l_iwm**2*m_m),                                                                                                                                                                                                                                                                                                                                                                                                                                                                                                                                                                                                                                                                                                                                                                                                                                                                                                                                                                                                                                                                                                                                                                                                                                                                                                                                                                                                                                                                                                                                                                                                                                                                                                                                                                                                                                                                                                                                                                                                                                                                                                                                                                                                                                                                                                                                                                                                                                                                                                                                                                                                                                                                                                                                                                                          -r_1*sin(θ(t) + ρ(t))*Derivative(ρ(t), (t, 2))/l_iwm - r_1*cos(θ(t) + ρ(t))*Derivative(ρ(t), t)**2/l_iwm + r_2*sin(θ(t) + ρ(t))*Derivative(ρ(t), (t, 2))/l_iwm + r_2*cos(θ(t) + ρ(t))*Derivative(ρ(t), t)**2/l_iwm,                                                                                                                                                                                                                                                                                                                                                                                              -2*r_1*sin(θ(t) + ρ(t))*Derivative(ρ(t), t)/l_iwm + 2*r_2*sin(θ(t) + ρ(t))*Derivative(ρ(t), t)/l_iwm, 0,                                                                                                                                                                                                                                                                           0],\n",
       "[                                                                                                                                                                                                                                                                                                                                                                                                                                                                                                                                                                                                                         0,                                                                                                                                                                                                                                                                                                                                                                                                                                     0,                                                                                                                                                                                                                                                                                                                                                                                                                                                                                                                                                                                                                                                                                                                                                                                                                                                                                                                                                                                                                                                                                                                                                                                                                                                                                                                                                                                                                                                                                                                                                                                                                                                                                                                                                                                                                                                                                                                                                                                                                                                                                                                                                                                                                                                                                                                                                                                                                                                                                                                                                                                                                                                                                                                                                                                                                                                                                                                                                                                                           0,                                                                                                                                                                                                                                                                                                                                                                                                                                                                                                 1, 0,                                                                                                                                                                                                                                                                           0],\n",
       "[(-l_iwm*m_m*r_1*r_2*sin(θ(t) + ρ(t))*Derivative(θ(t), (t, 2)) - l_iwm*m_m*r_1*r_2*cos(θ(t) + ρ(t))*Derivative(θ(t), t)**2 + l_iwm*m_m*r_2**2*sin(θ(t) + ρ(t))*Derivative(θ(t), (t, 2)) + l_iwm*m_m*r_2**2*cos(θ(t) + ρ(t))*Derivative(θ(t), t)**2 - l_iwm*m_m*r_2*r_3*sin(θ(t))*Derivative(θ(t), (t, 2)) - l_iwm*m_m*r_2*r_3*cos(θ(t))*Derivative(θ(t), t)**2)/(r_2*(m_iw*r_1**2 - 2.0*m_iw*r_1*r_2 + 2.0*m_iw*r_1*r_3*cos(ρ(t)) + m_iw*r_2**2 - 2.0*m_iw*r_2*r_3*cos(ρ(t)) + m_iw*r_3**2 + m_m*r_1**2 - 2.0*m_m*r_1*r_2 + 2.0*m_m*r_1*r_3*cos(ρ(t)) + m_m*r_2**2 - 2.0*m_m*r_2*r_3*cos(ρ(t)) + m_m*r_3**2 + m_ow*r_3**2)), (-2*l_iwm*m_m*r_1*r_2*sin(θ(t) + ρ(t))*Derivative(θ(t), t) + 2*l_iwm*m_m*r_2**2*sin(θ(t) + ρ(t))*Derivative(θ(t), t) - 2*l_iwm*m_m*r_2*r_3*sin(θ(t))*Derivative(θ(t), t))/(r_2*(m_iw*r_1**2 - 2.0*m_iw*r_1*r_2 + 2.0*m_iw*r_1*r_3*cos(ρ(t)) + m_iw*r_2**2 - 2.0*m_iw*r_2*r_3*cos(ρ(t)) + m_iw*r_3**2 + m_m*r_1**2 - 2.0*m_m*r_1*r_2 + 2.0*m_m*r_1*r_3*cos(ρ(t)) + m_m*r_2**2 - 2.0*m_m*r_2*r_3*cos(ρ(t)) + m_m*r_3**2 + m_ow*r_3**2)), 0.25*(2.0*m_iw*r_1*r_3*sin(ρ(t)) - 2.0*m_iw*r_2*r_3*sin(ρ(t)) + 2.0*m_m*r_1*r_3*sin(ρ(t)) - 2.0*m_m*r_2*r_3*sin(ρ(t)))*(-d_iw*r_2*Derivative(ρ(t), t) + d_ow*r_1*r_3**2*Derivative(φ(t), t) - d_ow*r_2*r_3**2*Derivative(ρ(t), t) + g*m_iw*r_1*r_2*sin(ρ(t)) - g*m_iw*r_2**2*sin(ρ(t)) + g*m_m*r_1*r_2*sin(ρ(t)) - g*m_m*r_2**2*sin(ρ(t)) - l_iwm*m_m*r_1*r_2*sin(θ(t) + ρ(t))*Derivative(θ(t), t)**2 + l_iwm*m_m*r_1*r_2*cos(θ(t) + ρ(t))*Derivative(θ(t), (t, 2)) + l_iwm*m_m*r_2**2*sin(θ(t) + ρ(t))*Derivative(θ(t), t)**2 - l_iwm*m_m*r_2**2*cos(θ(t) + ρ(t))*Derivative(θ(t), (t, 2)) - l_iwm*m_m*r_2*r_3*sin(θ(t))*Derivative(θ(t), t)**2 + l_iwm*m_m*r_2*r_3*cos(θ(t))*Derivative(θ(t), (t, 2)) + m_iw*r_1**2*r_3*cos(ρ(t))*Derivative(φ(t), (t, 2)) + m_iw*r_1*r_2*r_3*sin(ρ(t))*Derivative(ρ(t), t)**2 - m_iw*r_1*r_2*r_3*cos(ρ(t))*Derivative(φ(t), (t, 2)) + m_iw*r_1*r_2*sin(ρ(t))*Derivative(y(t), (t, 2)) + m_iw*r_1*r_3**2*Derivative(φ(t), (t, 2)) - m_iw*r_2**2*r_3*sin(ρ(t))*Derivative(ρ(t), t)**2 - m_iw*r_2**2*sin(ρ(t))*Derivative(y(t), (t, 2)) + m_m*r_1**2*r_3*cos(ρ(t))*Derivative(φ(t), (t, 2)) + m_m*r_1*r_2*r_3*sin(ρ(t))*Derivative(ρ(t), t)**2 - m_m*r_1*r_2*r_3*cos(ρ(t))*Derivative(φ(t), (t, 2)) + m_m*r_1*r_2*sin(ρ(t))*Derivative(y(t), (t, 2)) + m_m*r_1*r_3**2*Derivative(φ(t), (t, 2)) - m_m*r_2**2*r_3*sin(ρ(t))*Derivative(ρ(t), t)**2 - m_m*r_2**2*sin(ρ(t))*Derivative(y(t), (t, 2)) + m_ow*r_1*r_3**2*Derivative(φ(t), (t, 2)))/(r_2*(0.5*m_iw*r_1**2 - m_iw*r_1*r_2 + m_iw*r_1*r_3*cos(ρ(t)) + 0.5*m_iw*r_2**2 - m_iw*r_2*r_3*cos(ρ(t)) + 0.5*m_iw*r_3**2 + 0.5*m_m*r_1**2 - m_m*r_1*r_2 + m_m*r_1*r_3*cos(ρ(t)) + 0.5*m_m*r_2**2 - m_m*r_2*r_3*cos(ρ(t)) + 0.5*m_m*r_3**2 + 0.5*m_ow*r_3**2)**2) + (g*m_iw*r_1*r_2*cos(ρ(t)) - g*m_iw*r_2**2*cos(ρ(t)) + g*m_m*r_1*r_2*cos(ρ(t)) - g*m_m*r_2**2*cos(ρ(t)) - l_iwm*m_m*r_1*r_2*sin(θ(t) + ρ(t))*Derivative(θ(t), (t, 2)) - l_iwm*m_m*r_1*r_2*cos(θ(t) + ρ(t))*Derivative(θ(t), t)**2 + l_iwm*m_m*r_2**2*sin(θ(t) + ρ(t))*Derivative(θ(t), (t, 2)) + l_iwm*m_m*r_2**2*cos(θ(t) + ρ(t))*Derivative(θ(t), t)**2 - m_iw*r_1**2*r_3*sin(ρ(t))*Derivative(φ(t), (t, 2)) + m_iw*r_1*r_2*r_3*sin(ρ(t))*Derivative(φ(t), (t, 2)) + m_iw*r_1*r_2*r_3*cos(ρ(t))*Derivative(ρ(t), t)**2 + m_iw*r_1*r_2*cos(ρ(t))*Derivative(y(t), (t, 2)) - m_iw*r_2**2*r_3*cos(ρ(t))*Derivative(ρ(t), t)**2 - m_iw*r_2**2*cos(ρ(t))*Derivative(y(t), (t, 2)) - m_m*r_1**2*r_3*sin(ρ(t))*Derivative(φ(t), (t, 2)) + m_m*r_1*r_2*r_3*sin(ρ(t))*Derivative(φ(t), (t, 2)) + m_m*r_1*r_2*r_3*cos(ρ(t))*Derivative(ρ(t), t)**2 + m_m*r_1*r_2*cos(ρ(t))*Derivative(y(t), (t, 2)) - m_m*r_2**2*r_3*cos(ρ(t))*Derivative(ρ(t), t)**2 - m_m*r_2**2*cos(ρ(t))*Derivative(y(t), (t, 2)))/(r_2*(m_iw*r_1**2 - 2.0*m_iw*r_1*r_2 + 2.0*m_iw*r_1*r_3*cos(ρ(t)) + m_iw*r_2**2 - 2.0*m_iw*r_2*r_3*cos(ρ(t)) + m_iw*r_3**2 + m_m*r_1**2 - 2.0*m_m*r_1*r_2 + 2.0*m_m*r_1*r_3*cos(ρ(t)) + m_m*r_2**2 - 2.0*m_m*r_2*r_3*cos(ρ(t)) + m_m*r_3**2 + m_ow*r_3**2)), (-d_iw*r_2 - d_ow*r_2*r_3**2 + 2*m_iw*r_1*r_2*r_3*sin(ρ(t))*Derivative(ρ(t), t) - 2*m_iw*r_2**2*r_3*sin(ρ(t))*Derivative(ρ(t), t) + 2*m_m*r_1*r_2*r_3*sin(ρ(t))*Derivative(ρ(t), t) - 2*m_m*r_2**2*r_3*sin(ρ(t))*Derivative(ρ(t), t))/(r_2*(m_iw*r_1**2 - 2.0*m_iw*r_1*r_2 + 2.0*m_iw*r_1*r_3*cos(ρ(t)) + m_iw*r_2**2 - 2.0*m_iw*r_2*r_3*cos(ρ(t)) + m_iw*r_3**2 + m_m*r_1**2 - 2.0*m_m*r_1*r_2 + 2.0*m_m*r_1*r_3*cos(ρ(t)) + m_m*r_2**2 - 2.0*m_m*r_2*r_3*cos(ρ(t)) + m_m*r_3**2 + m_ow*r_3**2)), 0, d_ow*r_1*r_3**2/(r_2*(m_iw*r_1**2 - 2.0*m_iw*r_1*r_2 + 2.0*m_iw*r_1*r_3*cos(ρ(t)) + m_iw*r_2**2 - 2.0*m_iw*r_2*r_3*cos(ρ(t)) + m_iw*r_3**2 + m_m*r_1**2 - 2.0*m_m*r_1*r_2 + 2.0*m_m*r_1*r_3*cos(ρ(t)) + m_m*r_2**2 - 2.0*m_m*r_2*r_3*cos(ρ(t)) + m_m*r_3**2 + m_ow*r_3**2))],\n",
       "[                                                                                                                                                                                                                                                                                                                                                                                                                                                                                                                                                                                                                         0,                                                                                                                                                                                                                                                                                                                                                                                                                                     0,                                                                                                                                                                                                                                                                                                                                                                                                                                                                                                                                                                                                                                                                                                                                                                                                                                                                                                                                                                                                                                                                                                                                                                                                                                                                                                                                                                                                                                                                                                                                                                                                                                                                                                                                                                                                                                                                                                                                                                                                                                                                                                                                                                                                                                                                                                                                                                                                                                                                                                                                                                                                                                                                                                                                                                                                                                                                                                                                                                                                           0,                                                                                                                                                                                                                                                                                                                                                                                                                                                                                                 0, 0,                                                                                                                                                                                                                                                                           1],\n",
       "[                                                                                                                                                                                                                                                                                                                                                                                        2.0*(l_iwm*m_m*r_1*r_2*r_3*sin(θ(t))*Derivative(θ(t), (t, 2)) + l_iwm*m_m*r_1*r_2*r_3*cos(θ(t))*Derivative(θ(t), t)**2)/(r_1**2*(2.0*m_iw*r_3**2 + m_iwr*r_2**2 + 2.0*m_m*r_3**2 + 2.0*m_ow*r_3**2 + m_owr*r_2**2 + m_owr*r_3**2)),                                                                                                                                                                                                                                                                           4.0*l_iwm*m_m*r_2*r_3*sin(θ(t))*Derivative(θ(t), t)/(r_1*(2.0*m_iw*r_3**2 + m_iwr*r_2**2 + 2.0*m_m*r_3**2 + 2.0*m_ow*r_3**2 + m_owr*r_2**2 + m_owr*r_3**2)),                                                                                                                                                                                                                                                                                                                                                                                                                                                                                                                                                                                                                                                                                                                                                                                                                                                                                                                                                                                                                                                                                                                                                                                                                                                                                                                                                                                                                                                                                                                                                                                                                                                                                                                                                                                                                                                                                                                                                                                                                                                                                                                                                                                                                                                                                                                                                                                                                                 2.0*(-m_iw*r_1**2*r_2*r_3*sin(ρ(t))*Derivative(ρ(t), (t, 2)) - m_iw*r_1**2*r_2*r_3*cos(ρ(t))*Derivative(ρ(t), t)**2 + m_iw*r_1*r_2**2*r_3*sin(ρ(t))*Derivative(ρ(t), (t, 2)) + m_iw*r_1*r_2**2*r_3*cos(ρ(t))*Derivative(ρ(t), t)**2 - m_m*r_1**2*r_2*r_3*sin(ρ(t))*Derivative(ρ(t), (t, 2)) - m_m*r_1**2*r_2*r_3*cos(ρ(t))*Derivative(ρ(t), t)**2 + m_m*r_1*r_2**2*r_3*sin(ρ(t))*Derivative(ρ(t), (t, 2)) + m_m*r_1*r_2**2*r_3*cos(ρ(t))*Derivative(ρ(t), t)**2)/(r_1**2*(2.0*m_iw*r_3**2 + m_iwr*r_2**2 + 2.0*m_m*r_3**2 + 2.0*m_ow*r_3**2 + m_owr*r_2**2 + m_owr*r_3**2)),                                                                                                                                        2.0*(d_ow*r_1*r_2*r_3**2 - 2*m_iw*r_1**2*r_2*r_3*sin(ρ(t))*Derivative(ρ(t), t) + 2*m_iw*r_1*r_2**2*r_3*sin(ρ(t))*Derivative(ρ(t), t) - 2*m_m*r_1**2*r_2*r_3*sin(ρ(t))*Derivative(ρ(t), t) + 2*m_m*r_1*r_2**2*r_3*sin(ρ(t))*Derivative(ρ(t), t))/(r_1**2*(2.0*m_iw*r_3**2 + m_iwr*r_2**2 + 2.0*m_m*r_3**2 + 2.0*m_ow*r_3**2 + m_owr*r_2**2 + m_owr*r_3**2)), 0,                                                                                                          2.0*(-d_iwr*r_2**2 - d_ow*r_1**2*r_3**2 - d_owr*r_1**2)/(r_1**2*(2.0*m_iw*r_3**2 + m_iwr*r_2**2 + 2.0*m_m*r_3**2 + 2.0*m_ow*r_3**2 + m_owr*r_2**2 + m_owr*r_3**2))]])"
      ]
     },
     "execution_count": 16,
     "metadata": {},
     "output_type": "execute_result"
    }
   ],
   "source": [
    "A = createMatrix(eqs, state_x)\n",
    "\n",
    "A"
   ]
  },
  {
   "cell_type": "code",
   "execution_count": 17,
   "metadata": {},
   "outputs": [],
   "source": [
    "import math\n",
    "\n",
    "def linearice(A, x, ddx):\n",
    "    linearice_values = [\n",
    "        (sympy.sin(θ), math.sin(x[0])),\n",
    "        (sympy.cos(θ), math.cos(x[0])),\n",
    "        (sympy.sin(ρ), math.sin(x[2])),\n",
    "        (sympy.cos(ρ), math.cos(x[2])),\n",
    "        (θ.diff(t, t), ddx[0]),\n",
    "        (θ.diff(t), x[1]),\n",
    "        (θ, x[0]),\n",
    "        (ρ.diff(t, t), ddx[1]),\n",
    "        (ρ.diff(t), x[3]),\n",
    "        (ρ, x[2]),\n",
    "        (φ.diff(t, t), ddx[2]),\n",
    "        (φ.diff(t), x[5]),\n",
    "        (φ, x[4]),\n",
    "        # Can't move y position (Could .. but should not ..) \n",
    "        (y.diff(t, t), 0),\n",
    "        (y.diff(t), 0),\n",
    "        (y, 0)\n",
    "    ]\n",
    "    return sympy.simplify(A.subs(linearice_values))"
   ]
  },
  {
   "cell_type": "code",
   "execution_count": 18,
   "metadata": {},
   "outputs": [],
   "source": [
    "A_lin_up = linearice(A, [0, 0, 0, 0, 0, 0], [0, 0, 0])\n",
    "A_lin_down = linearice(A, [math.pi, 0, 0, 0, 0, 0], [0, 0, 0])"
   ]
  },
  {
   "cell_type": "code",
   "execution_count": 19,
   "metadata": {},
   "outputs": [
    {
     "data": {
      "text/latex": [
       "$\\displaystyle \\left[\\begin{matrix}0 & 1 & 0 & 0 & 0 & 0\\\\\\frac{1.0 g}{l_{iwm}} & - \\frac{d_{m}}{l_{iwm}^{2} m_{m}} & 0 & 0 & 0 & 0\\\\0 & 0 & 0 & 1 & 0 & 0\\\\0 & 0 & \\frac{1.0 g \\left(m_{iw} r_{1} - m_{iw} r_{2} + m_{m} r_{1} - m_{m} r_{2}\\right)}{m_{iw} r_{1}^{2} - 2.0 m_{iw} r_{1} r_{2} + 2.0 m_{iw} r_{1} r_{3} + m_{iw} r_{2}^{2} - 2.0 m_{iw} r_{2} r_{3} + m_{iw} r_{3}^{2} + m_{m} r_{1}^{2} - 2.0 m_{m} r_{1} r_{2} + 2.0 m_{m} r_{1} r_{3} + m_{m} r_{2}^{2} - 2.0 m_{m} r_{2} r_{3} + m_{m} r_{3}^{2} + m_{ow} r_{3}^{2}} & - \\frac{d_{iw} + d_{ow} r_{3}^{2}}{m_{iw} r_{1}^{2} - 2.0 m_{iw} r_{1} r_{2} + 2.0 m_{iw} r_{1} r_{3} + m_{iw} r_{2}^{2} - 2.0 m_{iw} r_{2} r_{3} + m_{iw} r_{3}^{2} + m_{m} r_{1}^{2} - 2.0 m_{m} r_{1} r_{2} + 2.0 m_{m} r_{1} r_{3} + m_{m} r_{2}^{2} - 2.0 m_{m} r_{2} r_{3} + m_{m} r_{3}^{2} + m_{ow} r_{3}^{2}} & 0 & \\frac{d_{ow} r_{1} r_{3}^{2}}{r_{2} \\left(m_{iw} r_{1}^{2} - 2.0 m_{iw} r_{1} r_{2} + 2.0 m_{iw} r_{1} r_{3} + m_{iw} r_{2}^{2} - 2.0 m_{iw} r_{2} r_{3} + m_{iw} r_{3}^{2} + m_{m} r_{1}^{2} - 2.0 m_{m} r_{1} r_{2} + 2.0 m_{m} r_{1} r_{3} + m_{m} r_{2}^{2} - 2.0 m_{m} r_{2} r_{3} + m_{m} r_{3}^{2} + m_{ow} r_{3}^{2}\\right)}\\\\0 & 0 & 0 & 0 & 0 & 1\\\\0 & 0 & 0 & \\frac{2.0 d_{ow} r_{2} r_{3}^{2}}{r_{1} \\left(2.0 m_{iw} r_{3}^{2} + m_{iwr} r_{2}^{2} + 2.0 m_{m} r_{3}^{2} + 2.0 m_{ow} r_{3}^{2} + m_{owr} r_{2}^{2} + m_{owr} r_{3}^{2}\\right)} & 0 & - \\frac{2.0 d_{iwr} r_{2}^{2} + 2.0 d_{ow} r_{1}^{2} r_{3}^{2} + 2.0 d_{owr} r_{1}^{2}}{r_{1}^{2} \\left(2.0 m_{iw} r_{3}^{2} + m_{iwr} r_{2}^{2} + 2.0 m_{m} r_{3}^{2} + 2.0 m_{ow} r_{3}^{2} + m_{owr} r_{2}^{2} + m_{owr} r_{3}^{2}\\right)}\\end{matrix}\\right]$"
      ],
      "text/plain": [
       "Matrix([\n",
       "[          0,                   1,                                                                                                                                                                                                                                                             0,                                                                                                                                                                                                                                   0, 0,                                                                                                                                                                                                                                   0],\n",
       "[1.0*g/l_iwm, -d_m/(l_iwm**2*m_m),                                                                                                                                                                                                                                                             0,                                                                                                                                                                                                                                   0, 0,                                                                                                                                                                                                                                   0],\n",
       "[          0,                   0,                                                                                                                                                                                                                                                             0,                                                                                                                                                                                                                                   1, 0,                                                                                                                                                                                                                                   0],\n",
       "[          0,                   0, 1.0*g*(m_iw*r_1 - m_iw*r_2 + m_m*r_1 - m_m*r_2)/(m_iw*r_1**2 - 2.0*m_iw*r_1*r_2 + 2.0*m_iw*r_1*r_3 + m_iw*r_2**2 - 2.0*m_iw*r_2*r_3 + m_iw*r_3**2 + m_m*r_1**2 - 2.0*m_m*r_1*r_2 + 2.0*m_m*r_1*r_3 + m_m*r_2**2 - 2.0*m_m*r_2*r_3 + m_m*r_3**2 + m_ow*r_3**2), -(d_iw + d_ow*r_3**2)/(m_iw*r_1**2 - 2.0*m_iw*r_1*r_2 + 2.0*m_iw*r_1*r_3 + m_iw*r_2**2 - 2.0*m_iw*r_2*r_3 + m_iw*r_3**2 + m_m*r_1**2 - 2.0*m_m*r_1*r_2 + 2.0*m_m*r_1*r_3 + m_m*r_2**2 - 2.0*m_m*r_2*r_3 + m_m*r_3**2 + m_ow*r_3**2), 0, d_ow*r_1*r_3**2/(r_2*(m_iw*r_1**2 - 2.0*m_iw*r_1*r_2 + 2.0*m_iw*r_1*r_3 + m_iw*r_2**2 - 2.0*m_iw*r_2*r_3 + m_iw*r_3**2 + m_m*r_1**2 - 2.0*m_m*r_1*r_2 + 2.0*m_m*r_1*r_3 + m_m*r_2**2 - 2.0*m_m*r_2*r_3 + m_m*r_3**2 + m_ow*r_3**2))],\n",
       "[          0,                   0,                                                                                                                                                                                                                                                             0,                                                                                                                                                                                                                                   0, 0,                                                                                                                                                                                                                                   1],\n",
       "[          0,                   0,                                                                                                                                                                                                                                                             0,                                                                                                         2.0*d_ow*r_2*r_3**2/(r_1*(2.0*m_iw*r_3**2 + m_iwr*r_2**2 + 2.0*m_m*r_3**2 + 2.0*m_ow*r_3**2 + m_owr*r_2**2 + m_owr*r_3**2)), 0,                                                          -(2.0*d_iwr*r_2**2 + 2.0*d_ow*r_1**2*r_3**2 + 2.0*d_owr*r_1**2)/(r_1**2*(2.0*m_iw*r_3**2 + m_iwr*r_2**2 + 2.0*m_m*r_3**2 + 2.0*m_ow*r_3**2 + m_owr*r_2**2 + m_owr*r_3**2))]])"
      ]
     },
     "execution_count": 19,
     "metadata": {},
     "output_type": "execute_result"
    }
   ],
   "source": [
    "A_lin_up"
   ]
  },
  {
   "cell_type": "code",
   "execution_count": 20,
   "metadata": {},
   "outputs": [
    {
     "data": {
      "text/latex": [
       "$\\displaystyle \\left[\\begin{matrix}0 & 1 & 0 & 0 & 0 & 0\\\\- \\frac{1.0 g}{l_{iwm}} & - \\frac{d_{m}}{l_{iwm}^{2} m_{m}} & 0 & 0 & 0 & 0\\\\0 & 0 & 0 & 1 & 0 & 0\\\\0 & 0 & \\frac{1.0 g \\left(m_{iw} r_{1} - m_{iw} r_{2} + m_{m} r_{1} - m_{m} r_{2}\\right)}{m_{iw} r_{1}^{2} - 2.0 m_{iw} r_{1} r_{2} + 2.0 m_{iw} r_{1} r_{3} + m_{iw} r_{2}^{2} - 2.0 m_{iw} r_{2} r_{3} + m_{iw} r_{3}^{2} + m_{m} r_{1}^{2} - 2.0 m_{m} r_{1} r_{2} + 2.0 m_{m} r_{1} r_{3} + m_{m} r_{2}^{2} - 2.0 m_{m} r_{2} r_{3} + m_{m} r_{3}^{2} + m_{ow} r_{3}^{2}} & - \\frac{d_{iw} + d_{ow} r_{3}^{2}}{m_{iw} r_{1}^{2} - 2.0 m_{iw} r_{1} r_{2} + 2.0 m_{iw} r_{1} r_{3} + m_{iw} r_{2}^{2} - 2.0 m_{iw} r_{2} r_{3} + m_{iw} r_{3}^{2} + m_{m} r_{1}^{2} - 2.0 m_{m} r_{1} r_{2} + 2.0 m_{m} r_{1} r_{3} + m_{m} r_{2}^{2} - 2.0 m_{m} r_{2} r_{3} + m_{m} r_{3}^{2} + m_{ow} r_{3}^{2}} & 0 & \\frac{d_{ow} r_{1} r_{3}^{2}}{r_{2} \\left(m_{iw} r_{1}^{2} - 2.0 m_{iw} r_{1} r_{2} + 2.0 m_{iw} r_{1} r_{3} + m_{iw} r_{2}^{2} - 2.0 m_{iw} r_{2} r_{3} + m_{iw} r_{3}^{2} + m_{m} r_{1}^{2} - 2.0 m_{m} r_{1} r_{2} + 2.0 m_{m} r_{1} r_{3} + m_{m} r_{2}^{2} - 2.0 m_{m} r_{2} r_{3} + m_{m} r_{3}^{2} + m_{ow} r_{3}^{2}\\right)}\\\\0 & 0 & 0 & 0 & 0 & 1\\\\0 & 0 & 0 & \\frac{2.0 d_{ow} r_{2} r_{3}^{2}}{r_{1} \\left(2.0 m_{iw} r_{3}^{2} + m_{iwr} r_{2}^{2} + 2.0 m_{m} r_{3}^{2} + 2.0 m_{ow} r_{3}^{2} + m_{owr} r_{2}^{2} + m_{owr} r_{3}^{2}\\right)} & 0 & - \\frac{2.0 d_{iwr} r_{2}^{2} + 2.0 d_{ow} r_{1}^{2} r_{3}^{2} + 2.0 d_{owr} r_{1}^{2}}{r_{1}^{2} \\left(2.0 m_{iw} r_{3}^{2} + m_{iwr} r_{2}^{2} + 2.0 m_{m} r_{3}^{2} + 2.0 m_{ow} r_{3}^{2} + m_{owr} r_{2}^{2} + m_{owr} r_{3}^{2}\\right)}\\end{matrix}\\right]$"
      ],
      "text/plain": [
       "Matrix([\n",
       "[           0,                   1,                                                                                                                                                                                                                                                             0,                                                                                                                                                                                                                                   0, 0,                                                                                                                                                                                                                                   0],\n",
       "[-1.0*g/l_iwm, -d_m/(l_iwm**2*m_m),                                                                                                                                                                                                                                                             0,                                                                                                                                                                                                                                   0, 0,                                                                                                                                                                                                                                   0],\n",
       "[           0,                   0,                                                                                                                                                                                                                                                             0,                                                                                                                                                                                                                                   1, 0,                                                                                                                                                                                                                                   0],\n",
       "[           0,                   0, 1.0*g*(m_iw*r_1 - m_iw*r_2 + m_m*r_1 - m_m*r_2)/(m_iw*r_1**2 - 2.0*m_iw*r_1*r_2 + 2.0*m_iw*r_1*r_3 + m_iw*r_2**2 - 2.0*m_iw*r_2*r_3 + m_iw*r_3**2 + m_m*r_1**2 - 2.0*m_m*r_1*r_2 + 2.0*m_m*r_1*r_3 + m_m*r_2**2 - 2.0*m_m*r_2*r_3 + m_m*r_3**2 + m_ow*r_3**2), -(d_iw + d_ow*r_3**2)/(m_iw*r_1**2 - 2.0*m_iw*r_1*r_2 + 2.0*m_iw*r_1*r_3 + m_iw*r_2**2 - 2.0*m_iw*r_2*r_3 + m_iw*r_3**2 + m_m*r_1**2 - 2.0*m_m*r_1*r_2 + 2.0*m_m*r_1*r_3 + m_m*r_2**2 - 2.0*m_m*r_2*r_3 + m_m*r_3**2 + m_ow*r_3**2), 0, d_ow*r_1*r_3**2/(r_2*(m_iw*r_1**2 - 2.0*m_iw*r_1*r_2 + 2.0*m_iw*r_1*r_3 + m_iw*r_2**2 - 2.0*m_iw*r_2*r_3 + m_iw*r_3**2 + m_m*r_1**2 - 2.0*m_m*r_1*r_2 + 2.0*m_m*r_1*r_3 + m_m*r_2**2 - 2.0*m_m*r_2*r_3 + m_m*r_3**2 + m_ow*r_3**2))],\n",
       "[           0,                   0,                                                                                                                                                                                                                                                             0,                                                                                                                                                                                                                                   0, 0,                                                                                                                                                                                                                                   1],\n",
       "[           0,                   0,                                                                                                                                                                                                                                                             0,                                                                                                         2.0*d_ow*r_2*r_3**2/(r_1*(2.0*m_iw*r_3**2 + m_iwr*r_2**2 + 2.0*m_m*r_3**2 + 2.0*m_ow*r_3**2 + m_owr*r_2**2 + m_owr*r_3**2)), 0,                                                          -(2.0*d_iwr*r_2**2 + 2.0*d_ow*r_1**2*r_3**2 + 2.0*d_owr*r_1**2)/(r_1**2*(2.0*m_iw*r_3**2 + m_iwr*r_2**2 + 2.0*m_m*r_3**2 + 2.0*m_ow*r_3**2 + m_owr*r_2**2 + m_owr*r_3**2))]])"
      ]
     },
     "execution_count": 20,
     "metadata": {},
     "output_type": "execute_result"
    }
   ],
   "source": [
    "A_lin_down"
   ]
  },
  {
   "cell_type": "markdown",
   "metadata": {},
   "source": [
    "### Robot Specifications"
   ]
  },
  {
   "cell_type": "code",
   "execution_count": 21,
   "metadata": {},
   "outputs": [
    {
     "data": {
      "text/plain": [
       "{g: 9.81,\n",
       " m_ow: 0.4,\n",
       " m_owr: 0.2,\n",
       " m_iw: 0.7,\n",
       " m_iwr: 0.1,\n",
       " m_m: 1.0,\n",
       " l_iwm: 0.08,\n",
       " r_1: 0.0365,\n",
       " r_2: 0.0915,\n",
       " r_3: 0.1025,\n",
       " d_ow: 0.1,\n",
       " d_iw: 0.1,\n",
       " d_m: 0.1,\n",
       " d_owr: 0.1,\n",
       " d_iwr: 0.1}"
      ]
     },
     "execution_count": 21,
     "metadata": {},
     "output_type": "execute_result"
    }
   ],
   "source": [
    "masses = {\n",
    "    g: 9.81,\n",
    "    m_ow: 0.4,\n",
    "    m_ow_rot: 0.2,\n",
    "    m_iw: 0.7,\n",
    "    m_iw_rot: 0.1,\n",
    "    m_m: 1.0\n",
    "}\n",
    "\n",
    "lengths = {\n",
    "    l_iw_m: 0.08,\n",
    "    r_1: 0.073 / 2,\n",
    "    r_2: 0.183 / 2,\n",
    "    r_3: 0.205 / 2\n",
    "}\n",
    "\n",
    "dampening = {\n",
    "    d_ow: .1,\n",
    "    d_iw: .1,\n",
    "    d_m: .1,\n",
    "    d_owr: .1,\n",
    "    d_iwr: .1\n",
    "}\n",
    "\n",
    "specs = {**masses, **lengths, **dampening}\n",
    "\n",
    "specs"
   ]
  },
  {
   "cell_type": "markdown",
   "metadata": {},
   "source": [
    "### Create Jacobian"
   ]
  },
  {
   "cell_type": "code",
   "execution_count": 22,
   "metadata": {},
   "outputs": [],
   "source": [
    "import numpy as np\n",
    "\n",
    "A_j_up = np.float64(sympy.simplify(A_lin_up.subs(specs)))\n",
    "A_j_down = np.float64(sympy.simplify(A_lin_down.subs(specs)))"
   ]
  },
  {
   "cell_type": "code",
   "execution_count": 23,
   "metadata": {},
   "outputs": [
    {
     "data": {
      "text/latex": [
       "$\\displaystyle \\left[\\begin{matrix}0.0 & 1.0 & 0.0 & 0.0 & 0.0 & 0.0\\\\122.625 & -15.625 & 0.0 & 0.0 & 0.0 & 0.0\\\\0.0 & 0.0 & 0.0 & 1.0 & 0.0 & 0.0\\\\0.0 & 0.0 & -114.110566829951 & -12.5714174636498 & 0.0 & 0.0521392459007896\\\\0.0 & 0.0 & 0.0 & 0.0 & 0.0 & 1.0\\\\0.0 & 0.0 & 0.0 & 0.108075631630771 & 0.0 & -29.9340304322319\\end{matrix}\\right]$"
      ],
      "text/plain": [
       "Matrix([\n",
       "[    0.0,     1.0,               0.0,               0.0, 0.0,                0.0],\n",
       "[122.625, -15.625,               0.0,               0.0, 0.0,                0.0],\n",
       "[    0.0,     0.0,               0.0,               1.0, 0.0,                0.0],\n",
       "[    0.0,     0.0, -114.110566829951, -12.5714174636498, 0.0, 0.0521392459007896],\n",
       "[    0.0,     0.0,               0.0,               0.0, 0.0,                1.0],\n",
       "[    0.0,     0.0,               0.0, 0.108075631630771, 0.0,  -29.9340304322319]])"
      ]
     },
     "execution_count": 23,
     "metadata": {},
     "output_type": "execute_result"
    }
   ],
   "source": [
    "sympy.Matrix(A_j_up)"
   ]
  },
  {
   "cell_type": "code",
   "execution_count": 24,
   "metadata": {},
   "outputs": [
    {
     "data": {
      "text/latex": [
       "$\\displaystyle \\left[\\begin{matrix}0.0 & 1.0 & 0.0 & 0.0 & 0.0 & 0.0\\\\-122.625 & -15.625 & 0.0 & 0.0 & 0.0 & 0.0\\\\0.0 & 0.0 & 0.0 & 1.0 & 0.0 & 0.0\\\\0.0 & 0.0 & -114.110566829951 & -12.5714174636498 & 0.0 & 0.0521392459007896\\\\0.0 & 0.0 & 0.0 & 0.0 & 0.0 & 1.0\\\\0.0 & 0.0 & 0.0 & 0.108075631630771 & 0.0 & -29.9340304322319\\end{matrix}\\right]$"
      ],
      "text/plain": [
       "Matrix([\n",
       "[     0.0,     1.0,               0.0,               0.0, 0.0,                0.0],\n",
       "[-122.625, -15.625,               0.0,               0.0, 0.0,                0.0],\n",
       "[     0.0,     0.0,               0.0,               1.0, 0.0,                0.0],\n",
       "[     0.0,     0.0, -114.110566829951, -12.5714174636498, 0.0, 0.0521392459007896],\n",
       "[     0.0,     0.0,               0.0,               0.0, 0.0,                1.0],\n",
       "[     0.0,     0.0,               0.0, 0.108075631630771, 0.0,  -29.9340304322319]])"
      ]
     },
     "execution_count": 24,
     "metadata": {},
     "output_type": "execute_result"
    }
   ],
   "source": [
    "sympy.Matrix(A_j_down)"
   ]
  },
  {
   "cell_type": "markdown",
   "metadata": {},
   "source": [
    "### Design B Matrix\n",
    "\n",
    "Single motor input (treating both sides of the robot the same)\n",
    "\n",
    "**FIXME:**\n",
    "This is only a stub and needs to be done properly in future!"
   ]
  },
  {
   "cell_type": "code",
   "execution_count": 25,
   "metadata": {},
   "outputs": [],
   "source": [
    "# TODO: Create proper movement matrix (see \"Data Driven Design and Engineering\" page 302)\n",
    "B = np.float64(sympy.Matrix([0, -1, 0, 0, 0, 1]))"
   ]
  },
  {
   "cell_type": "markdown",
   "metadata": {},
   "source": [
    "### Check Controllability"
   ]
  },
  {
   "cell_type": "code",
   "execution_count": 26,
   "metadata": {},
   "outputs": [
    {
     "name": "stdout",
     "output_type": "stream",
     "text": [
      "Rank C up matrix:   6 for (6, 6) matrix\n",
      "Rank C down matrix: 6 for (6, 6) matrix\n"
     ]
    }
   ],
   "source": [
    "import control\n",
    "import numpy.linalg as linalg\n",
    "\n",
    "C_up = control.ctrb(A_j_up, B)\n",
    "C_down = control.ctrb(A_j_down, B)\n",
    "\n",
    "rank_up = linalg.matrix_rank(C_up)\n",
    "rank_down = linalg.matrix_rank(C_down)\n",
    "\n",
    "print(\"Rank C up matrix:   \" + str(rank_up) + \" for \" + str(C_up.shape) + \" matrix\")\n",
    "print(\"Rank C down matrix: \" + str(rank_down) + \" for \" + str(C_down.shape) + \" matrix\")"
   ]
  },
  {
   "cell_type": "code",
   "execution_count": 27,
   "metadata": {},
   "outputs": [
    {
     "data": {
      "text/latex": [
       "$\\displaystyle \\left[\\begin{matrix}0.0 & -1.0 & 15.625 & -366.765625 & 7646.728515625 & -164454.767822266\\\\-1.0 & 15.625 & -366.765625 & 7646.728515625 & -164454.767822266 & 3507285.83145142\\\\0.0 & 0.0 & 0.0521392459007896 & -2.21620199996657 & 68.6306274341568 & -2008.40660151216\\\\0.0 & 0.0521392459007896 & -2.21620199996657 & 68.6306274341568 & -2008.40660151216 & 59280.597357965\\\\0.0 & 1.0 & -29.9340304322319 & 896.051812899718 & -26822.6817536277 & 802918.38918557\\\\1.0 & -29.9340304322319 & 896.051812899718 & -26822.6817536277 & 802918.38918557 & -24034800.5562915\\\\-122.625 & 15.625 & 41851.8333624913 & -13147.1641238917 & 0.0 & 4930421.63034984\\\\1916.015625 & -245.140625 & -872572.525312719 & 282555.149517648 & 0.0 & -105151256.886366\\\\0.0 & 0.0 & 252.892066425857 & -189.14687225858 & 0.0 & 60188.2194062935\\\\6.39357502858432 & -0.814675717199837 & -7831.47979840682 & 5541.7875326445 & 0.0 & -1776512.03360656\\\\122.625 & -15.625 & -102248.980278992 & 75481.3366197367 & 0.0 & -24061359.4587673\\\\-3670.66048175243 & 468.719225503623 & 3060751.41880584 & -2259481.06960843 & 0.0 & 720259971.159439\\\\1916.015625 & -366.765625 & 1500230.35038368 & 739988.753933127 & 0.0 & -147588076.60985\\\\-30060.369140625 & 5746.337890625 & -32242528.2721804 & -15788979.7711665 & 0.0 & 3147615655.83634\\\\0.0 & 0.0 & 21583.6568075389 & 9135.61618859869 & 0.0 & -1801685.85334512\\\\-99.89960982163 & 19.1228831098318 & -632376.51660122 & -269497.264497825 & 0.0 & 53178454.2218278\\\\-1916.015625 & 366.765625 & -8613218.1067605 & -3651602.99504127 & 0.0 & 720257401.819581\\\\57476.6950273818 & -10994.3983802465 & 257830665.594562 & 109308182.517484 & 0.0 & -21560401703.4442\\\\-44974.634765625 & 7646.728515625 & -84440536.1590983 & -23753151.7944958 & 0.0 & 4417944559.12941\\\\704644.683837891 & -119846.898681641 & 1801689431.35444 & 506427877.891691 & 0.0 & -94221646056.2733\\\\0.0 & 0.0 & -1042470.34162187 & -287982.324687511 & 0.0 & 53932195.4874935\\\\2344.94354134312 & -398.694658412752 & 30752485.610968 & 8502881.12988465 & 0.0 & -1591859518.39939\\\\44974.634765625 & -7646.728515625 & 416686487.602107 & 115134881.193806 & 0.0 & -21560397376.9341\\\\-1348188.10137773 & 229264.169718734 & -12473218666.2219 & -3446482161.33844 & 0.0 & 645395419968.25\\\\937680.084228516 & -164454.767822266 & 2710485615.26778 & 691642399.864589 & 0.0 & -132248125352.315\\\\-14696225.9508362 & 2577252.47573853 & -57788772204.7101 & -14747890747.6749 & 0.0 & 2820460025191.12\\\\0.0 & 0.0 & 32861826.3070989 & 8406631.77672223 & 0.0 & -1614422996.18095\\\\-48889.9324878637 & 8574.54757904237 & -970268585.418833 & -248182005.635071 & 0.0 & 47651214601.4153\\\\-937680.084228516 & 164454.767822266 & -13138106554.9243 & -3360875733.23552 & 0.0 & 645395594258.04\\\\28113518.8117598 & -4930440.75323295 & 393280032999.644 & 100605465029.661 & 0.0 & -19319465839133.6\\\\-20166265.9042053 & 3507285.83145142 & -78923706292.1759 & -20277239408.4274 & 0.0 & 3958755470614.99\\\\316035584.837437 & -54965795.8842506 & 1682890172763.38 & 432436117804.48 & 0.0 & -84428505170866.8\\\\0.0 & 0.0 & -959285517.172452 & -247301236.252758 & 0.0 & 48326625413.6169\\\\1051453.89688007 & -182867.238410401 & 28320189340.012 & 7299666130.4069 & 0.0 & -1426405848034.2\\\\20166265.9042053 & -3507285.83145142 & 383511434964.533 & 98864401832.1838 & 0.0 & -19319466592874.8\\\\-604595297.365191 & 105151655.581025 & -11480146640725.4 & -2959436740346.3 & 0.0 & 578314723856169.0\\end{matrix}\\right]$"
      ],
      "text/plain": [
       "Matrix([\n",
       "[              0.0,               -1.0,             15.625,       -366.765625,    7646.728515625, -164454.767822266],\n",
       "[             -1.0,             15.625,        -366.765625,    7646.728515625, -164454.767822266,  3507285.83145142],\n",
       "[              0.0,                0.0, 0.0521392459007896, -2.21620199996657,  68.6306274341568, -2008.40660151216],\n",
       "[              0.0, 0.0521392459007896,  -2.21620199996657,  68.6306274341568, -2008.40660151216,   59280.597357965],\n",
       "[              0.0,                1.0,  -29.9340304322319,  896.051812899718, -26822.6817536277,   802918.38918557],\n",
       "[              1.0,  -29.9340304322319,   896.051812899718, -26822.6817536277,   802918.38918557, -24034800.5562915],\n",
       "[         -122.625,             15.625,   41851.8333624913, -13147.1641238917,               0.0,  4930421.63034984],\n",
       "[      1916.015625,        -245.140625,  -872572.525312719,  282555.149517648,               0.0, -105151256.886366],\n",
       "[              0.0,                0.0,   252.892066425857,  -189.14687225858,               0.0,  60188.2194062935],\n",
       "[ 6.39357502858432, -0.814675717199837,  -7831.47979840682,   5541.7875326445,               0.0, -1776512.03360656],\n",
       "[          122.625,            -15.625,  -102248.980278992,  75481.3366197367,               0.0, -24061359.4587673],\n",
       "[-3670.66048175243,   468.719225503623,   3060751.41880584, -2259481.06960843,               0.0,  720259971.159439],\n",
       "[      1916.015625,        -366.765625,   1500230.35038368,  739988.753933127,               0.0,  -147588076.60985],\n",
       "[ -30060.369140625,     5746.337890625,  -32242528.2721804, -15788979.7711665,               0.0,  3147615655.83634],\n",
       "[              0.0,                0.0,   21583.6568075389,  9135.61618859869,               0.0, -1801685.85334512],\n",
       "[  -99.89960982163,   19.1228831098318,   -632376.51660122, -269497.264497825,               0.0,  53178454.2218278],\n",
       "[     -1916.015625,         366.765625,   -8613218.1067605, -3651602.99504127,               0.0,  720257401.819581],\n",
       "[ 57476.6950273818,  -10994.3983802465,   257830665.594562,  109308182.517484,               0.0, -21560401703.4442],\n",
       "[ -44974.634765625,     7646.728515625,  -84440536.1590983, -23753151.7944958,               0.0,  4417944559.12941],\n",
       "[ 704644.683837891,  -119846.898681641,   1801689431.35444,  506427877.891691,               0.0, -94221646056.2733],\n",
       "[              0.0,                0.0,  -1042470.34162187, -287982.324687511,               0.0,  53932195.4874935],\n",
       "[ 2344.94354134312,  -398.694658412752,    30752485.610968,  8502881.12988465,               0.0, -1591859518.39939],\n",
       "[  44974.634765625,    -7646.728515625,   416686487.602107,  115134881.193806,               0.0, -21560397376.9341],\n",
       "[-1348188.10137773,   229264.169718734,  -12473218666.2219, -3446482161.33844,               0.0,   645395419968.25],\n",
       "[ 937680.084228516,  -164454.767822266,   2710485615.26778,  691642399.864589,               0.0, -132248125352.315],\n",
       "[-14696225.9508362,   2577252.47573853,  -57788772204.7101, -14747890747.6749,               0.0,  2820460025191.12],\n",
       "[              0.0,                0.0,   32861826.3070989,  8406631.77672223,               0.0, -1614422996.18095],\n",
       "[-48889.9324878637,   8574.54757904237,  -970268585.418833, -248182005.635071,               0.0,  47651214601.4153],\n",
       "[-937680.084228516,   164454.767822266,  -13138106554.9243, -3360875733.23552,               0.0,   645395594258.04],\n",
       "[ 28113518.8117598,  -4930440.75323295,   393280032999.644,  100605465029.661,               0.0, -19319465839133.6],\n",
       "[-20166265.9042053,   3507285.83145142,  -78923706292.1759, -20277239408.4274,               0.0,  3958755470614.99],\n",
       "[ 316035584.837437,  -54965795.8842506,   1682890172763.38,   432436117804.48,               0.0, -84428505170866.8],\n",
       "[              0.0,                0.0,  -959285517.172452, -247301236.252758,               0.0,  48326625413.6169],\n",
       "[ 1051453.89688007,  -182867.238410401,    28320189340.012,   7299666130.4069,               0.0,  -1426405848034.2],\n",
       "[ 20166265.9042053,  -3507285.83145142,   383511434964.533,  98864401832.1838,               0.0, -19319466592874.8],\n",
       "[-604595297.365191,   105151655.581025,  -11480146640725.4,  -2959436740346.3,               0.0, 578314723856169.0]])"
      ]
     },
     "execution_count": 27,
     "metadata": {},
     "output_type": "execute_result"
    }
   ],
   "source": [
    "sympy.Matrix(control.obsv(A_j_up, C_up))"
   ]
  },
  {
   "cell_type": "code",
   "execution_count": 28,
   "metadata": {},
   "outputs": [
    {
     "data": {
      "text/latex": [
       "$\\displaystyle \\left[\\begin{matrix}0.0 & -1.0 & 15.625 & -121.515625 & -17.333984375 & 15171.6970214844\\\\-1.0 & 15.625 & -121.515625 & -17.333984375 & 15171.6970214844 & -234932.186126709\\\\0.0 & 0.0 & 0.0521392459007896 & -2.21620199996657 & 68.6306274341568 & -2008.40660151216\\\\0.0 & 0.0521392459007896 & -2.21620199996657 & 68.6306274341568 & -2008.40660151216 & 59280.597357965\\\\0.0 & 1.0 & -29.9340304322319 & 896.051812899718 & -26822.6817536277 & 802918.38918557\\\\1.0 & -29.9340304322319 & 896.051812899718 & -26822.6817536277 & 802918.38918557 & -24034800.5562915\\\\122.625 & 15.625 & 13866.2168474458 & 3182.93938873893 & 0.0 & -454173.710067143\\\\-1916.015625 & -245.140625 & 1977.99078245277 & -25294.0472771554 & 0.0 & 7047638.00226828\\\\0.0 & 0.0 & 252.892066425857 & -189.14687225858 & 0.0 & 60188.2194062935\\\\-6.39357502858432 & -0.814675717199837 & -7831.47979840682 & 5541.7875326445 & 0.0 & -1776512.03360656\\\\-122.625 & -15.625 & -102248.980278992 & 75481.3366197367 & 0.0 & -24061359.4587673\\\\3670.66048175243 & 468.719225503623 & 3060751.41880584 & -2259481.06960843 & 0.0 & 720259971.159439\\\\-1916.015625 & -121.515625 & -363207.017834377 & -75232.9535554826 & 0.0 & 13595415.614729\\\\30060.369140625 & 1914.306640625 & 2886318.07221978 & 1081637.94704904 & 0.0 & -210965529.247803\\\\0.0 & 0.0 & 21583.6568075389 & 9135.61618859869 & 0.0 & -1801685.85334512\\\\99.89960982163 & 6.33573305266313 & -632376.51660122 & -269497.264497825 & 0.0 & 53178454.2218278\\\\1916.015625 & 121.515625 & -8613218.1067605 & -3651602.99504127 & 0.0 & 720257401.819581\\\\-57476.6950273818 & -3653.07741674168 & 257830665.594562 & 109308182.517484 & 0.0 & -21560401703.4442\\\\14900.853515625 & -17.333984375 & 8584874.9745075 & 2051910.97817965 & 0.0 & -406969507.339603\\\\-234741.851806641 & 149.327880859375 & -123426319.24255 & -33511636.930435 & 0.0 & 6315104968.44255\\\\0.0 & 0.0 & -1042470.34162187 & -287982.324687511 & 0.0 & 53932195.4874935\\\\-776.919265582817 & 0.903780873768569 & 30752485.610968 & 8502881.12988465 & 0.0 & -1591859518.39939\\\\-14900.853515625 & 17.333984375 & 416686487.602107 & 115134881.193806 & 0.0 & -21560397376.9341\\\\447958.618227948 & -397.360390793082 & -12473218666.2219 & -3446482161.33844 & 0.0 & 645395419968.25\\\\2125.57983398438 & 15171.6970214844 & -234144724.804679 & -61194041.0906261 & 0.0 & 12182344602.7852\\\\-18311.3313903809 & -237075.099945068 & 3824031885.53146 & 980371416.779259 & 0.0 & -189038291579.576\\\\0.0 & 0.0 & 32861826.3070989 & 8406631.77672223 & 0.0 & -1614422996.18095\\\\-110.826129645871 & -791.040841735451 & -970268585.418833 & -248182005.635071 & 0.0 & 47651214601.4153\\\\-2125.57983398438 & -15171.6970214844 & -13138106554.9243 & -3360875733.23552 & 0.0 & 645395594258.04\\\\48726.3179210017 & 454167.37433409 & 393280032999.644 & 100605465029.661 & 0.0 & -19319465839133.6\\\\-1860429.34725952 & -234932.186126709 & 6982886715.46666 & 1851765699.72304 & 0.0 & -364669864686.863\\\\29071334.130764 & 3685987.10525131 & -111870738072.563 & -28931059229.095 & 0.0 & 5658729088826.54\\\\0.0 & 0.0 & -959285517.172452 & -247301236.252758 & 0.0 & 48326625413.6169\\\\97001.3832178096 & 12249.1870224705 & 28320189340.012 & 7299666130.4069 & 0.0 & -1426405848034.2\\\\1860429.34725952 & 234932.186126709 & 383511434964.533 & 98864401832.1838 & 0.0 & -19319466592874.8\\\\-55692274.2777178 & -7047638.90604915 & -11480146640725.4 & -2959436740346.3 & 0.0 & 578314723856169.0\\end{matrix}\\right]$"
      ],
      "text/plain": [
       "Matrix([\n",
       "[              0.0,               -1.0,             15.625,       -121.515625,     -17.333984375,  15171.6970214844],\n",
       "[             -1.0,             15.625,        -121.515625,     -17.333984375,  15171.6970214844, -234932.186126709],\n",
       "[              0.0,                0.0, 0.0521392459007896, -2.21620199996657,  68.6306274341568, -2008.40660151216],\n",
       "[              0.0, 0.0521392459007896,  -2.21620199996657,  68.6306274341568, -2008.40660151216,   59280.597357965],\n",
       "[              0.0,                1.0,  -29.9340304322319,  896.051812899718, -26822.6817536277,   802918.38918557],\n",
       "[              1.0,  -29.9340304322319,   896.051812899718, -26822.6817536277,   802918.38918557, -24034800.5562915],\n",
       "[          122.625,             15.625,   13866.2168474458,  3182.93938873893,               0.0, -454173.710067143],\n",
       "[     -1916.015625,        -245.140625,   1977.99078245277, -25294.0472771554,               0.0,  7047638.00226828],\n",
       "[              0.0,                0.0,   252.892066425857,  -189.14687225858,               0.0,  60188.2194062935],\n",
       "[-6.39357502858432, -0.814675717199837,  -7831.47979840682,   5541.7875326445,               0.0, -1776512.03360656],\n",
       "[         -122.625,            -15.625,  -102248.980278992,  75481.3366197367,               0.0, -24061359.4587673],\n",
       "[ 3670.66048175243,   468.719225503623,   3060751.41880584, -2259481.06960843,               0.0,  720259971.159439],\n",
       "[     -1916.015625,        -121.515625,  -363207.017834377, -75232.9535554826,               0.0,   13595415.614729],\n",
       "[  30060.369140625,     1914.306640625,   2886318.07221978,  1081637.94704904,               0.0, -210965529.247803],\n",
       "[              0.0,                0.0,   21583.6568075389,  9135.61618859869,               0.0, -1801685.85334512],\n",
       "[   99.89960982163,   6.33573305266313,   -632376.51660122, -269497.264497825,               0.0,  53178454.2218278],\n",
       "[      1916.015625,         121.515625,   -8613218.1067605, -3651602.99504127,               0.0,  720257401.819581],\n",
       "[-57476.6950273818,  -3653.07741674168,   257830665.594562,  109308182.517484,               0.0, -21560401703.4442],\n",
       "[  14900.853515625,      -17.333984375,    8584874.9745075,  2051910.97817965,               0.0, -406969507.339603],\n",
       "[-234741.851806641,   149.327880859375,   -123426319.24255,  -33511636.930435,               0.0,  6315104968.44255],\n",
       "[              0.0,                0.0,  -1042470.34162187, -287982.324687511,               0.0,  53932195.4874935],\n",
       "[-776.919265582817,  0.903780873768569,    30752485.610968,  8502881.12988465,               0.0, -1591859518.39939],\n",
       "[ -14900.853515625,       17.333984375,   416686487.602107,  115134881.193806,               0.0, -21560397376.9341],\n",
       "[ 447958.618227948,  -397.360390793082,  -12473218666.2219, -3446482161.33844,               0.0,   645395419968.25],\n",
       "[ 2125.57983398438,   15171.6970214844,  -234144724.804679, -61194041.0906261,               0.0,  12182344602.7852],\n",
       "[-18311.3313903809,  -237075.099945068,   3824031885.53146,  980371416.779259,               0.0, -189038291579.576],\n",
       "[              0.0,                0.0,   32861826.3070989,  8406631.77672223,               0.0, -1614422996.18095],\n",
       "[-110.826129645871,  -791.040841735451,  -970268585.418833, -248182005.635071,               0.0,  47651214601.4153],\n",
       "[-2125.57983398438,  -15171.6970214844,  -13138106554.9243, -3360875733.23552,               0.0,   645395594258.04],\n",
       "[ 48726.3179210017,    454167.37433409,   393280032999.644,  100605465029.661,               0.0, -19319465839133.6],\n",
       "[-1860429.34725952,  -234932.186126709,   6982886715.46666,  1851765699.72304,               0.0, -364669864686.863],\n",
       "[  29071334.130764,   3685987.10525131,  -111870738072.563,  -28931059229.095,               0.0,  5658729088826.54],\n",
       "[              0.0,                0.0,  -959285517.172452, -247301236.252758,               0.0,  48326625413.6169],\n",
       "[ 97001.3832178096,   12249.1870224705,    28320189340.012,   7299666130.4069,               0.0,  -1426405848034.2],\n",
       "[ 1860429.34725952,   234932.186126709,   383511434964.533,  98864401832.1838,               0.0, -19319466592874.8],\n",
       "[-55692274.2777178,  -7047638.90604915,  -11480146640725.4,  -2959436740346.3,               0.0, 578314723856169.0]])"
      ]
     },
     "execution_count": 28,
     "metadata": {},
     "output_type": "execute_result"
    }
   ],
   "source": [
    "sympy.Matrix(control.obsv(A_j_down, C_down))"
   ]
  },
  {
   "cell_type": "markdown",
   "metadata": {},
   "source": [
    "### Design Cost Matrix Q and R\n",
    "\n",
    "* Choosen simple default vaules\n",
    "* Optimize here in future"
   ]
  },
  {
   "cell_type": "code",
   "execution_count": 29,
   "metadata": {},
   "outputs": [],
   "source": [
    "Q = np.float64(np.diag([1, 1, 1, 1, 1, 1]))\n",
    "R = np.float64([0.0001])"
   ]
  },
  {
   "cell_type": "code",
   "execution_count": 30,
   "metadata": {},
   "outputs": [
    {
     "data": {
      "text/latex": [
       "$\\displaystyle \\left[\\begin{matrix}1.0 & 0.0 & 0.0 & 0.0 & 0.0 & 0.0\\\\0.0 & 1.0 & 0.0 & 0.0 & 0.0 & 0.0\\\\0.0 & 0.0 & 1.0 & 0.0 & 0.0 & 0.0\\\\0.0 & 0.0 & 0.0 & 1.0 & 0.0 & 0.0\\\\0.0 & 0.0 & 0.0 & 0.0 & 1.0 & 0.0\\\\0.0 & 0.0 & 0.0 & 0.0 & 0.0 & 1.0\\end{matrix}\\right]$"
      ],
      "text/plain": [
       "Matrix([\n",
       "[1.0, 0.0, 0.0, 0.0, 0.0, 0.0],\n",
       "[0.0, 1.0, 0.0, 0.0, 0.0, 0.0],\n",
       "[0.0, 0.0, 1.0, 0.0, 0.0, 0.0],\n",
       "[0.0, 0.0, 0.0, 1.0, 0.0, 0.0],\n",
       "[0.0, 0.0, 0.0, 0.0, 1.0, 0.0],\n",
       "[0.0, 0.0, 0.0, 0.0, 0.0, 1.0]])"
      ]
     },
     "execution_count": 30,
     "metadata": {},
     "output_type": "execute_result"
    }
   ],
   "source": [
    "sympy.Matrix(Q)"
   ]
  },
  {
   "cell_type": "code",
   "execution_count": 31,
   "metadata": {},
   "outputs": [
    {
     "data": {
      "text/latex": [
       "$\\displaystyle \\left[\\begin{matrix}0.0001\\end{matrix}\\right]$"
      ],
      "text/plain": [
       "Matrix([[0.0001]])"
      ]
     },
     "execution_count": 31,
     "metadata": {},
     "output_type": "execute_result"
    }
   ],
   "source": [
    "sympy.Matrix(R)"
   ]
  },
  {
   "cell_type": "markdown",
   "metadata": {},
   "source": [
    "### Print Shapes"
   ]
  },
  {
   "cell_type": "code",
   "execution_count": 32,
   "metadata": {},
   "outputs": [
    {
     "name": "stdout",
     "output_type": "stream",
     "text": [
      "A_down: (6, 6), A_up: (6, 6), B: (6, 1), Q: (6, 6), R: (1,)\n"
     ]
    }
   ],
   "source": [
    "print(\"A_down: \" + str(A_j_down.shape) + \", A_up: \" + str(A_j_up.shape) + \", B: \" + str(B.shape) + \", Q: \" + str(Q.shape) + \", R: \" + str(R.shape))"
   ]
  },
  {
   "cell_type": "markdown",
   "metadata": {},
   "source": [
    "## Generate LQR Controller"
   ]
  },
  {
   "cell_type": "code",
   "execution_count": 33,
   "metadata": {},
   "outputs": [
    {
     "data": {
      "text/latex": [
       "$\\displaystyle \\left[\\begin{matrix}-879.661745219275 & -95.0659148810175 & 2.30387943225023 & 0.0658766908100223 & -99.9999999999752 & 33.6694552530897\\end{matrix}\\right]$"
      ],
      "text/plain": [
       "Matrix([[-879.661745219275, -95.0659148810175, 2.30387943225023, 0.0658766908100223, -99.9999999999752, 33.6694552530897]])"
      ]
     },
     "execution_count": 33,
     "metadata": {},
     "output_type": "execute_result"
    }
   ],
   "source": [
    "K, S, E = control.lqr(A_j_up, B, Q, R)\n",
    "\n",
    "K_up = np.float64(K)\n",
    "\n",
    "sympy.Matrix(K_up)"
   ]
  },
  {
   "cell_type": "code",
   "execution_count": 34,
   "metadata": {},
   "outputs": [
    {
     "data": {
      "text/latex": [
       "$\\displaystyle \\left[\\begin{matrix}-159.370412006465 & -71.8247399249927 & -0.538587353195436 & 0.107860462664784 & 100.000000000003 & 51.4413700742022\\end{matrix}\\right]$"
      ],
      "text/plain": [
       "Matrix([[-159.370412006465, -71.8247399249927, -0.538587353195436, 0.107860462664784, 100.000000000003, 51.4413700742022]])"
      ]
     },
     "execution_count": 34,
     "metadata": {},
     "output_type": "execute_result"
    }
   ],
   "source": [
    "K, S, E = control.lqr(A_j_down, B, Q, R)\n",
    "\n",
    "K_down = np.float64(K)\n",
    "\n",
    "sympy.Matrix(K_down)"
   ]
  },
  {
   "cell_type": "markdown",
   "metadata": {},
   "source": [
    "## Simulation\n",
    "\n",
    "### Uncontrolled Pendulum Simulation\n",
    "\n",
    "#### Initial Values"
   ]
  },
  {
   "cell_type": "code",
   "execution_count": 35,
   "metadata": {},
   "outputs": [],
   "source": [
    "import math\n",
    "\n",
    "dt = 0.01\n",
    "timeline = np.arange(0., 10., dt)\n",
    "\n",
    "offset = 0.1\n",
    "θ_up_0 = offset\n",
    "θ_down_0 = math.pi + offset\n",
    "\n",
    "x_0_up = np.float64([θ_up_0, 0, 0, 0, 0, 0])\n",
    "x_0_down = np.float64([θ_down_0, 0, 0, 0, 0, 0])"
   ]
  },
  {
   "cell_type": "code",
   "execution_count": 36,
   "metadata": {},
   "outputs": [
    {
     "data": {
      "text/latex": [
       "$\\displaystyle \\left[\\begin{matrix}0.1\\\\0.0\\\\0.0\\\\0.0\\\\0.0\\\\0.0\\end{matrix}\\right]$"
      ],
      "text/plain": [
       "Matrix([\n",
       "[0.1],\n",
       "[0.0],\n",
       "[0.0],\n",
       "[0.0],\n",
       "[0.0],\n",
       "[0.0]])"
      ]
     },
     "execution_count": 36,
     "metadata": {},
     "output_type": "execute_result"
    }
   ],
   "source": [
    "sympy.Matrix(x_0_up)"
   ]
  },
  {
   "cell_type": "code",
   "execution_count": 37,
   "metadata": {},
   "outputs": [
    {
     "data": {
      "text/latex": [
       "$\\displaystyle \\left[\\begin{matrix}3.24159265358979\\\\0.0\\\\0.0\\\\0.0\\\\0.0\\\\0.0\\end{matrix}\\right]$"
      ],
      "text/plain": [
       "Matrix([\n",
       "[3.24159265358979],\n",
       "[             0.0],\n",
       "[             0.0],\n",
       "[             0.0],\n",
       "[             0.0],\n",
       "[             0.0]])"
      ]
     },
     "execution_count": 37,
     "metadata": {},
     "output_type": "execute_result"
    }
   ],
   "source": [
    "sympy.Matrix(x_0_down)"
   ]
  },
  {
   "cell_type": "markdown",
   "metadata": {},
   "source": [
    "#### Simulation via A matrix"
   ]
  },
  {
   "cell_type": "code",
   "execution_count": 38,
   "metadata": {},
   "outputs": [],
   "source": [
    "import scipy.integrate as integrate\n",
    "\n",
    "def apply(y, t):\n",
    "    return A_local @ y\n",
    "\n",
    "A_local = A_j_up\n",
    "solution_up_lin = integrate.odeint(apply, x_0_up, timeline)\n",
    "\n",
    "A_local = A_j_down\n",
    "solution_down_lin = integrate.odeint(apply, x_0_down, timeline)"
   ]
  },
  {
   "cell_type": "markdown",
   "metadata": {},
   "source": [
    "#### Simulation via differential equations"
   ]
  },
  {
   "cell_type": "code",
   "execution_count": 39,
   "metadata": {},
   "outputs": [],
   "source": [
    "f_θ_c = f_θ.subs(specs)\n",
    "f_dθ_c = f_dθ.subs(specs)\n",
    "f_ρ_c = f_ρ.subs(specs)\n",
    "f_dρ_c = f_dρ.subs(specs)\n",
    "f_φ_c = f_φ.subs(specs)\n",
    "f_dφ_c = f_dφ.subs(specs)"
   ]
  },
  {
   "cell_type": "code",
   "execution_count": 40,
   "metadata": {},
   "outputs": [
    {
     "data": {
      "text/latex": [
       "$\\displaystyle 0.6875 \\sin{\\left(θ{\\left(t \\right)} + ρ{\\left(t \\right)} \\right)} \\left(\\frac{d}{d t} ρ{\\left(t \\right)}\\right)^{2} + 12.5 \\sin{\\left(θ{\\left(t \\right)} \\right)} \\frac{d^{2}}{d t^{2}} y{\\left(t \\right)} + 122.625 \\sin{\\left(θ{\\left(t \\right)} \\right)} - 0.6875 \\cos{\\left(θ{\\left(t \\right)} + ρ{\\left(t \\right)} \\right)} \\frac{d^{2}}{d t^{2}} ρ{\\left(t \\right)} + 1.28125 \\cos{\\left(θ{\\left(t \\right)} \\right)} \\frac{d^{2}}{d t^{2}} ρ{\\left(t \\right)} - 0.511099726775956 \\cos{\\left(θ{\\left(t \\right)} \\right)} \\frac{d^{2}}{d t^{2}} φ{\\left(t \\right)} - 15.625 \\frac{d}{d t} θ{\\left(t \\right)}$"
      ],
      "text/plain": [
       "0.6875*sin(θ(t) + ρ(t))*Derivative(ρ(t), t)**2 + 12.5*sin(θ(t))*Derivative(y(t), (t, 2)) + 122.625*sin(θ(t)) - 0.6875*cos(θ(t) + ρ(t))*Derivative(ρ(t), (t, 2)) + 1.28125*cos(θ(t))*Derivative(ρ(t), (t, 2)) - 0.511099726775956*cos(θ(t))*Derivative(φ(t), (t, 2)) - 15.625*Derivative(θ(t), t)"
      ]
     },
     "execution_count": 40,
     "metadata": {},
     "output_type": "execute_result"
    }
   ],
   "source": [
    "f_dθ_c"
   ]
  },
  {
   "cell_type": "code",
   "execution_count": 41,
   "metadata": {},
   "outputs": [
    {
     "data": {
      "text/latex": [
       "$\\displaystyle \\frac{10.9289617486339 \\left(0.0004026 \\sin{\\left(θ{\\left(t \\right)} + ρ{\\left(t \\right)} \\right)} \\left(\\frac{d}{d t} θ{\\left(t \\right)}\\right)^{2} - 0.0007503 \\sin{\\left(θ{\\left(t \\right)} \\right)} \\left(\\frac{d}{d t} θ{\\left(t \\right)}\\right)^{2} - 0.00855525 \\sin{\\left(ρ{\\left(t \\right)} \\right)} \\frac{d^{2}}{d t^{2}} y{\\left(t \\right)} - 0.000876913125 \\sin{\\left(ρ{\\left(t \\right)} \\right)} \\left(\\frac{d}{d t} ρ{\\left(t \\right)}\\right)^{2} - 0.0839270025 \\sin{\\left(ρ{\\left(t \\right)} \\right)} - 0.0004026 \\cos{\\left(θ{\\left(t \\right)} + ρ{\\left(t \\right)} \\right)} \\frac{d^{2}}{d t^{2}} θ{\\left(t \\right)} + 0.0007503 \\cos{\\left(θ{\\left(t \\right)} \\right)} \\frac{d^{2}}{d t^{2}} θ{\\left(t \\right)} - 0.000349806875 \\cos{\\left(ρ{\\left(t \\right)} \\right)} \\frac{d^{2}}{d t^{2}} φ{\\left(t \\right)} - 0.0092461321875 \\frac{d}{d t} ρ{\\left(t \\right)} + 3.83478125 \\cdot 10^{-5} \\frac{d}{d t} φ{\\left(t \\right)} + 0.0008053040625 \\frac{d^{2}}{d t^{2}} φ{\\left(t \\right)}\\right)}{0.027205625 - 0.0191675 \\cos{\\left(ρ{\\left(t \\right)} \\right)}}$"
      ],
      "text/plain": [
       "10.9289617486339*(0.0004026*sin(θ(t) + ρ(t))*Derivative(θ(t), t)**2 - 0.0007503*sin(θ(t))*Derivative(θ(t), t)**2 - 0.00855525*sin(ρ(t))*Derivative(y(t), (t, 2)) - 0.000876913125*sin(ρ(t))*Derivative(ρ(t), t)**2 - 0.0839270025*sin(ρ(t)) - 0.0004026*cos(θ(t) + ρ(t))*Derivative(θ(t), (t, 2)) + 0.0007503*cos(θ(t))*Derivative(θ(t), (t, 2)) - 0.000349806875*cos(ρ(t))*Derivative(φ(t), (t, 2)) - 0.0092461321875*Derivative(ρ(t), t) + 3.83478125e-5*Derivative(φ(t), t) + 0.0008053040625*Derivative(φ(t), (t, 2)))/(0.027205625 - 0.0191675*cos(ρ(t)))"
      ]
     },
     "execution_count": 41,
     "metadata": {},
     "output_type": "execute_result"
    }
   ],
   "source": [
    "f_dρ_c"
   ]
  },
  {
   "cell_type": "code",
   "execution_count": 42,
   "metadata": {},
   "outputs": [
    {
     "data": {
      "text/latex": [
       "$\\displaystyle 0.843517124923089 \\sin{\\left(θ{\\left(t \\right)} \\right)} \\left(\\frac{d}{d t} θ{\\left(t \\right)}\\right)^{2} + 0.98586063975386 \\sin{\\left(ρ{\\left(t \\right)} \\right)} \\left(\\frac{d}{d t} ρ{\\left(t \\right)}\\right)^{2} - 0.843517124923089 \\cos{\\left(θ{\\left(t \\right)} \\right)} \\frac{d^{2}}{d t^{2}} θ{\\left(t \\right)} - 0.98586063975386 \\cos{\\left(ρ{\\left(t \\right)} \\right)} \\frac{d^{2}}{d t^{2}} ρ{\\left(t \\right)} + 0.108075631630771 \\frac{d}{d t} ρ{\\left(t \\right)} + 2.26958826424619 \\frac{d^{2}}{d t^{2}} ρ{\\left(t \\right)} - 29.9340304322319 \\frac{d}{d t} φ{\\left(t \\right)}$"
      ],
      "text/plain": [
       "0.843517124923089*sin(θ(t))*Derivative(θ(t), t)**2 + 0.98586063975386*sin(ρ(t))*Derivative(ρ(t), t)**2 - 0.843517124923089*cos(θ(t))*Derivative(θ(t), (t, 2)) - 0.98586063975386*cos(ρ(t))*Derivative(ρ(t), (t, 2)) + 0.108075631630771*Derivative(ρ(t), t) + 2.26958826424619*Derivative(ρ(t), (t, 2)) - 29.9340304322319*Derivative(φ(t), t)"
      ]
     },
     "execution_count": 42,
     "metadata": {},
     "output_type": "execute_result"
    }
   ],
   "source": [
    "f_dφ_c"
   ]
  },
  {
   "cell_type": "code",
   "execution_count": 43,
   "metadata": {},
   "outputs": [],
   "source": [
    "precision = 2\n",
    "\n",
    "ddx = [0,0,0]\n",
    "\n",
    "def update_ddx(ddx_in):\n",
    "    ddx = ddx_in\n",
    "\n",
    "def limit_ddx(ret, ddx, max_value):\n",
    "    if (ret[1] > max_value):\n",
    "        ret[1] = ddx[0]\n",
    "    if (ret[1] < -1 * max_value):\n",
    "        ret[1] = ddx[0]\n",
    "    if (ret[3] > max_value):\n",
    "        ret[3] = ddx[1]\n",
    "    if (ret[3] < -1 * max_value):\n",
    "        ret[3] = ddx[1]\n",
    "    if (ret[5] > max_value):\n",
    "        ret[5] = ddx[2]\n",
    "    if (ret[5] < -1 * max_value):\n",
    "        ret[5] = ddx[2]\n",
    "    return ret\n",
    "\n",
    "def limit_dx(ret, y, max_value):\n",
    "    if (ret[0] > max_value):\n",
    "        ret[0] = y[0]\n",
    "    if (ret[0] < -1 * max_value):\n",
    "        ret[0] = y[0]\n",
    "    if (ret[2] > max_value):\n",
    "        ret[2] = y[2]\n",
    "    if (ret[2] < -1 * max_value):\n",
    "        ret[2] = y[2]\n",
    "    if (ret[4] > max_value):\n",
    "        ret[4] = y[4]\n",
    "    if (ret[4] < -1 * max_value):\n",
    "        ret[4] = y[4]\n",
    "    return ret\n",
    "\n",
    "def apply_deq(y, t):\n",
    "    ret = np.zeros(6)\n",
    "    yl = y\n",
    "    # yl = limit_dx(y, [0, 0, 0, 0, 0, 0], 100)\n",
    "    ret[0] = yl[1]\n",
    "    ret[2] = yl[3]\n",
    "    ret[4] = yl[5]\n",
    "    # ret = limit_dx(ret, yl, 100)\n",
    "\n",
    "    for _ in range(precision):\n",
    "        ret[1] = linearice(f_dθ_c, yl, ddx)\n",
    "        ret[3] = linearice(f_dρ_c, yl, ddx)\n",
    "        ret[5] = linearice(f_dφ_c, yl, ddx)\n",
    "        # ret = limit_ddx(ret, ddx, 100)\n",
    "        update_ddx([ret[1], ret[3], ret[5]])\n",
    "    return ret\n",
    "\n",
    "update_ddx([0,0,0])\n",
    "solution_up_deq = integrate.odeint(apply_deq, x_0_up, timeline, mxstep=50)\n",
    "\n",
    "update_ddx([0,0,0])\n",
    "solution_down_deq = integrate.odeint(apply_deq, x_0_down, timeline, mxstep=50)"
   ]
  },
  {
   "cell_type": "code",
   "execution_count": 44,
   "metadata": {},
   "outputs": [
    {
     "data": {
      "image/png": "[encoded data removed]",
      "text/plain": [
       "<Figure size 432x288 with 4 Axes>"
      ]
     },
     "metadata": {
      "needs_background": "light"
     },
     "output_type": "display_data"
    },
    {
     "name": "stdout",
     "output_type": "stream",
     "text": [
      "Uncontrolled Pendulum\n"
     ]
    }
   ],
   "source": [
    "%matplotlib inline\n",
    "\n",
    "import matplotlib.pyplot as plt\n",
    "\n",
    "states = state_x\n",
    "fig, axs = plt.subplots(2, 2)\n",
    "\n",
    "for row, state in enumerate(states):\n",
    "    axs[0, 0].plot(timeline, solution_up_lin[:, row], label=str(state))\n",
    "\n",
    "for row, state in enumerate(states):\n",
    "    axs[0, 1].plot(timeline, solution_down_lin[:, row], label=str(state))\n",
    "\n",
    "for row, state in enumerate(states):\n",
    "    axs[1, 0].plot(timeline, solution_up_deq[:, row], label=str(state))\n",
    "\n",
    "for row, state in enumerate(states):\n",
    "    axs[1, 1].plot(timeline, solution_down_deq[:, row], label=str(state))\n",
    "\n",
    "for i in range(len(axs)):\n",
    "    for j in range(len(axs[0])):\n",
    "        axs[i,j].axis([-0.01, timeline[-1] + 0.01, -(math.pi * 2 + 0.1), math.pi * 2 + 0.1])\n",
    "\n",
    "\n",
    "axs[0,0].legend()\n",
    "axs[0,0].set_ylabel(\"linearized A\")\n",
    "axs[1,0].set_ylabel(\"differential eqs\")\n",
    "axs[1,0].set_xlabel(\"pendulum up\")\n",
    "axs[1,1].set_xlabel(\"pendulum down\")\n",
    "\n",
    "plt.show()\n",
    "\n",
    "print(\"Uncontrolled Pendulum\")"
   ]
  },
  {
   "cell_type": "markdown",
   "metadata": {},
   "source": [
    "### Controlled Pendulum Simulation\n",
    "\n",
    "#### Initial Values"
   ]
  },
  {
   "cell_type": "code",
   "execution_count": 45,
   "metadata": {},
   "outputs": [],
   "source": [
    "dt = 0.01\n",
    "timeline = np.arange(0., 10., dt)\n",
    "\n",
    "offset = 0.4\n",
    "θ_up_0 = offset\n",
    "θ_down_0 = math.pi + offset\n",
    "\n",
    "x_0_up = np.float64([θ_up_0, 0, 0, 0, 0, 0])\n",
    "x_0_down = np.float64([θ_down_0, 0, 0, 0, 0, 0])"
   ]
  },
  {
   "cell_type": "markdown",
   "metadata": {},
   "source": [
    "#### Control of A Matrix"
   ]
  },
  {
   "cell_type": "code",
   "execution_count": 46,
   "metadata": {},
   "outputs": [],
   "source": [
    "def apply_k(y_k, t):\n",
    "    return A_local @ y_k - np.array(B) * np.array(K) @ y_k\n",
    "\n",
    "A_local = A_j_up\n",
    "K = K_up\n",
    "\n",
    "solution_up_lin_k = integrate.odeint(apply_k, x_0_up, timeline)\n",
    "\n",
    "A_local = A_j_down\n",
    "K = K_down\n",
    "\n",
    "solution_down_lin_k = integrate.odeint(apply_k, x_0_down, timeline)"
   ]
  },
  {
   "cell_type": "markdown",
   "metadata": {},
   "source": [
    "#### Control of diffential equations"
   ]
  },
  {
   "cell_type": "code",
   "execution_count": 47,
   "metadata": {},
   "outputs": [],
   "source": [
    "def apply_deq_k(y_k, t):\n",
    "    retA = apply_deq(y_k, t)\n",
    "    retK = np.array(B) * np.array(K) @ y_k\n",
    "    return retA - retK\n",
    "\n",
    "K = K_up\n",
    "solution_up_deq_k = integrate.odeint(apply_deq_k, x_0_up, timeline)\n",
    "\n",
    "K = K_down\n",
    "solution_down_deq_k = integrate.odeint(apply_deq_k, x_0_down, timeline)"
   ]
  },
  {
   "cell_type": "code",
   "execution_count": 48,
   "metadata": {},
   "outputs": [
    {
     "data": {
      "image/png": "[encoded data removed]",
      "text/plain": [
       "<Figure size 432x288 with 4 Axes>"
      ]
     },
     "metadata": {
      "needs_background": "light"
     },
     "output_type": "display_data"
    },
    {
     "name": "stdout",
     "output_type": "stream",
     "text": [
      "Controlled Pendulum\n"
     ]
    }
   ],
   "source": [
    "fig, axs = plt.subplots(2, 2)\n",
    "\n",
    "for row, state in enumerate(states):\n",
    "    axs[0, 0].plot(timeline, solution_up_lin_k[:, row], label=str(state))\n",
    "\n",
    "for row, state in enumerate(states):\n",
    "    axs[0, 1].plot(timeline, solution_down_lin_k[:, row], label=str(state))\n",
    "\n",
    "for row, state in enumerate(states):\n",
    "    axs[1, 0].plot(timeline, solution_up_deq_k[:, row], label=str(state))\n",
    "\n",
    "for row, state in enumerate(states):\n",
    "    axs[1, 1].plot(timeline, solution_down_deq_k[:, row], label=str(state))\n",
    "\n",
    "for i in range(len(axs)):\n",
    "    for j in range(len(axs[0])):\n",
    "        axs[i,j].axis([-0.01, timeline[-1] + 0.01, -(math.pi * 2 + 0.1), math.pi * 2 + 0.1])\n",
    "\n",
    "axs[0,1].legend()\n",
    "axs[0,0].set_ylabel(\"linearized A\")\n",
    "axs[1,0].set_ylabel(\"differential eqs\")\n",
    "axs[1,0].set_xlabel(\"pendulum up\")\n",
    "axs[1,1].set_xlabel(\"pendulum down\")\n",
    "\n",
    "plt.show()\n",
    "\n",
    "print(\"Controlled Pendulum\")"
   ]
  },
  {
   "cell_type": "code",
   "execution_count": 49,
   "metadata": {},
   "outputs": [
    {
     "data": {
      "image/png": "[encoded data removed]",
      "text/plain": [
       "<Figure size 432x288 with 4 Axes>"
      ]
     },
     "metadata": {
      "needs_background": "light"
     },
     "output_type": "display_data"
    },
    {
     "name": "stdout",
     "output_type": "stream",
     "text": [
      "Controlled Pendulum (free axis range)\n"
     ]
    }
   ],
   "source": [
    "fig, axs = plt.subplots(2, 2)\n",
    "\n",
    "for row, state in enumerate(states):\n",
    "    axs[0, 0].plot(timeline, solution_up_lin_k[:, row], label=str(state))\n",
    "\n",
    "for row, state in enumerate(states):\n",
    "    axs[0, 1].plot(timeline, solution_down_lin_k[:, row], label=str(state))\n",
    "\n",
    "for row, state in enumerate(states):\n",
    "    axs[1, 0].plot(timeline, solution_up_deq_k[:, row], label=str(state))\n",
    "\n",
    "for row, state in enumerate(states):\n",
    "    axs[1, 1].plot(timeline, solution_down_deq_k[:, row], label=str(state))\n",
    "\n",
    "axs[0,1].legend()\n",
    "axs[0,0].set_ylabel(\"linearized A\")\n",
    "axs[1,0].set_ylabel(\"differential eqs\")\n",
    "axs[1,0].set_xlabel(\"pendulum up\")\n",
    "axs[1,1].set_xlabel(\"pendulum down\")\n",
    "\n",
    "plt.show()\n",
    "\n",
    "print(\"Controlled Pendulum (free axis range)\")"
   ]
  },
  {
   "cell_type": "code",
   "execution_count": 50,
   "metadata": {},
   "outputs": [
    {
     "name": "stderr",
     "output_type": "stream",
     "text": [
      "100%|██████████| 1000/1000 [00:41<00:00, 23.96it/s]\n",
      "100%|██████████| 1000/1000 [00:41<00:00, 23.84it/s]\n"
     ]
    }
   ],
   "source": [
    "import tqdm\n",
    "\n",
    "def getPositions(solution):\n",
    "    # x_ow, y_ow, x_iw, y_iw, x_m, y_m\n",
    "    positions = sympy.zeros(6, len(timeline))\n",
    "    energy = sympy.zeros(5, len(timeline))\n",
    "\n",
    "    for tp in tqdm.tqdm(range(len(timeline))):\n",
    "        results = {\n",
    "            (θ.diff(t, t), 0),\n",
    "            (θ.diff(t), solution[tp, 1]),\n",
    "            (θ, solution[tp, 0]),\n",
    "            (ρ.diff(t, t), 0),\n",
    "            (ρ.diff(t), solution[tp, 3]),\n",
    "            (ρ, solution[tp, 2]),\n",
    "            (φ.diff(t, t), 0),\n",
    "            (φ.diff(t), solution[tp, 5]),\n",
    "            (φ, solution[tp, 4]),\n",
    "            (y.diff(t, t), 0),\n",
    "            (y.diff(t), 0),\n",
    "            (y, 0)\n",
    "        }\n",
    "        positions[0, tp] = x_ow.subs(specs).subs(results)\n",
    "        positions[1, tp] = y_ow.subs(specs).subs(results)\n",
    "        positions[2, tp] = x_iw.subs(specs).subs(results)\n",
    "        positions[3, tp] = y_iw.subs(specs).subs(results)\n",
    "        positions[4, tp] = x_m.subs(specs).subs(results)\n",
    "        positions[5, tp] = y_m.subs(specs).subs(results)\n",
    "        # energy[0, tp] = T.subs(specs).subs(results)\n",
    "        # energy[1, tp] = V.subs(specs).subs(results)\n",
    "        # energy[2, tp] = L.subs(specs).subs(results)\n",
    "        # energy[3, tp] = energy[0, tp] - energy[1, tp]\n",
    "        # energy[4, tp] = energy[0, tp] + energy[1, tp]\n",
    "    return positions\n",
    "\n",
    "positions_up = getPositions(solution_up_deq_k)\n",
    "positions_down = getPositions(solution_down_deq_k)"
   ]
  },
  {
   "cell_type": "code",
   "execution_count": 51,
   "metadata": {},
   "outputs": [],
   "source": [
    "solution = solution_down_deq_k\n",
    "positions = positions_down"
   ]
  },
  {
   "cell_type": "code",
   "execution_count": 52,
   "metadata": {},
   "outputs": [],
   "source": [
    "solution = solution_up_deq_k\n",
    "positions = positions_up"
   ]
  },
  {
   "cell_type": "code",
   "execution_count": 53,
   "metadata": {},
   "outputs": [
    {
     "data": {
      "image/png": "[encoded data removed]",
      "text/plain": [
       "<Figure size 432x288 with 2 Axes>"
      ]
     },
     "metadata": {
      "needs_background": "light"
     },
     "output_type": "display_data"
    }
   ],
   "source": [
    "fig, axs = plt.subplots(2)\n",
    "\n",
    "for row, state in enumerate(states):\n",
    "    axs[0].plot(timeline, solution[:, row], label=str(state))\n",
    "\n",
    "axs[1].plot(timeline, positions[0, :].T, label='x_ow')\n",
    "# axs[1].plot(timeline, positions[1, :].T, label='y_ow')\n",
    "axs[1].plot(timeline, positions[2, :].T, label='x_iw')\n",
    "axs[1].plot(timeline, positions[3, :].T, label='y_iw')\n",
    "axs[1].plot(timeline, positions[4, :].T, label='x_m')\n",
    "axs[1].plot(timeline, positions[5, :].T, label='y_m')\n",
    "\n",
    "axs[0].legend()\n",
    "axs[1].legend()\n",
    "axs[0].grid()\n",
    "axs[1].grid()\n",
    "\n",
    "axs[1].set_xlabel('t')\n",
    "\n",
    "plt.show()"
   ]
  },
  {
   "cell_type": "markdown",
   "metadata": {},
   "source": [
    "### Robot Animation"
   ]
  },
  {
   "cell_type": "code",
   "execution_count": 54,
   "metadata": {},
   "outputs": [
    {
     "data": {
      "text/html": [
       "\n",
       "    <div class=\"bk-root\">\n",
       "        <a href=\"https://bokeh.org\" target=\"_blank\" class=\"bk-logo bk-logo-small bk-logo-notebook\"></a>\n",
       "        <span id=\"1001\">Loading BokehJS ...</span>\n",
       "    </div>"
      ]
     },
     "metadata": {},
     "output_type": "display_data"
    },
    {
     "data": {
      "application/javascript": [
       "\n",
       "(function(root) {\n",
       "  function now() {\n",
       "    return new Date();\n",
       "  }\n",
       "\n",
       "  var force = true;\n",
       "\n",
       "  if (typeof root._bokeh_onload_callbacks === \"undefined\" || force === true) {\n",
       "    root._bokeh_onload_callbacks = [];\n",
       "    root._bokeh_is_loading = undefined;\n",
       "  }\n",
       "\n",
       "  var JS_MIME_TYPE = 'application/javascript';\n",
       "  var HTML_MIME_TYPE = 'text/html';\n",
       "  var EXEC_MIME_TYPE = 'application/vnd.bokehjs_exec.v0+json';\n",
       "  var CLASS_NAME = 'output_bokeh rendered_html';\n",
       "\n",
       "  /**\n",
       "   * Render data to the DOM node\n",
       "   */\n",
       "  function render(props, node) {\n",
       "    var script = document.createElement(\"script\");\n",
       "    node.appendChild(script);\n",
       "  }\n",
       "\n",
       "  /**\n",
       "   * Handle when an output is cleared or removed\n",
       "   */\n",
       "  function handleClearOutput(event, handle) {\n",
       "    var cell = handle.cell;\n",
       "\n",
       "    var id = cell.output_area._bokeh_element_id;\n",
       "    var server_id = cell.output_area._bokeh_server_id;\n",
       "    // Clean up Bokeh references\n",
       "    if (id != null && id in Bokeh.index) {\n",
       "      Bokeh.index[id].model.document.clear();\n",
       "      delete Bokeh.index[id];\n",
       "    }\n",
       "\n",
       "    if (server_id !== undefined) {\n",
       "      // Clean up Bokeh references\n",
       "      var cmd = \"from bokeh.io.state import curstate; print(curstate().uuid_to_server['\" + server_id + \"'].get_sessions()[0].document.roots[0]._id)\";\n",
       "      cell.notebook.kernel.execute(cmd, {\n",
       "        iopub: {\n",
       "          output: function(msg) {\n",
       "            var id = msg.content.text.trim();\n",
       "            if (id in Bokeh.index) {\n",
       "              Bokeh.index[id].model.document.clear();\n",
       "              delete Bokeh.index[id];\n",
       "            }\n",
       "          }\n",
       "        }\n",
       "      });\n",
       "      // Destroy server and session\n",
       "      var cmd = \"import bokeh.io.notebook as ion; ion.destroy_server('\" + server_id + \"')\";\n",
       "      cell.notebook.kernel.execute(cmd);\n",
       "    }\n",
       "  }\n",
       "\n",
       "  /**\n",
       "   * Handle when a new output is added\n",
       "   */\n",
       "  function handleAddOutput(event, handle) {\n",
       "    var output_area = handle.output_area;\n",
       "    var output = handle.output;\n",
       "\n",
       "    // limit handleAddOutput to display_data with EXEC_MIME_TYPE content only\n",
       "    if ((output.output_type != \"display_data\") || (!output.data.hasOwnProperty(EXEC_MIME_TYPE))) {\n",
       "      return\n",
       "    }\n",
       "\n",
       "    var toinsert = output_area.element.find(\".\" + CLASS_NAME.split(' ')[0]);\n",
       "\n",
       "    if (output.metadata[EXEC_MIME_TYPE][\"id\"] !== undefined) {\n",
       "      toinsert[toinsert.length - 1].firstChild.textContent = output.data[JS_MIME_TYPE];\n",
       "      // store reference to embed id on output_area\n",
       "      output_area._bokeh_element_id = output.metadata[EXEC_MIME_TYPE][\"id\"];\n",
       "    }\n",
       "    if (output.metadata[EXEC_MIME_TYPE][\"server_id\"] !== undefined) {\n",
       "      var bk_div = document.createElement(\"div\");\n",
       "      bk_div.innerHTML = output.data[HTML_MIME_TYPE];\n",
       "      var script_attrs = bk_div.children[0].attributes;\n",
       "      for (var i = 0; i < script_attrs.length; i++) {\n",
       "        toinsert[toinsert.length - 1].firstChild.setAttribute(script_attrs[i].name, script_attrs[i].value);\n",
       "        toinsert[toinsert.length - 1].firstChild.textContent = bk_div.children[0].textContent\n",
       "      }\n",
       "      // store reference to server id on output_area\n",
       "      output_area._bokeh_server_id = output.metadata[EXEC_MIME_TYPE][\"server_id\"];\n",
       "    }\n",
       "  }\n",
       "\n",
       "  function register_renderer(events, OutputArea) {\n",
       "\n",
       "    function append_mime(data, metadata, element) {\n",
       "      // create a DOM node to render to\n",
       "      var toinsert = this.create_output_subarea(\n",
       "        metadata,\n",
       "        CLASS_NAME,\n",
       "        EXEC_MIME_TYPE\n",
       "      );\n",
       "      this.keyboard_manager.register_events(toinsert);\n",
       "      // Render to node\n",
       "      var props = {data: data, metadata: metadata[EXEC_MIME_TYPE]};\n",
       "      render(props, toinsert[toinsert.length - 1]);\n",
       "      element.append(toinsert);\n",
       "      return toinsert\n",
       "    }\n",
       "\n",
       "    /* Handle when an output is cleared or removed */\n",
       "    events.on('clear_output.CodeCell', handleClearOutput);\n",
       "    events.on('delete.Cell', handleClearOutput);\n",
       "\n",
       "    /* Handle when a new output is added */\n",
       "    events.on('output_added.OutputArea', handleAddOutput);\n",
       "\n",
       "    /**\n",
       "     * Register the mime type and append_mime function with output_area\n",
       "     */\n",
       "    OutputArea.prototype.register_mime_type(EXEC_MIME_TYPE, append_mime, {\n",
       "      /* Is output safe? */\n",
       "      safe: true,\n",
       "      /* Index of renderer in `output_area.display_order` */\n",
       "      index: 0\n",
       "    });\n",
       "  }\n",
       "\n",
       "  // register the mime type if in Jupyter Notebook environment and previously unregistered\n",
       "  if (root.Jupyter !== undefined) {\n",
       "    var events = require('base/js/events');\n",
       "    var OutputArea = require('notebook/js/outputarea').OutputArea;\n",
       "\n",
       "    if (OutputArea.prototype.mime_types().indexOf(EXEC_MIME_TYPE) == -1) {\n",
       "      register_renderer(events, OutputArea);\n",
       "    }\n",
       "  }\n",
       "\n",
       "  \n",
       "  if (typeof (root._bokeh_timeout) === \"undefined\" || force === true) {\n",
       "    root._bokeh_timeout = Date.now() + 5000;\n",
       "    root._bokeh_failed_load = false;\n",
       "  }\n",
       "\n",
       "  var NB_LOAD_WARNING = {'data': {'text/html':\n",
       "     \"<div style='background-color: #fdd'>\\n\"+\n",
       "     \"<p>\\n\"+\n",
       "     \"BokehJS does not appear to have successfully loaded. If loading BokehJS from CDN, this \\n\"+\n",
       "     \"may be due to a slow or bad network connection. Possible fixes:\\n\"+\n",
       "     \"</p>\\n\"+\n",
       "     \"<ul>\\n\"+\n",
       "     \"<li>re-rerun `output_notebook()` to attempt to load from CDN again, or</li>\\n\"+\n",
       "     \"<li>use INLINE resources instead, as so:</li>\\n\"+\n",
       "     \"</ul>\\n\"+\n",
       "     \"<code>\\n\"+\n",
       "     \"from bokeh.resources import INLINE\\n\"+\n",
       "     \"output_notebook(resources=INLINE)\\n\"+\n",
       "     \"</code>\\n\"+\n",
       "     \"</div>\"}};\n",
       "\n",
       "  function display_loaded() {\n",
       "    var el = document.getElementById(\"1001\");\n",
       "    if (el != null) {\n",
       "      el.textContent = \"BokehJS is loading...\";\n",
       "    }\n",
       "    if (root.Bokeh !== undefined) {\n",
       "      if (el != null) {\n",
       "        el.textContent = \"BokehJS \" + root.Bokeh.version + \" successfully loaded.\";\n",
       "      }\n",
       "    } else if (Date.now() < root._bokeh_timeout) {\n",
       "      setTimeout(display_loaded, 100)\n",
       "    }\n",
       "  }\n",
       "\n",
       "\n",
       "  function run_callbacks() {\n",
       "    try {\n",
       "      root._bokeh_onload_callbacks.forEach(function(callback) {\n",
       "        if (callback != null)\n",
       "          callback();\n",
       "      });\n",
       "    } finally {\n",
       "      delete root._bokeh_onload_callbacks\n",
       "    }\n",
       "    console.debug(\"Bokeh: all callbacks have finished\");\n",
       "  }\n",
       "\n",
       "  function load_libs(css_urls, js_urls, callback) {\n",
       "    if (css_urls == null) css_urls = [];\n",
       "    if (js_urls == null) js_urls = [];\n",
       "\n",
       "    root._bokeh_onload_callbacks.push(callback);\n",
       "    if (root._bokeh_is_loading > 0) {\n",
       "      console.debug(\"Bokeh: BokehJS is being loaded, scheduling callback at\", now());\n",
       "      return null;\n",
       "    }\n",
       "    if (js_urls == null || js_urls.length === 0) {\n",
       "      run_callbacks();\n",
       "      return null;\n",
       "    }\n",
       "    console.debug(\"Bokeh: BokehJS not loaded, scheduling load and callback at\", now());\n",
       "    root._bokeh_is_loading = css_urls.length + js_urls.length;\n",
       "\n",
       "    function on_load() {\n",
       "      root._bokeh_is_loading--;\n",
       "      if (root._bokeh_is_loading === 0) {\n",
       "        console.debug(\"Bokeh: all BokehJS libraries/stylesheets loaded\");\n",
       "        run_callbacks()\n",
       "      }\n",
       "    }\n",
       "\n",
       "    function on_error() {\n",
       "      console.error(\"failed to load \" + url);\n",
       "    }\n",
       "\n",
       "    for (var i = 0; i < css_urls.length; i++) {\n",
       "      var url = css_urls[i];\n",
       "      const element = document.createElement(\"link\");\n",
       "      element.onload = on_load;\n",
       "      element.onerror = on_error;\n",
       "      element.rel = \"stylesheet\";\n",
       "      element.type = \"text/css\";\n",
       "      element.href = url;\n",
       "      console.debug(\"Bokeh: injecting link tag for BokehJS stylesheet: \", url);\n",
       "      document.body.appendChild(element);\n",
       "    }\n",
       "\n",
       "    const hashes = {\"https://cdn.bokeh.org/bokeh/release/bokeh-2.0.2.min.js\": \"ufR9RFnRs6lniiaFvtJziE0YeidtAgBRH6ux2oUItHw5WTvE1zuk9uzhUU/FJXDp\", \"https://cdn.bokeh.org/bokeh/release/bokeh-widgets-2.0.2.min.js\": \"8QM/PGWBT+IssZuRcDcjzwIh1mkOmJSoNMmyYDZbCfXJg3Ap1lEvdVgFuSAwhb/J\", \"https://cdn.bokeh.org/bokeh/release/bokeh-tables-2.0.2.min.js\": \"Jm8cH3Rg0P6UeZhVY5cLy1WzKajUT9KImCY+76hEqrcJt59/d8GPvFHjCkYgnSIn\", \"https://cdn.bokeh.org/bokeh/release/bokeh-gl-2.0.2.min.js\": \"Ozhzj+SI7ywm74aOI/UajcWz+C0NjsPunEVyVIrxzYkB+jA+2tUw8x5xJCbVtK5I\"};\n",
       "\n",
       "    for (var i = 0; i < js_urls.length; i++) {\n",
       "      var url = js_urls[i];\n",
       "      var element = document.createElement('script');\n",
       "      element.onload = on_load;\n",
       "      element.onerror = on_error;\n",
       "      element.async = false;\n",
       "      element.src = url;\n",
       "      if (url in hashes) {\n",
       "        element.crossOrigin = \"anonymous\";\n",
       "        element.integrity = \"sha384-\" + hashes[url];\n",
       "      }\n",
       "      console.debug(\"Bokeh: injecting script tag for BokehJS library: \", url);\n",
       "      document.head.appendChild(element);\n",
       "    }\n",
       "  };\n",
       "\n",
       "  function inject_raw_css(css) {\n",
       "    const element = document.createElement(\"style\");\n",
       "    element.appendChild(document.createTextNode(css));\n",
       "    document.body.appendChild(element);\n",
       "  }\n",
       "\n",
       "  \n",
       "  var js_urls = [\"https://cdn.bokeh.org/bokeh/release/bokeh-2.0.2.min.js\", \"https://cdn.bokeh.org/bokeh/release/bokeh-widgets-2.0.2.min.js\", \"https://cdn.bokeh.org/bokeh/release/bokeh-tables-2.0.2.min.js\", \"https://cdn.bokeh.org/bokeh/release/bokeh-gl-2.0.2.min.js\"];\n",
       "  var css_urls = [];\n",
       "  \n",
       "\n",
       "  var inline_js = [\n",
       "    function(Bokeh) {\n",
       "      Bokeh.set_log_level(\"info\");\n",
       "    },\n",
       "    function(Bokeh) {\n",
       "    \n",
       "    \n",
       "    }\n",
       "  ];\n",
       "\n",
       "  function run_inline_js() {\n",
       "    \n",
       "    if (root.Bokeh !== undefined || force === true) {\n",
       "      \n",
       "    for (var i = 0; i < inline_js.length; i++) {\n",
       "      inline_js[i].call(root, root.Bokeh);\n",
       "    }\n",
       "    if (force === true) {\n",
       "        display_loaded();\n",
       "      }} else if (Date.now() < root._bokeh_timeout) {\n",
       "      setTimeout(run_inline_js, 100);\n",
       "    } else if (!root._bokeh_failed_load) {\n",
       "      console.log(\"Bokeh: BokehJS failed to load within specified timeout.\");\n",
       "      root._bokeh_failed_load = true;\n",
       "    } else if (force !== true) {\n",
       "      var cell = $(document.getElementById(\"1001\")).parents('.cell').data().cell;\n",
       "      cell.output_area.append_execute_result(NB_LOAD_WARNING)\n",
       "    }\n",
       "\n",
       "  }\n",
       "\n",
       "  if (root._bokeh_is_loading === 0) {\n",
       "    console.debug(\"Bokeh: BokehJS loaded, going straight to plotting\");\n",
       "    run_inline_js();\n",
       "  } else {\n",
       "    load_libs(css_urls, js_urls, function() {\n",
       "      console.debug(\"Bokeh: BokehJS plotting callback run at\", now());\n",
       "      run_inline_js();\n",
       "    });\n",
       "  }\n",
       "}(window));"
      ],
      "application/vnd.bokehjs_load.v0+json": "\n(function(root) {\n  function now() {\n    return new Date();\n  }\n\n  var force = true;\n\n  if (typeof root._bokeh_onload_callbacks === \"undefined\" || force === true) {\n    root._bokeh_onload_callbacks = [];\n    root._bokeh_is_loading = undefined;\n  }\n\n  \n\n  \n  if (typeof (root._bokeh_timeout) === \"undefined\" || force === true) {\n    root._bokeh_timeout = Date.now() + 5000;\n    root._bokeh_failed_load = false;\n  }\n\n  var NB_LOAD_WARNING = {'data': {'text/html':\n     \"<div style='background-color: #fdd'>\\n\"+\n     \"<p>\\n\"+\n     \"BokehJS does not appear to have successfully loaded. If loading BokehJS from CDN, this \\n\"+\n     \"may be due to a slow or bad network connection. Possible fixes:\\n\"+\n     \"</p>\\n\"+\n     \"<ul>\\n\"+\n     \"<li>re-rerun `output_notebook()` to attempt to load from CDN again, or</li>\\n\"+\n     \"<li>use INLINE resources instead, as so:</li>\\n\"+\n     \"</ul>\\n\"+\n     \"<code>\\n\"+\n     \"from bokeh.resources import INLINE\\n\"+\n     \"output_notebook(resources=INLINE)\\n\"+\n     \"</code>\\n\"+\n     \"</div>\"}};\n\n  function display_loaded() {\n    var el = document.getElementById(\"1001\");\n    if (el != null) {\n      el.textContent = \"BokehJS is loading...\";\n    }\n    if (root.Bokeh !== undefined) {\n      if (el != null) {\n        el.textContent = \"BokehJS \" + root.Bokeh.version + \" successfully loaded.\";\n      }\n    } else if (Date.now() < root._bokeh_timeout) {\n      setTimeout(display_loaded, 100)\n    }\n  }\n\n\n  function run_callbacks() {\n    try {\n      root._bokeh_onload_callbacks.forEach(function(callback) {\n        if (callback != null)\n          callback();\n      });\n    } finally {\n      delete root._bokeh_onload_callbacks\n    }\n    console.debug(\"Bokeh: all callbacks have finished\");\n  }\n\n  function load_libs(css_urls, js_urls, callback) {\n    if (css_urls == null) css_urls = [];\n    if (js_urls == null) js_urls = [];\n\n    root._bokeh_onload_callbacks.push(callback);\n    if (root._bokeh_is_loading > 0) {\n      console.debug(\"Bokeh: BokehJS is being loaded, scheduling callback at\", now());\n      return null;\n    }\n    if (js_urls == null || js_urls.length === 0) {\n      run_callbacks();\n      return null;\n    }\n    console.debug(\"Bokeh: BokehJS not loaded, scheduling load and callback at\", now());\n    root._bokeh_is_loading = css_urls.length + js_urls.length;\n\n    function on_load() {\n      root._bokeh_is_loading--;\n      if (root._bokeh_is_loading === 0) {\n        console.debug(\"Bokeh: all BokehJS libraries/stylesheets loaded\");\n        run_callbacks()\n      }\n    }\n\n    function on_error() {\n      console.error(\"failed to load \" + url);\n    }\n\n    for (var i = 0; i < css_urls.length; i++) {\n      var url = css_urls[i];\n      const element = document.createElement(\"link\");\n      element.onload = on_load;\n      element.onerror = on_error;\n      element.rel = \"stylesheet\";\n      element.type = \"text/css\";\n      element.href = url;\n      console.debug(\"Bokeh: injecting link tag for BokehJS stylesheet: \", url);\n      document.body.appendChild(element);\n    }\n\n    const hashes = {\"https://cdn.bokeh.org/bokeh/release/bokeh-2.0.2.min.js\": \"ufR9RFnRs6lniiaFvtJziE0YeidtAgBRH6ux2oUItHw5WTvE1zuk9uzhUU/FJXDp\", \"https://cdn.bokeh.org/bokeh/release/bokeh-widgets-2.0.2.min.js\": \"8QM/PGWBT+IssZuRcDcjzwIh1mkOmJSoNMmyYDZbCfXJg3Ap1lEvdVgFuSAwhb/J\", \"https://cdn.bokeh.org/bokeh/release/bokeh-tables-2.0.2.min.js\": \"Jm8cH3Rg0P6UeZhVY5cLy1WzKajUT9KImCY+76hEqrcJt59/d8GPvFHjCkYgnSIn\", \"https://cdn.bokeh.org/bokeh/release/bokeh-gl-2.0.2.min.js\": \"Ozhzj+SI7ywm74aOI/UajcWz+C0NjsPunEVyVIrxzYkB+jA+2tUw8x5xJCbVtK5I\"};\n\n    for (var i = 0; i < js_urls.length; i++) {\n      var url = js_urls[i];\n      var element = document.createElement('script');\n      element.onload = on_load;\n      element.onerror = on_error;\n      element.async = false;\n      element.src = url;\n      if (url in hashes) {\n        element.crossOrigin = \"anonymous\";\n        element.integrity = \"sha384-\" + hashes[url];\n      }\n      console.debug(\"Bokeh: injecting script tag for BokehJS library: \", url);\n      document.head.appendChild(element);\n    }\n  };\n\n  function inject_raw_css(css) {\n    const element = document.createElement(\"style\");\n    element.appendChild(document.createTextNode(css));\n    document.body.appendChild(element);\n  }\n\n  \n  var js_urls = [\"https://cdn.bokeh.org/bokeh/release/bokeh-2.0.2.min.js\", \"https://cdn.bokeh.org/bokeh/release/bokeh-widgets-2.0.2.min.js\", \"https://cdn.bokeh.org/bokeh/release/bokeh-tables-2.0.2.min.js\", \"https://cdn.bokeh.org/bokeh/release/bokeh-gl-2.0.2.min.js\"];\n  var css_urls = [];\n  \n\n  var inline_js = [\n    function(Bokeh) {\n      Bokeh.set_log_level(\"info\");\n    },\n    function(Bokeh) {\n    \n    \n    }\n  ];\n\n  function run_inline_js() {\n    \n    if (root.Bokeh !== undefined || force === true) {\n      \n    for (var i = 0; i < inline_js.length; i++) {\n      inline_js[i].call(root, root.Bokeh);\n    }\n    if (force === true) {\n        display_loaded();\n      }} else if (Date.now() < root._bokeh_timeout) {\n      setTimeout(run_inline_js, 100);\n    } else if (!root._bokeh_failed_load) {\n      console.log(\"Bokeh: BokehJS failed to load within specified timeout.\");\n      root._bokeh_failed_load = true;\n    } else if (force !== true) {\n      var cell = $(document.getElementById(\"1001\")).parents('.cell').data().cell;\n      cell.output_area.append_execute_result(NB_LOAD_WARNING)\n    }\n\n  }\n\n  if (root._bokeh_is_loading === 0) {\n    console.debug(\"Bokeh: BokehJS loaded, going straight to plotting\");\n    run_inline_js();\n  } else {\n    load_libs(css_urls, js_urls, function() {\n      console.debug(\"Bokeh: BokehJS plotting callback run at\", now());\n      run_inline_js();\n    });\n  }\n}(window));"
     },
     "metadata": {},
     "output_type": "display_data"
    }
   ],
   "source": [
    "import time\n",
    "\n",
    "import numpy as np\n",
    "from bokeh.io import push_notebook, show, output_notebook\n",
    "from bokeh.models import HoverTool, Range\n",
    "from bokeh.plotting import figure\n",
    "output_notebook()"
   ]
  },
  {
   "cell_type": "code",
   "execution_count": 55,
   "metadata": {},
   "outputs": [
    {
     "data": {
      "text/plain": [
       "[0.1025, 0.0365, 0.0365]"
      ]
     },
     "execution_count": 55,
     "metadata": {},
     "output_type": "execute_result"
    }
   ],
   "source": [
    "N = 3\n",
    "x_dots = np.random.random(size=N) * 5\n",
    "y_dots = np.random.random(size=N) * 5\n",
    "\n",
    "c_ow = float(r_3.subs(specs))\n",
    "c_iw = float(r_1.subs(specs))\n",
    "c_m = float(r_1.subs(specs))\n",
    "\n",
    "radii = [c_ow, c_iw, c_m]\n",
    "colors = [\"#%02x%02x%02x\" % (int(r), int(g), 150) for r, g in zip(50+2*x_dots, 30+2*y_dots)]\n",
    "\n",
    "radii"
   ]
  },
  {
   "cell_type": "code",
   "execution_count": 56,
   "metadata": {},
   "outputs": [],
   "source": [
    "TOOLS=\"crosshair,pan,wheel_zoom,box_zoom,reset,tap,box_select,lasso_select\"\n",
    "\n",
    "p = figure(tools=TOOLS, x_range = [-0.4,0.4], y_range = [-0.4,0.4])\n",
    "p.axis.major_label_text_font_size = \"24px\"\n",
    "hover = HoverTool(tooltips=None, mode=\"vline\")\n",
    "p.add_tools(hover)\n",
    "r = p.circle(x_dots, y_dots, radius=radii, \n",
    "             fill_color=colors, fill_alpha=0.6, line_color=None,\n",
    "             hover_fill_color=\"black\", hover_fill_alpha=0.7, hover_line_color=None)"
   ]
  },
  {
   "cell_type": "code",
   "execution_count": 57,
   "metadata": {},
   "outputs": [
    {
     "data": {
      "text/html": [
       "\n",
       "\n",
       "\n",
       "\n",
       "\n",
       "\n",
       "  <div class=\"bk-root\" id=\"eda1fe42-7681-4cec-99b3-110453fee3a4\" data-root-id=\"1002\"></div>\n"
      ]
     },
     "metadata": {},
     "output_type": "display_data"
    },
    {
     "data": {
      "application/javascript": [
       "(function(root) {\n",
       "  function embed_document(root) {\n",
       "    \n",
       "  var docs_json = {\"816fd507-2089-4c19-8430-d5f848dbc498\":{\"roots\":{\"references\":[{\"attributes\":{\"below\":[{\"id\":\"1011\"}],\"center\":[{\"id\":\"1014\"},{\"id\":\"1018\"}],\"left\":[{\"id\":\"1015\"}],\"renderers\":[{\"id\":\"1045\"}],\"title\":{\"id\":\"1048\"},\"toolbar\":{\"id\":\"1030\"},\"x_range\":{\"id\":\"1003\"},\"x_scale\":{\"id\":\"1007\"},\"y_range\":{\"id\":\"1005\"},\"y_scale\":{\"id\":\"1009\"}},\"id\":\"1002\",\"subtype\":\"Figure\",\"type\":\"Plot\"},{\"attributes\":{},\"id\":\"1057\",\"type\":\"Selection\"},{\"attributes\":{},\"id\":\"1021\",\"type\":\"WheelZoomTool\"},{\"attributes\":{},\"id\":\"1049\",\"type\":\"BasicTickFormatter\"},{\"attributes\":{},\"id\":\"1012\",\"type\":\"BasicTicker\"},{\"attributes\":{},\"id\":\"1056\",\"type\":\"UnionRenderers\"},{\"attributes\":{\"end\":0.4,\"start\":-0.4},\"id\":\"1003\",\"type\":\"Range1d\"},{\"attributes\":{\"fill_alpha\":{\"value\":0.6},\"fill_color\":{\"field\":\"fill_color\"},\"line_color\":{\"value\":null},\"radius\":{\"field\":\"radius\",\"units\":\"data\"},\"x\":{\"field\":\"x\"},\"y\":{\"field\":\"y\"}},\"id\":\"1042\",\"type\":\"Circle\"},{\"attributes\":{},\"id\":\"1051\",\"type\":\"BasicTickFormatter\"},{\"attributes\":{\"callback\":null,\"mode\":\"vline\",\"tooltips\":null},\"id\":\"1039\",\"type\":\"HoverTool\"},{\"attributes\":{\"axis\":{\"id\":\"1015\"},\"dimension\":1,\"ticker\":null},\"id\":\"1018\",\"type\":\"Grid\"},{\"attributes\":{\"formatter\":{\"id\":\"1049\"},\"major_label_text_font_size\":\"24px\",\"ticker\":{\"id\":\"1012\"}},\"id\":\"1011\",\"type\":\"LinearAxis\"},{\"attributes\":{\"fill_alpha\":{\"value\":0.1},\"fill_color\":{\"field\":\"fill_color\"},\"line_alpha\":{\"value\":0.1},\"line_color\":{\"value\":null},\"radius\":{\"field\":\"radius\",\"units\":\"data\"},\"x\":{\"field\":\"x\"},\"y\":{\"field\":\"y\"}},\"id\":\"1043\",\"type\":\"Circle\"},{\"attributes\":{\"bottom_units\":\"screen\",\"fill_alpha\":0.5,\"fill_color\":\"lightgrey\",\"left_units\":\"screen\",\"level\":\"overlay\",\"line_alpha\":1.0,\"line_color\":\"black\",\"line_dash\":[4,4],\"line_width\":2,\"render_mode\":\"css\",\"right_units\":\"screen\",\"top_units\":\"screen\"},\"id\":\"1027\",\"type\":\"BoxAnnotation\"},{\"attributes\":{},\"id\":\"1020\",\"type\":\"PanTool\"},{\"attributes\":{},\"id\":\"1023\",\"type\":\"ResetTool\"},{\"attributes\":{\"overlay\":{\"id\":\"1029\"}},\"id\":\"1026\",\"type\":\"LassoSelectTool\"},{\"attributes\":{\"data_source\":{\"id\":\"1041\"},\"glyph\":{\"id\":\"1042\"},\"hover_glyph\":{\"id\":\"1044\"},\"muted_glyph\":null,\"nonselection_glyph\":{\"id\":\"1043\"},\"selection_glyph\":null,\"view\":{\"id\":\"1046\"}},\"id\":\"1045\",\"type\":\"GlyphRenderer\"},{\"attributes\":{},\"id\":\"1019\",\"type\":\"CrosshairTool\"},{\"attributes\":{},\"id\":\"1007\",\"type\":\"LinearScale\"},{\"attributes\":{},\"id\":\"1009\",\"type\":\"LinearScale\"},{\"attributes\":{},\"id\":\"1016\",\"type\":\"BasicTicker\"},{\"attributes\":{\"bottom_units\":\"screen\",\"fill_alpha\":0.5,\"fill_color\":\"lightgrey\",\"left_units\":\"screen\",\"level\":\"overlay\",\"line_alpha\":1.0,\"line_color\":\"black\",\"line_dash\":[4,4],\"line_width\":2,\"render_mode\":\"css\",\"right_units\":\"screen\",\"top_units\":\"screen\"},\"id\":\"1028\",\"type\":\"BoxAnnotation\"},{\"attributes\":{\"callback\":null},\"id\":\"1024\",\"type\":\"TapTool\"},{\"attributes\":{\"fill_alpha\":{\"value\":0.7},\"fill_color\":{\"value\":\"black\"},\"line_color\":{\"value\":null},\"radius\":{\"field\":\"radius\",\"units\":\"data\"},\"x\":{\"field\":\"x\"},\"y\":{\"field\":\"y\"}},\"id\":\"1044\",\"type\":\"Circle\"},{\"attributes\":{\"formatter\":{\"id\":\"1051\"},\"major_label_text_font_size\":\"24px\",\"ticker\":{\"id\":\"1016\"}},\"id\":\"1015\",\"type\":\"LinearAxis\"},{\"attributes\":{\"end\":0.4,\"start\":-0.4},\"id\":\"1005\",\"type\":\"Range1d\"},{\"attributes\":{\"active_drag\":\"auto\",\"active_inspect\":\"auto\",\"active_multi\":null,\"active_scroll\":\"auto\",\"active_tap\":\"auto\",\"tools\":[{\"id\":\"1019\"},{\"id\":\"1020\"},{\"id\":\"1021\"},{\"id\":\"1022\"},{\"id\":\"1023\"},{\"id\":\"1024\"},{\"id\":\"1025\"},{\"id\":\"1026\"},{\"id\":\"1039\"}]},\"id\":\"1030\",\"type\":\"Toolbar\"},{\"attributes\":{\"text\":\"\"},\"id\":\"1048\",\"type\":\"Title\"},{\"attributes\":{\"overlay\":{\"id\":\"1027\"}},\"id\":\"1025\",\"type\":\"BoxSelectTool\"},{\"attributes\":{\"source\":{\"id\":\"1041\"}},\"id\":\"1046\",\"type\":\"CDSView\"},{\"attributes\":{\"axis\":{\"id\":\"1011\"},\"ticker\":null},\"id\":\"1014\",\"type\":\"Grid\"},{\"attributes\":{\"overlay\":{\"id\":\"1028\"}},\"id\":\"1022\",\"type\":\"BoxZoomTool\"},{\"attributes\":{\"data\":{\"fill_color\":[\"#322496\",\"#3a2296\",\"#362696\"],\"radius\":[0.1025,0.0365,0.0365],\"x\":{\"__ndarray__\":\"AE8Ke5TIbj9SfQDqleoQQNL9Ad3gMwNA\",\"dtype\":\"float64\",\"shape\":[3]},\"y\":{\"__ndarray__\":\"4EHDpjCCCUBXkBY7LakCQMoxVlDbkhBA\",\"dtype\":\"float64\",\"shape\":[3]}},\"selected\":{\"id\":\"1057\"},\"selection_policy\":{\"id\":\"1056\"}},\"id\":\"1041\",\"type\":\"ColumnDataSource\"},{\"attributes\":{\"fill_alpha\":0.5,\"fill_color\":\"lightgrey\",\"level\":\"overlay\",\"line_alpha\":1.0,\"line_color\":\"black\",\"line_dash\":[4,4],\"line_width\":2,\"xs_units\":\"screen\",\"ys_units\":\"screen\"},\"id\":\"1029\",\"type\":\"PolyAnnotation\"}],\"root_ids\":[\"1002\"]},\"title\":\"Bokeh Application\",\"version\":\"2.0.2\"}};\n",
       "  var render_items = [{\"docid\":\"816fd507-2089-4c19-8430-d5f848dbc498\",\"notebook_comms_target\":\"1058\",\"root_ids\":[\"1002\"],\"roots\":{\"1002\":\"eda1fe42-7681-4cec-99b3-110453fee3a4\"}}];\n",
       "  root.Bokeh.embed.embed_items_notebook(docs_json, render_items);\n",
       "\n",
       "  }\n",
       "  if (root.Bokeh !== undefined) {\n",
       "    embed_document(root);\n",
       "  } else {\n",
       "    var attempts = 0;\n",
       "    var timer = setInterval(function(root) {\n",
       "      if (root.Bokeh !== undefined) {\n",
       "        clearInterval(timer);\n",
       "        embed_document(root);\n",
       "      } else {\n",
       "        attempts++;\n",
       "        if (attempts > 100) {\n",
       "          clearInterval(timer);\n",
       "          console.log(\"Bokeh: ERROR: Unable to run BokehJS code because BokehJS library is missing\");\n",
       "        }\n",
       "      }\n",
       "    }, 10, root)\n",
       "  }\n",
       "})(window);"
      ],
      "application/vnd.bokehjs_exec.v0+json": ""
     },
     "metadata": {
      "application/vnd.bokehjs_exec.v0+json": {
       "id": "1002"
      }
     },
     "output_type": "display_data"
    }
   ],
   "source": [
    "# get and explicit handle to update the next show cell with\n",
    "target = show(p, notebook_handle=True)"
   ]
  },
  {
   "cell_type": "code",
   "execution_count": 58,
   "metadata": {},
   "outputs": [],
   "source": [
    "i = 0\n",
    "for tp in range(len(timeline)):\n",
    "    i +=1 \n",
    "    p.title.text = str(i)\n",
    "\n",
    "    # r.data_source.data['x'] = np.array([1, 2, 3 ])\n",
    "    r.data_source.data['x'] = np.array([float(positions[0, tp]), float(positions[2, tp]), float(positions[4, tp]) ])\n",
    "    r.data_source.data['y'] = np.array([float(positions[1, tp]), float(positions[3, tp]), float(positions[5, tp]) ])\n",
    "\n",
    "    # push updates to the plot continuously using the handle (intererrupt the notebook kernel to stop)\n",
    "    push_notebook(handle=target)\n",
    "    time.sleep(dt * 1)"
   ]
  }
 ],
 "metadata": {
  "kernelspec": {
   "display_name": "Python 3",
   "language": "python",
   "name": "python3"
  },
  "language_info": {
   "codemirror_mode": {
    "name": "ipython",
    "version": 3
   },
   "file_extension": ".py",
   "mimetype": "text/x-python",
   "name": "python",
   "nbconvert_exporter": "python",
   "pygments_lexer": "ipython3",
   "version": "3.8.4"
  }
 },
 "nbformat": 4,
 "nbformat_minor": 4
}
