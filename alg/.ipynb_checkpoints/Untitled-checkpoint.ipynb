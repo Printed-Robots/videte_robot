{
 "cells": [
  {
   "cell_type": "code",
   "execution_count": 1,
   "metadata": {},
   "outputs": [
    {
     "name": "stdout",
     "output_type": "stream",
     "text": [
      "Collecting package metadata (current_repodata.json): done\n",
      "Solving environment: done\n",
      "\n",
      "## Package Plan ##\n",
      "\n",
      "  environment location: /opt/conda\n",
      "\n",
      "  added / updated specs:\n",
      "    - k3d\n",
      "\n",
      "\n",
      "The following packages will be downloaded:\n",
      "\n",
      "    package                    |            build\n",
      "    ---------------------------|-----------------\n",
      "    ipydatawidgets-4.0.1       |     pyh9f0ad1d_1         140 KB  conda-forge\n",
      "    k3d-2.9.0                  |     pyh9f0ad1d_0        10.7 MB  conda-forge\n",
      "    traittypes-0.2.1           |             py_1           8 KB  conda-forge\n",
      "    ------------------------------------------------------------\n",
      "                                           Total:        10.8 MB\n",
      "\n",
      "The following NEW packages will be INSTALLED:\n",
      "\n",
      "  ipydatawidgets     conda-forge/noarch::ipydatawidgets-4.0.1-pyh9f0ad1d_1\n",
      "  k3d                conda-forge/noarch::k3d-2.9.0-pyh9f0ad1d_0\n",
      "  traittypes         conda-forge/noarch::traittypes-0.2.1-py_1\n",
      "\n",
      "\n",
      "\n",
      "Downloading and Extracting Packages\n",
      "traittypes-0.2.1     | 8 KB      | ##################################### | 100% \n",
      "ipydatawidgets-4.0.1 | 140 KB    | ##################################### | 100% \n",
      "k3d-2.9.0            | 10.7 MB   | ##################################### | 100% \n",
      "Preparing transaction: done\n",
      "Verifying transaction: done\n",
      "Executing transaction: done\n"
     ]
    }
   ],
   "source": [
    "# ! conda install -y -c conda-forge k3d"
   ]
  },
  {
   "cell_type": "code",
   "execution_count": 2,
   "metadata": {},
   "outputs": [],
   "source": [
    "import k3d\n",
    "import k3d.platonic as platonic\n",
    "import math\n",
    "import numpy as np"
   ]
  },
  {
   "cell_type": "code",
   "execution_count": 6,
   "metadata": {},
   "outputs": [
    {
     "data": {
      "application/vnd.jupyter.widget-view+json": {
       "model_id": "52283f07c622485abcf037fb99eb3d40",
       "version_major": 2,
       "version_minor": 0
      },
      "text/plain": [
       "Output()"
      ]
     },
     "metadata": {},
     "output_type": "display_data"
    }
   ],
   "source": [
    "import k3d\n",
    "plot = k3d.plot()\n",
    "\n",
    "# here you would normally create objects to display\n",
    "# and add them to the plot\n",
    "\n",
    "plot.display()"
   ]
  },
  {
   "cell_type": "code",
   "execution_count": 5,
   "metadata": {},
   "outputs": [
    {
     "data": {
      "application/vnd.jupyter.widget-view+json": {
       "model_id": "259e7aeb1948448bbf81bd50c3932a71",
       "version_major": 2,
       "version_minor": 0
      },
      "text/plain": [
       "Output()"
      ]
     },
     "metadata": {},
     "output_type": "display_data"
    }
   ],
   "source": [
    "plot = k3d.plot(auto_rendering=False, grid_auto_fit=False, grid_visible=False)\n",
    "plot.display()"
   ]
  },
  {
   "cell_type": "code",
   "execution_count": 4,
   "metadata": {},
   "outputs": [],
   "source": [
    "colors = [0xff0000, 0x00ff00, 0x0000ff, 0xffff00, 0xff00ff]\n",
    "\n",
    "for j in range(5):\n",
    "    meshes = [\n",
    "        platonic.Dodecahedron().mesh,\n",
    "        platonic.Cube().mesh,\n",
    "        platonic.Icosahedron().mesh,\n",
    "        platonic.Octahedron().mesh,\n",
    "        platonic.Tetrahedron().mesh\n",
    "    ]\n",
    "\n",
    "    for i, obj in enumerate(meshes):\n",
    "        obj.color = colors[i]\n",
    "        plot += obj\n",
    "    \n",
    "for time in np.linspace(0, 4 * np.pi, 120):    \n",
    "    k = 0\n",
    "    for j in range(5):\n",
    "        for i in range(len(meshes)):\n",
    "            rad = math.radians(i / len(meshes) * 360)\n",
    "            radius = 3.5\n",
    "            \n",
    "            t = k3d.transform()\n",
    "            t.translation = [math.sin(rad + time) * radius, math.cos(rad + time) * radius, 2.5*j]\n",
    "            t.rotation = [j + time, 0, 0, 1]\n",
    "            \n",
    "            plot.objects[k].model_matrix = t.model_matrix\n",
    "            \n",
    "            k += 1\n",
    "        \n",
    "    plot.render()"
   ]
  },
  {
   "cell_type": "code",
   "execution_count": 11,
   "metadata": {},
   "outputs": [
    {
     "data": {
      "application/vnd.jupyter.widget-view+json": {
       "model_id": "4e01b67991d345e5930d796e526475d3",
       "version_major": 2,
       "version_minor": 0
      },
      "text/plain": [
       "Output()"
      ]
     },
     "metadata": {},
     "output_type": "display_data"
    }
   ],
   "source": [
    "plot = k3d.plot()\n",
    "plot.display()\n",
    "\n",
    "colors = [0xff0000, 0x00ff00, 0x0000ff, 0xffff00, 0xff00ff]\n",
    "\n",
    "for j in range(5):\n",
    "    meshes = [\n",
    "        platonic.Dodecahedron().mesh,\n",
    "        platonic.Cube().mesh,\n",
    "        platonic.Icosahedron().mesh,\n",
    "        platonic.Octahedron().mesh,\n",
    "        platonic.Tetrahedron().mesh\n",
    "    ]\n",
    "\n",
    "    for i, obj in enumerate(meshes):\n",
    "        rad = math.radians(i / len(meshes) * 360)\n",
    "        radius = 3.5\n",
    "        \n",
    "        model_matrix = {}\n",
    "        \n",
    "        for time in np.linspace(0, 2 * np.pi, 60):\n",
    "            t = k3d.transform()\n",
    "            t.translation = [math.sin(rad + time) * radius, math.cos(rad + time) * radius, 2.5*j]\n",
    "            t.rotation = [time - j, 0, 0, 1]\n",
    "\n",
    "            model_matrix[str(time)] = t.model_matrix\n",
    "            \n",
    "        obj.model_matrix = model_matrix\n",
    "        obj.color = colors[i]\n",
    "        plot += obj"
   ]
  },
  {
   "cell_type": "code",
   "execution_count": 6,
   "metadata": {},
   "outputs": [],
   "source": [
    "plot.grid_auto_fit = False\n",
    "plot.camera_auto_fit = False"
   ]
  },
  {
   "cell_type": "code",
   "execution_count": 13,
   "metadata": {},
   "outputs": [],
   "source": [
    "plot.start_auto_play()"
   ]
  },
  {
   "cell_type": "code",
   "execution_count": 8,
   "metadata": {},
   "outputs": [],
   "source": [
    "plot.stop_auto_play()"
   ]
  },
  {
   "cell_type": "code",
   "execution_count": 14,
   "metadata": {},
   "outputs": [
    {
     "data": {
      "application/vnd.jupyter.widget-view+json": {
       "model_id": "09deaf854e2a4fbe840f73bedb5d3599",
       "version_major": 2,
       "version_minor": 0
      },
      "text/plain": [
       "Output()"
      ]
     },
     "metadata": {},
     "output_type": "display_data"
    }
   ],
   "source": [
    "import k3d\n",
    "import numpy as np\n",
    "\n",
    "Nx, Ny  = 34, 33\n",
    "xmin, xmax = -3, 4\n",
    "ymin, ymax = -0, 3\n",
    "\n",
    "x = np.linspace(xmin, xmax, Nx)\n",
    "y = np.linspace(ymin, ymax, Ny)\n",
    "x, y = np.meshgrid(x, y)\n",
    "f = np.sin(x**2 + y**2)\n",
    "\n",
    "plot = k3d.plot()\n",
    "plt_surface = k3d.surface(f.astype(np.float32), bounds=[xmin,xmax,ymin,ymax])\n",
    "plot += plt_surface\n",
    "plot.display()"
   ]
  }
 ],
 "metadata": {
  "kernelspec": {
   "display_name": "Python 3",
   "language": "python",
   "name": "python3"
  },
  "language_info": {
   "codemirror_mode": {
    "name": "ipython",
    "version": 3
   },
   "file_extension": ".py",
   "mimetype": "text/x-python",
   "name": "python",
   "nbconvert_exporter": "python",
   "pygments_lexer": "ipython3",
   "version": "3.8.4"
  },
  "nbTranslate": {
   "displayLangs": [
    "en",
    "pl"
   ],
   "hotkey": "alt-t",
   "langInMainMenu": true,
   "sourceLang": "pl",
   "targetLang": "en",
   "useGoogleTranslate": true
  }
 },
 "nbformat": 4,
 "nbformat_minor": 4
}
